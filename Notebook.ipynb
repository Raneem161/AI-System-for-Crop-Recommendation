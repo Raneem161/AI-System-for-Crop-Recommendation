{
  "cells": [
    {
      "cell_type": "markdown",
      "metadata": {
        "id": "3Qvat4XEokp7"
      },
      "source": [
        "# AI system for Crop recommendation dataset"
      ]
    },
    {
      "cell_type": "markdown",
      "metadata": {
        "id": "7kXlEa-fokp8"
      },
      "source": [
        "## Explanation of what the dataset is and what features it has."
      ]
    },
    {
      "cell_type": "code",
      "execution_count": 1,
      "metadata": {
        "colab": {
          "base_uri": "https://localhost:8080/"
        },
        "id": "MYUd_OrUokp9",
        "outputId": "0d50432b-baf1-42fc-ebd4-96b5305f7a53"
      },
      "outputs": [
        {
          "output_type": "execute_result",
          "data": {
            "text/plain": [
              "(2200, 8)"
            ]
          },
          "metadata": {},
          "execution_count": 1
        }
      ],
      "source": [
        "# Importing necessary libraries\n",
        "import numpy as np\n",
        "import pandas as pd \n",
        "from sklearn.model_selection import train_test_split\n",
        "\n",
        "# Reading input data\n",
        "df = pd.read_csv('Crop_recommendation.csv', sep=',')\n",
        "df.shape"
      ]
    },
    {
      "cell_type": "code",
      "execution_count": 2,
      "metadata": {
        "colab": {
          "base_uri": "https://localhost:8080/",
          "height": 206
        },
        "id": "ftjo0MuNokp-",
        "outputId": "8c450e34-41d2-4793-8bf3-b8a2808c6b25"
      },
      "outputs": [
        {
          "output_type": "execute_result",
          "data": {
            "text/plain": [
              "    N   P   K  temperature   humidity        ph    rainfall label\n",
              "0  90  42  43    20.879744  82.002744  6.502985  202.935536  rice\n",
              "1  85  58  41    21.770462  80.319644  7.038096  226.655537  rice\n",
              "2  60  55  44    23.004459  82.320763  7.840207  263.964248  rice\n",
              "3  74  35  40    26.491096  80.158363  6.980401  242.864034  rice\n",
              "4  78  42  42    20.130175  81.604873  7.628473  262.717340  rice"
            ],
            "text/html": [
              "\n",
              "  <div id=\"df-891e72c9-8e0a-4fa2-85eb-b4a630bf4178\">\n",
              "    <div class=\"colab-df-container\">\n",
              "      <div>\n",
              "<style scoped>\n",
              "    .dataframe tbody tr th:only-of-type {\n",
              "        vertical-align: middle;\n",
              "    }\n",
              "\n",
              "    .dataframe tbody tr th {\n",
              "        vertical-align: top;\n",
              "    }\n",
              "\n",
              "    .dataframe thead th {\n",
              "        text-align: right;\n",
              "    }\n",
              "</style>\n",
              "<table border=\"1\" class=\"dataframe\">\n",
              "  <thead>\n",
              "    <tr style=\"text-align: right;\">\n",
              "      <th></th>\n",
              "      <th>N</th>\n",
              "      <th>P</th>\n",
              "      <th>K</th>\n",
              "      <th>temperature</th>\n",
              "      <th>humidity</th>\n",
              "      <th>ph</th>\n",
              "      <th>rainfall</th>\n",
              "      <th>label</th>\n",
              "    </tr>\n",
              "  </thead>\n",
              "  <tbody>\n",
              "    <tr>\n",
              "      <th>0</th>\n",
              "      <td>90</td>\n",
              "      <td>42</td>\n",
              "      <td>43</td>\n",
              "      <td>20.879744</td>\n",
              "      <td>82.002744</td>\n",
              "      <td>6.502985</td>\n",
              "      <td>202.935536</td>\n",
              "      <td>rice</td>\n",
              "    </tr>\n",
              "    <tr>\n",
              "      <th>1</th>\n",
              "      <td>85</td>\n",
              "      <td>58</td>\n",
              "      <td>41</td>\n",
              "      <td>21.770462</td>\n",
              "      <td>80.319644</td>\n",
              "      <td>7.038096</td>\n",
              "      <td>226.655537</td>\n",
              "      <td>rice</td>\n",
              "    </tr>\n",
              "    <tr>\n",
              "      <th>2</th>\n",
              "      <td>60</td>\n",
              "      <td>55</td>\n",
              "      <td>44</td>\n",
              "      <td>23.004459</td>\n",
              "      <td>82.320763</td>\n",
              "      <td>7.840207</td>\n",
              "      <td>263.964248</td>\n",
              "      <td>rice</td>\n",
              "    </tr>\n",
              "    <tr>\n",
              "      <th>3</th>\n",
              "      <td>74</td>\n",
              "      <td>35</td>\n",
              "      <td>40</td>\n",
              "      <td>26.491096</td>\n",
              "      <td>80.158363</td>\n",
              "      <td>6.980401</td>\n",
              "      <td>242.864034</td>\n",
              "      <td>rice</td>\n",
              "    </tr>\n",
              "    <tr>\n",
              "      <th>4</th>\n",
              "      <td>78</td>\n",
              "      <td>42</td>\n",
              "      <td>42</td>\n",
              "      <td>20.130175</td>\n",
              "      <td>81.604873</td>\n",
              "      <td>7.628473</td>\n",
              "      <td>262.717340</td>\n",
              "      <td>rice</td>\n",
              "    </tr>\n",
              "  </tbody>\n",
              "</table>\n",
              "</div>\n",
              "      <button class=\"colab-df-convert\" onclick=\"convertToInteractive('df-891e72c9-8e0a-4fa2-85eb-b4a630bf4178')\"\n",
              "              title=\"Convert this dataframe to an interactive table.\"\n",
              "              style=\"display:none;\">\n",
              "        \n",
              "  <svg xmlns=\"http://www.w3.org/2000/svg\" height=\"24px\"viewBox=\"0 0 24 24\"\n",
              "       width=\"24px\">\n",
              "    <path d=\"M0 0h24v24H0V0z\" fill=\"none\"/>\n",
              "    <path d=\"M18.56 5.44l.94 2.06.94-2.06 2.06-.94-2.06-.94-.94-2.06-.94 2.06-2.06.94zm-11 1L8.5 8.5l.94-2.06 2.06-.94-2.06-.94L8.5 2.5l-.94 2.06-2.06.94zm10 10l.94 2.06.94-2.06 2.06-.94-2.06-.94-.94-2.06-.94 2.06-2.06.94z\"/><path d=\"M17.41 7.96l-1.37-1.37c-.4-.4-.92-.59-1.43-.59-.52 0-1.04.2-1.43.59L10.3 9.45l-7.72 7.72c-.78.78-.78 2.05 0 2.83L4 21.41c.39.39.9.59 1.41.59.51 0 1.02-.2 1.41-.59l7.78-7.78 2.81-2.81c.8-.78.8-2.07 0-2.86zM5.41 20L4 18.59l7.72-7.72 1.47 1.35L5.41 20z\"/>\n",
              "  </svg>\n",
              "      </button>\n",
              "      \n",
              "  <style>\n",
              "    .colab-df-container {\n",
              "      display:flex;\n",
              "      flex-wrap:wrap;\n",
              "      gap: 12px;\n",
              "    }\n",
              "\n",
              "    .colab-df-convert {\n",
              "      background-color: #E8F0FE;\n",
              "      border: none;\n",
              "      border-radius: 50%;\n",
              "      cursor: pointer;\n",
              "      display: none;\n",
              "      fill: #1967D2;\n",
              "      height: 32px;\n",
              "      padding: 0 0 0 0;\n",
              "      width: 32px;\n",
              "    }\n",
              "\n",
              "    .colab-df-convert:hover {\n",
              "      background-color: #E2EBFA;\n",
              "      box-shadow: 0px 1px 2px rgba(60, 64, 67, 0.3), 0px 1px 3px 1px rgba(60, 64, 67, 0.15);\n",
              "      fill: #174EA6;\n",
              "    }\n",
              "\n",
              "    [theme=dark] .colab-df-convert {\n",
              "      background-color: #3B4455;\n",
              "      fill: #D2E3FC;\n",
              "    }\n",
              "\n",
              "    [theme=dark] .colab-df-convert:hover {\n",
              "      background-color: #434B5C;\n",
              "      box-shadow: 0px 1px 3px 1px rgba(0, 0, 0, 0.15);\n",
              "      filter: drop-shadow(0px 1px 2px rgba(0, 0, 0, 0.3));\n",
              "      fill: #FFFFFF;\n",
              "    }\n",
              "  </style>\n",
              "\n",
              "      <script>\n",
              "        const buttonEl =\n",
              "          document.querySelector('#df-891e72c9-8e0a-4fa2-85eb-b4a630bf4178 button.colab-df-convert');\n",
              "        buttonEl.style.display =\n",
              "          google.colab.kernel.accessAllowed ? 'block' : 'none';\n",
              "\n",
              "        async function convertToInteractive(key) {\n",
              "          const element = document.querySelector('#df-891e72c9-8e0a-4fa2-85eb-b4a630bf4178');\n",
              "          const dataTable =\n",
              "            await google.colab.kernel.invokeFunction('convertToInteractive',\n",
              "                                                     [key], {});\n",
              "          if (!dataTable) return;\n",
              "\n",
              "          const docLinkHtml = 'Like what you see? Visit the ' +\n",
              "            '<a target=\"_blank\" href=https://colab.research.google.com/notebooks/data_table.ipynb>data table notebook</a>'\n",
              "            + ' to learn more about interactive tables.';\n",
              "          element.innerHTML = '';\n",
              "          dataTable['output_type'] = 'display_data';\n",
              "          await google.colab.output.renderOutput(dataTable, element);\n",
              "          const docLink = document.createElement('div');\n",
              "          docLink.innerHTML = docLinkHtml;\n",
              "          element.appendChild(docLink);\n",
              "        }\n",
              "      </script>\n",
              "    </div>\n",
              "  </div>\n",
              "  "
            ]
          },
          "metadata": {},
          "execution_count": 2
        }
      ],
      "source": [
        "df.head()"
      ]
    },
    {
      "cell_type": "markdown",
      "metadata": {
        "id": "lQkRYb9rokp_"
      },
      "source": [
        "This dataset has 2200 rows/instances and 8 columns/features."
      ]
    },
    {
      "cell_type": "code",
      "execution_count": 3,
      "metadata": {
        "colab": {
          "base_uri": "https://localhost:8080/"
        },
        "id": "o0S6oFWrokp_",
        "outputId": "cfd320c3-20f3-473b-cd92-4e90bec254f6"
      },
      "outputs": [
        {
          "output_type": "execute_result",
          "data": {
            "text/plain": [
              "Index(['N', 'P', 'K', 'temperature', 'humidity', 'ph', 'rainfall', 'label'], dtype='object')"
            ]
          },
          "metadata": {},
          "execution_count": 3
        }
      ],
      "source": [
        "# Exploring the dataset's features\n",
        "df.columns"
      ]
    },
    {
      "cell_type": "markdown",
      "metadata": {
        "id": "yPmqpEgfokp_"
      },
      "source": [
        "After monitoring the columnsط name and reading about this dataset, the following is concluded:\n",
        "\n",
        "**- Dataset goal:** to build a predictive model to recommend the most suitable crops to grow on a particular farm based on various parameters.\n",
        "\n",
        "**- Dataset source:** statistically significant rainfall and climate data, as well as fertilizer data, were combined to build this dataset. ICFA (Indian Chamber of Food and Agriculture), India gathered this data over time.\n",
        "\n",
        "**- Features' metadata:** \n",
        "\n",
        "**1-** *N* : ratio of Nitrogen content in soil.\n",
        "\n",
        "**2-** *P* : ratio of Phosphorous content in soil.\n",
        "\n",
        "**3-** *K* : ratio of Potassium content in soil.\n",
        "\n",
        "**4-** *temperature* : temperature in degree Celsius.\n",
        "\n",
        "**5-** *humidity* : relative humidity in %.\n",
        "\n",
        "**6-** *ph* : ph value of the soil.\n",
        "\n",
        "**7-** *rainfall* : rainfall in mm."
      ]
    },
    {
      "cell_type": "markdown",
      "metadata": {
        "id": "FthSBa02okqA"
      },
      "source": [
        "## Exploring the distribution of the different data features."
      ]
    },
    {
      "cell_type": "code",
      "execution_count": 4,
      "metadata": {
        "colab": {
          "base_uri": "https://localhost:8080/",
          "height": 300
        },
        "id": "c-ppJF-nokqA",
        "outputId": "690623e1-ff77-47a6-a820-b64670f315d0"
      },
      "outputs": [
        {
          "output_type": "execute_result",
          "data": {
            "text/plain": [
              "                 N            P            K  temperature     humidity  \\\n",
              "count  2200.000000  2200.000000  2200.000000  2200.000000  2200.000000   \n",
              "mean     50.551818    53.362727    48.149091    25.616244    71.481779   \n",
              "std      36.917334    32.985883    50.647931     5.063749    22.263812   \n",
              "min       0.000000     5.000000     5.000000     8.825675    14.258040   \n",
              "25%      21.000000    28.000000    20.000000    22.769375    60.261953   \n",
              "50%      37.000000    51.000000    32.000000    25.598693    80.473146   \n",
              "75%      84.250000    68.000000    49.000000    28.561654    89.948771   \n",
              "max     140.000000   145.000000   205.000000    43.675493    99.981876   \n",
              "\n",
              "                ph     rainfall  \n",
              "count  2200.000000  2200.000000  \n",
              "mean      6.469480   103.463655  \n",
              "std       0.773938    54.958389  \n",
              "min       3.504752    20.211267  \n",
              "25%       5.971693    64.551686  \n",
              "50%       6.425045    94.867624  \n",
              "75%       6.923643   124.267508  \n",
              "max       9.935091   298.560117  "
            ],
            "text/html": [
              "\n",
              "  <div id=\"df-040a6ee7-dd3e-4c96-a60e-599ccf8fa05f\">\n",
              "    <div class=\"colab-df-container\">\n",
              "      <div>\n",
              "<style scoped>\n",
              "    .dataframe tbody tr th:only-of-type {\n",
              "        vertical-align: middle;\n",
              "    }\n",
              "\n",
              "    .dataframe tbody tr th {\n",
              "        vertical-align: top;\n",
              "    }\n",
              "\n",
              "    .dataframe thead th {\n",
              "        text-align: right;\n",
              "    }\n",
              "</style>\n",
              "<table border=\"1\" class=\"dataframe\">\n",
              "  <thead>\n",
              "    <tr style=\"text-align: right;\">\n",
              "      <th></th>\n",
              "      <th>N</th>\n",
              "      <th>P</th>\n",
              "      <th>K</th>\n",
              "      <th>temperature</th>\n",
              "      <th>humidity</th>\n",
              "      <th>ph</th>\n",
              "      <th>rainfall</th>\n",
              "    </tr>\n",
              "  </thead>\n",
              "  <tbody>\n",
              "    <tr>\n",
              "      <th>count</th>\n",
              "      <td>2200.000000</td>\n",
              "      <td>2200.000000</td>\n",
              "      <td>2200.000000</td>\n",
              "      <td>2200.000000</td>\n",
              "      <td>2200.000000</td>\n",
              "      <td>2200.000000</td>\n",
              "      <td>2200.000000</td>\n",
              "    </tr>\n",
              "    <tr>\n",
              "      <th>mean</th>\n",
              "      <td>50.551818</td>\n",
              "      <td>53.362727</td>\n",
              "      <td>48.149091</td>\n",
              "      <td>25.616244</td>\n",
              "      <td>71.481779</td>\n",
              "      <td>6.469480</td>\n",
              "      <td>103.463655</td>\n",
              "    </tr>\n",
              "    <tr>\n",
              "      <th>std</th>\n",
              "      <td>36.917334</td>\n",
              "      <td>32.985883</td>\n",
              "      <td>50.647931</td>\n",
              "      <td>5.063749</td>\n",
              "      <td>22.263812</td>\n",
              "      <td>0.773938</td>\n",
              "      <td>54.958389</td>\n",
              "    </tr>\n",
              "    <tr>\n",
              "      <th>min</th>\n",
              "      <td>0.000000</td>\n",
              "      <td>5.000000</td>\n",
              "      <td>5.000000</td>\n",
              "      <td>8.825675</td>\n",
              "      <td>14.258040</td>\n",
              "      <td>3.504752</td>\n",
              "      <td>20.211267</td>\n",
              "    </tr>\n",
              "    <tr>\n",
              "      <th>25%</th>\n",
              "      <td>21.000000</td>\n",
              "      <td>28.000000</td>\n",
              "      <td>20.000000</td>\n",
              "      <td>22.769375</td>\n",
              "      <td>60.261953</td>\n",
              "      <td>5.971693</td>\n",
              "      <td>64.551686</td>\n",
              "    </tr>\n",
              "    <tr>\n",
              "      <th>50%</th>\n",
              "      <td>37.000000</td>\n",
              "      <td>51.000000</td>\n",
              "      <td>32.000000</td>\n",
              "      <td>25.598693</td>\n",
              "      <td>80.473146</td>\n",
              "      <td>6.425045</td>\n",
              "      <td>94.867624</td>\n",
              "    </tr>\n",
              "    <tr>\n",
              "      <th>75%</th>\n",
              "      <td>84.250000</td>\n",
              "      <td>68.000000</td>\n",
              "      <td>49.000000</td>\n",
              "      <td>28.561654</td>\n",
              "      <td>89.948771</td>\n",
              "      <td>6.923643</td>\n",
              "      <td>124.267508</td>\n",
              "    </tr>\n",
              "    <tr>\n",
              "      <th>max</th>\n",
              "      <td>140.000000</td>\n",
              "      <td>145.000000</td>\n",
              "      <td>205.000000</td>\n",
              "      <td>43.675493</td>\n",
              "      <td>99.981876</td>\n",
              "      <td>9.935091</td>\n",
              "      <td>298.560117</td>\n",
              "    </tr>\n",
              "  </tbody>\n",
              "</table>\n",
              "</div>\n",
              "      <button class=\"colab-df-convert\" onclick=\"convertToInteractive('df-040a6ee7-dd3e-4c96-a60e-599ccf8fa05f')\"\n",
              "              title=\"Convert this dataframe to an interactive table.\"\n",
              "              style=\"display:none;\">\n",
              "        \n",
              "  <svg xmlns=\"http://www.w3.org/2000/svg\" height=\"24px\"viewBox=\"0 0 24 24\"\n",
              "       width=\"24px\">\n",
              "    <path d=\"M0 0h24v24H0V0z\" fill=\"none\"/>\n",
              "    <path d=\"M18.56 5.44l.94 2.06.94-2.06 2.06-.94-2.06-.94-.94-2.06-.94 2.06-2.06.94zm-11 1L8.5 8.5l.94-2.06 2.06-.94-2.06-.94L8.5 2.5l-.94 2.06-2.06.94zm10 10l.94 2.06.94-2.06 2.06-.94-2.06-.94-.94-2.06-.94 2.06-2.06.94z\"/><path d=\"M17.41 7.96l-1.37-1.37c-.4-.4-.92-.59-1.43-.59-.52 0-1.04.2-1.43.59L10.3 9.45l-7.72 7.72c-.78.78-.78 2.05 0 2.83L4 21.41c.39.39.9.59 1.41.59.51 0 1.02-.2 1.41-.59l7.78-7.78 2.81-2.81c.8-.78.8-2.07 0-2.86zM5.41 20L4 18.59l7.72-7.72 1.47 1.35L5.41 20z\"/>\n",
              "  </svg>\n",
              "      </button>\n",
              "      \n",
              "  <style>\n",
              "    .colab-df-container {\n",
              "      display:flex;\n",
              "      flex-wrap:wrap;\n",
              "      gap: 12px;\n",
              "    }\n",
              "\n",
              "    .colab-df-convert {\n",
              "      background-color: #E8F0FE;\n",
              "      border: none;\n",
              "      border-radius: 50%;\n",
              "      cursor: pointer;\n",
              "      display: none;\n",
              "      fill: #1967D2;\n",
              "      height: 32px;\n",
              "      padding: 0 0 0 0;\n",
              "      width: 32px;\n",
              "    }\n",
              "\n",
              "    .colab-df-convert:hover {\n",
              "      background-color: #E2EBFA;\n",
              "      box-shadow: 0px 1px 2px rgba(60, 64, 67, 0.3), 0px 1px 3px 1px rgba(60, 64, 67, 0.15);\n",
              "      fill: #174EA6;\n",
              "    }\n",
              "\n",
              "    [theme=dark] .colab-df-convert {\n",
              "      background-color: #3B4455;\n",
              "      fill: #D2E3FC;\n",
              "    }\n",
              "\n",
              "    [theme=dark] .colab-df-convert:hover {\n",
              "      background-color: #434B5C;\n",
              "      box-shadow: 0px 1px 3px 1px rgba(0, 0, 0, 0.15);\n",
              "      filter: drop-shadow(0px 1px 2px rgba(0, 0, 0, 0.3));\n",
              "      fill: #FFFFFF;\n",
              "    }\n",
              "  </style>\n",
              "\n",
              "      <script>\n",
              "        const buttonEl =\n",
              "          document.querySelector('#df-040a6ee7-dd3e-4c96-a60e-599ccf8fa05f button.colab-df-convert');\n",
              "        buttonEl.style.display =\n",
              "          google.colab.kernel.accessAllowed ? 'block' : 'none';\n",
              "\n",
              "        async function convertToInteractive(key) {\n",
              "          const element = document.querySelector('#df-040a6ee7-dd3e-4c96-a60e-599ccf8fa05f');\n",
              "          const dataTable =\n",
              "            await google.colab.kernel.invokeFunction('convertToInteractive',\n",
              "                                                     [key], {});\n",
              "          if (!dataTable) return;\n",
              "\n",
              "          const docLinkHtml = 'Like what you see? Visit the ' +\n",
              "            '<a target=\"_blank\" href=https://colab.research.google.com/notebooks/data_table.ipynb>data table notebook</a>'\n",
              "            + ' to learn more about interactive tables.';\n",
              "          element.innerHTML = '';\n",
              "          dataTable['output_type'] = 'display_data';\n",
              "          await google.colab.output.renderOutput(dataTable, element);\n",
              "          const docLink = document.createElement('div');\n",
              "          docLink.innerHTML = docLinkHtml;\n",
              "          element.appendChild(docLink);\n",
              "        }\n",
              "      </script>\n",
              "    </div>\n",
              "  </div>\n",
              "  "
            ]
          },
          "metadata": {},
          "execution_count": 4
        }
      ],
      "source": [
        "# Description of the data to mainly check the min, max, std and mean value for each feature in this dataset\n",
        "df.describe()"
      ]
    },
    {
      "cell_type": "code",
      "execution_count": 5,
      "metadata": {
        "colab": {
          "base_uri": "https://localhost:8080/",
          "height": 1000
        },
        "id": "krGtiHxzokqA",
        "outputId": "64e5de3d-1a9a-4b7f-c482-3b7a39451ccd"
      },
      "outputs": [
        {
          "output_type": "display_data",
          "data": {
            "text/plain": [
              "<Figure size 432x288 with 1 Axes>"
            ],
            "image/png": "[encoded data removed]"
          },
          "metadata": {
            "needs_background": "light"
          }
        },
        {
          "output_type": "display_data",
          "data": {
            "text/plain": [
              "<Figure size 432x288 with 1 Axes>"
            ],
            "image/png": "[encoded data removed]"
          },
          "metadata": {
            "needs_background": "light"
          }
        },
        {
          "output_type": "display_data",
          "data": {
            "text/plain": [
              "<Figure size 432x288 with 1 Axes>"
            ],
            "image/png": "[encoded data removed]"
          },
          "metadata": {
            "needs_background": "light"
          }
        },
        {
          "output_type": "display_data",
          "data": {
            "text/plain": [
              "<Figure size 432x288 with 1 Axes>"
            ],
            "image/png": "[encoded data removed]"
          },
          "metadata": {
            "needs_background": "light"
          }
        },
        {
          "output_type": "display_data",
          "data": {
            "text/plain": [
              "<Figure size 432x288 with 1 Axes>"
            ],
            "image/png": "[encoded data removed]"
          },
          "metadata": {
            "needs_background": "light"
          }
        },
        {
          "output_type": "display_data",
          "data": {
            "text/plain": [
              "<Figure size 432x288 with 1 Axes>"
            ],
            "image/png": "[encoded data removed]"
          },
          "metadata": {
            "needs_background": "light"
          }
        },
        {
          "output_type": "display_data",
          "data": {
            "text/plain": [
              "<Figure size 432x288 with 1 Axes>"
            ],
            "image/png": "[encoded data removed]"
          },
          "metadata": {
            "needs_background": "light"
          }
        }
      ],
      "source": [
        "# Importing libraries\n",
        "import matplotlib.pyplot as plt\n",
        "import numpy as np\n",
        "import seaborn as sns\n",
        "\n",
        "features = ['N', 'P', 'K', 'temperature', 'humidity', 'ph', 'rainfall']\n",
        "\n",
        "for feature in features:\n",
        "    sns.boxplot(x = feature, data = df)\n",
        "    sns.stripplot(x = feature, data = df, color = \"black\")\n",
        "    plt.show()"
      ]
    },
    {
      "cell_type": "markdown",
      "metadata": {
        "id": "k-c9_dJyokqB"
      },
      "source": [
        "After showing the above results to an agricultural expert, Eng. Ayman Al-Zweri, he ensured the normality and logicality of the ranges of the features. It can also be noticed that P and K features' data points make clusters, let's visualize them in depth."
      ]
    },
    {
      "cell_type": "code",
      "execution_count": 6,
      "metadata": {
        "colab": {
          "base_uri": "https://localhost:8080/",
          "height": 206
        },
        "id": "HRl-oO0OokqB",
        "outputId": "4ee2f33c-069d-4390-9292-24ff5e7c2113"
      },
      "outputs": [
        {
          "output_type": "execute_result",
          "data": {
            "text/plain": [
              "    N   P   K  temperature   humidity        ph    rainfall label K_amount\n",
              "0  90  42  43    20.879744  82.002744  6.502985  202.935536  rice      low\n",
              "1  85  58  41    21.770462  80.319644  7.038096  226.655537  rice      low\n",
              "2  60  55  44    23.004459  82.320763  7.840207  263.964248  rice      low\n",
              "3  74  35  40    26.491096  80.158363  6.980401  242.864034  rice      low\n",
              "4  78  42  42    20.130175  81.604873  7.628473  262.717340  rice      low"
            ],
            "text/html": [
              "\n",
              "  <div id=\"df-2a6a6836-e65a-4a8e-afd6-84241050bedd\">\n",
              "    <div class=\"colab-df-container\">\n",
              "      <div>\n",
              "<style scoped>\n",
              "    .dataframe tbody tr th:only-of-type {\n",
              "        vertical-align: middle;\n",
              "    }\n",
              "\n",
              "    .dataframe tbody tr th {\n",
              "        vertical-align: top;\n",
              "    }\n",
              "\n",
              "    .dataframe thead th {\n",
              "        text-align: right;\n",
              "    }\n",
              "</style>\n",
              "<table border=\"1\" class=\"dataframe\">\n",
              "  <thead>\n",
              "    <tr style=\"text-align: right;\">\n",
              "      <th></th>\n",
              "      <th>N</th>\n",
              "      <th>P</th>\n",
              "      <th>K</th>\n",
              "      <th>temperature</th>\n",
              "      <th>humidity</th>\n",
              "      <th>ph</th>\n",
              "      <th>rainfall</th>\n",
              "      <th>label</th>\n",
              "      <th>K_amount</th>\n",
              "    </tr>\n",
              "  </thead>\n",
              "  <tbody>\n",
              "    <tr>\n",
              "      <th>0</th>\n",
              "      <td>90</td>\n",
              "      <td>42</td>\n",
              "      <td>43</td>\n",
              "      <td>20.879744</td>\n",
              "      <td>82.002744</td>\n",
              "      <td>6.502985</td>\n",
              "      <td>202.935536</td>\n",
              "      <td>rice</td>\n",
              "      <td>low</td>\n",
              "    </tr>\n",
              "    <tr>\n",
              "      <th>1</th>\n",
              "      <td>85</td>\n",
              "      <td>58</td>\n",
              "      <td>41</td>\n",
              "      <td>21.770462</td>\n",
              "      <td>80.319644</td>\n",
              "      <td>7.038096</td>\n",
              "      <td>226.655537</td>\n",
              "      <td>rice</td>\n",
              "      <td>low</td>\n",
              "    </tr>\n",
              "    <tr>\n",
              "      <th>2</th>\n",
              "      <td>60</td>\n",
              "      <td>55</td>\n",
              "      <td>44</td>\n",
              "      <td>23.004459</td>\n",
              "      <td>82.320763</td>\n",
              "      <td>7.840207</td>\n",
              "      <td>263.964248</td>\n",
              "      <td>rice</td>\n",
              "      <td>low</td>\n",
              "    </tr>\n",
              "    <tr>\n",
              "      <th>3</th>\n",
              "      <td>74</td>\n",
              "      <td>35</td>\n",
              "      <td>40</td>\n",
              "      <td>26.491096</td>\n",
              "      <td>80.158363</td>\n",
              "      <td>6.980401</td>\n",
              "      <td>242.864034</td>\n",
              "      <td>rice</td>\n",
              "      <td>low</td>\n",
              "    </tr>\n",
              "    <tr>\n",
              "      <th>4</th>\n",
              "      <td>78</td>\n",
              "      <td>42</td>\n",
              "      <td>42</td>\n",
              "      <td>20.130175</td>\n",
              "      <td>81.604873</td>\n",
              "      <td>7.628473</td>\n",
              "      <td>262.717340</td>\n",
              "      <td>rice</td>\n",
              "      <td>low</td>\n",
              "    </tr>\n",
              "  </tbody>\n",
              "</table>\n",
              "</div>\n",
              "      <button class=\"colab-df-convert\" onclick=\"convertToInteractive('df-2a6a6836-e65a-4a8e-afd6-84241050bedd')\"\n",
              "              title=\"Convert this dataframe to an interactive table.\"\n",
              "              style=\"display:none;\">\n",
              "        \n",
              "  <svg xmlns=\"http://www.w3.org/2000/svg\" height=\"24px\"viewBox=\"0 0 24 24\"\n",
              "       width=\"24px\">\n",
              "    <path d=\"M0 0h24v24H0V0z\" fill=\"none\"/>\n",
              "    <path d=\"M18.56 5.44l.94 2.06.94-2.06 2.06-.94-2.06-.94-.94-2.06-.94 2.06-2.06.94zm-11 1L8.5 8.5l.94-2.06 2.06-.94-2.06-.94L8.5 2.5l-.94 2.06-2.06.94zm10 10l.94 2.06.94-2.06 2.06-.94-2.06-.94-.94-2.06-.94 2.06-2.06.94z\"/><path d=\"M17.41 7.96l-1.37-1.37c-.4-.4-.92-.59-1.43-.59-.52 0-1.04.2-1.43.59L10.3 9.45l-7.72 7.72c-.78.78-.78 2.05 0 2.83L4 21.41c.39.39.9.59 1.41.59.51 0 1.02-.2 1.41-.59l7.78-7.78 2.81-2.81c.8-.78.8-2.07 0-2.86zM5.41 20L4 18.59l7.72-7.72 1.47 1.35L5.41 20z\"/>\n",
              "  </svg>\n",
              "      </button>\n",
              "      \n",
              "  <style>\n",
              "    .colab-df-container {\n",
              "      display:flex;\n",
              "      flex-wrap:wrap;\n",
              "      gap: 12px;\n",
              "    }\n",
              "\n",
              "    .colab-df-convert {\n",
              "      background-color: #E8F0FE;\n",
              "      border: none;\n",
              "      border-radius: 50%;\n",
              "      cursor: pointer;\n",
              "      display: none;\n",
              "      fill: #1967D2;\n",
              "      height: 32px;\n",
              "      padding: 0 0 0 0;\n",
              "      width: 32px;\n",
              "    }\n",
              "\n",
              "    .colab-df-convert:hover {\n",
              "      background-color: #E2EBFA;\n",
              "      box-shadow: 0px 1px 2px rgba(60, 64, 67, 0.3), 0px 1px 3px 1px rgba(60, 64, 67, 0.15);\n",
              "      fill: #174EA6;\n",
              "    }\n",
              "\n",
              "    [theme=dark] .colab-df-convert {\n",
              "      background-color: #3B4455;\n",
              "      fill: #D2E3FC;\n",
              "    }\n",
              "\n",
              "    [theme=dark] .colab-df-convert:hover {\n",
              "      background-color: #434B5C;\n",
              "      box-shadow: 0px 1px 3px 1px rgba(0, 0, 0, 0.15);\n",
              "      filter: drop-shadow(0px 1px 2px rgba(0, 0, 0, 0.3));\n",
              "      fill: #FFFFFF;\n",
              "    }\n",
              "  </style>\n",
              "\n",
              "      <script>\n",
              "        const buttonEl =\n",
              "          document.querySelector('#df-2a6a6836-e65a-4a8e-afd6-84241050bedd button.colab-df-convert');\n",
              "        buttonEl.style.display =\n",
              "          google.colab.kernel.accessAllowed ? 'block' : 'none';\n",
              "\n",
              "        async function convertToInteractive(key) {\n",
              "          const element = document.querySelector('#df-2a6a6836-e65a-4a8e-afd6-84241050bedd');\n",
              "          const dataTable =\n",
              "            await google.colab.kernel.invokeFunction('convertToInteractive',\n",
              "                                                     [key], {});\n",
              "          if (!dataTable) return;\n",
              "\n",
              "          const docLinkHtml = 'Like what you see? Visit the ' +\n",
              "            '<a target=\"_blank\" href=https://colab.research.google.com/notebooks/data_table.ipynb>data table notebook</a>'\n",
              "            + ' to learn more about interactive tables.';\n",
              "          element.innerHTML = '';\n",
              "          dataTable['output_type'] = 'display_data';\n",
              "          await google.colab.output.renderOutput(dataTable, element);\n",
              "          const docLink = document.createElement('div');\n",
              "          docLink.innerHTML = docLinkHtml;\n",
              "          element.appendChild(docLink);\n",
              "        }\n",
              "      </script>\n",
              "    </div>\n",
              "  </div>\n",
              "  "
            ]
          },
          "metadata": {},
          "execution_count": 6
        }
      ],
      "source": [
        "# Mapping K values to categories (clusters)\n",
        "criteria = [df['K'].between(0, 60), df['K'].between(60, 180), df['K'].between(180, 250)]\n",
        "values = ['low', 'medium','high']\n",
        "\n",
        "df['K_amount'] = np.select(criteria, values, 0)\n",
        "\n",
        "df.head(5)"
      ]
    },
    {
      "cell_type": "code",
      "execution_count": 7,
      "metadata": {
        "colab": {
          "base_uri": "https://localhost:8080/",
          "height": 369
        },
        "id": "4gI1AmEmokqB",
        "outputId": "d6009235-5181-4aa4-dee7-4589981df013"
      },
      "outputs": [
        {
          "output_type": "display_data",
          "data": {
            "text/plain": [
              "<Figure size 360x360 with 1 Axes>"
            ],
            "image/png": "[encoded data removed]"
          },
          "metadata": {
            "needs_background": "light"
          }
        }
      ],
      "source": [
        "# Visualizing K_amount\n",
        "sns.catplot(data = df, x = 'K_amount', kind=\"count\")\n",
        "plt.show()"
      ]
    },
    {
      "cell_type": "code",
      "execution_count": 8,
      "metadata": {
        "colab": {
          "base_uri": "https://localhost:8080/",
          "height": 206
        },
        "id": "rcHyloVrokqC",
        "outputId": "5f7c42b6-7152-4635-9cbb-1bd3cfb221fe"
      },
      "outputs": [
        {
          "output_type": "execute_result",
          "data": {
            "text/plain": [
              "    N   P   K  temperature   humidity        ph    rainfall label K_amount  \\\n",
              "0  90  42  43    20.879744  82.002744  6.502985  202.935536  rice      low   \n",
              "1  85  58  41    21.770462  80.319644  7.038096  226.655537  rice      low   \n",
              "2  60  55  44    23.004459  82.320763  7.840207  263.964248  rice      low   \n",
              "3  74  35  40    26.491096  80.158363  6.980401  242.864034  rice      low   \n",
              "4  78  42  42    20.130175  81.604873  7.628473  262.717340  rice      low   \n",
              "\n",
              "  P_amount  \n",
              "0      low  \n",
              "1      low  \n",
              "2      low  \n",
              "3      low  \n",
              "4      low  "
            ],
            "text/html": [
              "\n",
              "  <div id=\"df-64ce2b22-4788-4a1a-a171-a36b428560cb\">\n",
              "    <div class=\"colab-df-container\">\n",
              "      <div>\n",
              "<style scoped>\n",
              "    .dataframe tbody tr th:only-of-type {\n",
              "        vertical-align: middle;\n",
              "    }\n",
              "\n",
              "    .dataframe tbody tr th {\n",
              "        vertical-align: top;\n",
              "    }\n",
              "\n",
              "    .dataframe thead th {\n",
              "        text-align: right;\n",
              "    }\n",
              "</style>\n",
              "<table border=\"1\" class=\"dataframe\">\n",
              "  <thead>\n",
              "    <tr style=\"text-align: right;\">\n",
              "      <th></th>\n",
              "      <th>N</th>\n",
              "      <th>P</th>\n",
              "      <th>K</th>\n",
              "      <th>temperature</th>\n",
              "      <th>humidity</th>\n",
              "      <th>ph</th>\n",
              "      <th>rainfall</th>\n",
              "      <th>label</th>\n",
              "      <th>K_amount</th>\n",
              "      <th>P_amount</th>\n",
              "    </tr>\n",
              "  </thead>\n",
              "  <tbody>\n",
              "    <tr>\n",
              "      <th>0</th>\n",
              "      <td>90</td>\n",
              "      <td>42</td>\n",
              "      <td>43</td>\n",
              "      <td>20.879744</td>\n",
              "      <td>82.002744</td>\n",
              "      <td>6.502985</td>\n",
              "      <td>202.935536</td>\n",
              "      <td>rice</td>\n",
              "      <td>low</td>\n",
              "      <td>low</td>\n",
              "    </tr>\n",
              "    <tr>\n",
              "      <th>1</th>\n",
              "      <td>85</td>\n",
              "      <td>58</td>\n",
              "      <td>41</td>\n",
              "      <td>21.770462</td>\n",
              "      <td>80.319644</td>\n",
              "      <td>7.038096</td>\n",
              "      <td>226.655537</td>\n",
              "      <td>rice</td>\n",
              "      <td>low</td>\n",
              "      <td>low</td>\n",
              "    </tr>\n",
              "    <tr>\n",
              "      <th>2</th>\n",
              "      <td>60</td>\n",
              "      <td>55</td>\n",
              "      <td>44</td>\n",
              "      <td>23.004459</td>\n",
              "      <td>82.320763</td>\n",
              "      <td>7.840207</td>\n",
              "      <td>263.964248</td>\n",
              "      <td>rice</td>\n",
              "      <td>low</td>\n",
              "      <td>low</td>\n",
              "    </tr>\n",
              "    <tr>\n",
              "      <th>3</th>\n",
              "      <td>74</td>\n",
              "      <td>35</td>\n",
              "      <td>40</td>\n",
              "      <td>26.491096</td>\n",
              "      <td>80.158363</td>\n",
              "      <td>6.980401</td>\n",
              "      <td>242.864034</td>\n",
              "      <td>rice</td>\n",
              "      <td>low</td>\n",
              "      <td>low</td>\n",
              "    </tr>\n",
              "    <tr>\n",
              "      <th>4</th>\n",
              "      <td>78</td>\n",
              "      <td>42</td>\n",
              "      <td>42</td>\n",
              "      <td>20.130175</td>\n",
              "      <td>81.604873</td>\n",
              "      <td>7.628473</td>\n",
              "      <td>262.717340</td>\n",
              "      <td>rice</td>\n",
              "      <td>low</td>\n",
              "      <td>low</td>\n",
              "    </tr>\n",
              "  </tbody>\n",
              "</table>\n",
              "</div>\n",
              "      <button class=\"colab-df-convert\" onclick=\"convertToInteractive('df-64ce2b22-4788-4a1a-a171-a36b428560cb')\"\n",
              "              title=\"Convert this dataframe to an interactive table.\"\n",
              "              style=\"display:none;\">\n",
              "        \n",
              "  <svg xmlns=\"http://www.w3.org/2000/svg\" height=\"24px\"viewBox=\"0 0 24 24\"\n",
              "       width=\"24px\">\n",
              "    <path d=\"M0 0h24v24H0V0z\" fill=\"none\"/>\n",
              "    <path d=\"M18.56 5.44l.94 2.06.94-2.06 2.06-.94-2.06-.94-.94-2.06-.94 2.06-2.06.94zm-11 1L8.5 8.5l.94-2.06 2.06-.94-2.06-.94L8.5 2.5l-.94 2.06-2.06.94zm10 10l.94 2.06.94-2.06 2.06-.94-2.06-.94-.94-2.06-.94 2.06-2.06.94z\"/><path d=\"M17.41 7.96l-1.37-1.37c-.4-.4-.92-.59-1.43-.59-.52 0-1.04.2-1.43.59L10.3 9.45l-7.72 7.72c-.78.78-.78 2.05 0 2.83L4 21.41c.39.39.9.59 1.41.59.51 0 1.02-.2 1.41-.59l7.78-7.78 2.81-2.81c.8-.78.8-2.07 0-2.86zM5.41 20L4 18.59l7.72-7.72 1.47 1.35L5.41 20z\"/>\n",
              "  </svg>\n",
              "      </button>\n",
              "      \n",
              "  <style>\n",
              "    .colab-df-container {\n",
              "      display:flex;\n",
              "      flex-wrap:wrap;\n",
              "      gap: 12px;\n",
              "    }\n",
              "\n",
              "    .colab-df-convert {\n",
              "      background-color: #E8F0FE;\n",
              "      border: none;\n",
              "      border-radius: 50%;\n",
              "      cursor: pointer;\n",
              "      display: none;\n",
              "      fill: #1967D2;\n",
              "      height: 32px;\n",
              "      padding: 0 0 0 0;\n",
              "      width: 32px;\n",
              "    }\n",
              "\n",
              "    .colab-df-convert:hover {\n",
              "      background-color: #E2EBFA;\n",
              "      box-shadow: 0px 1px 2px rgba(60, 64, 67, 0.3), 0px 1px 3px 1px rgba(60, 64, 67, 0.15);\n",
              "      fill: #174EA6;\n",
              "    }\n",
              "\n",
              "    [theme=dark] .colab-df-convert {\n",
              "      background-color: #3B4455;\n",
              "      fill: #D2E3FC;\n",
              "    }\n",
              "\n",
              "    [theme=dark] .colab-df-convert:hover {\n",
              "      background-color: #434B5C;\n",
              "      box-shadow: 0px 1px 3px 1px rgba(0, 0, 0, 0.15);\n",
              "      filter: drop-shadow(0px 1px 2px rgba(0, 0, 0, 0.3));\n",
              "      fill: #FFFFFF;\n",
              "    }\n",
              "  </style>\n",
              "\n",
              "      <script>\n",
              "        const buttonEl =\n",
              "          document.querySelector('#df-64ce2b22-4788-4a1a-a171-a36b428560cb button.colab-df-convert');\n",
              "        buttonEl.style.display =\n",
              "          google.colab.kernel.accessAllowed ? 'block' : 'none';\n",
              "\n",
              "        async function convertToInteractive(key) {\n",
              "          const element = document.querySelector('#df-64ce2b22-4788-4a1a-a171-a36b428560cb');\n",
              "          const dataTable =\n",
              "            await google.colab.kernel.invokeFunction('convertToInteractive',\n",
              "                                                     [key], {});\n",
              "          if (!dataTable) return;\n",
              "\n",
              "          const docLinkHtml = 'Like what you see? Visit the ' +\n",
              "            '<a target=\"_blank\" href=https://colab.research.google.com/notebooks/data_table.ipynb>data table notebook</a>'\n",
              "            + ' to learn more about interactive tables.';\n",
              "          element.innerHTML = '';\n",
              "          dataTable['output_type'] = 'display_data';\n",
              "          await google.colab.output.renderOutput(dataTable, element);\n",
              "          const docLink = document.createElement('div');\n",
              "          docLink.innerHTML = docLinkHtml;\n",
              "          element.appendChild(docLink);\n",
              "        }\n",
              "      </script>\n",
              "    </div>\n",
              "  </div>\n",
              "  "
            ]
          },
          "metadata": {},
          "execution_count": 8
        }
      ],
      "source": [
        "# Mapping P values to categories (clusters)\n",
        "criteria = [df['P'].between(0, 100), df['P'].between(100, 200)]\n",
        "values = ['low','high']\n",
        "\n",
        "df['P_amount'] = np.select(criteria, values, 0)\n",
        "\n",
        "df.head(5)"
      ]
    },
    {
      "cell_type": "code",
      "execution_count": 9,
      "metadata": {
        "colab": {
          "base_uri": "https://localhost:8080/",
          "height": 369
        },
        "id": "N_4oAvZYokqC",
        "outputId": "c9d37f1c-9f03-4e60-a928-997b6c6e7897"
      },
      "outputs": [
        {
          "output_type": "display_data",
          "data": {
            "text/plain": [
              "<Figure size 360x360 with 1 Axes>"
            ],
            "image/png": "[encoded data removed]"
          },
          "metadata": {
            "needs_background": "light"
          }
        }
      ],
      "source": [
        "# Visualizing P_amount\n",
        "sns.catplot(data = df, x = 'P_amount', kind=\"count\")\n",
        "plt.show()"
      ]
    },
    {
      "cell_type": "code",
      "execution_count": 10,
      "metadata": {
        "colab": {
          "base_uri": "https://localhost:8080/"
        },
        "id": "gviom9SKokqC",
        "outputId": "fa508c8e-1ab6-4d10-ca50-69c62c679794"
      },
      "outputs": [
        {
          "output_type": "execute_result",
          "data": {
            "text/plain": [
              "N                int64\n",
              "P                int64\n",
              "K                int64\n",
              "temperature    float64\n",
              "humidity       float64\n",
              "ph             float64\n",
              "rainfall       float64\n",
              "label           object\n",
              "K_amount        object\n",
              "P_amount        object\n",
              "dtype: object"
            ]
          },
          "metadata": {},
          "execution_count": 10
        }
      ],
      "source": [
        "# Checking the datatypes\n",
        "df.dtypes"
      ]
    },
    {
      "cell_type": "markdown",
      "metadata": {
        "id": "8mqaExP5okqD"
      },
      "source": [
        "All features are numerical, except the label it's categorical. "
      ]
    },
    {
      "cell_type": "markdown",
      "metadata": {
        "id": "WBtT2vCKokqI"
      },
      "source": [
        "## T-SNE algorithm to visualize the crops in the dataset."
      ]
    },
    {
      "cell_type": "markdown",
      "metadata": {
        "id": "_F3UMb8PokqI"
      },
      "source": [
        "TSNE algorithm (t-distributed Stochastic Neighbor Embedding)  can be used to group the labels of this dataset, which can be seen as an indicator to which crops needs similar growing conditions."
      ]
    },
    {
      "cell_type": "code",
      "execution_count": 11,
      "metadata": {
        "colab": {
          "base_uri": "https://localhost:8080/",
          "height": 631
        },
        "id": "_-IaA-pUokqI",
        "outputId": "e6b18efc-9dcd-4943-fb8e-b8c9095b1195"
      },
      "outputs": [
        {
          "output_type": "stream",
          "name": "stderr",
          "text": [
            "/usr/local/lib/python3.8/dist-packages/sklearn/manifold/_t_sne.py:780: FutureWarning: The default initialization in TSNE will change from 'random' to 'pca' in 1.2.\n",
            "  warnings.warn(\n",
            "/usr/local/lib/python3.8/dist-packages/sklearn/manifold/_t_sne.py:790: FutureWarning: The default learning rate in TSNE will change from 200.0 to 'auto' in 1.2.\n",
            "  warnings.warn(\n"
          ]
        },
        {
          "output_type": "display_data",
          "data": {
            "text/html": [
              "<html>\n",
              "<head><meta charset=\"utf-8\" /></head>\n",
              "<body>\n",
              "    <div>            <script src=\"https://cdnjs.cloudflare.com/ajax/libs/mathjax/2.7.5/MathJax.js?config=TeX-AMS-MML_SVG\"></script><script type=\"text/javascript\">if (window.MathJax) {MathJax.Hub.Config({SVG: {font: \"STIX-Web\"}});}</script>                <script type=\"text/javascript\">window.PlotlyConfig = {MathJaxConfig: 'local'};</script>\n",
              "        <script src=\"https://cdn.plot.ly/plotly-2.8.3.min.js\"></script>                <div id=\"73134438-b69b-4f29-981c-2d0707870595\" class=\"plotly-graph-div\" style=\"height:525px; width:100%;\"></div>            <script type=\"text/javascript\">                                    window.PLOTLYENV=window.PLOTLYENV || {};                                    if (document.getElementById(\"73134438-b69b-4f29-981c-2d0707870595\")) {                    Plotly.newPlot(                        \"73134438-b69b-4f29-981c-2d0707870595\",                        [{\"hovertemplate\":\"label=rice<br>0=%{x}<br>1=%{y}<extra></extra>\",\"legendgroup\":\"rice\",\"marker\":{\"color\":\"#636efa\",\"symbol\":\"circle\"},\"mode\":\"markers\",\"name\":\"rice\",\"showlegend\":true,\"x\":[39.019901275634766,40.328914642333984,39.75739669799805,39.3159294128418,40.99053955078125,39.4563102722168,40.61528396606445,41.12955856323242,40.5784797668457,36.8828239440918,42.51251983642578,41.2684440612793,41.687137603759766,35.0767707824707,39.54975128173828,36.637977600097656,42.31682205200195,39.40431594848633,38.97369384765625,42.780517578125,36.481475830078125,39.101837158203125,36.65496826171875,39.632381439208984,40.60188674926758,39.77695083618164,43.215232849121094,42.61730194091797,36.704044342041016,37.534889221191406,40.91202163696289,39.032188415527344,39.34526824951172,43.1453971862793,40.648681640625,38.42564392089844,43.39168930053711,43.03616714477539,41.468788146972656,39.53447341918945,39.0570068359375,35.51887893676758,37.90562057495117,42.597129821777344,41.967037200927734,36.853981018066406,36.1736946105957,39.002193450927734,38.49107360839844,41.72587203979492,35.53793716430664,37.070556640625,38.40736389160156,36.700252532958984,43.41414260864258,41.98074722290039,37.31437683105469,42.2572135925293,35.063331604003906,43.48310089111328,39.36973190307617,41.233585357666016,43.34492492675781,35.34028244018555,40.860206604003906,36.77928161621094,38.98561096191406,41.23093032836914,40.26140213012695,42.81416702270508,35.28632736206055,39.995784759521484,42.4133415222168,35.6767463684082,40.53873062133789,42.780391693115234,41.06598663330078,34.05867004394531,35.47834396362305,36.691261291503906,31.49032211303711,35.4167594909668,36.338661193847656,33.985347747802734,36.79513931274414,36.84257888793945,40.01254653930664,34.893775939941406,40.188114166259766,40.51958465576172,43.37699508666992,40.53791809082031,38.967105865478516,39.879364013671875,39.39628982543945,37.56562042236328,43.22859573364258,40.98191833496094,33.799869537353516,34.046661376953125],\"xaxis\":\"x\",\"y\":[29.136003494262695,40.490234375,45.61477279663086,42.747032165527344,44.98160171508789,43.80128860473633,45.982234954833984,41.76103973388672,40.81825256347656,39.519229888916016,44.808956146240234,43.00471878051758,46.718570709228516,26.580669403076172,30.409122467041016,40.83309555053711,46.344329833984375,28.757068634033203,40.42507553100586,47.207115173339844,28.192441940307617,41.246246337890625,38.75838088989258,41.28323745727539,40.07186508178711,44.97433090209961,45.15090560913086,44.436607360839844,41.8662109375,31.00170135498047,46.011566162109375,28.479955673217773,40.387027740478516,45.26764678955078,41.09388732910156,30.09817123413086,45.312355041503906,46.72196578979492,47.71933364868164,44.70396041870117,44.04069519042969,37.8554573059082,31.82714080810547,47.52630615234375,44.94354248046875,27.361482620239258,31.972721099853516,41.49608612060547,38.13335418701172,43.50089645385742,39.20383071899414,37.88997268676758,30.25553321838379,40.13301467895508,46.4334716796875,47.13658905029297,39.079376220703125,45.684871673583984,32.24635314941406,45.74728775024414,43.13622283935547,42.42247009277344,45.855751037597656,33.999759674072266,45.13704299926758,26.825902938842773,30.226703643798828,42.0333137512207,45.203426361083984,45.1563835144043,37.49094009399414,44.97761535644531,47.46925354003906,31.01679039001465,44.582664489746094,46.28946304321289,46.82076644897461,30.984172821044922,31.067232131958008,30.899150848388672,32.3739013671875,32.402313232421875,39.94845962524414,32.377681732177734,39.44458770751953,40.418155670166016,42.28447723388672,28.318477630615234,41.17272186279297,40.78135299682617,46.71678161621094,41.92509841918945,39.57636260986328,43.12681579589844,44.99323654174805,29.429584503173828,47.134273529052734,47.26455307006836,29.712242126464844,32.556610107421875],\"yaxis\":\"y\",\"type\":\"scattergl\"},{\"hovertemplate\":\"label=maize<br>0=%{x}<br>1=%{y}<extra></extra>\",\"legendgroup\":\"maize\",\"marker\":{\"color\":\"#EF553B\",\"symbol\":\"circle\"},\"mode\":\"markers\",\"name\":\"maize\",\"showlegend\":true,\"x\":[5.644503593444824,8.517292022705078,1.7440848350524902,0.35896769165992737,2.69179105758667,8.195216178894043,8.961261749267578,2.910759449005127,1.723703384399414,9.933008193969727,7.62059211730957,2.4403812885284424,0.8071417212486267,8.093097686767578,1.2960411310195923,0.4538874626159668,8.666589736938477,3.803162097930908,0.9446461200714111,5.104624271392822,4.305750846862793,6.183706760406494,4.80863094329834,4.138122081756592,2.4942309856414795,8.180404663085938,8.779651641845703,8.544838905334473,2.020231246948242,9.56799602508545,1.786381483078003,7.000091075897217,0.19851721823215485,2.5231103897094727,6.049497127532959,9.040632247924805,0.43704694509506226,9.726062774658203,7.34965181350708,7.602961540222168,2.5173885822296143,3.7907862663269043,1.7601656913757324,9.995071411132812,9.145316123962402,1.6629705429077148,6.324693202972412,9.992643356323242,8.090630531311035,3.119992256164551,3.989018201828003,6.17098331451416,0.05965302884578705,3.755720376968384,9.656648635864258,8.609877586364746,9.039287567138672,9.781854629516602,4.3531413078308105,4.580892086029053,6.288075923919678,5.559919834136963,1.0793040990829468,2.0473685264587402,4.863792896270752,9.48049259185791,4.992321968078613,7.871987819671631,2.383270025253296,3.4147732257843018,6.748547077178955,7.312722682952881,1.7667138576507568,8.292952537536621,2.064727306365967,3.600644111633301,6.163584232330322,9.221022605895996,2.963672161102295,1.2579047679901123,9.136167526245117,8.65589714050293,1.1452994346618652,3.7156548500061035,10.01834774017334,1.5464298725128174,9.800755500793457,2.4798786640167236,0.3198852241039276,2.167459726333618,9.783628463745117,2.8946549892425537,4.236621379852295,7.7671098709106445,5.298609733581543,3.0479655265808105,8.682794570922852,1.1237659454345703,0.2143486738204956,8.451870918273926],\"xaxis\":\"x\",\"y\":[-31.064441680908203,-30.73655128479004,-32.224700927734375,-30.09819984436035,-29.051250457763672,-30.479612350463867,-35.664710998535156,-35.98412322998047,-31.2205753326416,-31.552122116088867,-31.447160720825195,-36.391212463378906,-28.717979431152344,-35.8668327331543,-28.80569076538086,-28.73528480529785,-31.42957878112793,-28.77446937561035,-29.06405258178711,-31.324874877929688,-31.896883010864258,-39.070709228515625,-31.420137405395508,-32.92362594604492,-38.139686584472656,-32.63964080810547,-35.496917724609375,-32.07472610473633,-31.447660446166992,-34.10301971435547,-33.08513259887695,-29.816848754882812,-31.783767700195312,-29.44469451904297,-29.534042358398438,-36.342803955078125,-30.537635803222656,-33.84797668457031,-39.52085876464844,-32.43512725830078,-38.3871955871582,-28.6470890045166,-30.83959197998047,-34.00592803955078,-31.44871711730957,-38.068565368652344,-30.473154067993164,-32.64109420776367,-31.461454391479492,-28.841873168945312,-38.26707077026367,-32.6781120300293,-31.743427276611328,-28.79277229309082,-34.61565017700195,-35.63938903808594,-34.123043060302734,-32.882659912109375,-29.292837142944336,-28.90056037902832,-32.672672271728516,-31.284019470214844,-29.280189514160156,-33.589168548583984,-32.00722885131836,-32.6536750793457,-32.66081619262695,-31.664318084716797,-30.245059967041016,-36.533660888671875,-38.849002838134766,-30.133663177490234,-32.79726028442383,-36.698204040527344,-30.846424102783203,-31.667299270629883,-32.281219482421875,-33.43019485473633,-28.707149505615234,-39.26453399658203,-34.769527435302734,-30.755081176757812,-27.919649124145508,-30.710487365722656,-31.351207733154297,-33.06138610839844,-31.351882934570312,-32.12894821166992,-31.010013580322266,-36.03469467163086,-33.031368255615234,-36.28645706176758,-31.85478401184082,-34.48119354248047,-30.857683181762695,-36.043704986572266,-30.380687713623047,-28.195344924926758,-31.440248489379883,-33.19932174682617],\"yaxis\":\"y\",\"type\":\"scattergl\"},{\"hovertemplate\":\"label=chickpea<br>0=%{x}<br>1=%{y}<extra></extra>\",\"legendgroup\":\"chickpea\",\"marker\":{\"color\":\"#00cc96\",\"symbol\":\"circle\"},\"mode\":\"markers\",\"name\":\"chickpea\",\"showlegend\":true,\"x\":[-25.19571876525879,-23.635639190673828,-23.08005714416504,-24.857675552368164,-22.685222625732422,-25.680065155029297,-20.597549438476562,-19.83066177368164,-23.138687133789062,-23.83616065979004,-19.284421920776367,-21.893146514892578,-21.05192756652832,-24.45440101623535,-22.881229400634766,-21.9013614654541,-22.653844833374023,-21.68170166015625,-21.32422637939453,-25.56236457824707,-21.669496536254883,-24.850868225097656,-25.200727462768555,-19.717878341674805,-21.630874633789062,-22.760133743286133,-22.503442764282227,-19.605085372924805,-19.148727416992188,-21.627511978149414,-24.21749496459961,-20.09449577331543,-25.78788185119629,-22.426902770996094,-25.222217559814453,-25.916351318359375,-21.359458923339844,-22.768543243408203,-19.848894119262695,-21.770465850830078,-23.293148040771484,-21.249225616455078,-20.630863189697266,-20.99889373779297,-24.55080795288086,-24.687448501586914,-22.072690963745117,-24.99418067932129,-21.665950775146484,-19.769790649414062,-19.95358657836914,-20.48749542236328,-23.828767776489258,-21.64451026916504,-25.7722225189209,-20.897384643554688,-22.343482971191406,-19.775554656982422,-21.02870750427246,-22.429418563842773,-24.45555877685547,-20.193479537963867,-18.94548225402832,-25.272747039794922,-18.798856735229492,-25.02130889892578,-23.348285675048828,-20.868471145629883,-20.48259735107422,-20.686389923095703,-20.195615768432617,-21.821821212768555,-24.097923278808594,-21.68999671936035,-20.684368133544922,-21.593490600585938,-25.811073303222656,-23.266328811645508,-21.08812141418457,-19.605501174926758,-21.41652488708496,-19.638858795166016,-23.87381362915039,-20.736209869384766,-22.832069396972656,-25.588890075683594,-21.280719757080078,-23.720300674438477,-21.47191619873047,-25.9981689453125,-19.575626373291016,-22.052167892456055,-20.36040496826172,-25.40938377380371,-23.026533126831055,-22.475797653198242,-21.72581672668457,-23.258142471313477,-24.734575271606445,-20.307167053222656],\"xaxis\":\"x\",\"y\":[-56.861572265625,-60.2302360534668,-56.54289627075195,-60.02073287963867,-57.18593215942383,-60.42102813720703,-53.121219635009766,-52.855899810791016,-55.20471954345703,-60.521629333496094,-51.934478759765625,-55.728782653808594,-52.44775390625,-58.771244049072266,-58.73664093017578,-59.7427864074707,-52.85090637207031,-56.80484390258789,-60.56178283691406,-60.077903747558594,-60.626583099365234,-59.716705322265625,-61.13547897338867,-52.53778839111328,-52.406612396240234,-59.411033630371094,-57.37866973876953,-51.470909118652344,-53.703346252441406,-55.92817687988281,-60.695640563964844,-56.81216049194336,-57.95482635498047,-60.96641540527344,-61.21592712402344,-58.3002815246582,-51.87556838989258,-53.365867614746094,-55.42388153076172,-52.81600570678711,-55.91015625,-51.550689697265625,-59.05836868286133,-53.22537612915039,-57.41771697998047,-57.215538024902344,-52.919151306152344,-60.57931900024414,-52.29328536987305,-53.70994186401367,-56.28681182861328,-56.33966827392578,-58.35415267944336,-60.33808517456055,-58.81478500366211,-53.1518440246582,-57.141448974609375,-54.4304084777832,-53.34748077392578,-61.04278564453125,-58.429630279541016,-54.39413833618164,-52.77317810058594,-59.05526351928711,-53.01797103881836,-60.91341018676758,-54.731204986572266,-57.81577682495117,-51.14249038696289,-59.41753387451172,-58.19287109375,-58.62026596069336,-60.43739318847656,-59.368804931640625,-51.43001937866211,-60.44303894042969,-60.13774108886719,-60.46388244628906,-59.53105545043945,-57.05972671508789,-52.67711639404297,-57.81977844238281,-56.60135269165039,-54.13105392456055,-54.679439544677734,-61.11543655395508,-59.80837631225586,-56.284568786621094,-53.39558792114258,-58.74485778808594,-51.52878952026367,-55.785648345947266,-58.69794845581055,-57.31584167480469,-58.2955436706543,-52.18453598022461,-54.351097106933594,-56.626121520996094,-55.737056732177734,-54.442108154296875],\"yaxis\":\"y\",\"type\":\"scattergl\"},{\"hovertemplate\":\"label=kidneybeans<br>0=%{x}<br>1=%{y}<extra></extra>\",\"legendgroup\":\"kidneybeans\",\"marker\":{\"color\":\"#ab63fa\",\"symbol\":\"circle\"},\"mode\":\"markers\",\"name\":\"kidneybeans\",\"showlegend\":true,\"x\":[24.95587730407715,21.662128448486328,23.128076553344727,27.379650115966797,16.26046371459961,27.19384002685547,16.218557357788086,20.71949577331543,25.590932846069336,25.93086051940918,27.21767234802246,20.602079391479492,27.867263793945312,26.239213943481445,18.210439682006836,15.447725296020508,22.227798461914062,18.69306755065918,25.38771629333496,22.19222640991211,16.181785583496094,26.853473663330078,16.665483474731445,25.40435028076172,17.468666076660156,27.325082778930664,22.155780792236328,19.857059478759766,22.014535903930664,18.064563751220703,15.857014656066895,22.492944717407227,16.972841262817383,20.686275482177734,25.262554168701172,25.370689392089844,25.696693420410156,22.913297653198242,21.0614070892334,18.944786071777344,17.83552360534668,26.745384216308594,24.802513122558594,22.764266967773438,22.80742645263672,21.292448043823242,19.12541389465332,15.678702354431152,22.0097599029541,23.136213302612305,21.53997802734375,20.180551528930664,17.935962677001953,15.229826927185059,21.389469146728516,21.639427185058594,16.564071655273438,20.512020111083984,25.853605270385742,21.24696922302246,20.699180603027344,21.768404006958008,26.592744827270508,16.95195770263672,27.132665634155273,25.56428337097168,21.704504013061523,17.064218521118164,27.431665420532227,22.401254653930664,25.869401931762695,25.127254486083984,25.463321685791016,20.239299774169922,16.17332649230957,15.530401229858398,16.968530654907227,19.045162200927734,18.66672706604004,20.8392391204834,18.419095993041992,21.47610092163086,25.395322799682617,26.262470245361328,24.208192825317383,27.89405059814453,24.849536895751953,21.94567108154297,17.504501342773438,24.64295196533203,26.272329330444336,18.425844192504883,16.598636627197266,26.251359939575195,16.266408920288086,17.276782989501953,21.852081298828125,18.833513259887695,26.30309295654297,22.06948471069336],\"xaxis\":\"x\",\"y\":[-5.648846626281738,-1.7549784183502197,-0.782413899898529,-4.153382301330566,-0.9820942878723145,-5.217965602874756,0.18452823162078857,-1.9782719612121582,-5.525673866271973,-4.141908168792725,-4.820068359375,0.34715354442596436,-5.901180267333984,-4.626350402832031,-1.770190954208374,0.0702202245593071,-3.0669779777526855,0.1759129762649536,-6.5291428565979,-1.7455030679702759,0.941052258014679,-5.935691833496094,0.8649032711982727,-2.7877988815307617,-1.3985795974731445,-6.326269626617432,-1.6424418687820435,-1.4981865882873535,-0.05698589235544205,-1.4892116785049438,0.9032699465751648,-0.06709381192922592,2.145606517791748,-3.5198557376861572,-6.965362548828125,-2.8927223682403564,-4.583037376403809,-5.088690280914307,-0.2612767517566681,-2.5963456630706787,-1.8504804372787476,-4.845072269439697,-3.0036122798919678,-0.49903008341789246,-0.9104444980621338,-2.957563877105713,-3.7303764820098877,0.630519688129425,0.13624081015586853,-4.506332874298096,-3.9019007682800293,-3.9147558212280273,1.459876298904419,0.28416845202445984,-0.6427526473999023,-2.1056060791015625,1.7716448307037354,0.8062695860862732,-6.3311848640441895,0.10179059952497482,-4.2626566886901855,-1.4172992706298828,-6.683467864990234,2.0959489345550537,-5.685792922973633,-3.1795084476470947,-2.266836404800415,2.0561704635620117,-6.574777603149414,-4.895163059234619,-3.035233974456787,-6.56119441986084,-6.2133378982543945,-1.9283137321472168,-0.22275321185588837,0.0178642887622118,1.1993180513381958,0.4278136193752289,1.276862382888794,-4.177206039428711,0.7643129825592041,-3.6717705726623535,-7.275883674621582,-6.86711311340332,-2.510652780532837,-5.23368501663208,-4.970423221588135,-3.827965259552002,-1.4092503786087036,-5.796841621398926,-5.449158191680908,1.3347277641296387,1.4020129442214966,-6.378828048706055,-0.8951138854026794,1.0547007322311401,-0.3790568709373474,1.2903300523757935,-4.474274158477783,-1.0280338525772095],\"yaxis\":\"y\",\"type\":\"scattergl\"},{\"hovertemplate\":\"label=pigeonpeas<br>0=%{x}<br>1=%{y}<extra></extra>\",\"legendgroup\":\"pigeonpeas\",\"marker\":{\"color\":\"#FFA15A\",\"symbol\":\"circle\"},\"mode\":\"markers\",\"name\":\"pigeonpeas\",\"showlegend\":true,\"x\":[22.046424865722656,27.610855102539062,19.02100372314453,25.378528594970703,29.457881927490234,27.124570846557617,26.754560470581055,32.42820358276367,17.682275772094727,20.325489044189453,19.349607467651367,30.329574584960938,18.805068969726562,21.623016357421875,21.141799926757812,21.91315460205078,30.667285919189453,19.70911407470703,28.307687759399414,22.566308975219727,31.113739013671875,29.3698787689209,31.069229125976562,20.856407165527344,24.585878372192383,23.59256362915039,31.958581924438477,28.794363021850586,26.193397521972656,29.174135208129883,18.53373908996582,27.260774612426758,19.434642791748047,27.00621795654297,28.707866668701172,31.776453018188477,18.964923858642578,30.615039825439453,18.428665161132812,24.967256546020508,29.032289505004883,31.00444984436035,22.745216369628906,24.816364288330078,29.22870445251465,18.72234535217285,31.896785736083984,28.548072814941406,24.152629852294922,26.375350952148438,28.725343704223633,30.228580474853516,22.28760528564453,22.920774459838867,30.858306884765625,32.65242004394531,28.90311622619629,26.148576736450195,19.04956817626953,20.359466552734375,31.919103622436523,27.461437225341797,32.31435775756836,21.534025192260742,18.991535186767578,29.499345779418945,31.688865661621094,30.708354949951172,27.98999786376953,24.619571685791016,18.75994873046875,28.777183532714844,24.137434005737305,31.61935043334961,24.567331314086914,22.380348205566406,29.319496154785156,17.62758445739746,26.33640480041504,30.334941864013672,18.363365173339844,28.519969940185547,28.71458625793457,28.334606170654297,30.389148712158203,24.070968627929688,27.031755447387695,30.199665069580078,28.021766662597656,20.501924514770508,30.522836685180664,25.1047420501709,30.344209671020508,17.556976318359375,21.978925704956055,31.62459373474121,29.45320701599121,30.837425231933594,28.810646057128906,21.560138702392578],\"xaxis\":\"x\",\"y\":[-11.406405448913574,-14.797562599182129,-9.204954147338867,-10.671417236328125,-16.736675262451172,-12.103463172912598,-11.594697952270508,-15.984676361083984,-10.113414764404297,-10.680500984191895,-10.368548393249512,-14.792659759521484,-8.44382381439209,-10.700516700744629,-10.290380477905273,1.0140539407730103,-15.012163162231445,-4.711358070373535,-13.237297058105469,-9.484862327575684,-16.826683044433594,-16.03859519958496,-15.825190544128418,-9.606350898742676,-9.661657333374023,-9.93407154083252,-16.93324851989746,-11.899795532226562,-10.284228324890137,-16.042118072509766,-5.588731288909912,-14.066546440124512,-10.293078422546387,-12.348670959472656,-14.105006217956543,-15.37724781036377,-7.103511810302734,-14.483172416687012,-5.116266250610352,-1.6222374439239502,-11.829346656799316,-14.884511947631836,-11.484309196472168,-12.632158279418945,-12.624755859375,-7.755717754364014,-16.663959503173828,-14.784238815307617,-12.406336784362793,-10.523509979248047,-16.49303436279297,-13.78071117401123,-10.939108848571777,-11.413387298583984,-15.411866188049316,-16.229366302490234,-12.507265090942383,-13.1859712600708,-6.302027702331543,-6.745149612426758,-17.054344177246094,-12.084673881530762,-16.884016036987305,-10.53626537322998,-8.56949520111084,-17.043170928955078,-17.4027099609375,-17.164932250976562,-12.921686172485352,-10.726584434509277,-5.378403186798096,-16.9226016998291,-12.255803108215332,-17.566341400146484,-9.916816711425781,-11.033890724182129,-14.24770736694336,-7.023543834686279,-14.071550369262695,-14.435141563415527,-8.78089427947998,-13.130021095275879,-11.403852462768555,-14.35521125793457,-16.2294864654541,-11.051078796386719,-14.184356689453125,-14.392552375793457,-13.788402557373047,-7.416326522827148,-17.465370178222656,-12.499056816101074,-16.14167022705078,-7.339470863342285,-11.023244857788086,-17.697240829467773,-15.189414024353027,-15.462631225585938,-16.901653289794922,-9.456287384033203],\"yaxis\":\"y\",\"type\":\"scattergl\"},{\"hovertemplate\":\"label=mothbeans<br>0=%{x}<br>1=%{y}<extra></extra>\",\"legendgroup\":\"mothbeans\",\"marker\":{\"color\":\"#19d3f3\",\"symbol\":\"circle\"},\"mode\":\"markers\",\"name\":\"mothbeans\",\"showlegend\":true,\"x\":[-4.61093282699585,-6.6250386238098145,-8.455013275146484,-2.169654130935669,-6.855894088745117,0.15828536450862885,0.22021892666816711,-2.0267672538757324,-7.735428810119629,0.8544549345970154,-5.0351715087890625,2.5162570476531982,-4.099663257598877,-5.045172214508057,0.0374741330742836,-3.886568307876587,0.1900099813938141,-2.0449278354644775,-1.1614172458648682,-5.506375789642334,-4.19257926940918,-0.5377364158630371,-2.1809401512145996,-5.9247727394104,-6.21445369720459,-7.141295433044434,-1.3426034450531006,-0.9873031973838806,-3.663822650909424,-5.820830345153809,-1.6043916940689087,-3.854994535446167,-4.392402648925781,-1.2083725929260254,-4.350754261016846,-2.7514731884002686,-2.2769615650177,1.0384931564331055,-2.257993698120117,-1.3638170957565308,-0.4952820837497711,-6.387638092041016,-1.3303661346435547,2.536174774169922,0.15537986159324646,-7.517070770263672,-3.726691961288452,-1.200115442276001,-4.633167266845703,0.9975195527076721,-1.3263273239135742,-3.381770133972168,-1.9959639310836792,-7.539098262786865,-0.37783363461494446,-4.563699245452881,-1.4697030782699585,-2.3580820560455322,-1.078014850616455,2.555271863937378,-0.19807614386081696,-6.225551605224609,0.9284991025924683,-0.7955763936042786,-0.5337167978286743,-2.704256296157837,-7.4687700271606445,-4.682474613189697,0.21363525092601776,-7.10764217376709,-0.3962484896183014,-5.090367794036865,-1.6324787139892578,-3.393737554550171,-7.335286617279053,-7.0377397537231445,-5.337737560272217,-1.4639273881912231,-2.6725378036499023,-3.6134440898895264,-3.6952924728393555,2.4527907371520996,-4.075171947479248,-0.702568769454956,-4.826431751251221,-2.2409701347351074,-5.128803730010986,-4.19643497467041,-5.408239364624023,-7.166691303253174,-7.607706069946289,-5.5699663162231445,-5.311875343322754,-4.455815315246582,-1.7803114652633667,-2.2879114151000977,-0.4664382040500641,0.7804138660430908,-2.7023813724517822,-5.123783111572266],\"xaxis\":\"x\",\"y\":[7.896210193634033,4.195924758911133,3.4595072269439697,-3.8132381439208984,3.0804030895233154,-2.1878652572631836,-4.449209690093994,-3.26274037361145,4.02797269821167,-5.0816545486450195,-0.7276795506477356,-2.1975183486938477,1.666455626487732,2.3673624992370605,-2.8861615657806396,-0.6789820194244385,-1.2679648399353027,6.259088516235352,-3.6081225872039795,4.599205493927002,5.789767742156982,-4.609993934631348,5.558121204376221,2.2086174488067627,3.1459152698516846,2.795200824737549,6.067230701446533,-1.479049801826477,1.9710900783538818,0.9178896546363831,-0.9495598673820496,3.8374505043029785,7.0223917961120605,5.727092266082764,-1.847249984741211,4.6864800453186035,2.7642781734466553,-4.089272975921631,-3.9870643615722656,5.00600004196167,-5.36503267288208,1.2868210077285767,-1.5730351209640503,-2.225613832473755,-2.408717393875122,1.6253880262374878,0.4444580674171448,4.558587551116943,2.8956496715545654,-5.215896129608154,6.190569877624512,1.712726354598999,-3.451442241668701,0.8742663860321045,-2.264441967010498,0.23887154459953308,-0.8185449838638306,-3.9300997257232666,-1.045825719833374,-2.221033811569214,-5.575980186462402,1.5163745880126953,-4.073591709136963,-7.324009418487549,-1.1828440427780151,4.4977827072143555,0.9255295991897583,3.115044593811035,-1.1488760709762573,1.0686895847320557,-6.387485980987549,8.809640884399414,6.557011127471924,-0.3699870705604553,0.8747043609619141,3.8029112815856934,3.129728078842163,4.559205532073975,2.2186801433563232,-0.2511236369609833,2.2559101581573486,-2.2122411727905273,3.96106219291687,-2.0881564617156982,4.06439733505249,2.130358934402466,6.323816776275635,-1.2338601350784302,8.64393138885498,1.3531382083892822,1.0364688634872437,7.919563293457031,-0.6316590309143066,2.8791863918304443,-6.287344455718994,6.569581508636475,-4.826274394989014,-2.0138611793518066,6.0817790031433105,4.522534370422363],\"yaxis\":\"y\",\"type\":\"scattergl\"},{\"hovertemplate\":\"label=mungbean<br>0=%{x}<br>1=%{y}<extra></extra>\",\"legendgroup\":\"mungbean\",\"marker\":{\"color\":\"#FF6692\",\"symbol\":\"circle\"},\"mode\":\"markers\",\"name\":\"mungbean\",\"showlegend\":true,\"x\":[0.5516770482063293,-0.9683138728141785,1.8845288753509521,-0.598671555519104,0.6369990110397339,-0.6527098417282104,2.2574946880340576,0.9452531337738037,-2.9149179458618164,-2.9282724857330322,-1.1466485261917114,-0.25380071997642517,-3.0749709606170654,-1.6513428688049316,-3.954533815383911,2.85546875,0.25908875465393066,1.9435040950775146,-2.857539176940918,0.6430100202560425,-2.2389628887176514,1.4365458488464355,-0.4871472120285034,-3.5637614727020264,2.4182119369506836,-3.465306043624878,-0.702004075050354,1.938762903213501,2.4975192546844482,1.1486129760742188,-0.17051833868026733,-2.5169169902801514,-2.1076245307922363,-4.266660690307617,-0.35889363288879395,-2.1191532611846924,-2.1501376628875732,-2.8973796367645264,0.16509050130844116,-0.2137928456068039,-0.6408102512359619,-1.152919888496399,-0.8139476776123047,-2.7322099208831787,-1.0558873414993286,-4.105488300323486,-1.5201224088668823,0.8697083592414856,-0.8592182993888855,-2.497455596923828,0.03600572049617767,-2.6126174926757812,0.525895357131958,-1.6345051527023315,0.12409085035324097,-3.1056063175201416,-4.149116039276123,-2.3661763668060303,3.1605772972106934,-0.1720069944858551,3.0765771865844727,-0.7477454543113708,-0.8187552690505981,-2.3445546627044678,-3.937004327774048,3.142151355743408,0.4628100097179413,-3.8217456340789795,-1.1967507600784302,-4.262625694274902,-1.844058632850647,1.2676023244857788,-0.7457860708236694,-3.122576951980591,-3.4255194664001465,-3.1441826820373535,-3.8210666179656982,1.7071973085403442,1.3254034519195557,-0.9236054420471191,-3.6267426013946533,-4.201244831085205,-3.039034128189087,-1.4539965391159058,1.2275437116622925,1.7457631826400757,-3.0261783599853516,-3.235910654067993,-0.16892565786838531,-3.007178544998169,1.0495119094848633,-0.002373677445575595,0.46597620844841003,-2.1051185131073,-3.9478282928466797,-3.4846301078796387,-3.442337989807129,-3.857799530029297,-0.7679775953292847,-0.4563271701335907],\"xaxis\":\"x\",\"y\":[29.719999313354492,26.797222137451172,32.305599212646484,26.93570327758789,28.688322067260742,25.958364486694336,32.10747528076172,32.02732467651367,26.43431854248047,30.63066864013672,33.95856475830078,28.09662437438965,31.156143188476562,31.708831787109375,30.533737182617188,30.119224548339844,27.909488677978516,31.34065818786621,30.50465202331543,30.57448387145996,27.19236183166504,31.187501907348633,32.55314636230469,32.31571960449219,31.962766647338867,32.56734085083008,25.13579750061035,31.953044891357422,30.368927001953125,30.03995132446289,34.011329650878906,25.765731811523438,33.01343536376953,26.80072784423828,26.550518035888672,25.294940948486328,25.43539810180664,29.962465286254883,33.635162353515625,27.1944580078125,24.993247985839844,24.125301361083984,24.40677833557129,24.32817840576172,30.399227142333984,26.116397857666016,32.87138748168945,32.927772521972656,24.396263122558594,24.311614990234375,33.320068359375,24.891420364379883,32.79036331176758,30.483362197875977,27.364316940307617,31.224802017211914,26.362646102905273,24.84471893310547,30.42844009399414,34.25263595581055,30.975305557250977,32.2379035949707,25.737327575683594,25.63762664794922,28.7955265045166,30.33985137939453,32.35255813598633,27.14528465270996,33.63347625732422,27.59601402282715,30.34819984436035,32.8932991027832,34.114810943603516,29.16459846496582,30.96834373474121,26.518754959106445,30.706951141357422,32.85725021362305,30.681217193603516,33.2172966003418,32.73782730102539,27.395673751831055,27.024263381958008,31.40406608581543,28.794139862060547,31.961572647094727,26.86953353881836,30.129112243652344,34.4165153503418,32.5888671875,30.398651123046875,29.349536895751953,28.16541290283203,31.821367263793945,26.807106018066406,24.714372634887695,26.674354553222656,29.816146850585938,31.09511375427246,31.408647537231445],\"yaxis\":\"y\",\"type\":\"scattergl\"},{\"hovertemplate\":\"label=blackgram<br>0=%{x}<br>1=%{y}<extra></extra>\",\"legendgroup\":\"blackgram\",\"marker\":{\"color\":\"#B6E880\",\"symbol\":\"circle\"},\"mode\":\"markers\",\"name\":\"blackgram\",\"showlegend\":true,\"x\":[-4.734085559844971,-0.14248180389404297,-0.7373292446136475,0.9244769215583801,-0.8040715456008911,-0.7609200477600098,1.1164624691009521,-0.40321096777915955,-0.5885408520698547,-4.156498432159424,1.7577714920043945,-2.725672960281372,-1.9585440158843994,-2.484320640563965,-0.6500630974769592,-0.8472701907157898,-0.7901501655578613,-0.7878742218017578,-0.4340669512748718,0.5501050353050232,-3.946859121322632,0.7341880202293396,-3.706357479095459,-1.4531846046447754,0.4306965172290802,-1.2675588130950928,-2.1789093017578125,-1.7468160390853882,-0.32199451327323914,-0.8501790761947632,1.9103747606277466,-0.2359650731086731,1.9286983013153076,-2.797844886779785,-1.6407214403152466,2.547982931137085,2.6159756183624268,-0.6668305993080139,-4.6160359382629395,-3.7750587463378906,2.7706563472747803,-4.4887237548828125,0.14076949656009674,-4.779687404632568,-1.4995373487472534,2.1861164569854736,1.2518799304962158,-2.9741718769073486,2.1031606197357178,-4.171845436096191,0.3923099637031555,2.259002447128296,2.170896291732788,1.78189218044281,0.033820997923612595,1.070091962814331,-0.16400204598903656,1.4593559503555298,-1.5155174732208252,2.184882402420044,0.6918911337852478,-1.4280298948287964,-0.07081211358308792,-0.846458375453949,-0.7187774181365967,-5.2807230949401855,-0.19727776944637299,-3.3145360946655273,-1.074317216873169,-0.5545002818107605,-1.1224608421325684,1.297647476196289,2.8427908420562744,-4.722811698913574,2.077216148376465,-1.3499599695205688,-1.704655408859253,-1.6404757499694824,0.5616707801818848,-1.5613751411437988,-0.18470269441604614,-1.6761274337768555,1.4064925909042358,-4.8611979484558105,0.1378597617149353,-0.5198118090629578,-2.2567408084869385,-0.3776642084121704,0.4109901487827301,-0.5875028371810913,2.0328447818756104,-1.3955895900726318,-0.17697511613368988,-1.7256872653961182,0.6241411566734314,-4.013948917388916,-4.793892860412598,1.8687043190002441,1.7810351848602295,-1.682965636253357],\"xaxis\":\"x\",\"y\":[-18.968671798706055,-9.183547973632812,-16.90965461730957,-15.127340316772461,-17.43665885925293,-19.315216064453125,-13.237707138061523,-11.356979370117188,-10.541723251342773,-18.24454116821289,-14.877164840698242,-20.144084930419922,-19.31415557861328,-19.732925415039062,-19.11368751525879,-13.677810668945312,-20.905729293823242,-18.504732131958008,-11.120516777038574,-8.274581909179688,-18.767822265625,-11.208227157592773,-18.580551147460938,-15.30836296081543,-8.063740730285645,-18.199804306030273,-18.347496032714844,-17.54293441772461,-12.03865909576416,-9.717514038085938,-10.1530122756958,-10.177206039428711,-14.934873580932617,-19.938318252563477,-14.985435485839844,-10.740689277648926,-11.157824516296387,-20.319869995117188,-19.516517639160156,-18.170654296875,-11.19704818725586,-20.547779083251953,-11.486040115356445,-19.9820613861084,-18.528112411499023,-13.595212936401367,-8.900874137878418,-19.389503479003906,-9.753077507019043,-18.691177368164062,-10.163869857788086,-13.545445442199707,-14.017775535583496,-12.811728477478027,-7.755837917327881,-10.54011344909668,-15.495100975036621,-15.398012161254883,-12.838091850280762,-9.988492965698242,-10.148786544799805,-15.832365036010742,-11.054129600524902,-13.185699462890625,-19.435041427612305,-19.495988845825195,-12.222921371459961,-19.355703353881836,-9.366246223449707,-17.129913330078125,-13.90522575378418,-15.28824234008789,-10.982393264770508,-19.82402992248535,-12.166218757629395,-16.565080642700195,-20.17093276977539,-16.52286148071289,-9.751094818115234,-17.658239364624023,-14.577476501464844,-20.623159408569336,-14.816326141357422,-20.08868408203125,-8.752596855163574,-8.256333351135254,-19.278181076049805,-17.548091888427734,-8.594775199890137,-20.79635238647461,-13.434798240661621,-20.788423538208008,-9.966282844543457,-20.753196716308594,-11.785244941711426,-19.843690872192383,-19.866769790649414,-15.12410831451416,-16.07621192932129,-14.898377418518066],\"yaxis\":\"y\",\"type\":\"scattergl\"},{\"hovertemplate\":\"label=lentil<br>0=%{x}<br>1=%{y}<extra></extra>\",\"legendgroup\":\"lentil\",\"marker\":{\"color\":\"#FF97FF\",\"symbol\":\"circle\"},\"mode\":\"markers\",\"name\":\"lentil\",\"showlegend\":true,\"x\":[-14.285239219665527,-8.347028732299805,-11.58089828491211,-11.157731056213379,-13.905170440673828,-14.223502159118652,-9.035781860351562,-7.23440408706665,-9.107851028442383,-5.742034912109375,-9.942145347595215,-9.44334602355957,-8.577406883239746,-15.730351448059082,-14.711749076843262,-14.777106285095215,-12.062524795532227,-11.396233558654785,1.589798092842102,-10.20639705657959,-10.890944480895996,-8.141650199890137,-9.54133129119873,-7.38142204284668,-6.153469085693359,-9.944969177246094,-11.09300422668457,-9.426676750183105,-11.391002655029297,-7.6205668449401855,-15.417977333068848,-7.5337815284729,-10.41445255279541,-11.335443496704102,-9.340930938720703,-12.697530746459961,-11.8280029296875,-8.035713195800781,-10.650199890136719,-8.27226448059082,-8.11186695098877,-10.335811614990234,-12.446883201599121,-9.425057411193848,-9.966715812683105,-10.69786262512207,-11.771127700805664,-11.096534729003906,-10.989662170410156,-12.138357162475586,-10.313553810119629,-5.996238708496094,-7.922682762145996,-15.49104118347168,-8.804505348205566,-11.977920532226562,-14.484822273254395,-12.247526168823242,-12.242650032043457,-13.847746849060059,-15.324057579040527,-12.383620262145996,-10.268946647644043,-12.324873924255371,-8.170485496520996,-9.490903854370117,-13.269242286682129,-12.578874588012695,-10.25899887084961,-11.855921745300293,-12.366089820861816,-9.149521827697754,-7.95831823348999,-11.446369171142578,-10.756940841674805,-8.274003982543945,-11.719164848327637,-11.276280403137207,-9.69987678527832,-14.164060592651367,-7.938079833984375,-6.9157233238220215,-11.208134651184082,-12.316560745239258,-12.651358604431152,-12.419309616088867,-15.361438751220703,-12.315831184387207,-10.692410469055176,-12.182854652404785,-14.885879516601562,-7.696443557739258,-9.70340347290039,-6.864640712738037,-13.683902740478516,-10.16518497467041,-11.790449142456055,-6.094818592071533,-14.313732147216797,-14.417677879333496],\"xaxis\":\"x\",\"y\":[5.644107818603516,9.63369083404541,3.197632312774658,11.453516960144043,4.830501079559326,4.013356685638428,12.83726978302002,10.674077987670898,8.512429237365723,9.280415534973145,12.723312377929688,13.128209114074707,12.504756927490234,4.491036891937256,5.714408874511719,5.936455726623535,3.5760273933410645,3.987037420272827,-8.257872581481934,13.353007316589355,13.217545509338379,9.72339916229248,10.578330039978027,11.381661415100098,9.431448936462402,9.279622077941895,3.975881338119507,12.899197578430176,10.787540435791016,12.37064266204834,5.000247955322266,11.744793891906738,13.205378532409668,12.251322746276855,10.41691780090332,3.220719337463379,9.50322151184082,8.201128005981445,4.022740840911865,4.0038652420043945,11.10839557647705,9.058677673339844,4.16495418548584,10.03518009185791,5.612859725952148,6.857400417327881,12.9773588180542,5.678024768829346,5.052515029907227,7.722372055053711,11.44074535369873,10.060182571411133,9.695205688476562,4.245399475097656,11.873847007751465,12.070355415344238,6.285216331481934,10.215222358703613,6.894832611083984,7.424698829650879,4.295671463012695,10.838212966918945,6.796599864959717,7.234268665313721,12.384891510009766,10.654592514038086,3.813497304916382,6.612046241760254,11.15925407409668,7.531581401824951,5.01727294921875,9.604630470275879,9.27741527557373,3.8600547313690186,7.361268520355225,13.284499168395996,12.060235023498535,4.427495956420898,13.229613304138184,5.448269844055176,10.756444931030273,9.60676097869873,10.530065536499023,11.479763984680176,3.952214241027832,5.034115791320801,4.170457363128662,3.2485339641571045,11.13535213470459,12.050070762634277,4.653895854949951,12.659218788146973,12.035064697265625,9.512615203857422,4.305271625518799,3.690997362136841,12.267557144165039,9.715263366699219,4.107484340667725,5.8046555519104],\"yaxis\":\"y\",\"type\":\"scattergl\"},{\"hovertemplate\":\"label=pomegranate<br>0=%{x}<br>1=%{y}<extra></extra>\",\"legendgroup\":\"pomegranate\",\"marker\":{\"color\":\"#FECB52\",\"symbol\":\"circle\"},\"mode\":\"markers\",\"name\":\"pomegranate\",\"showlegend\":true,\"x\":[59.21304702758789,61.3390007019043,60.241249084472656,66.28500366210938,58.848636627197266,64.78026580810547,63.361698150634766,58.98047637939453,63.400211334228516,64.5145492553711,65.6021728515625,65.03262329101562,67.59394073486328,60.2724723815918,64.71487426757812,63.91566848754883,62.14384841918945,62.3102912902832,61.661136627197266,62.85126495361328,64.3091049194336,66.14501953125,63.447296142578125,61.968116760253906,59.84183883666992,60.5485725402832,60.607852935791016,66.61088562011719,60.419986724853516,65.95647430419922,63.1351203918457,65.63375091552734,63.14424133300781,64.70710754394531,59.78707504272461,64.70110321044922,60.18508529663086,65.57140350341797,59.47224807739258,64.13957977294922,65.32678985595703,58.72409439086914,59.65775680541992,66.14116668701172,67.4216079711914,59.516868591308594,64.63328552246094,59.86992263793945,63.16651916503906,61.17012023925781,65.78067016601562,64.77249145507812,66.23480224609375,64.83936309814453,62.14585876464844,64.17534637451172,60.415157318115234,61.50370788574219,60.852352142333984,63.005760192871094,58.685142517089844,62.59461975097656,64.07762145996094,59.97178268432617,67.65863037109375,65.5763931274414,58.92273712158203,65.70989990234375,61.07590866088867,66.83489227294922,67.46249389648438,66.53553009033203,62.35059356689453,60.56224060058594,65.16039276123047,63.07784652709961,65.87879943847656,64.81127166748047,66.90306854248047,66.93473815917969,64.63107299804688,59.23214340209961,66.51638793945312,65.18959045410156,62.51418685913086,65.84528350830078,65.87138366699219,64.28857421875,66.85885620117188,59.15055465698242,62.06415557861328,65.19662475585938,67.65412902832031,65.36246490478516,64.68267059326172,65.31504821777344,61.92326736450195,62.91967010498047,65.94611358642578,59.35881423950195],\"xaxis\":\"x\",\"y\":[-12.118265151977539,-11.771544456481934,-10.17021369934082,-5.053725242614746,-11.778238296508789,-5.085240840911865,-7.5967535972595215,-10.5593900680542,-6.143047332763672,-10.760583877563477,-11.380905151367188,-10.499889373779297,-6.639591217041016,-11.769021987915039,-5.788877964019775,-10.114903450012207,-7.631002426147461,-10.675971984863281,-12.185256958007812,-7.911757469177246,-11.819620132446289,-3.736429452896118,-7.021927833557129,-11.557446479797363,-9.279586791992188,-12.749917984008789,-12.20483684539795,-8.556775093078613,-11.221721649169922,-6.61068058013916,-9.08137321472168,-5.169323444366455,-7.301266193389893,-7.107523441314697,-10.254542350769043,-6.754795074462891,-12.511146545410156,-4.501441955566406,-11.194206237792969,-8.664926528930664,-3.744584083557129,-10.77856159210205,-11.862019538879395,-4.57106876373291,-6.363926410675049,-10.820868492126465,-6.041882514953613,-12.232075691223145,-6.686702251434326,-12.3870849609375,-10.120441436767578,-5.967311382293701,-9.877437591552734,-11.410762786865234,-12.381284713745117,-5.881585597991943,-10.482030868530273,-10.426270484924316,-11.924184799194336,-12.666814804077148,-11.243034362792969,-6.397222518920898,-6.858204364776611,-9.211709022521973,-5.882717132568359,-9.966927528381348,-11.76359748840332,-3.6865785121917725,-8.993165969848633,-5.709649085998535,-6.698635101318359,-6.478066444396973,-8.109135627746582,-10.654427528381348,-11.111324310302734,-12.954400062561035,-9.848722457885742,-11.297628402709961,-7.1583685874938965,-5.094989776611328,-11.774567604064941,-10.34557819366455,-6.529207706451416,-10.511869430541992,-7.132558822631836,-4.046663761138916,-10.526124000549316,-11.458877563476562,-4.956264972686768,-11.152688980102539,-11.581339836120605,-5.6816277503967285,-6.182509899139404,-3.624540090560913,-4.551719665527344,-5.158106803894043,-12.438858985900879,-10.312216758728027,-4.265503406524658,-10.022717475891113],\"yaxis\":\"y\",\"type\":\"scattergl\"},{\"hovertemplate\":\"label=banana<br>0=%{x}<br>1=%{y}<extra></extra>\",\"legendgroup\":\"banana\",\"marker\":{\"color\":\"#636efa\",\"symbol\":\"circle\"},\"mode\":\"markers\",\"name\":\"banana\",\"showlegend\":true,\"x\":[-0.32426750659942627,-3.693981409072876,-4.248003005981445,1.9783636331558228,0.596389889717102,-2.1618971824645996,0.159568652510643,-2.990178108215332,-5.277013301849365,-1.2275958061218262,-3.158665180206299,-2.0585579872131348,-2.0060317516326904,-2.526092767715454,-1.182606816291809,1.63137686252594,-1.8556723594665527,-3.6861772537231445,-0.6953905820846558,-5.3238444328308105,-5.9073076248168945,-1.5942420959472656,1.489210844039917,1.384793758392334,-4.561782360076904,1.8251646757125854,-0.5240710973739624,-1.1953312158584595,-3.0873241424560547,-1.042762041091919,-2.2504448890686035,1.0386043787002563,-3.097766160964966,-0.6015182137489319,-1.9437004327774048,-0.6061477065086365,-4.725401878356934,-4.558465480804443,-2.623535394668579,-2.4992799758911133,-0.6695932149887085,-2.475245952606201,-5.122138500213623,-2.3006060123443604,-4.996428966522217,0.6215364336967468,-3.2805025577545166,-2.478513717651367,-1.068070888519287,-5.745863914489746,0.11350905895233154,-2.2152509689331055,-2.064854145050049,-0.6101385951042175,-1.256394386291504,-3.4956116676330566,-1.248469591140747,-2.500798463821411,1.6212756633758545,-5.352128505706787,-4.81044864654541,-1.528458595275879,-0.9548207521438599,-1.4017647504806519,-1.4257550239562988,-2.8140034675598145,-1.1178843975067139,1.7977198362350464,-2.6305251121520996,-5.753973007202148,0.12573203444480896,-5.290665626525879,0.9959155321121216,-2.822244167327881,-1.77476966381073,0.9770931005477905,0.34445786476135254,0.821742057800293,-3.347809076309204,-2.8660032749176025,-2.7378571033477783,1.9350017309188843,0.581244945526123,0.07076847553253174,0.4017314612865448,0.7215365767478943,0.5925586223602295,-1.8763734102249146,-0.05759027600288391,-3.1565682888031006,-3.89267897605896,0.2363048642873764,-4.2606072425842285,-4.4486613273620605,-0.9907878041267395,-3.246901035308838,-0.6519670486450195,-0.38045939803123474,2.1291933059692383,-2.4402987957000732],\"xaxis\":\"x\",\"y\":[65.10089111328125,65.90888214111328,66.69426727294922,65.01377868652344,62.360389709472656,62.05605697631836,64.57608032226562,66.55061340332031,67.66154479980469,68.56175994873047,67.48709869384766,65.83812713623047,71.46369934082031,66.64671325683594,61.80130386352539,64.14315032958984,61.448184967041016,69.18121337890625,69.52819061279297,68.8802490234375,68.3401870727539,67.9586181640625,67.04158020019531,62.93412399291992,69.3976058959961,65.32627868652344,67.79242706298828,67.66556549072266,66.98521423339844,63.068397521972656,62.18103790283203,65.36394500732422,71.29125213623047,69.4309310913086,63.082435607910156,67.75947570800781,69.35958099365234,70.02052307128906,71.22376251220703,62.56155014038086,61.783042907714844,71.4087905883789,67.56428527832031,69.9657974243164,67.29792022705078,62.45802307128906,71.01737976074219,62.22761154174805,61.63225173950195,68.78926849365234,67.94649505615234,67.6031265258789,70.30888366699219,64.25447845458984,70.470458984375,70.90545654296875,61.63456344604492,70.51210021972656,64.0880355834961,68.82733154296875,70.11827087402344,70.62322998046875,71.0206298828125,63.222747802734375,63.14909362792969,69.83550262451172,69.64210510253906,65.97384643554688,62.46124267578125,68.98673248291016,67.91801452636719,67.44507598876953,66.63907623291016,66.85879516601562,70.93806457519531,65.90037536621094,64.69251251220703,64.97688293457031,67.5743637084961,65.35661315917969,64.9612808227539,64.2523422241211,64.59776306152344,65.22193145751953,67.8227310180664,67.67682647705078,68.2781982421875,62.759185791015625,69.30316925048828,67.14031219482422,68.46350860595703,65.4924087524414,68.51510620117188,66.17766571044922,62.22003173828125,65.86749267578125,64.10599517822266,68.08578491210938,64.68290710449219,67.69267272949219],\"yaxis\":\"y\",\"type\":\"scattergl\"},{\"hovertemplate\":\"label=mango<br>0=%{x}<br>1=%{y}<extra></extra>\",\"legendgroup\":\"mango\",\"marker\":{\"color\":\"#EF553B\",\"symbol\":\"circle\"},\"mode\":\"markers\",\"name\":\"mango\",\"showlegend\":true,\"x\":[-26.675416946411133,-25.51120948791504,-26.844951629638672,-27.47006607055664,-29.721908569335938,-29.028966903686523,-28.987199783325195,-28.86025047302246,-25.869951248168945,-25.329038619995117,-28.696712493896484,-27.668437957763672,-24.561725616455078,-27.78827476501465,-29.2780818939209,-28.186573028564453,-23.252559661865234,-23.59855079650879,-29.207988739013672,-26.200298309326172,-29.587614059448242,-25.12143898010254,-27.35045051574707,-23.541656494140625,-26.58549690246582,-26.18009376525879,-26.782381057739258,-26.958385467529297,-27.263608932495117,-27.157773971557617,-25.830677032470703,-24.661212921142578,-26.10651206970215,-26.286640167236328,-30.161415100097656,-28.08757209777832,-25.62169647216797,-26.683429718017578,-26.332908630371094,-27.44689178466797,-27.112648010253906,-24.868528366088867,-23.017366409301758,-27.452713012695312,-25.206737518310547,-23.941574096679688,-26.50095558166504,-30.05278205871582,-27.060094833374023,-29.542152404785156,-23.348941802978516,-25.376686096191406,-23.39362144470215,-27.365415573120117,-25.492055892944336,-23.982269287109375,-27.8809814453125,-28.60649299621582,-26.3632869720459,-24.13762664794922,-26.65858268737793,-27.192644119262695,-27.489259719848633,-29.076845169067383,-22.872467041015625,-25.074520111083984,-29.894968032836914,-26.500661849975586,-24.392372131347656,-26.471784591674805,-28.374534606933594,-29.397130966186523,-26.185571670532227,-25.502914428710938,-26.513460159301758,-23.534921646118164,-29.26869773864746,-26.78127098083496,-25.62392234802246,-30.115917205810547,-28.203289031982422,-27.190349578857422,-27.376611709594727,-27.846399307250977,-27.093338012695312,-23.851245880126953,-27.295351028442383,-23.92136573791504,-28.101163864135742,-26.849241256713867,-27.185161590576172,-24.10810089111328,-25.956607818603516,-27.060962677001953,-25.692899703979492,-24.94339370727539,-28.740602493286133,-28.47627067565918,-27.065753936767578,-27.27653694152832],\"xaxis\":\"x\",\"y\":[-5.770068645477295,-15.647971153259277,-11.451011657714844,-12.864931106567383,-7.629664421081543,-12.24709701538086,-12.1121244430542,-11.473746299743652,-7.5773820877075195,-13.765962600708008,-11.362845420837402,-12.919183731079102,-14.948798179626465,-8.70154094696045,-10.110386848449707,-7.094605922698975,-13.924454689025879,-12.012863159179688,-10.602355003356934,-16.397449493408203,-8.393733978271484,-15.231618881225586,-14.612078666687012,-12.293279647827148,-15.973151206970215,-7.133284568786621,-16.091218948364258,-7.092508792877197,-9.896170616149902,-15.46611213684082,-7.346256732940674,-13.919758796691895,-8.271744728088379,-8.054583549499512,-8.486373901367188,-6.531903266906738,-8.498649597167969,-15.39847469329834,-5.982019901275635,-7.889096260070801,-5.912904262542725,-12.50806999206543,-13.333074569702148,-6.743452072143555,-14.026193618774414,-14.107621192932129,-15.612728118896484,-8.830780029296875,-15.997958183288574,-8.64597225189209,-13.583902359008789,-11.364765167236328,-14.018228530883789,-12.171544075012207,-14.960648536682129,-11.371893882751465,-13.464862823486328,-12.929194450378418,-7.580459117889404,-12.84482479095459,-11.409313201904297,-11.976422309875488,-6.156988620758057,-7.390615940093994,-13.82785415649414,-8.48254680633545,-8.245413780212402,-6.585580348968506,-13.723870277404785,-8.6553955078125,-11.203287124633789,-9.205033302307129,-10.908794403076172,-7.2372026443481445,-13.05755615234375,-12.72439193725586,-10.737347602844238,-16.445390701293945,-13.310415267944336,-8.1221342086792,-6.702798366546631,-6.200973033905029,-8.834256172180176,-7.624037742614746,-5.7342047691345215,-11.912636756896973,-13.723105430603027,-11.190412521362305,-12.013378143310547,-13.573744773864746,-7.380921363830566,-12.772274017333984,-6.7201433181762695,-16.063892364501953,-15.467521667480469,-9.287341117858887,-12.614376068115234,-12.369193077087402,-14.58073902130127,-10.693970680236816],\"yaxis\":\"y\",\"type\":\"scattergl\"},{\"hovertemplate\":\"label=grapes<br>0=%{x}<br>1=%{y}<extra></extra>\",\"legendgroup\":\"grapes\",\"marker\":{\"color\":\"#00cc96\",\"symbol\":\"circle\"},\"mode\":\"markers\",\"name\":\"grapes\",\"showlegend\":true,\"x\":[36.684959411621094,40.210357666015625,36.340919494628906,34.24796676635742,36.95026779174805,39.178165435791016,34.8670539855957,40.48988342285156,41.00324630737305,37.8260498046875,35.55820083618164,36.192989349365234,39.295867919921875,37.98727035522461,35.51551818847656,36.8278694152832,35.67781066894531,41.61075973510742,36.049869537353516,40.560428619384766,33.93819808959961,33.50641632080078,33.76539611816406,36.02700424194336,39.89594650268555,36.64466857910156,40.0954704284668,41.150169372558594,35.05266189575195,36.656524658203125,35.680397033691406,40.759857177734375,34.737892150878906,41.3216438293457,37.37261199951172,33.375431060791016,41.17576599121094,34.17866897583008,38.38791275024414,39.80188751220703,32.83422088623047,33.1013298034668,40.73458480834961,41.568824768066406,36.732139587402344,35.033172607421875,40.48855209350586,33.933189392089844,39.801666259765625,34.20073318481445,32.386932373046875,40.21268081665039,40.83623504638672,40.50058364868164,37.41022872924805,34.53998947143555,32.949581146240234,39.38682556152344,37.43467330932617,37.59382629394531,34.6099967956543,37.2552604675293,34.69255828857422,33.865169525146484,38.013126373291016,33.963096618652344,32.425086975097656,33.49246597290039,35.0621223449707,34.75458908081055,41.67470169067383,39.72119140625,33.710140228271484,33.95692825317383,40.08076477050781,38.74889373779297,36.686309814453125,38.40003204345703,33.715763092041016,33.9703254699707,34.76152038574219,32.82926940917969,41.560523986816406,34.40415573120117,36.05504608154297,40.0893669128418,40.924644470214844,34.951236724853516,35.03428268432617,32.287139892578125,34.68974685668945,40.44441604614258,39.67593002319336,35.08342742919922,40.56494140625,36.994380950927734,34.54047775268555,40.91419982910156,32.51182556152344,34.279788970947266],\"xaxis\":\"x\",\"y\":[-43.359153747558594,-41.643959045410156,-41.31601333618164,-41.66162109375,-44.79153823852539,-42.72556686401367,-46.78715133666992,-45.71963119506836,-45.533729553222656,-41.865936279296875,-41.99644470214844,-47.749027252197266,-43.610836029052734,-46.31533432006836,-47.79185104370117,-43.56028366088867,-47.603973388671875,-43.75048065185547,-45.219276428222656,-42.47085952758789,-43.43031311035156,-45.77231216430664,-44.95713424682617,-41.29802322387695,-45.35470199584961,-47.443607330322266,-43.888065338134766,-45.235538482666016,-41.094696044921875,-42.535526275634766,-42.81582260131836,-44.98889923095703,-43.20626449584961,-42.71196746826172,-47.315677642822266,-46.60568618774414,-43.76326370239258,-45.127872467041016,-42.62241744995117,-46.43421936035156,-46.969635009765625,-45.055782318115234,-44.684696197509766,-43.261924743652344,-41.49061584472656,-43.383609771728516,-43.037254333496094,-42.966827392578125,-43.74127197265625,-45.86029815673828,-47.17798614501953,-41.733463287353516,-44.062744140625,-42.22880935668945,-47.185367584228516,-46.88998031616211,-46.61933898925781,-45.59198760986328,-46.26353073120117,-42.0822868347168,-43.4688835144043,-44.596431732177734,-42.01140594482422,-47.31842803955078,-46.92000198364258,-42.48943328857422,-44.99656677246094,-45.22556686401367,-43.89448165893555,-41.31443405151367,-43.300907135009766,-44.4736328125,-46.87413787841797,-45.692657470703125,-41.580162048339844,-41.793087005615234,-45.303550720214844,-43.09010314941406,-42.50404739379883,-42.66817855834961,-41.091827392578125,-46.27376174926758,-44.258087158203125,-45.8722038269043,-46.926387786865234,-43.664939880371094,-42.85491180419922,-41.356868743896484,-47.47031021118164,-46.27202606201172,-47.16883087158203,-46.083133697509766,-43.576568603515625,-47.625667572021484,-45.660091400146484,-47.379119873046875,-45.247859954833984,-42.30311965942383,-45.8903923034668,-47.729915618896484],\"yaxis\":\"y\",\"type\":\"scattergl\"},{\"hovertemplate\":\"label=watermelon<br>0=%{x}<br>1=%{y}<extra></extra>\",\"legendgroup\":\"watermelon\",\"marker\":{\"color\":\"#ab63fa\",\"symbol\":\"circle\"},\"mode\":\"markers\",\"name\":\"watermelon\",\"showlegend\":true,\"x\":[-56.15547561645508,-55.42824935913086,-55.02204132080078,-53.64498519897461,-52.23122024536133,-50.53837203979492,-49.2997932434082,-49.5336799621582,-49.29221725463867,-54.14198303222656,-49.95394515991211,-49.455543518066406,-51.72623825073242,-53.84151077270508,-52.262264251708984,-50.12495422363281,-52.4356803894043,-54.987125396728516,-49.00338363647461,-52.000404357910156,-52.87458038330078,-50.095733642578125,-55.90320587158203,-50.49189376831055,-50.91276168823242,-48.29845428466797,-51.51129150390625,-53.75629806518555,-55.76692199707031,-51.03232192993164,-55.044647216796875,-51.15612030029297,-52.99391555786133,-50.31891632080078,-50.20762634277344,-54.89787673950195,-53.810550689697266,-56.17559051513672,-52.595890045166016,-49.072608947753906,-52.594993591308594,-48.78449630737305,-48.2593879699707,-52.86952209472656,-52.49859619140625,-52.90857696533203,-49.350467681884766,-48.678565979003906,-54.51133728027344,-52.74212646484375,-52.63560485839844,-49.87947082519531,-50.66142272949219,-49.9714469909668,-50.57649612426758,-55.83382797241211,-55.568756103515625,-56.06169509887695,-49.85291290283203,-48.260520935058594,-52.18368911743164,-51.2504997253418,-52.84937286376953,-52.253597259521484,-53.544952392578125,-51.32477951049805,-54.202171325683594,-49.41108322143555,-50.75058364868164,-55.09929275512695,-52.28609848022461,-56.60287094116211,-50.496360778808594,-53.33840560913086,-48.71826934814453,-48.349483489990234,-49.744991302490234,-49.54222869873047,-53.09477615356445,-53.60407257080078,-56.61751937866211,-48.38230895996094,-50.76032638549805,-55.36235427856445,-49.57264709472656,-50.970367431640625,-49.87230682373047,-51.749420166015625,-54.6191291809082,-55.557586669921875,-51.25741958618164,-50.46776580810547,-50.11661911010742,-51.160728454589844,-56.70351028442383,-51.361785888671875,-52.65435791015625,-50.973487854003906,-51.25187301635742,-56.34187316894531],\"xaxis\":\"x\",\"y\":[-13.312917709350586,-14.340815544128418,-10.875123977661133,-14.58178997039795,-7.726275444030762,-6.121272087097168,-6.450544834136963,-7.134001731872559,-7.0546770095825195,-15.885551452636719,-7.040545463562012,-8.791345596313477,-11.130440711975098,-16.166101455688477,-13.015228271484375,-12.554045677185059,-11.056365013122559,-12.173398971557617,-7.349226474761963,-12.94297981262207,-11.264842987060547,-11.899007797241211,-13.895665168762207,-13.122344017028809,-6.135022163391113,-10.377503395080566,-7.896480560302734,-14.899479866027832,-12.271428108215332,-6.392597198486328,-14.678750991821289,-8.500455856323242,-11.460376739501953,-11.635368347167969,-11.942676544189453,-12.147059440612793,-15.912383079528809,-13.058145523071289,-15.186415672302246,-8.293231010437012,-10.36318302154541,-11.79060173034668,-11.230256080627441,-14.217522621154785,-11.6407470703125,-10.401697158813477,-6.68349552154541,-9.728654861450195,-10.322854995727539,-8.659786224365234,-8.546244621276855,-9.211445808410645,-10.487913131713867,-6.7161478996276855,-6.396756172180176,-12.14547061920166,-13.836661338806152,-14.00096321105957,-10.351057052612305,-9.835062026977539,-10.956130027770996,-13.174237251281738,-15.457049369812012,-14.982878684997559,-16.275611877441406,-6.591312885284424,-14.990174293518066,-10.596141815185547,-7.63346004486084,-13.734761238098145,-9.614922523498535,-12.728307723999023,-9.30470085144043,-12.844670295715332,-7.577919006347656,-11.459248542785645,-10.762557029724121,-7.976238250732422,-15.147098541259766,-12.980236053466797,-12.505853652954102,-9.869115829467773,-13.1005859375,-12.748934745788574,-13.113554000854492,-8.784804344177246,-10.66861629486084,-7.3360443115234375,-13.048190116882324,-12.43237590789795,-7.097155570983887,-13.165327072143555,-7.188579082489014,-10.222288131713867,-12.930351257324219,-10.620050430297852,-15.187203407287598,-12.808595657348633,-6.4717116355896,-13.675593376159668],\"yaxis\":\"y\",\"type\":\"scattergl\"},{\"hovertemplate\":\"label=muskmelon<br>0=%{x}<br>1=%{y}<extra></extra>\",\"legendgroup\":\"muskmelon\",\"marker\":{\"color\":\"#FFA15A\",\"symbol\":\"circle\"},\"mode\":\"markers\",\"name\":\"muskmelon\",\"showlegend\":true,\"x\":[-44.939048767089844,-42.86924362182617,-42.340824127197266,-44.815216064453125,-42.47054672241211,-42.39010238647461,-43.780635833740234,-42.56794738769531,-47.036048889160156,-42.51586151123047,-41.78325653076172,-46.809410095214844,-45.91884231567383,-43.05134963989258,-42.45594024658203,-41.60606002807617,-47.23283004760742,-45.6107292175293,-43.87275695800781,-44.98820495605469,-45.44935607910156,-46.610050201416016,-46.01313781738281,-45.30152130126953,-42.46030807495117,-43.49486541748047,-43.099430084228516,-42.305763244628906,-42.34587478637695,-43.172950744628906,-44.78251266479492,-42.71221923828125,-42.522342681884766,-45.997013092041016,-42.09083557128906,-43.99526596069336,-42.2822380065918,-46.894351959228516,-45.28533172607422,-43.253299713134766,-44.76945114135742,-43.94730758666992,-43.300865173339844,-42.80435562133789,-46.553470611572266,-45.75227355957031,-43.414302825927734,-44.92724609375,-44.55298614501953,-42.338504791259766,-43.92399978637695,-44.828529357910156,-46.55922317504883,-42.91928482055664,-43.0988883972168,-46.21071243286133,-46.51286315917969,-45.4057502746582,-45.78830337524414,-44.5357780456543,-46.3494758605957,-46.15876388549805,-43.30870819091797,-41.89556121826172,-47.16274642944336,-47.14115524291992,-45.30721664428711,-45.50553894042969,-45.402400970458984,-41.71849060058594,-45.88572311401367,-43.577659606933594,-46.09070587158203,-46.72151565551758,-43.84595489501953,-42.99378967285156,-43.70698928833008,-43.717952728271484,-42.69361877441406,-44.781768798828125,-43.24598693847656,-43.09170150756836,-43.315696716308594,-44.27581787109375,-45.251808166503906,-47.08793258666992,-43.131622314453125,-42.69471740722656,-41.744468688964844,-46.052669525146484,-43.651283264160156,-43.11772155761719,-46.85371780395508,-46.727115631103516,-42.4652099609375,-45.5794677734375,-42.25288772583008,-43.206912994384766,-44.34576416015625,-44.781517028808594],\"xaxis\":\"x\",\"y\":[-27.87363624572754,-27.986661911010742,-31.289064407348633,-27.407180786132812,-33.31395721435547,-36.853275299072266,-27.4290771484375,-27.783823013305664,-28.83589744567871,-29.422954559326172,-36.884498596191406,-28.28522300720215,-36.28767013549805,-37.20269775390625,-28.829973220825195,-32.639102935791016,-28.171707153320312,-29.24889373779297,-36.77374267578125,-35.901729583740234,-36.45598602294922,-32.74979019165039,-30.76254653930664,-35.147586822509766,-31.098405838012695,-27.458419799804688,-36.45622634887695,-30.540882110595703,-31.004886627197266,-27.628772735595703,-32.35261917114258,-29.145156860351562,-30.538105010986328,-30.04810905456543,-32.33699417114258,-35.7744255065918,-35.868995666503906,-27.705373764038086,-33.82270431518555,-29.24666976928711,-36.915443420410156,-27.07866668701172,-28.924571990966797,-33.76834487915039,-30.321949005126953,-32.84514236450195,-30.136962890625,-36.996150970458984,-27.49358367919922,-32.46311950683594,-28.455516815185547,-32.196685791015625,-33.27552795410156,-34.19246292114258,-33.824310302734375,-29.749454498291016,-27.710308074951172,-32.38307189941406,-35.50731658935547,-33.87592697143555,-33.956722259521484,-35.88310241699219,-34.39881134033203,-36.45079040527344,-29.478397369384766,-29.29890251159668,-28.886037826538086,-35.518150329589844,-29.59676170349121,-32.75336456298828,-28.416337966918945,-27.022138595581055,-32.005104064941406,-34.090206146240234,-36.49656295776367,-30.002288818359375,-37.22998809814453,-36.191436767578125,-28.15302848815918,-27.970577239990234,-37.232818603515625,-32.832427978515625,-27.273937225341797,-36.75217819213867,-27.39948081970215,-29.171836853027344,-36.313411712646484,-35.2172966003418,-31.963455200195312,-32.01694869995117,-37.325565338134766,-35.868675231933594,-28.478469848632812,-33.08659744262695,-35.36844253540039,-33.272850036621094,-36.6773681640625,-30.13121795654297,-35.411415100097656,-30.056201934814453],\"yaxis\":\"y\",\"type\":\"scattergl\"},{\"hovertemplate\":\"label=apple<br>0=%{x}<br>1=%{y}<extra></extra>\",\"legendgroup\":\"apple\",\"marker\":{\"color\":\"#19d3f3\",\"symbol\":\"circle\"},\"mode\":\"markers\",\"name\":\"apple\",\"showlegend\":true,\"x\":[-67.5991439819336,-71.88449096679688,-70.54597473144531,-71.81668853759766,-69.6168441772461,-64.5051040649414,-66.73592376708984,-72.57354736328125,-69.46536254882812,-72.43659973144531,-67.37741088867188,-66.16743469238281,-70.41541290283203,-72.07972717285156,-73.41754150390625,-66.33296203613281,-65.6484375,-65.4920654296875,-66.88841247558594,-72.362548828125,-66.70050048828125,-65.78007507324219,-72.65231323242188,-64.47474670410156,-63.79514694213867,-65.57292175292969,-71.49231719970703,-66.91069793701172,-72.24618530273438,-72.65906524658203,-66.92723846435547,-72.39415740966797,-71.03363037109375,-72.07322692871094,-67.20574951171875,-69.12933349609375,-70.04650115966797,-71.18755340576172,-67.90454864501953,-66.5987319946289,-67.65280151367188,-69.45398712158203,-68.22820281982422,-72.873046875,-72.5049819946289,-70.49404907226562,-65.47309112548828,-67.0838394165039,-70.41671752929688,-69.46880340576172,-71.4136734008789,-68.15593719482422,-67.28140258789062,-65.18037414550781,-72.49304962158203,-72.92060089111328,-66.93132781982422,-67.203125,-65.38036346435547,-64.56428527832031,-66.33626556396484,-64.00165557861328,-71.97208404541016,-65.99009704589844,-69.24596405029297,-65.15631103515625,-70.54788208007812,-67.17266845703125,-65.71694946289062,-72.37068176269531,-70.41481018066406,-72.74327087402344,-72.0174331665039,-72.37338256835938,-72.49761199951172,-64.43496704101562,-64.59307861328125,-66.61876678466797,-70.65919494628906,-69.10881805419922,-63.54717254638672,-64.79013061523438,-71.45369720458984,-66.3408432006836,-66.41476440429688,-63.48042678833008,-70.86534118652344,-72.91992950439453,-72.95879364013672,-67.27892303466797,-66.70073699951172,-64.66961669921875,-64.01448822021484,-70.93878173828125,-64.52294158935547,-66.0335693359375,-67.69442749023438,-64.46863555908203,-64.19477844238281,-71.07933044433594],\"xaxis\":\"x\",\"y\":[12.283735275268555,9.317398071289062,12.709327697753906,12.715721130371094,12.526446342468262,10.543802261352539,8.455805778503418,12.430052757263184,9.677132606506348,12.945796012878418,12.26784610748291,13.616449356079102,13.293265342712402,8.180012702941895,8.942047119140625,8.0664701461792,8.814742088317871,9.245077133178711,13.406557083129883,8.347785949707031,10.80483627319336,12.871870994567871,9.051061630249023,9.87765121459961,10.40687084197998,8.689860343933105,8.126359939575195,7.956653118133545,7.813113212585449,8.20058536529541,11.553999900817871,13.301602363586426,10.065893173217773,7.924264430999756,7.9224443435668945,10.53292179107666,12.936367988586426,13.233491897583008,12.749601364135742,13.519454956054688,13.178425788879395,10.566597938537598,8.33681869506836,7.821364402770996,12.326705932617188,11.543169021606445,12.442039489746094,7.832852840423584,10.127694129943848,13.198360443115234,13.16007137298584,8.128931045532227,12.812070846557617,10.856910705566406,11.744099617004395,8.557477951049805,8.506379127502441,10.564179420471191,8.283407211303711,10.403514862060547,12.947267532348633,10.016592979431152,13.231196403503418,9.004608154296875,8.0244140625,10.47746753692627,9.649762153625488,13.490736961364746,8.066733360290527,9.65545654296875,13.0679931640625,8.808562278747559,7.75298547744751,8.388053894042969,11.988018035888672,11.450764656066895,11.035463333129883,10.268434524536133,10.304960250854492,13.287890434265137,10.646102905273438,8.58907413482666,9.719271659851074,9.501133918762207,12.171628952026367,10.763978958129883,12.452263832092285,10.244099617004395,9.63506031036377,12.906277656555176,10.064604759216309,11.034650802612305,11.269184112548828,9.222040176391602,8.814026832580566,13.92936897277832,9.095782279968262,11.465110778808594,9.30163860321045,10.383380889892578],\"yaxis\":\"y\",\"type\":\"scattergl\"},{\"hovertemplate\":\"label=orange<br>0=%{x}<br>1=%{y}<extra></extra>\",\"legendgroup\":\"orange\",\"marker\":{\"color\":\"#FF6692\",\"symbol\":\"circle\"},\"mode\":\"markers\",\"name\":\"orange\",\"showlegend\":true,\"x\":[-36.460784912109375,-42.67710876464844,-40.95087814331055,-36.10765075683594,-35.434696197509766,-37.87548065185547,-34.86545181274414,-34.20158386230469,-39.80992889404297,-38.11705017089844,-36.084930419921875,-41.89414596557617,-34.405364990234375,-37.265254974365234,-37.33417510986328,-35.12084197998047,-43.02012252807617,-38.70920944213867,-36.06039810180664,-35.37373733520508,-36.85253143310547,-35.315155029296875,-35.39558792114258,-35.457977294921875,-41.452938079833984,-42.587825775146484,-36.71662902832031,-37.971004486083984,-37.14436721801758,-33.79543685913086,-38.50160598754883,-42.18272399902344,-37.26432418823242,-38.545047760009766,-35.015079498291016,-35.253143310546875,-34.565032958984375,-34.471195220947266,-35.333866119384766,-36.996131896972656,-36.24686813354492,-35.124839782714844,-36.68091583251953,-41.66892623901367,-39.89994812011719,-40.50878143310547,-40.691654205322266,-36.33070373535156,-36.88725662231445,-37.676414489746094,-41.57520294189453,-34.17702865600586,-36.63420104980469,-38.18939208984375,-41.12360382080078,-35.03565216064453,-38.55167770385742,-37.635772705078125,-39.16962432861328,-39.57695770263672,-39.79006576538086,-35.258384704589844,-36.038543701171875,-40.8531494140625,-36.867435455322266,-40.47819900512695,-36.982704162597656,-39.82814407348633,-39.83275604248047,-42.084693908691406,-42.06877517700195,-38.67302322387695,-39.25711441040039,-37.409446716308594,-35.19035339355469,-38.319557189941406,-38.22658157348633,-40.625118255615234,-40.77604675292969,-38.29015350341797,-40.01707458496094,-36.40432357788086,-42.73466491699219,-37.78160858154297,-37.21968460083008,-38.417301177978516,-36.45551300048828,-37.876251220703125,-35.609169006347656,-42.28263854980469,-38.13578796386719,-40.21957778930664,-36.96433639526367,-42.39543533325195,-33.795738220214844,-38.10319137573242,-34.93635559082031,-34.610286712646484,-40.930572509765625,-39.97947692871094],\"xaxis\":\"x\",\"y\":[25.050676345825195,24.33170509338379,22.78823471069336,18.885454177856445,22.124284744262695,25.46808433532715,18.106990814208984,18.637435913085938,26.31291961669922,21.963144302368164,23.637619018554688,25.35417938232422,20.46133041381836,20.842090606689453,24.305294036865234,20.3397216796875,24.894575119018555,22.52069091796875,21.001455307006836,21.595996856689453,19.152231216430664,17.694047927856445,20.76992416381836,18.135099411010742,24.067806243896484,25.968883514404297,25.036048889160156,18.68035316467285,19.622934341430664,18.996122360229492,25.70892906188965,25.870431900024414,18.763734817504883,18.807512283325195,21.77092742919922,19.113771438598633,17.95553970336914,19.939279556274414,20.394678115844727,17.959671020507812,17.256738662719727,17.829565048217773,25.034318923950195,24.217876434326172,26.711408615112305,25.8546199798584,23.806163787841797,20.49939727783203,22.243375778198242,19.710798263549805,23.183334350585938,19.066322326660156,21.12781524658203,20.48977279663086,23.624618530273438,19.965246200561523,20.95065689086914,21.185274124145508,26.25860023498535,26.314863204956055,24.753360748291016,21.129140853881836,24.74525260925293,22.602659225463867,24.02731704711914,24.22709083557129,25.59189224243164,25.236215591430664,26.20624351501465,25.368669509887695,23.740116119384766,18.927167892456055,21.29024887084961,18.52147674560547,22.540006637573242,24.788488388061523,20.682907104492188,23.986488342285156,22.794221878051758,21.811506271362305,23.691381454467773,21.586383819580078,25.929964065551758,25.654691696166992,18.727397918701172,22.15947723388672,18.56182098388672,24.824064254760742,22.969030380249023,25.792652130126953,23.68330192565918,24.91949462890625,19.978628158569336,25.975820541381836,19.530136108398438,25.922691345214844,21.340557098388672,20.247825622558594,24.920116424560547,23.75639533996582],\"yaxis\":\"y\",\"type\":\"scattergl\"},{\"hovertemplate\":\"label=papaya<br>0=%{x}<br>1=%{y}<extra></extra>\",\"legendgroup\":\"papaya\",\"marker\":{\"color\":\"#B6E880\",\"symbol\":\"circle\"},\"mode\":\"markers\",\"name\":\"papaya\",\"showlegend\":true,\"x\":[34.6936149597168,16.97675895690918,20.946956634521484,33.34597396850586,29.895660400390625,32.7804069519043,32.449947357177734,29.596294403076172,30.34490394592285,31.8947696685791,31.774240493774414,13.234472274780273,33.58129119873047,14.342338562011719,24.166399002075195,27.950241088867188,15.492488861083984,15.16871452331543,24.672487258911133,19.08758544921875,13.022079467773438,14.511390686035156,19.41783332824707,33.31211853027344,22.326190948486328,32.354652404785156,33.276641845703125,22.045934677124023,20.294240951538086,20.288286209106445,14.220480918884277,12.487037658691406,31.93292808532715,13.401272773742676,21.535701751708984,18.242868423461914,28.808216094970703,32.809547424316406,15.076387405395508,32.91008377075195,28.21015167236328,31.073423385620117,16.25023078918457,18.94180679321289,27.870681762695312,22.75054168701172,12.727029800415039,30.12471580505371,31.483800888061523,13.778564453125,31.456384658813477,31.392976760864258,28.45986557006836,17.97014045715332,26.589771270751953,14.588322639465332,13.289565086364746,16.15787696838379,33.736576080322266,33.54650115966797,22.713714599609375,19.693695068359375,24.550779342651367,15.975054740905762,20.051671981811523,14.429115295410156,13.273639678955078,14.91978645324707,16.691926956176758,23.916250228881836,16.421457290649414,24.522315979003906,26.695148468017578,17.006175994873047,28.366891860961914,31.971172332763672,17.788551330566406,32.059574127197266,32.90275573730469,14.150228500366211,26.0809268951416,13.641661643981934,27.64319610595703,33.508941650390625,34.139862060546875,21.67330551147461,17.193986892700195,34.23149490356445,12.76760196685791,14.366775512695312,19.13912582397461,32.679908752441406,18.805709838867188,35.04649353027344,14.193588256835938,24.46126937866211,18.521968841552734,33.143829345703125,31.28031349182129,30.686595916748047],\"xaxis\":\"x\",\"y\":[42.36006546020508,35.37445068359375,34.73878479003906,42.313011169433594,38.859466552734375,37.17877197265625,37.031497955322266,38.508514404296875,39.110904693603516,36.60161590576172,37.574928283691406,36.76738357543945,42.03132629394531,36.36551284790039,33.15049362182617,35.04998779296875,35.416133880615234,34.95079040527344,33.572662353515625,35.34403610229492,35.556434631347656,36.56612777709961,35.526832580566406,42.36773681640625,34.74455261230469,39.791133880615234,42.859580993652344,34.60272979736328,35.07743453979492,35.24558639526367,35.49808883666992,35.0384635925293,39.17478942871094,35.10027313232422,34.60784149169922,35.10670471191406,37.64493942260742,37.54425048828125,35.249176025390625,40.08314514160156,36.53293228149414,34.873390197753906,37.02900314331055,35.63554763793945,34.70563888549805,34.4072265625,35.07542419433594,38.982059478759766,40.08242416381836,35.196659088134766,39.9676513671875,40.072959899902344,37.19364929199219,35.1185188293457,35.46061706542969,37.14690017700195,36.284725189208984,36.757511138916016,43.03062057495117,41.57615661621094,34.15431213378906,35.386993408203125,32.944602966308594,37.016971588134766,34.95046615600586,35.14712905883789,37.08989715576172,35.312923431396484,36.96833801269531,33.779075622558594,36.991275787353516,33.15311050415039,35.24449157714844,35.457611083984375,34.37416458129883,40.1494255065918,35.37735366821289,39.296600341796875,42.49388122558594,37.31899642944336,35.47303009033203,35.013118743896484,35.829166412353516,42.51102066040039,42.32402801513672,34.484981536865234,36.6826057434082,41.935176849365234,35.257911682128906,36.608604431152344,34.75859069824219,39.132347106933594,35.41964340209961,42.103050231933594,37.28668975830078,34.65016174316406,35.10713577270508,42.65896224975586,36.8884162902832,39.40473556518555],\"yaxis\":\"y\",\"type\":\"scattergl\"},{\"hovertemplate\":\"label=coconut<br>0=%{x}<br>1=%{y}<extra></extra>\",\"legendgroup\":\"coconut\",\"marker\":{\"color\":\"#FF97FF\",\"symbol\":\"circle\"},\"mode\":\"markers\",\"name\":\"coconut\",\"showlegend\":true,\"x\":[-21.412906646728516,-19.884748458862305,-24.521089553833008,-23.860795974731445,-23.36634635925293,-23.261085510253906,-21.48240852355957,-21.887958526611328,-21.161802291870117,-20.911653518676758,-24.74624252319336,-20.702024459838867,-22.800270080566406,-21.85026741027832,-21.099361419677734,-22.867828369140625,-20.169248580932617,-23.68844985961914,-20.71660804748535,-21.45137596130371,-21.009119033813477,-21.303672790527344,-25.4901180267334,-20.2033634185791,-25.285953521728516,-21.356571197509766,-23.064708709716797,-23.12936019897461,-21.380661010742188,-22.380842208862305,-24.61406135559082,-23.315078735351562,-20.063682556152344,-23.567569732666016,-20.751874923706055,-22.605737686157227,-20.631383895874023,-19.975753784179688,-19.9002742767334,-22.21686363220215,-23.661190032958984,-21.105831146240234,-24.143657684326172,-22.246326446533203,-20.693645477294922,-21.58503532409668,-23.038671493530273,-23.659467697143555,-20.232295989990234,-19.947778701782227,-25.472991943359375,-23.3558349609375,-25.97943878173828,-23.879291534423828,-19.57957649230957,-20.12470054626465,-25.18457794189453,-24.321069717407227,-23.487628936767578,-19.725202560424805,-23.401098251342773,-23.557201385498047,-22.003942489624023,-26.141658782958984,-22.63113784790039,-21.595346450805664,-20.965129852294922,-22.462190628051758,-22.354211807250977,-22.97554588317871,-23.762819290161133,-25.788583755493164,-23.56460952758789,-24.042387008666992,-23.315359115600586,-19.981975555419922,-23.88136863708496,-21.841474533081055,-23.882755279541016,-22.978275299072266,-20.8964900970459,-21.34578514099121,-22.49078941345215,-22.029949188232422,-22.778776168823242,-21.583505630493164,-22.000600814819336,-24.62619972229004,-25.815202713012695,-21.059814453125,-22.181711196899414,-22.961322784423828,-22.25137710571289,-21.400388717651367,-20.288122177124023,-20.843515396118164,-20.920228958129883,-23.909826278686523,-21.509437561035156,-23.044450759887695],\"xaxis\":\"x\",\"y\":[50.86716842651367,50.692718505859375,41.443603515625,46.006778717041016,46.057132720947266,46.21150588989258,39.868743896484375,39.57047653198242,44.77814865112305,47.38872528076172,40.64208984375,48.11838912963867,39.330177307128906,41.22502517700195,49.91188049316406,49.159358978271484,47.97615051269531,45.07154846191406,49.96025085449219,40.77069091796875,42.402008056640625,42.85786056518555,42.38983917236328,48.72572708129883,41.77903747558594,43.95307159423828,40.26514434814453,45.54026412963867,49.43112564086914,40.13194274902344,38.58056640625,38.734466552734375,47.41798400878906,45.071014404296875,48.81183624267578,42.43167495727539,50.067848205566406,49.93907165527344,48.84650802612305,47.59480285644531,40.434078216552734,40.731689453125,42.24352264404297,43.21961975097656,47.47244644165039,39.881526947021484,40.14234924316406,45.4264030456543,49.33344650268555,50.51888656616211,39.877498626708984,42.98126983642578,39.53983688354492,40.72808074951172,47.7411994934082,49.64830017089844,40.73420333862305,45.47631072998047,38.51700973510742,50.28095245361328,42.42319869995117,40.51154708862305,48.80820846557617,39.39260482788086,48.85268020629883,50.739105224609375,46.848392486572266,49.94769287109375,49.784568786621094,43.35579299926758,39.85081100463867,41.7847900390625,41.15424346923828,38.58194351196289,47.668006896972656,47.1141242980957,38.848140716552734,39.25408935546875,45.89707946777344,39.342716217041016,45.123199462890625,50.90652084350586,40.00361633300781,47.759273529052734,49.61166763305664,42.12018966674805,49.845027923583984,38.688968658447266,39.86289978027344,44.03690719604492,40.632568359375,43.246578216552734,50.57815170288086,47.03022003173828,50.166961669921875,48.7309684753418,46.7156982421875,40.927730560302734,39.99612045288086,43.398006439208984],\"yaxis\":\"y\",\"type\":\"scattergl\"},{\"hovertemplate\":\"label=cotton<br>0=%{x}<br>1=%{y}<extra></extra>\",\"legendgroup\":\"cotton\",\"marker\":{\"color\":\"#FECB52\",\"symbol\":\"circle\"},\"mode\":\"markers\",\"name\":\"cotton\",\"showlegend\":true,\"x\":[5.699644565582275,2.415792226791382,6.416615962982178,5.670340538024902,6.844952583312988,3.0143883228302,7.41301155090332,0.2941443622112274,1.536642074584961,2.0643415451049805,1.5054346323013306,3.4405012130737305,2.4802331924438477,6.634263038635254,7.489555835723877,1.7852946519851685,5.268983840942383,1.7851427793502808,6.963132858276367,4.9471354484558105,7.440057754516602,3.7998721599578857,7.101844310760498,7.499660491943359,6.965098857879639,5.574455261230469,4.821409225463867,1.216833233833313,5.3046393394470215,0.2393021136522293,1.090687870979309,4.230020999908447,3.5172271728515625,7.633756160736084,4.800063133239746,5.616196155548096,7.55711030960083,3.2371010780334473,4.864598751068115,0.35246050357818604,0.6877844333648682,6.16870641708374,4.820838928222656,5.743814468383789,6.820067405700684,1.991304874420166,6.460999011993408,2.449903726577759,3.658559560775757,4.8917460441589355,3.1368589401245117,6.8078789710998535,1.4331368207931519,0.12607012689113617,0.6214045286178589,6.543891906738281,4.071772575378418,6.01189661026001,0.9111357927322388,7.5123372077941895,3.9499573707580566,0.6924205422401428,6.7528276443481445,0.5271856784820557,-0.13491925597190857,4.8985981941223145,1.5413503646850586,2.633855104446411,0.02655228041112423,1.3428503274917603,0.8874427080154419,1.6055796146392822,7.339454650878906,6.190282344818115,6.240711688995361,1.9910674095153809,3.8864030838012695,3.457914113998413,5.793556213378906,0.14381560683250427,6.265295028686523,3.185774803161621,6.005837917327881,4.676015853881836,6.6113080978393555,3.402702808380127,0.4652506113052368,0.7996342182159424,3.4867777824401855,1.4495666027069092,2.4596900939941406,4.964562892913818,0.7752894759178162,7.6271257400512695,4.422746658325195,1.844213843345642,6.183973789215088,0.12812963128089905,3.61686635017395,0.79716557264328],\"xaxis\":\"x\",\"y\":[-47.064701080322266,-48.27029037475586,-40.701881408691406,-47.12028121948242,-46.94794845581055,-46.004390716552734,-43.75154495239258,-44.3718376159668,-44.70232391357422,-46.02214050292969,-41.57952880859375,-45.23670959472656,-48.377174377441406,-41.155616760253906,-42.97811508178711,-48.02639389038086,-47.71794128417969,-39.58598709106445,-46.63736343383789,-43.47800064086914,-45.300933837890625,-40.27666473388672,-42.11405563354492,-40.920562744140625,-46.37740707397461,-41.398712158203125,-40.73136901855469,-46.29863357543945,-48.333229064941406,-41.37542724609375,-43.7265625,-41.306312561035156,-45.47590637207031,-43.89577102661133,-46.51615524291992,-43.180721282958984,-43.31523513793945,-41.89736557006836,-42.25062561035156,-44.91542053222656,-41.902259826660156,-47.32899475097656,-40.652706146240234,-46.55965042114258,-47.04856872558594,-41.82838439941406,-47.418636322021484,-41.63488006591797,-47.430931091308594,-42.41503143310547,-48.421043395996094,-39.80710983276367,-45.016624450683594,-41.1920280456543,-44.35793685913086,-41.18288803100586,-46.220272064208984,-46.48060989379883,-44.29925537109375,-43.81516647338867,-45.92478942871094,-41.59172058105469,-46.28151321411133,-43.17359161376953,-44.249549865722656,-46.06943893432617,-45.838462829589844,-46.55183792114258,-41.46735382080078,-40.226924896240234,-46.24310302734375,-40.820777893066406,-42.90626525878906,-44.00584030151367,-47.85548782348633,-46.389556884765625,-42.16398239135742,-40.51158142089844,-47.86565399169922,-45.47279739379883,-41.186737060546875,-44.916934967041016,-42.05677032470703,-43.2984619140625,-40.90828323364258,-47.385616302490234,-43.74946212768555,-43.41204833984375,-47.77254104614258,-44.61956024169922,-39.99826431274414,-46.277103424072266,-42.575828552246094,-40.59656524658203,-41.17608642578125,-42.26606750488281,-40.787254333496094,-41.70647048950195,-40.6034049987793,-45.38269805908203],\"yaxis\":\"y\",\"type\":\"scattergl\"},{\"hovertemplate\":\"label=jute<br>0=%{x}<br>1=%{y}<extra></extra>\",\"legendgroup\":\"jute\",\"marker\":{\"color\":\"#636efa\",\"symbol\":\"circle\"},\"mode\":\"markers\",\"name\":\"jute\",\"showlegend\":true,\"x\":[28.70780372619629,27.394031524658203,34.34935760498047,33.15146255493164,38.34722900390625,38.61859130859375,33.82646942138672,30.186609268188477,31.650074005126953,30.503616333007812,28.61333656311035,34.90468215942383,38.81372833251953,26.127962112426758,35.55007553100586,28.8460693359375,28.983516693115234,37.58507537841797,31.698150634765625,32.30080032348633,28.628389358520508,32.58460998535156,32.6849365234375,28.33612823486328,32.364261627197266,36.5231819152832,32.17973709106445,30.547590255737305,32.42001724243164,33.53040313720703,31.709489822387695,27.567962646484375,27.97146224975586,36.50057601928711,33.21477508544922,29.240169525146484,30.013952255249023,38.055809020996094,28.122249603271484,28.636573791503906,31.344491958618164,37.2254524230957,38.12969207763672,29.927148818969727,36.01805877685547,29.55658721923828,26.693206787109375,27.892309188842773,37.68638610839844,34.102821350097656,29.39444351196289,28.44133949279785,36.840904235839844,30.847688674926758,35.0552864074707,27.235227584838867,33.0546875,38.12100601196289,33.56673049926758,27.40648078918457,35.25862121582031,32.174495697021484,37.80219650268555,27.88504981994629,32.308349609375,37.53038024902344,28.437009811401367,31.57247543334961,32.08372497558594,32.97312927246094,34.70294952392578,30.492755889892578,27.977571487426758,33.13922882080078,28.009138107299805,27.619606018066406,31.897602081298828,31.96274757385254,30.433124542236328,31.65290641784668,27.98274803161621,28.583337783813477,38.35618591308594,33.180450439453125,29.19686508178711,36.915794372558594,27.462129592895508,36.6016845703125,35.762840270996094,31.797710418701172,31.56694221496582,36.953006744384766,34.88235855102539,34.255062103271484,29.50326156616211,33.644256591796875,29.87259864807129,37.439308166503906,37.553443908691406,28.90715789794922],\"xaxis\":\"x\",\"y\":[25.13962173461914,28.778562545776367,33.726295471191406,28.058401107788086,26.862293243408203,26.33160400390625,32.60590744018555,28.84537124633789,32.15460968017578,28.60131072998047,24.940725326538086,31.694427490234375,28.47622299194336,31.292036056518555,33.43282699584961,28.421476364135742,28.90913963317871,28.3286190032959,28.054000854492188,30.949451446533203,25.258163452148438,26.274362564086914,26.054861068725586,26.208070755004883,31.87250518798828,32.185455322265625,28.412830352783203,28.28228759765625,31.565366744995117,28.838390350341797,32.70558547973633,26.462812423706055,30.399507522583008,33.24219512939453,31.716699600219727,27.30487060546875,27.928281784057617,30.215328216552734,30.193119049072266,25.050437927246094,30.985929489135742,31.855812072753906,30.204814910888672,27.87325096130371,27.1539363861084,28.4476318359375,30.62216567993164,30.54962730407715,27.55208969116211,25.602352142333984,29.351667404174805,26.81137466430664,30.516633987426758,24.703601837158203,27.724163055419922,27.978046417236328,30.772401809692383,27.488916397094727,26.197368621826172,28.75303840637207,29.89150619506836,27.902664184570312,26.716373443603516,26.90168571472168,25.374637603759766,28.42705535888672,27.07063865661621,32.7510986328125,33.290748596191406,28.386972427368164,33.46307373046875,24.696775436401367,27.839237213134766,25.247591018676758,27.435884475708008,28.169992446899414,28.01162338256836,30.16657829284668,31.65662956237793,32.41518783569336,29.82777214050293,31.060867309570312,27.582090377807617,26.265493392944336,25.526790618896484,29.263795852661133,27.459688186645508,33.43083572387695,29.464231491088867,31.683801651000977,28.375144958496094,32.38211441040039,26.300336837768555,33.48833465576172,25.087642669677734,27.956937789916992,25.20057487487793,28.15156364440918,28.265731811523438,26.11469268798828],\"yaxis\":\"y\",\"type\":\"scattergl\"},{\"hovertemplate\":\"label=coffee<br>0=%{x}<br>1=%{y}<extra></extra>\",\"legendgroup\":\"coffee\",\"marker\":{\"color\":\"#EF553B\",\"symbol\":\"circle\"},\"mode\":\"markers\",\"name\":\"coffee\",\"showlegend\":true,\"x\":[43.297882080078125,45.6168327331543,42.2135124206543,45.6223030090332,46.39640426635742,46.091949462890625,45.266822814941406,43.05381774902344,46.53819274902344,45.70290756225586,42.41628646850586,42.40458679199219,44.0296630859375,42.39492416381836,43.575748443603516,42.232749938964844,41.63154602050781,44.354583740234375,45.27033996582031,44.62541961669922,44.3809814453125,42.721893310546875,46.265625,45.40380096435547,45.382137298583984,42.917137145996094,42.78413009643555,44.02436065673828,45.57316207885742,42.07713317871094,44.06819534301758,46.8263053894043,44.91501998901367,42.62380599975586,42.53843307495117,42.3560676574707,42.44561767578125,46.07954406738281,45.37532043457031,45.36058044433594,46.023807525634766,41.9859733581543,42.8631477355957,45.55556106567383,42.98929977416992,45.824703216552734,44.20402908325195,44.16626739501953,42.42869567871094,42.15522766113281,44.65629577636719,45.71513366699219,44.513389587402344,46.45624542236328,45.75829315185547,43.35807418823242,45.11101150512695,46.44767379760742,42.154502868652344,42.44623565673828,43.15910720825195,42.33053207397461,46.000633239746094,42.49238586425781,43.043800354003906,43.71245574951172,44.09610366821289,42.75627517700195,45.41584014892578,45.49960708618164,45.77275085449219,46.82032775878906,45.442352294921875,45.89311599731445,45.7585563659668,38.73151397705078,42.350624084472656,45.88697814941406,44.70122146606445,45.435516357421875,42.79684829711914,44.344688415527344,44.92789077758789,43.72759246826172,44.587799072265625,45.67350387573242,44.850502014160156,44.67544174194336,45.16560363769531,44.09307098388672,44.41674041748047,46.04661560058594,45.031002044677734,46.26966857910156,43.381168365478516,45.65305709838867,44.5362548828125,45.966068267822266,46.02317810058594,45.42282485961914],\"xaxis\":\"x\",\"y\":[17.787736892700195,9.29465103149414,8.674874305725098,9.800240516662598,6.444667816162109,8.591592788696289,12.669929504394531,7.647795677185059,7.1784796714782715,14.34022331237793,9.093377113342285,17.864154815673828,15.158409118652344,8.421674728393555,10.219747543334961,8.447717666625977,14.708913803100586,15.896632194519043,17.7933406829834,6.936314582824707,18.061742782592773,17.73249053955078,17.501039505004883,10.196831703186035,10.40781021118164,16.653650283813477,17.984106063842773,15.085684776306152,17.259464263916016,6.912230014801025,18.291898727416992,6.408725261688232,7.255638122558594,7.201706409454346,18.381200790405273,6.930867671966553,15.029013633728027,5.789031982421875,6.096554756164551,15.959128379821777,6.394813537597656,9.956031799316406,16.819168090820312,11.460598945617676,17.997255325317383,17.81990623474121,18.45879364013672,8.988399505615234,8.3578462600708,10.829289436340332,9.279267311096191,18.097877502441406,7.82024621963501,7.446335315704346,17.4296932220459,14.391757011413574,12.582271575927734,6.131855487823486,15.164922714233398,17.369531631469727,15.920442581176758,10.57001781463623,5.987334728240967,10.906205177307129,14.206775665283203,17.12818145751953,12.986337661743164,15.618910789489746,10.885459899902344,17.864198684692383,17.90085220336914,6.06532621383667,12.362491607666016,13.201458930969238,6.4565229415893555,26.418760299682617,8.73642635345459,13.138409614562988,15.187097549438477,18.224952697753906,7.929917812347412,12.713085174560547,7.065389156341553,8.582550048828125,9.764043807983398,12.002908706665039,10.268047332763672,9.865708351135254,11.133008003234863,17.145832061767578,9.811322212219238,15.705224990844727,17.228975296020508,16.234375,13.760303497314453,14.836715698242188,7.769875526428223,14.343680381774902,6.783910274505615,8.92393970489502],\"yaxis\":\"y\",\"type\":\"scattergl\"}],                        {\"template\":{\"data\":{\"bar\":[{\"error_x\":{\"color\":\"#2a3f5f\"},\"error_y\":{\"color\":\"#2a3f5f\"},\"marker\":{\"line\":{\"color\":\"#E5ECF6\",\"width\":0.5},\"pattern\":{\"fillmode\":\"overlay\",\"size\":10,\"solidity\":0.2}},\"type\":\"bar\"}],\"barpolar\":[{\"marker\":{\"line\":{\"color\":\"#E5ECF6\",\"width\":0.5},\"pattern\":{\"fillmode\":\"overlay\",\"size\":10,\"solidity\":0.2}},\"type\":\"barpolar\"}],\"carpet\":[{\"aaxis\":{\"endlinecolor\":\"#2a3f5f\",\"gridcolor\":\"white\",\"linecolor\":\"white\",\"minorgridcolor\":\"white\",\"startlinecolor\":\"#2a3f5f\"},\"baxis\":{\"endlinecolor\":\"#2a3f5f\",\"gridcolor\":\"white\",\"linecolor\":\"white\",\"minorgridcolor\":\"white\",\"startlinecolor\":\"#2a3f5f\"},\"type\":\"carpet\"}],\"choropleth\":[{\"colorbar\":{\"outlinewidth\":0,\"ticks\":\"\"},\"type\":\"choropleth\"}],\"contour\":[{\"colorbar\":{\"outlinewidth\":0,\"ticks\":\"\"},\"colorscale\":[[0.0,\"#0d0887\"],[0.1111111111111111,\"#46039f\"],[0.2222222222222222,\"#7201a8\"],[0.3333333333333333,\"#9c179e\"],[0.4444444444444444,\"#bd3786\"],[0.5555555555555556,\"#d8576b\"],[0.6666666666666666,\"#ed7953\"],[0.7777777777777778,\"#fb9f3a\"],[0.8888888888888888,\"#fdca26\"],[1.0,\"#f0f921\"]],\"type\":\"contour\"}],\"contourcarpet\":[{\"colorbar\":{\"outlinewidth\":0,\"ticks\":\"\"},\"type\":\"contourcarpet\"}],\"heatmap\":[{\"colorbar\":{\"outlinewidth\":0,\"ticks\":\"\"},\"colorscale\":[[0.0,\"#0d0887\"],[0.1111111111111111,\"#46039f\"],[0.2222222222222222,\"#7201a8\"],[0.3333333333333333,\"#9c179e\"],[0.4444444444444444,\"#bd3786\"],[0.5555555555555556,\"#d8576b\"],[0.6666666666666666,\"#ed7953\"],[0.7777777777777778,\"#fb9f3a\"],[0.8888888888888888,\"#fdca26\"],[1.0,\"#f0f921\"]],\"type\":\"heatmap\"}],\"heatmapgl\":[{\"colorbar\":{\"outlinewidth\":0,\"ticks\":\"\"},\"colorscale\":[[0.0,\"#0d0887\"],[0.1111111111111111,\"#46039f\"],[0.2222222222222222,\"#7201a8\"],[0.3333333333333333,\"#9c179e\"],[0.4444444444444444,\"#bd3786\"],[0.5555555555555556,\"#d8576b\"],[0.6666666666666666,\"#ed7953\"],[0.7777777777777778,\"#fb9f3a\"],[0.8888888888888888,\"#fdca26\"],[1.0,\"#f0f921\"]],\"type\":\"heatmapgl\"}],\"histogram\":[{\"marker\":{\"pattern\":{\"fillmode\":\"overlay\",\"size\":10,\"solidity\":0.2}},\"type\":\"histogram\"}],\"histogram2d\":[{\"colorbar\":{\"outlinewidth\":0,\"ticks\":\"\"},\"colorscale\":[[0.0,\"#0d0887\"],[0.1111111111111111,\"#46039f\"],[0.2222222222222222,\"#7201a8\"],[0.3333333333333333,\"#9c179e\"],[0.4444444444444444,\"#bd3786\"],[0.5555555555555556,\"#d8576b\"],[0.6666666666666666,\"#ed7953\"],[0.7777777777777778,\"#fb9f3a\"],[0.8888888888888888,\"#fdca26\"],[1.0,\"#f0f921\"]],\"type\":\"histogram2d\"}],\"histogram2dcontour\":[{\"colorbar\":{\"outlinewidth\":0,\"ticks\":\"\"},\"colorscale\":[[0.0,\"#0d0887\"],[0.1111111111111111,\"#46039f\"],[0.2222222222222222,\"#7201a8\"],[0.3333333333333333,\"#9c179e\"],[0.4444444444444444,\"#bd3786\"],[0.5555555555555556,\"#d8576b\"],[0.6666666666666666,\"#ed7953\"],[0.7777777777777778,\"#fb9f3a\"],[0.8888888888888888,\"#fdca26\"],[1.0,\"#f0f921\"]],\"type\":\"histogram2dcontour\"}],\"mesh3d\":[{\"colorbar\":{\"outlinewidth\":0,\"ticks\":\"\"},\"type\":\"mesh3d\"}],\"parcoords\":[{\"line\":{\"colorbar\":{\"outlinewidth\":0,\"ticks\":\"\"}},\"type\":\"parcoords\"}],\"pie\":[{\"automargin\":true,\"type\":\"pie\"}],\"scatter\":[{\"marker\":{\"colorbar\":{\"outlinewidth\":0,\"ticks\":\"\"}},\"type\":\"scatter\"}],\"scatter3d\":[{\"line\":{\"colorbar\":{\"outlinewidth\":0,\"ticks\":\"\"}},\"marker\":{\"colorbar\":{\"outlinewidth\":0,\"ticks\":\"\"}},\"type\":\"scatter3d\"}],\"scattercarpet\":[{\"marker\":{\"colorbar\":{\"outlinewidth\":0,\"ticks\":\"\"}},\"type\":\"scattercarpet\"}],\"scattergeo\":[{\"marker\":{\"colorbar\":{\"outlinewidth\":0,\"ticks\":\"\"}},\"type\":\"scattergeo\"}],\"scattergl\":[{\"marker\":{\"colorbar\":{\"outlinewidth\":0,\"ticks\":\"\"}},\"type\":\"scattergl\"}],\"scattermapbox\":[{\"marker\":{\"colorbar\":{\"outlinewidth\":0,\"ticks\":\"\"}},\"type\":\"scattermapbox\"}],\"scatterpolar\":[{\"marker\":{\"colorbar\":{\"outlinewidth\":0,\"ticks\":\"\"}},\"type\":\"scatterpolar\"}],\"scatterpolargl\":[{\"marker\":{\"colorbar\":{\"outlinewidth\":0,\"ticks\":\"\"}},\"type\":\"scatterpolargl\"}],\"scatterternary\":[{\"marker\":{\"colorbar\":{\"outlinewidth\":0,\"ticks\":\"\"}},\"type\":\"scatterternary\"}],\"surface\":[{\"colorbar\":{\"outlinewidth\":0,\"ticks\":\"\"},\"colorscale\":[[0.0,\"#0d0887\"],[0.1111111111111111,\"#46039f\"],[0.2222222222222222,\"#7201a8\"],[0.3333333333333333,\"#9c179e\"],[0.4444444444444444,\"#bd3786\"],[0.5555555555555556,\"#d8576b\"],[0.6666666666666666,\"#ed7953\"],[0.7777777777777778,\"#fb9f3a\"],[0.8888888888888888,\"#fdca26\"],[1.0,\"#f0f921\"]],\"type\":\"surface\"}],\"table\":[{\"cells\":{\"fill\":{\"color\":\"#EBF0F8\"},\"line\":{\"color\":\"white\"}},\"header\":{\"fill\":{\"color\":\"#C8D4E3\"},\"line\":{\"color\":\"white\"}},\"type\":\"table\"}]},\"layout\":{\"annotationdefaults\":{\"arrowcolor\":\"#2a3f5f\",\"arrowhead\":0,\"arrowwidth\":1},\"autotypenumbers\":\"strict\",\"coloraxis\":{\"colorbar\":{\"outlinewidth\":0,\"ticks\":\"\"}},\"colorscale\":{\"diverging\":[[0,\"#8e0152\"],[0.1,\"#c51b7d\"],[0.2,\"#de77ae\"],[0.3,\"#f1b6da\"],[0.4,\"#fde0ef\"],[0.5,\"#f7f7f7\"],[0.6,\"#e6f5d0\"],[0.7,\"#b8e186\"],[0.8,\"#7fbc41\"],[0.9,\"#4d9221\"],[1,\"#276419\"]],\"sequential\":[[0.0,\"#0d0887\"],[0.1111111111111111,\"#46039f\"],[0.2222222222222222,\"#7201a8\"],[0.3333333333333333,\"#9c179e\"],[0.4444444444444444,\"#bd3786\"],[0.5555555555555556,\"#d8576b\"],[0.6666666666666666,\"#ed7953\"],[0.7777777777777778,\"#fb9f3a\"],[0.8888888888888888,\"#fdca26\"],[1.0,\"#f0f921\"]],\"sequentialminus\":[[0.0,\"#0d0887\"],[0.1111111111111111,\"#46039f\"],[0.2222222222222222,\"#7201a8\"],[0.3333333333333333,\"#9c179e\"],[0.4444444444444444,\"#bd3786\"],[0.5555555555555556,\"#d8576b\"],[0.6666666666666666,\"#ed7953\"],[0.7777777777777778,\"#fb9f3a\"],[0.8888888888888888,\"#fdca26\"],[1.0,\"#f0f921\"]]},\"colorway\":[\"#636efa\",\"#EF553B\",\"#00cc96\",\"#ab63fa\",\"#FFA15A\",\"#19d3f3\",\"#FF6692\",\"#B6E880\",\"#FF97FF\",\"#FECB52\"],\"font\":{\"color\":\"#2a3f5f\"},\"geo\":{\"bgcolor\":\"white\",\"lakecolor\":\"white\",\"landcolor\":\"#E5ECF6\",\"showlakes\":true,\"showland\":true,\"subunitcolor\":\"white\"},\"hoverlabel\":{\"align\":\"left\"},\"hovermode\":\"closest\",\"mapbox\":{\"style\":\"light\"},\"paper_bgcolor\":\"white\",\"plot_bgcolor\":\"#E5ECF6\",\"polar\":{\"angularaxis\":{\"gridcolor\":\"white\",\"linecolor\":\"white\",\"ticks\":\"\"},\"bgcolor\":\"#E5ECF6\",\"radialaxis\":{\"gridcolor\":\"white\",\"linecolor\":\"white\",\"ticks\":\"\"}},\"scene\":{\"xaxis\":{\"backgroundcolor\":\"#E5ECF6\",\"gridcolor\":\"white\",\"gridwidth\":2,\"linecolor\":\"white\",\"showbackground\":true,\"ticks\":\"\",\"zerolinecolor\":\"white\"},\"yaxis\":{\"backgroundcolor\":\"#E5ECF6\",\"gridcolor\":\"white\",\"gridwidth\":2,\"linecolor\":\"white\",\"showbackground\":true,\"ticks\":\"\",\"zerolinecolor\":\"white\"},\"zaxis\":{\"backgroundcolor\":\"#E5ECF6\",\"gridcolor\":\"white\",\"gridwidth\":2,\"linecolor\":\"white\",\"showbackground\":true,\"ticks\":\"\",\"zerolinecolor\":\"white\"}},\"shapedefaults\":{\"line\":{\"color\":\"#2a3f5f\"}},\"ternary\":{\"aaxis\":{\"gridcolor\":\"white\",\"linecolor\":\"white\",\"ticks\":\"\"},\"baxis\":{\"gridcolor\":\"white\",\"linecolor\":\"white\",\"ticks\":\"\"},\"bgcolor\":\"#E5ECF6\",\"caxis\":{\"gridcolor\":\"white\",\"linecolor\":\"white\",\"ticks\":\"\"}},\"title\":{\"x\":0.05},\"xaxis\":{\"automargin\":true,\"gridcolor\":\"white\",\"linecolor\":\"white\",\"ticks\":\"\",\"title\":{\"standoff\":15},\"zerolinecolor\":\"white\",\"zerolinewidth\":2},\"yaxis\":{\"automargin\":true,\"gridcolor\":\"white\",\"linecolor\":\"white\",\"ticks\":\"\",\"title\":{\"standoff\":15},\"zerolinecolor\":\"white\",\"zerolinewidth\":2}}},\"xaxis\":{\"anchor\":\"y\",\"domain\":[0.0,1.0],\"title\":{\"text\":\"0\"}},\"yaxis\":{\"anchor\":\"x\",\"domain\":[0.0,1.0],\"title\":{\"text\":\"1\"}},\"legend\":{\"title\":{\"text\":\"label\"},\"tracegroupgap\":0},\"margin\":{\"t\":60}},                        {\"responsive\": true}                    ).then(function(){\n",
              "                            \n",
              "var gd = document.getElementById('73134438-b69b-4f29-981c-2d0707870595');\n",
              "var x = new MutationObserver(function (mutations, observer) {{\n",
              "        var display = window.getComputedStyle(gd).display;\n",
              "        if (!display || display === 'none') {{\n",
              "            console.log([gd, 'removed!']);\n",
              "            Plotly.purge(gd);\n",
              "            observer.disconnect();\n",
              "        }}\n",
              "}});\n",
              "\n",
              "// Listen for the removal of the full notebook cells\n",
              "var notebookContainer = gd.closest('#notebook-container');\n",
              "if (notebookContainer) {{\n",
              "    x.observe(notebookContainer, {childList: true});\n",
              "}}\n",
              "\n",
              "// Listen for the clearing of the current output cell\n",
              "var outputEl = gd.closest('.output');\n",
              "if (outputEl) {{\n",
              "    x.observe(outputEl, {childList: true});\n",
              "}}\n",
              "\n",
              "                        })                };                            </script>        </div>\n",
              "</body>\n",
              "</html>"
            ]
          },
          "metadata": {}
        }
      ],
      "source": [
        "from sklearn.manifold import TSNE\n",
        "import plotly.express as px\n",
        "\n",
        "features = df.loc[:, :'rainfall']\n",
        "\n",
        "tsne = TSNE(n_components = 2, random_state = 0)\n",
        "projections = tsne.fit_transform(features)\n",
        "\n",
        "fig = px.scatter(\n",
        "    projections, x = 0, y = 1,\n",
        "    color = df['label'], labels={'color': 'label'}\n",
        ")\n",
        "fig.show()"
      ]
    },
    {
      "cell_type": "code",
      "execution_count": 12,
      "metadata": {
        "colab": {
          "base_uri": "https://localhost:8080/",
          "height": 681
        },
        "id": "NcG1f3UQokqI",
        "outputId": "868ad24a-e554-4cc9-e1c5-e8cb8f9d2582"
      },
      "outputs": [
        {
          "output_type": "stream",
          "name": "stderr",
          "text": [
            "/usr/local/lib/python3.8/dist-packages/sklearn/manifold/_t_sne.py:780: FutureWarning:\n",
            "\n",
            "The default initialization in TSNE will change from 'random' to 'pca' in 1.2.\n",
            "\n",
            "/usr/local/lib/python3.8/dist-packages/sklearn/manifold/_t_sne.py:790: FutureWarning:\n",
            "\n",
            "The default learning rate in TSNE will change from 200.0 to 'auto' in 1.2.\n",
            "\n"
          ]
        },
        {
          "output_type": "display_data",
          "data": {
            "text/html": [
              "<html>\n",
              "<head><meta charset=\"utf-8\" /></head>\n",
              "<body>\n",
              "    <div>            <script src=\"https://cdnjs.cloudflare.com/ajax/libs/mathjax/2.7.5/MathJax.js?config=TeX-AMS-MML_SVG\"></script><script type=\"text/javascript\">if (window.MathJax) {MathJax.Hub.Config({SVG: {font: \"STIX-Web\"}});}</script>                <script type=\"text/javascript\">window.PlotlyConfig = {MathJaxConfig: 'local'};</script>\n",
              "        <script src=\"https://cdn.plot.ly/plotly-2.8.3.min.js\"></script>                <div id=\"abc9bb99-4a90-473a-b801-eacab43717bf\" class=\"plotly-graph-div\" style=\"height:525px; width:100%;\"></div>            <script type=\"text/javascript\">                                    window.PLOTLYENV=window.PLOTLYENV || {};                                    if (document.getElementById(\"abc9bb99-4a90-473a-b801-eacab43717bf\")) {                    Plotly.newPlot(                        \"abc9bb99-4a90-473a-b801-eacab43717bf\",                        [{\"hovertemplate\":\"label=rice<br>0=%{x}<br>1=%{y}<br>2=%{z}<extra></extra>\",\"legendgroup\":\"rice\",\"marker\":{\"color\":\"#636efa\",\"symbol\":\"circle\",\"size\":8},\"mode\":\"markers\",\"name\":\"rice\",\"scene\":\"scene\",\"showlegend\":true,\"x\":[-11.655116081237793,-11.36924934387207,-11.675694465637207,-11.894740104675293,-12.504600524902344,-11.823708534240723,-12.080859184265137,-12.134350776672363,-11.736100196838379,-9.908977508544922,-12.765653610229492,-12.402266502380371,-12.448904991149902,-9.227917671203613,-11.285572052001953,-10.249347686767578,-13.458532333374023,-12.05288028717041,-11.645483016967773,-13.549397468566895,-10.294723510742188,-11.696869850158691,-9.68215274810791,-11.8992280960083,-11.945996284484863,-11.655917167663574,-12.887371063232422,-12.839137077331543,-10.424051284790039,-10.21734619140625,-12.161673545837402,-11.952512741088867,-11.833495140075684,-13.043354988098145,-11.754987716674805,-9.986388206481934,-12.982939720153809,-13.62104606628418,-12.711220741271973,-11.676007270812988,-11.450331687927246,-9.750831604003906,-9.883121490478516,-13.283370018005371,-12.60968017578125,-10.864526748657227,-9.959896087646484,-11.688720703125,-11.158488273620605,-12.394458770751953,-10.292184829711914,-9.750370979309082,-10.058310508728027,-9.887253761291504,-13.196943283081055,-13.13580322265625,-10.1668119430542,-13.547647476196289,-9.662632942199707,-13.103818893432617,-11.787334442138672,-11.978700637817383,-12.91721248626709,-10.426395416259766,-12.317458152770996,-10.750791549682617,-10.413491249084473,-11.95560073852539,-12.024723052978516,-12.796629905700684,-9.431142807006836,-11.898917198181152,-13.179338455200195,-10.154679298400879,-11.909828186035156,-13.7714262008667,-12.441827774047852,-9.734550476074219,-10.710739135742188,-11.085515022277832,-7.368530750274658,-9.913098335266113,-9.857601165771484,-9.309089660644531,-9.85960865020752,-9.999423027038574,-12.034923553466797,-9.233556747436523,-11.543075561523438,-11.851550102233887,-13.141093254089355,-12.193394660949707,-11.386756896972656,-12.04140853881836,-11.520198822021484,-10.66703987121582,-13.351996421813965,-12.355371475219727,-9.773750305175781,-9.482976913452148],\"y\":[4.5286054611206055,8.559732437133789,10.401507377624512,8.720837593078613,10.448927879333496,9.246488571166992,10.992161750793457,9.468154907226562,8.729819297790527,7.275907039642334,11.29506778717041,9.948293685913086,12.05142879486084,3.483665704727173,5.448922634124756,7.6716227531433105,11.61543083190918,4.4411091804504395,7.534137725830078,12.3439359664917,3.036846876144409,8.033916473388672,6.842546463012695,8.30092716217041,8.289803504943848,10.08831787109375,11.882084846496582,11.128687858581543,8.30656623840332,4.91795015335083,11.175519943237305,4.0684638023376465,7.685941696166992,11.831534385681152,8.90269660949707,4.546681880950928,12.014822006225586,12.272897720336914,12.104228019714355,9.784148216247559,9.222125053405762,5.8135271072387695,5.5442633628845215,12.491472244262695,11.079974174499512,2.2021939754486084,4.656952857971191,8.088726043701172,6.356549263000488,10.429576873779297,6.329701900482178,6.6140546798706055,4.690334796905518,7.552992343902588,12.494388580322266,11.919445991516113,7.104700088500977,11.22406005859375,4.039942741394043,12.237305641174316,8.947722434997559,9.828816413879395,12.24673843383789,4.575811386108398,10.561477661132812,2.2234232425689697,4.879990100860596,9.666611671447754,10.326210021972656,11.66749095916748,5.662644386291504,10.107114791870117,12.405681610107422,3.819267988204956,10.340003967285156,11.831605911254883,11.533373832702637,2.675311326980591,3.685382843017578,4.465033531188965,3.789257764816284,4.3102707862854,7.23634672164917,3.3912031650543213,7.20845890045166,7.753446578979492,8.974603652954102,2.9411325454711914,8.74821949005127,8.635652542114258,12.599808692932129,9.125907897949219,7.254453182220459,9.19062614440918,9.907873153686523,4.078591346740723,12.659692764282227,11.751788139343262,2.036893844604492,3.2998239994049072],\"z\":[-2.990405321121216,-0.20976275205612183,3.123915672302246,1.7281392812728882,2.2861037254333496,2.2898802757263184,2.9238555431365967,0.15891523659229279,-0.15716740489006042,0.8836112022399902,1.3009966611862183,0.8224980235099792,2.7167186737060547,-4.178689956665039,-3.2370564937591553,1.7981600761413574,2.4293150901794434,-2.9565539360046387,0.5474455952644348,2.7301344871520996,-3.465792417526245,0.9536739587783813,0.5839090943336487,0.6429418325424194,-0.567370593547821,2.7657885551452637,1.227012276649475,1.020275354385376,2.3545148372650146,-2.550652265548706,2.7703845500946045,-3.123340129852295,0.29809072613716125,1.2798254489898682,-0.03858492895960808,-3.974564552307129,1.2350407838821411,2.259798288345337,3.609896183013916,2.770392417907715,2.546931028366089,0.9436867237091064,-2.391657590866089,2.984849214553833,1.6632784605026245,-3.4124131202697754,-1.374005913734436,1.1531970500946045,-0.45568159222602844,0.8749498724937439,1.647923231124878,-0.2989633083343506,-3.8340938091278076,1.310639500617981,1.9546276330947876,3.0860633850097656,0.43369045853614807,1.9614206552505493,-0.7738720774650574,1.457558274269104,1.9120792150497437,0.47983476519584656,1.6354467868804932,-0.004978261888027191,2.393458604812622,-3.9355154037475586,-4.03780460357666,0.2590889632701874,2.718653917312622,1.390541434288025,0.8111981749534607,2.726483106613159,3.0223560333251953,-1.486106514930725,2.176299571990967,2.0874857902526855,3.253330945968628,-0.6325468420982361,-1.0239677429199219,-1.7603881359100342,-1.1059017181396484,-0.71678227186203,1.4373000860214233,-0.1619603931903839,0.8908211588859558,1.4042376279830933,1.0530316829681396,-2.9930529594421387,0.2449594885110855,-0.1462114304304123,2.153618574142456,0.535661518573761,0.013286473229527473,1.677060842514038,2.9295756816864014,-3.119523048400879,2.4337351322174072,3.513564109802246,-1.3983464241027832,0.07658953964710236],\"type\":\"scatter3d\"},{\"hovertemplate\":\"label=maize<br>0=%{x}<br>1=%{y}<br>2=%{z}<extra></extra>\",\"legendgroup\":\"maize\",\"marker\":{\"color\":\"#EF553B\",\"symbol\":\"circle\",\"size\":8},\"mode\":\"markers\",\"name\":\"maize\",\"scene\":\"scene\",\"showlegend\":true,\"x\":[1.024398922920227,0.0050921933725476265,3.2303857803344727,3.740661144256592,3.987769603729248,0.25647270679473877,-1.5652419328689575,1.3621946573257446,3.4868950843811035,-1.3120671510696411,0.24516858160495758,1.8439737558364868,4.214880466461182,-0.9253625273704529,3.716073513031006,4.203589916229248,-0.36546212434768677,3.218855381011963,3.9873762130737305,1.2131868600845337,1.3146133422851562,-0.7603363394737244,1.2924915552139282,1.780946969985962,1.5195918083190918,-0.5386673212051392,-1.3504376411437988,-0.5486040115356445,3.009575843811035,-1.8057763576507568,3.3374228477478027,1.3929470777511597,2.826228618621826,4.073875904083252,1.8063504695892334,-1.8634138107299805,3.548236131668091,-1.8578704595565796,-0.7884374856948853,-0.23900678753852844,1.2885568141937256,3.2317960262298584,3.3208072185516357,-2.0850770473480225,-0.6828487515449524,2.2142422199249268,0.6826959848403931,-1.7315868139266968,0.055865149945020676,3.589586019515991,1.2085057497024536,1.1799994707107544,2.8595473766326904,3.279021739959717,-1.953787922859192,-1.2472010850906372,-1.3129404783248901,-1.6868027448654175,2.631761074066162,2.6713480949401855,0.8253546357154846,0.7285705804824829,3.949144124984741,2.90751576423645,1.3530570268630981,-1.3475522994995117,1.2895127534866333,0.010959427803754807,3.8306772708892822,0.9547382593154907,-0.3568572402000427,0.9734320044517517,3.423161029815674,-1.4748773574829102,3.8154687881469727,2.071682929992676,1.2078356742858887,-1.2807670831680298,3.8267600536346436,2.2353010177612305,-1.6452252864837646,-0.11231881380081177,4.0559821128845215,2.431053400039673,-1.3202433586120605,3.3645544052124023,-1.1243218183517456,3.0902559757232666,3.266547441482544,1.8826459646224976,-1.7139724493026733,1.214918851852417,1.5253061056137085,-0.38678693771362305,1.190657615661621,1.1357699632644653,-0.0007214349461719394,4.126742362976074,3.035623073577881,-1.0224127769470215],\"y\":[-6.290145397186279,-6.6551313400268555,-8.135435104370117,-6.266793727874756,-6.993646621704102,-7.330111980438232,-9.198843955993652,-8.111845016479492,-7.500020503997803,-6.435286998748779,-6.839266300201416,-8.697933197021484,-5.639641761779785,-9.306532859802246,-5.665952205657959,-5.5539350509643555,-6.886163234710693,-6.685637950897217,-5.846710681915283,-6.412615776062012,-6.799736022949219,-9.73052978515625,-6.475334644317627,-7.988316535949707,-9.583786010742188,-7.199462413787842,-9.302053451538086,-6.996283054351807,-7.340610504150391,-8.123392105102539,-8.849974632263184,-6.85864782333374,-7.226777076721191,-7.2906975746154785,-6.5809855461120605,-9.325593948364258,-6.545618057250977,-8.026815414428711,-10.916163444519043,-6.646940231323242,-9.338008880615234,-6.564101696014404,-6.992861270904541,-7.933925151824951,-6.607591152191162,-9.710538864135742,-5.707401752471924,-7.311229228973389,-7.602078437805176,-6.678614616394043,-10.437416076660156,-8.053565979003906,-7.178618907928467,-6.769522666931152,-8.41796588897705,-9.383914947509766,-8.468512535095215,-7.442083358764648,-6.720584869384766,-6.854337692260742,-7.905589580535889,-6.209357738494873,-6.047658443450928,-9.089322090148926,-7.091465950012207,-7.4524431228637695,-7.6795477867126465,-6.918951988220215,-7.710338115692139,-8.579916954040527,-10.38925838470459,-6.710921764373779,-8.645129203796387,-9.309528350830078,-7.874145984649658,-6.931191444396973,-7.690037727355957,-8.002715110778809,-6.749636650085449,-10.627503395080566,-8.423100471496582,-7.17503023147583,-5.163087368011475,-6.11051607131958,-6.431448936462402,-8.824599266052246,-6.290353298187256,-8.218730926513672,-6.768138885498047,-8.023427963256836,-7.4498419761657715,-8.305513381958008,-6.923727989196777,-8.571202278137207,-5.928008079528809,-8.126431465148926,-7.332890510559082,-5.367969512939453,-6.99187707901001,-7.355915546417236],\"z\":[-6.747059345245361,-4.811831474304199,-8.103099822998047,-8.56579303741455,-6.294561862945557,-4.706154823303223,-6.80093240737915,-9.316225051879883,-7.805003643035889,-5.043875217437744,-5.61195707321167,-9.189990043640137,-7.623696804046631,-7.21232795715332,-7.4234795570373535,-7.898449420928955,-5.191811561584473,-5.740809440612793,-7.700717926025391,-7.111077308654785,-7.877935409545898,-8.736898422241211,-7.354580402374268,-7.208451747894287,-9.65428352355957,-6.240094184875488,-6.580470561981201,-5.695486545562744,-7.917020797729492,-6.231600761413574,-7.931203365325928,-5.008782863616943,-9.31631088256836,-6.508063316345215,-5.318648338317871,-7.271448612213135,-8.6827392578125,-6.0109782218933105,-8.146988868713379,-6.599274158477783,-10.185525894165039,-5.729726791381836,-7.785933017730713,-6.17949104309082,-5.140141487121582,-9.48845386505127,-6.182744979858398,-5.350346088409424,-5.28179931640625,-6.125968933105469,-8.549742698669434,-6.018763542175293,-9.408839225769043,-5.721114635467529,-6.435581684112549,-6.728845596313477,-6.034788608551025,-5.552157402038574,-5.8359150886535645,-5.443798542022705,-6.306908130645752,-7.105612277984619,-7.689742565155029,-8.058700561523438,-7.125499248504639,-5.464993000030518,-7.036126613616943,-5.654099464416504,-6.909392833709717,-9.151494026184082,-8.107741355895996,-5.015643119812012,-7.892561912536621,-7.7985639572143555,-7.342757225036621,-7.774298191070557,-6.048126697540283,-5.795395851135254,-6.087735176086426,-9.56173038482666,-6.842778205871582,-4.671733856201172,-7.146027088165283,-7.336330413818359,-4.904830455780029,-8.183323860168457,-5.047827243804932,-7.335573673248291,-8.970758438110352,-9.69223690032959,-5.676443576812744,-9.494824409484863,-7.654939651489258,-6.7286200523376465,-7.011746406555176,-9.366233825683594,-4.448924541473389,-7.256918430328369,-9.175210952758789,-6.544474124908447],\"type\":\"scatter3d\"},{\"hovertemplate\":\"label=chickpea<br>0=%{x}<br>1=%{y}<br>2=%{z}<extra></extra>\",\"legendgroup\":\"chickpea\",\"marker\":{\"color\":\"#00cc96\",\"symbol\":\"circle\",\"size\":8},\"mode\":\"markers\",\"name\":\"chickpea\",\"scene\":\"scene\",\"showlegend\":true,\"x\":[-2.751504421234131,-4.719374179840088,-2.6631789207458496,-4.9781904220581055,-2.6782727241516113,-4.110935211181641,0.8605588674545288,0.7350469827651978,-1.9299418926239014,-4.397059440612793,0.4046352207660675,-1.5977044105529785,0.6307584047317505,-4.746903419494629,-4.081810474395752,-3.8141183853149414,-0.19176830351352692,-2.3728792667388916,-4.005892276763916,-4.065446853637695,-4.0863871574401855,-4.680067539215088,-4.0457072257995605,0.6913184523582458,0.8548740148544312,-4.3893866539001465,-2.7471656799316406,0.42438405752182007,0.26918813586235046,-1.6856898069381714,-4.445064067840576,-1.5620315074920654,-4.087456226348877,-4.578318119049072,-4.0319342613220215,-4.475468635559082,0.31934449076652527,-0.6157488226890564,-1.0180883407592773,0.13057084381580353,-2.4181272983551025,0.4126717448234558,-2.715043783187866,0.6947685480117798,-3.237382173538208,-3.1947386264801025,0.022470328956842422,-4.557216167449951,0.7253664135932922,-0.18009710311889648,-1.384884238243103,-1.4989073276519775,-4.394028663635254,-3.825763463973999,-4.957331657409668,0.38491091132164,-2.6847689151763916,-0.5464507341384888,0.8159284591674805,-4.647325038909912,-4.601353168487549,-0.2805975377559662,0.4143889248371124,-4.904811382293701,0.031109360978007317,-4.222244739532471,-1.7151075601577759,-2.043907880783081,-0.06039201095700264,-2.9224514961242676,-1.937827706336975,-3.0931036472320557,-4.469191551208496,-3.5311148166656494,0.3110423684120178,-3.969978094100952,-4.218207359313965,-4.04165506362915,-3.2179994583129883,-1.161988377571106,0.21052823960781097,-1.418166160583496,-3.1008799076080322,0.13412094116210938,-1.4607957601547241,-3.472862720489502,-3.5017693042755127,-2.8749351501464844,0.013773487880825996,-4.885733604431152,0.43894505500793457,-1.7813118696212769,-2.32170033454895,-3.410259485244751,-3.6389083862304688,0.5486363768577576,-0.6605767607688904,-2.8255324363708496,-2.64011549949646,-0.5186965465545654],\"y\":[-21.379487991333008,-22.36934471130371,-21.1010684967041,-21.578397750854492,-21.39262580871582,-21.345861434936523,-21.449312210083008,-21.082870483398438,-20.407455444335938,-22.41575813293457,-20.16823387145996,-21.527732849121094,-20.569812774658203,-21.053674697875977,-21.964250564575195,-23.10837173461914,-20.14073371887207,-21.766033172607422,-23.81724739074707,-21.22297477722168,-23.695053100585938,-21.43276023864746,-21.936288833618164,-20.751731872558594,-20.793058395385742,-22.407888412475586,-21.653106689453125,-19.766324996948242,-21.63727378845215,-21.535160064697266,-22.286434173583984,-22.892576217651367,-20.117708206176758,-23.39295768737793,-21.96427345275879,-20.1455078125,-19.91893196105957,-19.774648666381836,-22.03485870361328,-20.431007385253906,-20.64634895324707,-19.68480682373047,-23.56383514404297,-21.370561599731445,-20.90508270263672,-20.632966995239258,-20.42048454284668,-21.789506912231445,-20.492570877075195,-21.07723045349121,-22.578842163085938,-22.400468826293945,-21.156856536865234,-23.593801498413086,-20.470041275024414,-21.10150909423828,-21.57452964782715,-21.435606002807617,-21.524280548095703,-23.41297149658203,-20.820158004760742,-21.68797492980957,-20.89966583251953,-20.864866256713867,-20.923974990844727,-21.90901756286621,-20.01953887939453,-22.738346099853516,-19.414371490478516,-23.670564651489258,-23.36765480041504,-22.599567413330078,-22.232717514038086,-23.046688079833984,-19.59443473815918,-23.65532875061035,-21.136459350585938,-22.709705352783203,-23.486360549926758,-23.192508697509766,-20.4730281829834,-23.501060485839844,-20.520523071289062,-21.982784271240234,-20.344528198242188,-21.790149688720703,-23.51311683654785,-20.491188049316406,-20.936660766601562,-20.314620971679688,-19.802623748779297,-21.297441482543945,-23.5306453704834,-20.274131774902344,-21.732196807861328,-20.42608642578125,-21.288673400878906,-21.006200790405273,-19.902345657348633,-21.404356002807617],\"z\":[-0.970400869846344,0.21085184812545776,2.281755208969116,-0.41783106327056885,0.718665361404419,-1.1288875341415405,0.6945573091506958,-0.2707928717136383,0.7141764760017395,-0.20972001552581787,-0.9176223278045654,1.076485276222229,0.6543381214141846,1.0070252418518066,1.8206521272659302,1.202200174331665,1.577635407447815,-0.08890169858932495,1.0011136531829834,-0.8829827904701233,0.840110719203949,-0.20275621116161346,-1.3114962577819824,-0.4473830461502075,1.2200281620025635,1.5270166397094727,1.2317975759506226,-0.73759925365448,-0.7526330351829529,0.5087716579437256,-0.5077916979789734,-0.03857451677322388,0.021307699382305145,0.4498225152492523,-1.3717834949493408,0.08139219880104065,0.6738449931144714,0.8303396105766296,-0.5710795521736145,0.9741927981376648,1.172277808189392,0.5610496997833252,0.994196355342865,0.9596908688545227,-0.009720498695969582,0.05982118844985962,1.2302511930465698,-0.9243220090866089,1.1115518808364868,-0.4224295914173126,-0.33822858333587646,-0.06373734027147293,1.7124674320220947,0.7393268942832947,0.1950179636478424,0.6092104911804199,0.9056202173233032,-0.5108010172843933,1.112869143486023,0.44925394654273987,1.26265549659729,0.02759716659784317,-1.0869694948196411,0.2147636115550995,-1.2005724906921387,-1.1282057762145996,0.6580594778060913,1.3590620756149292,-0.03382069244980812,1.2088464498519897,1.2125359773635864,0.9917181730270386,-0.27896764874458313,1.3957682847976685,0.09764689952135086,0.9030789136886597,-1.009277582168579,-0.027408352121710777,1.2207188606262207,0.4694802165031433,0.7329618334770203,0.9401646256446838,1.41523015499115,0.6898240447044373,0.7481652498245239,-1.3235737085342407,1.1688324213027954,1.613730549812317,0.8456417322158813,0.08193863183259964,-0.735910952091217,0.7073028087615967,1.02933669090271,-0.18203434348106384,1.2038328647613525,1.7843034267425537,1.2036184072494507,2.2358651161193848,0.18729044497013092,-0.057312577962875366],\"type\":\"scatter3d\"},{\"hovertemplate\":\"label=kidneybeans<br>0=%{x}<br>1=%{y}<br>2=%{z}<extra></extra>\",\"legendgroup\":\"kidneybeans\",\"marker\":{\"color\":\"#ab63fa\",\"symbol\":\"circle\",\"size\":8},\"mode\":\"markers\",\"name\":\"kidneybeans\",\"scene\":\"scene\",\"showlegend\":true,\"x\":[7.402713298797607,8.231645584106445,6.771445274353027,5.270223140716553,10.629663467407227,5.795559406280518,10.50110912322998,9.051369667053223,6.775562763214111,6.14896297454834,5.567967891693115,7.974343776702881,5.982311248779297,6.115421295166016,10.01791000366211,11.221590042114258,8.680524826049805,9.576211929321289,7.138761520385742,7.729315280914307,10.746932029724121,6.101820945739746,10.351471900939941,6.176856994628906,10.194337844848633,6.51456356048584,7.816003322601318,9.426932334899902,7.302181720733643,9.909515380859375,10.94143009185791,7.9752912521362305,10.107025146484375,9.215574264526367,7.4177775382995605,6.157032012939453,6.407212257385254,8.372916221618652,7.950369834899902,9.829084396362305,10.080056190490723,5.852967739105225,6.5949201583862305,6.964054584503174,7.002717971801758,8.99983024597168,9.663412094116211,11.026264190673828,7.1876044273376465,8.583839416503906,8.836373329162598,9.421234130859375,9.48672866821289,11.390864372253418,7.8628926277160645,8.369235038757324,10.402758598327637,7.995385646820068,6.904359340667725,7.627503395080566,9.070005416870117,7.922714710235596,6.697516918182373,10.136627197265625,6.602187633514404,6.166781902313232,8.25151252746582,10.024982452392578,6.116877555847168,8.58518123626709,5.88574743270874,7.401979446411133,7.079566478729248,9.3124361038208,10.59559154510498,11.163089752197266,10.109477043151855,9.258879661560059,9.11086654663086,9.12626838684082,9.590604782104492,9.028614044189453,7.2447614669799805,6.417690753936768,6.873536109924316,5.370810031890869,7.215224266052246,8.631173133850098,10.05666732788086,7.675318241119385,6.989793300628662,9.406540870666504,10.368247985839844,6.6443634033203125,10.548731803894043,9.868570327758789,7.504190921783447,9.028725624084473,6.092552185058594,7.536235332489014],\"y\":[8.478681564331055,5.241942405700684,4.812684535980225,7.891754150390625,3.8697597980499268,8.66405200958252,2.6836256980895996,5.154000282287598,8.488690376281738,7.5241217613220215,8.4527587890625,3.4232168197631836,9.113912582397461,7.977200031280518,4.698262691497803,3.1788458824157715,6.245759963989258,3.4349286556243896,9.269027709960938,5.365443706512451,2.5599610805511475,9.126944541931152,2.5217342376708984,6.42183780670166,4.330925464630127,9.22425651550293,5.311848163604736,4.647475719451904,4.074390411376953,4.472290992736816,2.5324032306671143,4.522799015045166,1.6180230379104614,6.319552898406982,9.593395233154297,6.516112804412842,7.782759189605713,7.904025554656982,3.975419044494629,5.435433864593506,4.72786808013916,8.235052108764648,6.489963054656982,4.54219913482666,4.825571537017822,6.033278942108154,6.147735118865967,2.659343957901001,4.09249210357666,7.655400276184082,6.7882771492004395,6.628534317016602,2.325360059738159,2.9872031211853027,4.334578514099121,5.488854885101318,1.8871941566467285,3.189033031463623,9.18072509765625,3.7711637020111084,6.9201507568359375,5.058217525482178,9.48935604095459,1.6568470001220703,8.648736000061035,6.742412090301514,5.614073753356934,1.6643708944320679,9.540474891662598,7.709321022033691,6.708859920501709,9.259119987487793,8.991107940673828,5.0433430671691895,3.173668622970581,3.166415214538574,2.3079934120178223,3.3097310066223145,2.6125340461730957,6.938192367553711,2.8955607414245605,6.632163047790527,9.82961654663086,9.543584823608398,6.069568157196045,8.808490753173828,7.872613430023193,6.851652145385742,4.344194412231445,8.493376731872559,8.425504684448242,2.515665292739868,2.1223866939544678,9.204482078552246,3.7630112171173096,2.4596056938171387,4.3313727378845215,2.6287615299224854,7.852864742279053,4.813455581665039],\"z\":[8.189409255981445,8.121076583862305,8.185527801513672,9.36137866973877,5.217441558837891,9.22393798828125,5.155304431915283,8.103208541870117,8.384051322937012,8.791374206542969,9.109503746032715,7.407536029815674,9.885990142822266,8.823474884033203,6.392821311950684,5.611928462982178,8.451141357421875,7.233506202697754,8.06275749206543,7.949355602264404,6.021730899810791,8.962367057800293,5.992019176483154,8.975357055664062,5.949893474578857,9.627286911010742,8.032661437988281,7.642583847045898,7.985957145690918,6.2954888343811035,5.844378471374512,8.685428619384766,6.543141841888428,7.260193347930908,8.073371887207031,8.808837890625,8.59861946105957,7.671092987060547,7.626036643981934,6.6515021324157715,6.077251434326172,9.010895729064941,8.715644836425781,8.180059432983398,8.164596557617188,7.931067943572998,6.128272533416748,5.5922932624816895,7.728601932525635,8.480501174926758,7.573718547821045,6.750389575958252,6.7639384269714355,5.523972988128662,7.732032299041748,8.05782413482666,6.3636794090271,7.311783790588379,8.451687812805176,7.646401882171631,6.8880839347839355,7.897069454193115,8.901775360107422,6.5297746658325195,9.736220359802246,8.989397048950195,7.8596906661987305,6.470211982727051,9.358905792236328,7.54450798034668,8.969813346862793,8.07744312286377,8.257511138916016,7.779263973236084,5.241066932678223,5.528371810913086,6.195557117462158,7.336765766143799,7.033059120178223,7.023656368255615,7.192359924316406,7.786526679992676,7.909369468688965,8.35732364654541,8.655651092529297,9.516267776489258,8.331708908081055,7.763009548187256,5.900054454803467,8.328954696655273,9.385724067687988,7.169055461883545,6.143439292907715,8.656559944152832,5.115921974182129,6.250767707824707,7.798609733581543,7.101720809936523,8.942983627319336,7.897339344024658],\"type\":\"scatter3d\"},{\"hovertemplate\":\"label=pigeonpeas<br>0=%{x}<br>1=%{y}<br>2=%{z}<extra></extra>\",\"legendgroup\":\"pigeonpeas\",\"marker\":{\"color\":\"#FFA15A\",\"symbol\":\"circle\",\"size\":8},\"mode\":\"markers\",\"name\":\"pigeonpeas\",\"scene\":\"scene\",\"showlegend\":true,\"x\":[5.933119773864746,1.6919715404510498,6.187277317047119,4.38405704498291,2.700190544128418,3.4554874897003174,3.3888967037200928,1.0830552577972412,5.881529808044434,4.9645161628723145,5.404628276824951,2.6064844131469727,6.655331134796143,5.772453784942627,5.5228447914123535,6.84123420715332,2.5184717178344727,8.956915855407715,3.028529167175293,6.0103607177734375,1.3799563646316528,3.122737407684326,2.0985934734344482,5.867769241333008,5.477748394012451,5.286125183105469,0.7741395235061646,4.524918079376221,4.154260635375977,3.3433687686920166,8.53386116027832,2.643120288848877,5.492006301879883,3.4475979804992676,2.1290764808654785,1.9266737699508667,7.3780364990234375,2.8421263694763184,8.631277084350586,5.774691104888916,4.600343704223633,2.744753122329712,5.850674152374268,4.843834400177002,3.9992570877075195,7.117224216461182,0.9889897704124451,1.9036831855773926,4.729881286621094,3.9417033195495605,3.282149076461792,3.1381051540374756,5.369772911071777,5.921948432922363,2.664553642272949,0.8596911430358887,4.020461082458496,4.272110939025879,7.878002643585205,6.790289402008057,0.7600136995315552,3.7746901512145996,0.6631016135215759,5.9145612716674805,6.5307488441467285,2.5360329151153564,0.7482132911682129,1.273681402206421,3.445866107940674,4.816412925720215,8.718963623046875,2.945268154144287,4.889626979827881,0.6180523037910461,5.60824728012085,5.140481472015381,2.1115939617156982,7.890297889709473,3.040748119354248,3.1295688152313232,6.585474014282227,3.160825490951538,4.898458480834961,1.9255547523498535,1.8079065084457397,4.8519487380981445,2.3946409225463867,3.312391757965088,2.7131052017211914,6.479292392730713,1.3261525630950928,4.858590602874756,2.154831647872925,7.755058288574219,5.450511932373047,0.5668541193008423,3.382230520248413,2.1812896728515625,2.8492605686187744,5.2564167976379395],\"y\":[8.40696907043457,10.360934257507324,5.920340061187744,8.593538284301758,12.74830150604248,9.525415420532227,9.035801887512207,12.613306999206543,5.5298380851745605,6.960635662078857,6.375119686126709,12.292341232299805,5.536656856536865,7.807409763336182,7.29964017868042,4.068813800811768,12.586142539978027,6.710303783416748,10.531210899353027,7.686062335968018,12.778263092041016,12.506683349609375,13.088940620422363,6.824581146240234,8.959190368652344,8.14526653289795,12.504897117614746,11.102912902832031,8.267866134643555,12.551421165466309,6.214478015899658,10.226564407348633,6.437985897064209,9.591255187988281,10.835653305053711,13.33751106262207,5.242772102355957,12.45943546295166,5.5158371925354,5.748033046722412,11.258392333984375,12.98157024383545,8.8284273147583,10.212480545043945,11.317259788513184,5.4286298751831055,12.861479759216309,11.093147277832031,9.688475608825684,8.383177757263184,12.36170482635498,11.961491584777832,8.212557792663574,8.893966674804688,13.2175931930542,12.71147632598877,11.223984718322754,11.147520065307617,5.569632530212402,5.436926364898682,12.74815845489502,9.869431495666504,12.852249145507812,7.6919403076171875,5.563443183898926,12.86279296875,12.850513458251953,11.927595138549805,10.556840896606445,8.777987480163574,6.535666465759277,12.440590858459473,9.649469375610352,12.481473922729492,9.091649055480957,8.286784172058105,11.356586456298828,6.912834167480469,9.946340560913086,12.36125659942627,5.6090474128723145,10.568768501281738,10.977217674255371,10.631513595581055,11.932461738586426,8.744207382202148,9.876239776611328,12.351025581359863,10.542487144470215,5.821022987365723,12.160688400268555,10.327727317810059,12.503776550292969,6.753764629364014,8.09975814819336,12.578739166259766,12.078391075134277,12.611278533935547,12.338590621948242,7.08370304107666],\"z\":[4.514854907989502,6.553349494934082,4.166849136352539,6.6561174392700195,5.613189220428467,7.090827465057373,7.135227203369141,7.666584014892578,3.1041102409362793,4.277137279510498,3.7452471256256104,7.379676342010498,4.417764186859131,4.5782575607299805,4.66191291809082,6.760212421417236,7.269463539123535,6.066786289215088,7.289706230163574,5.7663350105285645,6.288042068481445,5.984793186187744,6.796651363372803,4.898007869720459,6.6944732666015625,6.057620048522949,6.843515872955322,7.040140628814697,7.397288799285889,5.936277389526367,5.10770320892334,6.250274181365967,3.830596446990967,6.881195068359375,7.408949375152588,7.2834858894348145,5.048592567443848,7.453613758087158,5.358415603637695,7.836740016937256,7.1591796875,7.266563892364502,4.831912517547607,5.456221580505371,7.274003028869629,4.6126179695129395,6.867051124572754,6.735939025878906,5.084144115447998,7.361003875732422,5.474991798400879,7.600300312042236,4.808257102966309,4.963369846343994,6.848947525024414,7.6492156982421875,7.086026191711426,5.948276519775391,5.321076393127441,6.376033782958984,6.6890130043029785,7.151272296905518,7.000089168548584,4.625222682952881,4.463855743408203,5.479489803314209,6.331446647644043,6.166032314300537,6.943639755249023,6.163822650909424,5.2528839111328125,5.210520267486572,5.165760040283203,6.29861307144165,6.487187385559082,4.74439811706543,7.575878143310547,4.34727668762207,5.621732711791992,7.231011867523193,3.993499517440796,7.395512104034424,7.002263069152832,7.181761741638184,6.485702991485596,5.6578898429870605,6.246792793273926,7.059376239776611,6.819973945617676,6.015109062194824,5.712615013122559,5.767999649047852,6.3721232414245605,4.1798529624938965,4.603565692901611,6.19110631942749,6.478243350982666,7.114114284515381,5.236117839813232,5.499969959259033],\"type\":\"scatter3d\"},{\"hovertemplate\":\"label=mothbeans<br>0=%{x}<br>1=%{y}<br>2=%{z}<extra></extra>\",\"legendgroup\":\"mothbeans\",\"marker\":{\"color\":\"#19d3f3\",\"symbol\":\"circle\",\"size\":8},\"mode\":\"markers\",\"name\":\"mothbeans\",\"scene\":\"scene\",\"showlegend\":true,\"x\":[17.25680160522461,16.543148040771484,15.973533630371094,12.720749855041504,16.51858901977539,12.08560562133789,11.898932456970215,13.080132484436035,16.27471160888672,12.823309898376465,14.000041007995605,11.982032775878906,15.495500564575195,16.954940795898438,11.948273658752441,13.547968864440918,12.47060489654541,15.52117919921875,12.85163402557373,16.745315551757812,17.02396583557129,11.573193550109863,15.383414268493652,16.000873565673828,16.58582305908203,16.40365982055664,14.867077827453613,13.054153442382812,15.432807922363281,15.623651504516602,13.535534858703613,16.252227783203125,17.215831756591797,14.807720184326172,12.76114559173584,15.815269470214844,15.851438522338867,12.21440315246582,12.629107475280762,14.876688003540039,11.731481552124023,16.19625473022461,13.233757019042969,11.94445514678955,12.148598670959473,17.220186233520508,14.255828857421875,14.647647857666016,16.909833908081055,12.705130577087402,14.843000411987305,15.187514305114746,12.777527809143066,17.09776496887207,12.18176555633545,14.37451457977295,13.749113082885742,12.72386360168457,13.332330703735352,11.947625160217285,11.749960899353027,15.86979866027832,12.127123832702637,10.959837913513184,12.933419227600098,15.851295471191406,17.048952102661133,16.980819702148438,12.473618507385254,16.711910247802734,12.001255989074707,16.990596771240234,14.984528541564941,13.678610801696777,16.901611328125,16.45514488220215,16.641557693481445,14.982677459716797,15.37753677368164,13.83664608001709,15.447989463806152,11.988694190979004,15.902975082397461,12.460832595825195,16.44593620300293,15.254782676696777,15.430347442626953,13.248030662536621,16.999685287475586,16.79444122314453,17.178482055664062,16.950349807739258,14.269091606140137,16.90369415283203,11.492368698120117,15.661568641662598,11.509617805480957,12.475471496582031,16.005813598632812,16.7221736907959],\"y\":[-0.261223703622818,-0.8991921544075012,-1.8675410747528076,3.517733097076416,-0.6639342308044434,2.3109428882598877,2.071021318435669,3.357201337814331,-1.5607211589813232,1.5002720355987549,0.21584142744541168,1.107308030128479,1.137864589691162,1.20615816116333,2.59194016456604,-0.06327065825462341,2.899430751800537,1.2489641904830933,2.8909597396850586,-0.31417134404182434,0.57426518201828,1.8613673448562622,1.2421585321426392,0.19386233389377594,-0.20505359768867493,-0.8226209282875061,1.3761851787567139,2.5356338024139404,1.3097848892211914,0.2995622158050537,2.080380439758301,1.055031657218933,0.17046356201171875,1.6220448017120361,-0.41292741894721985,1.4031273126602173,2.5195062160491943,1.8858933448791504,3.581670045852661,1.9162557125091553,1.1839901208877563,0.2174937129020691,2.566373348236084,1.1260454654693604,1.3702346086502075,0.6688259840011597,0.3191450238227844,2.174635410308838,1.267899751663208,1.4042013883590698,1.3460804224014282,1.5387800931930542,3.371253490447998,0.5963045954704285,1.993404507637024,1.0036500692367554,2.5178093910217285,3.6031861305236816,2.552736759185791,1.1340713500976562,0.9702088236808777,-0.1463739275932312,1.9692785739898682,0.09303038567304611,2.855637788772583,1.5460673570632935,0.5683805346488953,1.1792237758636475,3.099567174911499,0.2826649844646454,-0.10308399796485901,-0.8756018877029419,0.9869508147239685,0.4118610918521881,0.4713384509086609,-1.061673641204834,0.4847389757633209,2.124558448791504,2.1271159648895264,0.31930774450302124,1.09331214427948,1.1538496017456055,0.6172572374343872,2.109459638595581,0.32409101724624634,2.486572027206421,-0.22666731476783752,-0.10750371217727661,-1.151892066001892,0.13998250663280487,0.670219361782074,-1.081121563911438,0.04659514129161835,1.4347152709960938,0.772821307182312,0.9638332724571228,1.6911437511444092,1.3618252277374268,1.1029789447784424,0.031182067468762398],\"z\":[-1.0567636489868164,-3.648585557937622,-4.626231670379639,-2.380622386932373,-4.536195278167725,-4.756076812744141,-2.195889711380005,-2.444249153137207,-4.0039753913879395,-1.5766525268554688,-5.793904781341553,-6.516103267669678,-4.321708679199219,-4.532953262329102,-4.206882953643799,-4.604447841644287,-4.934098243713379,-0.6482115387916565,-1.7934739589691162,-3.087029218673706,-2.0262110233306885,-3.4625048637390137,-1.2530397176742554,-4.635153293609619,-4.247059345245361,-4.953786849975586,-0.5987884998321533,-4.200690746307373,-3.9125783443450928,-5.65179967880249,-4.019942760467529,-2.9742488861083984,-1.5202491283416748,-0.7395797967910767,-5.07150411605835,-2.0365259647369385,-3.2757160663604736,-1.7148187160491943,-2.3575031757354736,-1.2873252630233765,-3.540992021560669,-5.556180953979492,-3.9240260124206543,-6.53718376159668,-4.8503217697143555,-5.395103931427002,-4.214872360229492,-1.5220731496810913,-3.855135679244995,-1.4753713607788086,-0.5238234996795654,-3.9778318405151367,-2.771622657775879,-5.913285732269287,-4.5704803466796875,-5.427023410797119,-3.9595651626586914,-2.324068069458008,-4.189202308654785,-6.553419589996338,-3.2439398765563965,-5.354943752288818,-1.8015620708465576,-3.954503297805786,-4.436102390289307,-2.128199815750122,-5.882096290588379,-3.742142915725708,-4.876012325286865,-5.862509250640869,-3.4676501750946045,-0.5333782434463501,-0.4456607401371002,-4.372051239013672,-5.951367378234863,-4.078634738922119,-3.949718952178955,-1.6206939220428467,-3.607865571975708,-4.450562477111816,-3.7112841606140137,-6.4967942237854,-3.0888350009918213,-4.3423357009887695,-3.22829270362854,-3.536797285079956,-1.8239156007766724,-5.069974422454834,-0.809640109539032,-5.788824558258057,-5.769679546356201,-1.3796157836914062,-5.881073951721191,-3.858757257461548,-4.842998027801514,-0.5753037333488464,-3.369051694869995,-5.39053201675415,-1.0680713653564453,-3.007641077041626],\"type\":\"scatter3d\"},{\"hovertemplate\":\"label=mungbean<br>0=%{x}<br>1=%{y}<br>2=%{z}<extra></extra>\",\"legendgroup\":\"mungbean\",\"marker\":{\"color\":\"#FF6692\",\"symbol\":\"circle\",\"size\":8},\"mode\":\"markers\",\"name\":\"mungbean\",\"scene\":\"scene\",\"showlegend\":true,\"x\":[7.930752277374268,10.351236343383789,5.718270301818848,10.187459945678711,8.221467018127441,10.172140121459961,5.850438594818115,6.003593921661377,10.917423248291016,7.804719924926758,5.4512810707092285,8.866171836853027,7.528337001800537,6.89980411529541,8.233267784118652,6.7139739990234375,8.884541511535645,6.3877739906311035,7.77629280090332,7.150569915771484,9.689666748046875,6.547172546386719,6.124113082885742,6.906042575836182,5.952582359313965,6.6611647605896,9.595046043395996,5.978222370147705,6.726709842681885,7.334517955780029,4.964633464813232,10.236275672912598,6.300774097442627,10.646282196044922,10.159071922302246,9.151573181152344,9.921893119812012,8.26809024810791,5.121516704559326,9.69322681427002,9.695499420166016,9.333052635192871,9.960064888000488,10.12684440612793,7.626863479614258,10.661441802978516,6.355425834655762,5.443733215332031,10.07982349395752,10.088043212890625,5.370373249053955,9.359521865844727,5.627091407775879,7.66616153717041,9.343317031860352,7.480696201324463,10.749133110046387,9.670389175415039,6.426253795623779,4.806397914886475,6.147874355316162,6.278265476226807,10.573090553283691,9.922283172607422,9.346807479858398,6.528533935546875,5.942629814147949,10.696592330932617,5.623959541320801,10.331567764282227,7.74262809753418,5.364714622497559,5.101975440979004,8.810588836669922,7.744728088378906,10.555209159851074,8.065401077270508,5.530439853668213,6.95265007019043,5.777620792388916,6.632862091064453,10.558517456054688,10.67609691619873,7.085812568664551,7.95757532119751,6.006723880767822,10.345558166503906,8.230752944946289,4.6868577003479,6.5955939292907715,7.2520647048950195,7.993024826049805,8.614871978759766,6.9365153312683105,10.686424255371094,9.23342227935791,10.663564682006836,8.617979049682617,7.062424182891846,6.858383655548096],\"y\":[-9.404088020324707,-8.697508811950684,-8.650619506835938,-8.385258674621582,-8.387046813964844,-8.991034507751465,-8.464776039123535,-9.371123313903809,-9.977753639221191,-10.774677276611328,-11.209674835205078,-8.79824447631836,-10.416197776794434,-9.506702423095703,-10.210118293762207,-7.594837665557861,-8.29496955871582,-8.26773738861084,-11.24388599395752,-9.304047584533691,-9.823297500610352,-8.565320014953613,-10.600040435791016,-9.584795951843262,-8.206700325012207,-8.790050506591797,-9.493637084960938,-8.58359432220459,-7.852919101715088,-9.088176727294922,-10.53934383392334,-10.389350891113281,-10.942933082580566,-10.922078132629395,-8.48202896118164,-10.607423782348633,-10.369465827941895,-10.622366905212402,-10.196590423583984,-8.302742958068848,-9.481682777404785,-10.020800590515137,-9.787162780761719,-11.18210220336914,-10.853240966796875,-11.148836135864258,-11.06362533569336,-9.343905448913574,-9.821635246276855,-11.036288261413574,-10.015981674194336,-10.999120712280273,-9.55359172821045,-10.634103775024414,-8.257822036743164,-10.429838180541992,-11.002071380615234,-10.828587532043457,-8.188664436340332,-10.530423164367676,-7.755701541900635,-9.892632484436035,-9.146831512451172,-10.413697242736816,-10.145418167114258,-7.990901947021484,-9.495428085327148,-10.405059814453125,-11.085729598999023,-10.779706001281738,-10.954004287719727,-9.242775917053223,-10.913191795349121,-11.133962631225586,-10.441688537597656,-10.286855697631836,-10.275416374206543,-8.614235877990723,-8.670577049255371,-10.668834686279297,-9.317222595214844,-10.63908863067627,-9.839701652526855,-10.314611434936523,-8.0288667678833,-8.785494804382324,-10.185214042663574,-10.711939811706543,-10.606243133544922,-9.764187812805176,-8.694315910339355,-9.05319595336914,-8.239851951599121,-9.350821495056152,-10.690570831298828,-11.556733131408691,-10.371073722839355,-9.806600570678711,-10.751779556274414,-10.157503128051758],\"z\":[3.2436718940734863,4.601931095123291,3.7360730171203613,4.607808589935303,4.317842960357666,3.7287564277648926,3.3681037425994873,3.8852651119232178,4.714446544647217,6.034587383270264,5.0980987548828125,4.4666242599487305,6.286838054656982,5.484801769256592,6.683382511138916,5.077758312225342,4.602668285369873,3.799776077270508,5.9915266036987305,3.3758704662323,4.9000020027160645,4.378114700317383,4.447344779968262,6.877112865447998,3.3687431812286377,6.489501953125,3.0894742012023926,3.440443277359009,4.814748287200928,2.9761953353881836,4.773098468780518,4.104811668395996,5.886438369750977,5.529423713684082,4.184917449951172,3.765845775604248,3.7906031608581543,5.862325668334961,4.614710330963135,4.509700775146484,2.9521470069885254,2.5945234298706055,2.6309239864349365,3.4364078044891357,4.28807258605957,5.049263000488281,5.243646144866943,4.416141033172607,2.6574156284332275,3.299041509628296,4.80674409866333,3.6797311305999756,4.519024848937988,4.923956871032715,4.401350498199463,6.319943428039551,5.211684226989746,3.5482239723205566,5.887587547302246,4.8723063468933105,4.986077308654785,5.087118625640869,3.608309745788574,4.008819103240967,6.239065170288086,5.700801372528076,4.437710285186768,5.61515474319458,5.173988342285156,5.998631000518799,4.9679460525512695,4.02971076965332,5.030026435852051,5.725381374359131,6.473433017730713,4.894896984100342,6.648366451263428,4.591965675354004,3.7633285522460938,5.124883651733398,6.950019359588623,5.922558784484863,5.215877056121826,5.19441556930542,4.411661148071289,3.38840651512146,5.056917190551758,6.120725154876709,4.857080459594727,6.6324944496154785,4.037075519561768,4.254188060760498,4.589417934417725,5.818986415863037,5.433923244476318,4.0198869705200195,5.130493640899658,6.308452606201172,4.347204685211182,4.4140825271606445],\"type\":\"scatter3d\"},{\"hovertemplate\":\"label=blackgram<br>0=%{x}<br>1=%{y}<br>2=%{z}<extra></extra>\",\"legendgroup\":\"blackgram\",\"marker\":{\"color\":\"#B6E880\",\"symbol\":\"circle\",\"size\":8},\"mode\":\"markers\",\"name\":\"blackgram\",\"scene\":\"scene\",\"showlegend\":true,\"x\":[3.7726261615753174,9.848431587219238,7.308141708374023,5.882887363433838,7.004065990447998,6.207180976867676,7.032970428466797,8.671948432922363,8.99601936340332,4.386613368988037,5.684749126434326,4.666261196136475,5.3682026863098145,4.861079692840576,6.150371074676514,7.971226692199707,5.096776485443115,6.44471549987793,8.603589057922363,10.377893447875977,4.016195297241211,8.203546524047852,4.399649620056152,7.8405375480651855,10.610746383666992,6.458027362823486,5.7433037757873535,6.507265090942383,8.237066268920898,9.392871856689453,8.719156265258789,9.210976600646973,5.495966911315918,4.786585807800293,8.243504524230957,8.042025566101074,7.777812480926514,5.1574506759643555,3.8561105728149414,4.510817050933838,7.687424659729004,4.551772594451904,8.237152099609375,4.024407386779785,5.976953983306885,6.313230037689209,9.842633247375488,4.536221027374268,8.94487190246582,4.155702114105225,8.999065399169922,6.316242694854736,6.028811931610107,7.049976348876953,10.842400550842285,8.728249549865723,6.481232643127441,5.373368263244629,8.902644157409668,8.750240325927734,8.985304832458496,7.534473419189453,8.513975143432617,8.150331497192383,5.955239295959473,3.5486702919006348,7.967278480529785,4.5456953048706055,9.841187477111816,7.433483123779297,7.822291374206543,5.508091926574707,7.8254008293151855,3.919421672821045,7.202837944030762,7.299046516418457,5.152419567108154,7.10459566116333,9.288766860961914,6.312169075012207,7.027461051940918,4.985429286956787,5.699553966522217,3.9119722843170166,10.150473594665527,10.37134075164795,5.162806987762451,7.320727348327637,10.201737403869629,4.977877140045166,6.477097511291504,5.055785655975342,9.317203521728516,4.817102432250977,7.897487163543701,4.0770792961120605,4.004607200622559,5.4429755210876465,5.025333404541016,8.328237533569336],\"y\":[-1.0448741912841797,0.08443115651607513,-2.2982678413391113,-0.7465476393699646,-2.5679519176483154,-2.8001649379730225,-0.5149327516555786,0.059370484203100204,0.7301098704338074,-1.3214257955551147,-0.22878213226795197,-1.889974594116211,-2.3609981536865234,-2.098336696624756,-3.17763352394104,-0.9058699607849121,-3.8036932945251465,-2.8632476329803467,0.616614043712616,-0.2664860785007477,-1.8513429164886475,0.940385103225708,-1.7290862798690796,-1.2375539541244507,-0.29169756174087524,-2.2159337997436523,-1.3773421049118042,-1.943925142288208,-0.09741967171430588,1.1009151935577393,-0.4286558926105499,0.3843752145767212,-0.22681663930416107,-1.836241602897644,-1.270336627960205,-0.7400699257850647,-0.39781317114830017,-3.6088621616363525,-0.8329349160194397,-1.6646151542663574,-0.6083140969276428,-0.15360617637634277,0.407087504863739,-0.44545668363571167,-2.2731142044067383,-0.18022772669792175,-0.5380603075027466,-2.1709465980529785,-0.7873564958572388,-1.427414059638977,-0.15517275035381317,-0.22786328196525574,-0.29140740633010864,-0.8143966197967529,-0.047747984528541565,0.5437145233154297,-1.1081174612045288,-0.4776182174682617,-0.7358939051628113,-0.7019073963165283,-0.0866457000374794,-1.3728975057601929,0.8772909641265869,-0.7465243935585022,-3.263056993484497,-0.6123775243759155,0.17096392810344696,-1.6908643245697021,1.127266764640808,-2.5194647312164307,-1.6664555072784424,-0.538199782371521,-0.6287927627563477,-0.5895152688026428,-0.113519586622715,-1.7510110139846802,-2.7331106662750244,-1.5154075622558594,-0.5151237845420837,-2.3186819553375244,-0.8067308664321899,-2.980130195617676,-0.42803850769996643,-0.43261945247650146,-0.31792542338371277,-0.06825915724039078,-2.196098804473877,-2.8013336658477783,0.1829494833946228,-3.779454231262207,-0.21353653073310852,-3.2724921703338623,-0.23733380436897278,-3.0784976482391357,0.30325016379356384,-1.1588389873504639,-0.5084205269813538,-0.24677765369415283,0.02107573300600052,-1.2594138383865356],\"z\":[-5.442531585693359,-3.1643104553222656,-5.935530662536621,-4.173817157745361,-5.926136016845703,-7.2475810050964355,-3.480410575866699,-3.8660788536071777,-3.4625048637390137,-4.923900127410889,-3.804704189300537,-6.8961615562438965,-6.5182366371154785,-6.643699645996094,-6.561102390289307,-4.732732772827148,-7.044775009155273,-6.4309186935424805,-3.7015230655670166,-2.648298501968384,-5.461544513702393,-2.834394931793213,-5.348682880401611,-5.660702705383301,-2.6389496326446533,-6.472355842590332,-6.2896528244018555,-6.465752124786377,-3.984969139099121,-2.8960354328155518,-1.9151744842529297,-3.2300705909729004,-3.738489866256714,-6.7821125984191895,-5.748110294342041,-1.7734010219573975,-1.6659448146820068,-6.480095863342285,-5.892387390136719,-5.014297962188721,-1.6726367473602295,-5.619630336761475,-3.46592116355896,-6.016478538513184,-6.247422695159912,-2.9064018726348877,-2.1965315341949463,-6.152758598327637,-1.8415319919586182,-5.30336332321167,-3.013944149017334,-2.8362948894500732,-3.0589802265167236,-2.7721123695373535,-2.851466178894043,-2.3302247524261475,-4.944635391235352,-4.161135196685791,-4.921189785003662,-1.805030107498169,-2.797898292541504,-5.768522262573242,-3.3304100036621094,-4.62179708480835,-6.6229329109191895,-6.158632755279541,-4.041048526763916,-6.065555572509766,-3.288421869277954,-6.07769775390625,-4.681915760040283,-4.177642345428467,-1.541621208190918,-5.976191520690918,-2.4539966583251953,-6.2030415534973145,-7.183895111083984,-6.172677040100098,-3.212205171585083,-5.744112968444824,-4.6331787109375,-7.301907539367676,-3.920830726623535,-5.999906539916992,-3.1141810417175293,-3.669856548309326,-6.391474723815918,-6.156576156616211,-2.650926113128662,-6.6352667808532715,-2.934396505355835,-7.366276264190674,-3.6961987018585205,-7.131598472595215,-3.199265241622925,-6.264176845550537,-6.009652137756348,-3.8787689208984375,-4.740438938140869,-5.76271390914917],\"type\":\"scatter3d\"},{\"hovertemplate\":\"label=lentil<br>0=%{x}<br>1=%{y}<br>2=%{z}<extra></extra>\",\"legendgroup\":\"lentil\",\"marker\":{\"color\":\"#FF97FF\",\"symbol\":\"circle\",\"size\":8},\"mode\":\"markers\",\"name\":\"lentil\",\"scene\":\"scene\",\"showlegend\":true,\"x\":[14.562384605407715,14.677572250366211,14.037992477416992,15.500186920166016,14.08959674835205,13.283315658569336,15.770965576171875,15.311153411865234,16.674972534179688,16.82624053955078,15.918898582458496,15.793264389038086,16.48215675354004,13.51773452758789,14.521066665649414,14.685797691345215,13.689753532409668,13.425018310546875,10.415855407714844,15.699956893920898,16.243120193481445,14.447372436523438,15.711668014526367,15.479264259338379,16.503387451171875,14.983386993408203,14.01895523071289,15.133038520812988,15.155341148376465,15.716705322265625,13.638617515563965,15.346692085266113,16.152406692504883,16.104305267333984,15.101860046386719,14.46210765838623,15.414710998535156,14.576257705688477,14.38833999633789,16.08804702758789,14.773159980773926,15.513659477233887,13.982051849365234,14.454048156738281,14.152142524719238,15.537090301513672,16.840362548828125,14.680929183959961,14.144691467285156,15.858945846557617,15.972532272338867,16.919071197509766,14.664891242980957,13.290111541748047,15.648186683654785,16.53390121459961,15.064337730407715,16.10857582092285,15.729341506958008,14.10699462890625,13.342718124389648,15.674782752990723,15.472620964050293,15.741193771362305,15.9150972366333,15.565775871276855,13.271442413330078,15.46064567565918,16.078418731689453,15.796703338623047,13.4146728515625,14.18110179901123,14.88276195526123,13.75811767578125,15.40023422241211,17.036911010742188,16.366151809692383,13.594578742980957,15.96381950378418,14.557218551635742,14.691571235656738,15.560602188110352,14.954130172729492,16.63242530822754,13.663475036621094,13.852360725402832,13.376755714416504,14.145401954650879,16.110952377319336,16.563440322875977,13.612378120422363,15.79245662689209,16.236459732055664,15.616066932678223,13.740361213684082,13.357792854309082,16.54173469543457,16.526365280151367,13.328470230102539,14.657422065734863],\"y\":[-5.2154459953308105,-2.344882011413574,-2.7253689765930176,-4.807535648345947,-4.702986717224121,-4.555743217468262,-3.5288097858428955,-1.7966331243515015,-2.7818377017974854,-1.4128036499023438,-4.145255088806152,-3.876689910888672,-3.10719633102417,-5.659407138824463,-5.374188423156738,-5.418604373931885,-3.1015524864196777,-2.556901216506958,-1.1440629959106445,-4.576019763946533,-4.884507656097412,-2.201254367828369,-3.1845364570617676,-2.0553982257843018,-1.6190614700317383,-3.158233404159546,-2.5169882774353027,-3.9679858684539795,-4.8530378341674805,-2.5073764324188232,-5.712697982788086,-2.282789945602417,-4.57316255569458,-5.07078218460083,-3.2115745544433594,-3.7569782733917236,-4.56091833114624,-1.8252546787261963,-2.313264846801758,-1.9251846075057983,-2.619483709335327,-3.282942056655884,-3.5216636657714844,-3.4716999530792236,-2.104741334915161,-3.0064656734466553,-5.181145668029785,-2.9545040130615234,-2.6613433361053467,-4.264148235321045,-4.051422119140625,-2.208279848098755,-2.0147032737731934,-5.588710308074951,-3.165646553039551,-5.088402271270752,-5.2187066078186035,-4.8141069412231445,-4.025822639465332,-5.152690887451172,-5.473536968231201,-5.37053918838501,-2.6965036392211914,-4.249284744262695,-2.8253796100616455,-3.251469850540161,-3.8947205543518066,-4.214725017547607,-3.894404172897339,-4.002041339874268,-3.6408863067626953,-3.1816418170928955,-2.0583364963531494,-2.678333282470703,-3.1878762245178223,-2.9518322944641113,-5.149843692779541,-2.5994677543640137,-4.07218074798584,-5.010449409484863,-2.315980911254883,-1.476287841796875,-4.694854736328125,-4.837717533111572,-3.544527530670166,-3.7055904865264893,-5.409703731536865,-3.343174695968628,-4.030327796936035,-5.239475727081299,-5.407691478729248,-2.693777322769165,-3.7044131755828857,-1.4713495969772339,-4.465863227844238,-1.384596347808838,-5.081747531890869,-1.5767544507980347,-4.772054195404053,-5.293656349182129],\"z\":[-4.05945348739624,-0.2986181676387787,-4.833494186401367,0.1033095195889473,-4.562131404876709,-3.5548932552337646,1.5893031358718872,0.5395941734313965,-1.0044580698013306,-0.5250177979469299,1.2848362922668457,1.6670219898223877,0.9192929267883301,-3.1660149097442627,-4.607501983642578,-4.6630120277404785,-4.613090991973877,-3.9938132762908936,-2.092207193374634,1.4896985292434692,1.220948576927185,-0.1802322417497635,-0.3721456825733185,0.981010913848877,-0.4160682260990143,-1.1075022220611572,-4.084266185760498,1.4219071865081787,-0.285096675157547,1.6739476919174194,-3.7467610836029053,1.3197367191314697,1.3431764841079712,0.3193163573741913,-0.25663501024246216,-5.017502307891846,-1.5273770093917847,-1.3872753381729126,-4.2012715339660645,-4.123518943786621,0.8673701882362366,-1.3675422668457031,-4.331944465637207,-0.08624323457479477,-2.4794185161590576,-2.822619676589966,0.546919584274292,-3.1779415607452393,-3.312347173690796,-2.7282354831695557,-0.012067895382642746,-0.289873331785202,-0.21898530423641205,-3.4575095176696777,0.9248735308647156,-0.10522478073835373,-4.6032280921936035,-1.3146003484725952,-3.338275909423828,-2.4775338172912598,-3.517773389816284,-0.7771840691566467,-2.719902515411377,-3.1545920372009277,1.39453125,-0.23925627768039703,-4.3240251541137695,-3.489664077758789,-0.2087777554988861,-2.7567577362060547,-3.2187626361846924,-0.27952811121940613,-0.623508095741272,-4.231595516204834,-2.379333734512329,0.6657922267913818,-0.005357172340154648,-3.73124623298645,1.5542221069335938,-4.254158020019531,0.6197733283042908,-0.2191738486289978,-0.28131937980651855,-0.701450526714325,-4.466729164123535,-3.471571445465088,-3.2228338718414307,-4.95812463760376,-0.36536338925361633,-0.2129741758108139,-4.111751079559326,1.8374683856964111,0.6864173412322998,-0.30207160115242004,-4.597048282623291,-3.750744581222534,0.060308001935482025,-0.18524940311908722,-4.003268718719482,-4.275051116943359],\"type\":\"scatter3d\"},{\"hovertemplate\":\"label=pomegranate<br>0=%{x}<br>1=%{y}<br>2=%{z}<extra></extra>\",\"legendgroup\":\"pomegranate\",\"marker\":{\"color\":\"#FECB52\",\"symbol\":\"circle\",\"size\":8},\"mode\":\"markers\",\"name\":\"pomegranate\",\"scene\":\"scene\",\"showlegend\":true,\"x\":[-18.828065872192383,-19.223424911499023,-17.58441925048828,-17.393421173095703,-18.45479965209961,-16.82626724243164,-17.45151710510254,-17.720834732055664,-16.779129028320312,-19.665071487426758,-19.770431518554688,-19.507400512695312,-18.664514541625977,-18.724964141845703,-17.117191314697266,-19.02530288696289,-17.164413452148438,-18.64362907409668,-19.583696365356445,-17.550161361694336,-20.247331619262695,-16.293771743774414,-17.27297019958496,-19.197341918945312,-17.468835830688477,-19.58256721496582,-18.96878433227539,-19.271183013916016,-18.646690368652344,-18.248302459716797,-18.207679748535156,-16.907989501953125,-17.324445724487305,-17.75023078918457,-17.4739933013916,-17.59870719909668,-19.409475326538086,-16.9679012298584,-18.11870765686035,-18.261301040649414,-16.150388717651367,-17.727048873901367,-18.818363189697266,-16.917369842529297,-18.488019943237305,-18.1290340423584,-17.116857528686523,-19.15981674194336,-16.777929306030273,-19.511592864990234,-19.677818298339844,-17.338390350341797,-19.80816078186035,-20.23841094970703,-19.75718116760254,-16.93217658996582,-17.842941284179688,-18.775897979736328,-19.065155029296875,-20.3021240234375,-17.92898178100586,-16.809654235839844,-17.368053436279297,-17.236404418945312,-18.139190673828125,-19.520423889160156,-18.48676300048828,-16.186742782592773,-17.430076599121094,-18.058616638183594,-18.662799835205078,-18.33021354675293,-16.999849319458008,-18.162683486938477,-20.086994171142578,-20.45562744140625,-19.673118591308594,-20.241771697998047,-18.67426872253418,-17.402788162231445,-20.330223083496094,-17.51190757751465,-18.29720687866211,-19.680423736572266,-16.870967864990234,-16.634309768676758,-20.088275909423828,-20.056615829467773,-17.252132415771484,-17.993728637695312,-19.240131378173828,-17.26979637145996,-18.39729881286621,-16.222312927246094,-16.303104400634766,-16.632465362548828,-19.67934226989746,-18.748760223388672,-16.735103607177734,-17.75174903869629],\"y\":[-2.6041693687438965,-2.798452854156494,-2.816983938217163,-7.581385612487793,-2.4327330589294434,-7.0822296142578125,-5.128555774688721,-2.9451074600219727,-5.97976541519165,-4.053825378417969,-3.672792911529541,-4.094014644622803,-6.92666482925415,-2.1708924770355225,-6.581688404083252,-4.218384265899658,-4.809307098388672,-3.3408679962158203,-2.6992547512054443,-4.902634620666504,-3.4979519844055176,-7.745018005371094,-5.534417152404785,-2.932316541671753,-3.8939104080200195,-2.299865961074829,-1.8841533660888672,-5.805342197418213,-3.310624122619629,-6.710132598876953,-4.412402153015137,-6.93065881729126,-5.312314987182617,-5.755354404449463,-2.673327922821045,-5.999736785888672,-2.7403981685638428,-7.7647833824157715,-2.349116563796997,-4.831816673278809,-7.798020839691162,-2.692002296447754,-2.88388991355896,-7.620815753936768,-7.062911033630371,-3.2681307792663574,-6.349595546722412,-2.8894739151000977,-5.438342571258545,-2.6248648166656494,-4.763217449188232,-6.69223165512085,-5.1080217361450195,-3.9471704959869385,-2.5511114597320557,-6.357437610626221,-2.6357827186584473,-3.8315463066101074,-2.2622790336608887,-2.619873285293579,-2.158447265625,-5.722830772399902,-5.72128963470459,-3.788238763809204,-7.073908805847168,-4.752933979034424,-2.8128015995025635,-7.756648063659668,-4.068664073944092,-7.5791521072387695,-6.8765974044799805,-6.869653224945068,-4.381723880767822,-2.979210138320923,-4.088657379150391,-2.493215799331665,-5.009718894958496,-4.075723648071289,-6.401096820831299,-7.336122989654541,-3.6326417922973633,-2.881734848022461,-6.7517476081848145,-4.352419853210449,-5.141462326049805,-7.970042705535889,-4.7643585205078125,-3.658440351486206,-7.278781414031982,-2.3000926971435547,-2.9310107231140137,-6.861952781677246,-7.074589252471924,-8.028156280517578,-7.0867133140563965,-6.621621131896973,-2.409468412399292,-3.8019659519195557,-7.774075984954834,-3.392470359802246],\"z\":[6.365370750427246,4.834218978881836,5.109801769256592,1.8677159547805786,6.486262798309326,2.780365467071533,3.5282464027404785,6.208162784576416,3.6649415493011475,2.8104193210601807,2.0153589248657227,2.296685218811035,1.021680474281311,5.384886264801025,2.8092410564422607,3.185912847518921,4.379387855529785,4.000966548919678,4.637998580932617,3.999911069869995,3.011255979537964,1.6679471731185913,3.62092661857605,4.290903091430664,5.639560699462891,5.481325149536133,5.182631969451904,1.62067711353302,5.511169910430908,2.2756855487823486,3.653809070587158,1.9688060283660889,3.81831693649292,2.6891844272613525,5.416202068328857,2.7727577686309814,5.729403018951416,2.406721591949463,5.841276168823242,2.947972059249878,2.1678221225738525,6.3738017082214355,6.0622477531433105,1.8179830312728882,1.1241021156311035,6.014409065246582,2.7700376510620117,5.85142183303833,3.5175557136535645,5.066549777984619,1.9772683382034302,2.984196901321411,1.8812052011489868,2.7132647037506104,4.272830486297607,3.093501329421997,5.001556396484375,4.8719868659973145,5.021379470825195,3.8037362098693848,6.219008922576904,4.258233547210693,3.1048154830932617,5.430947780609131,0.8487783670425415,2.0549590587615967,6.556213855743408,1.9091871976852417,4.760430335998535,1.6590454578399658,1.1087896823883057,1.8178077936172485,3.6129629611968994,5.089900016784668,2.467064619064331,3.768277406692505,2.0542056560516357,2.7361044883728027,1.4519416093826294,1.220459222793579,2.8336877822875977,5.915191173553467,1.791507363319397,2.355581760406494,4.038017272949219,2.0692999362945557,2.2300567626953125,2.978893995285034,1.2212426662445068,5.994452476501465,4.245312690734863,2.5881669521331787,0.9209803938865662,2.247140407562256,2.6127641201019287,1.9441324472427368,4.40012788772583,3.71354079246521,1.970751404762268,5.974638938903809],\"type\":\"scatter3d\"},{\"hovertemplate\":\"label=banana<br>0=%{x}<br>1=%{y}<br>2=%{z}<extra></extra>\",\"legendgroup\":\"banana\",\"marker\":{\"color\":\"#636efa\",\"symbol\":\"circle\",\"size\":8},\"mode\":\"markers\",\"name\":\"banana\",\"scene\":\"scene\",\"showlegend\":true,\"x\":[-3.0082056522369385,-3.2198078632354736,-3.658705472946167,-3.823747396469116,-5.972141742706299,-5.707298278808594,-3.3812506198883057,-3.099946975708008,-4.749044895172119,-4.086905002593994,-2.9678823947906494,-3.337975025177002,-6.704260349273682,-3.25736403465271,-5.263370513916016,-4.284917831420898,-5.91616153717041,-4.8343400955200195,-5.018740177154541,-4.926519393920898,-4.829325199127197,-3.4767167568206787,-3.8010973930358887,-5.486839771270752,-5.190974235534668,-3.9742307662963867,-3.1323909759521484,-3.0136852264404297,-3.0343103408813477,-5.64877986907959,-5.9415740966796875,-3.626072406768799,-6.648696422576904,-4.900958061218262,-5.153441429138184,-3.0560948848724365,-5.131868839263916,-5.590067386627197,-6.63142728805542,-6.290123462677002,-5.338439464569092,-6.735304355621338,-4.565557956695557,-5.677769660949707,-4.327243804931641,-5.855195045471191,-6.466887474060059,-6.27548360824585,-5.306364059448242,-4.8936567306518555,-3.3429408073425293,-2.901201009750366,-5.8505539894104,-4.829346656799316,-5.994152069091797,-6.3885416984558105,-5.508765697479248,-6.010035037994385,-4.619463920593262,-4.99727201461792,-5.863012313842773,-6.065541744232178,-6.026825904846191,-5.668682098388672,-5.493404865264893,-5.505236625671387,-5.1709675788879395,-3.8116025924682617,-6.331066131591797,-5.039758682250977,-3.2887237071990967,-4.807839393615723,-3.4546563625335693,-2.8891258239746094,-6.363697052001953,-3.4522104263305664,-3.2965500354766846,-3.347285032272339,-3.1455271244049072,-3.1298041343688965,-3.589475631713867,-4.4683966636657715,-3.6132867336273193,-3.2444567680358887,-3.4230058193206787,-3.5100467205047607,-4.042491436004639,-5.567926406860352,-4.769176959991455,-3.148991107940674,-4.09407377243042,-3.1590487957000732,-4.340670108795166,-3.8555703163146973,-5.40317964553833,-2.4759981632232666,-4.9828996658325195,-3.371077299118042,-3.991264581680298,-3.05177640914917],\"y\":[1.2424752712249756,-0.47787368297576904,-0.9551841020584106,1.2868785858154297,1.7565771341323853,1.6310834884643555,1.5034741163253784,-1.063400387763977,-1.2283118963241577,-1.3856078386306763,-2.0541203022003174,-0.198027104139328,-0.32873624563217163,-1.0120275020599365,2.298003911972046,1.6933050155639648,2.256793737411499,-2.100496292114258,-0.9124441146850586,-2.3036680221557617,-1.9502900838851929,-1.8101954460144043,-0.22161683440208435,1.6758836507797241,-2.343209743499756,0.9233266711235046,-1.99203360080719,-2.2373480796813965,-1.5286625623703003,1.220920443534851,1.5351442098617554,0.8787656426429749,-1.4083452224731445,-1.194564700126648,1.335530161857605,-2.1324501037597656,-2.4889848232269287,-2.6958324909210205,-1.0355275869369507,1.161462426185608,2.463117837905884,-1.0527969598770142,-1.2256207466125488,-0.6159577965736389,-1.166983723640442,1.7697526216506958,-1.6461124420166016,1.4014121294021606,2.4452219009399414,-2.3054721355438232,-1.6173261404037476,-2.172471761703491,-0.9867382049560547,0.6883136034011841,-0.24520868062973022,-1.7886133193969727,2.3695898056030273,-1.3160789012908936,1.3269857168197632,-2.2029924392700195,-2.0185348987579346,-0.371559739112854,0.29627594351768494,0.9791190028190613,1.150261402130127,-1.135847806930542,-1.2716959714889526,0.49317893385887146,1.1606106758117676,-2.3493378162384033,-1.653838038444519,-1.0102406740188599,-0.09036268293857574,-1.4374406337738037,-0.545326828956604,0.4884328246116638,1.4953798055648804,1.3249672651290894,-2.089665412902832,0.07918644696474075,0.2732064723968506,1.4069359302520752,1.4225726127624512,0.9214317798614502,-1.3480955362319946,-1.000520944595337,-0.8500822186470032,1.3093217611312866,-1.0263086557388306,-1.6500316858291626,-2.427635669708252,0.764905571937561,-2.2465639114379883,-0.454548180103302,2.064600706100464,-0.6716621518135071,0.7447783946990967,-1.8648463487625122,1.5315136909484863,-2.1775429248809814],\"z\":[-17.010910034179688,-18.502273559570312,-18.73209571838379,-15.130565643310547,-16.155221939086914,-18.371017456054688,-16.76239585876465,-17.954418182373047,-19.15250015258789,-16.495380401611328,-17.935775756835938,-17.49257469177246,-17.206642150878906,-17.613046646118164,-17.81789207458496,-15.488723754882812,-18.14911651611328,-17.83197593688965,-16.13043212890625,-19.124588012695312,-19.64141845703125,-16.711313247680664,-15.0133695602417,-15.552077293395996,-18.406505584716797,-15.158818244934082,-15.842996597290039,-16.33789825439453,-17.91057777404785,-17.077207565307617,-18.223806381225586,-15.800450325012207,-17.54039764404297,-16.01422882080078,-18.000316619873047,-15.85527229309082,-18.517507553100586,-18.226207733154297,-17.30868148803711,-17.790386199951172,-17.415069580078125,-17.178403854370117,-19.108625411987305,-17.31389617919922,-19.11406135559082,-16.113941192626953,-17.514846801757812,-17.984392166137695,-17.768754959106445,-19.447160720825195,-15.476283073425293,-17.173601150512695,-16.9410343170166,-16.51485824584961,-16.538236618041992,-17.609851837158203,-17.80887222290039,-17.06200408935547,-15.430604934692383,-19.15420150756836,-18.578481674194336,-16.706850051879883,-16.55764389038086,-17.277894973754883,-17.397159576416016,-17.638198852539062,-16.303260803222656,-15.04335880279541,-17.949703216552734,-19.419891357421875,-15.453849792480469,-19.118057250976562,-15.465385437011719,-17.81509017944336,-16.835176467895508,-15.723509788513184,-16.59030532836914,-16.093093872070312,-18.037555694580078,-18.079740524291992,-18.19002914428711,-15.198575019836426,-16.33247947692871,-16.6248722076416,-15.381492614746094,-15.325589179992676,-15.58051872253418,-17.953889846801758,-15.672158241271973,-17.928707122802734,-18.13382339477539,-16.43339729309082,-18.392866134643555,-18.83868408203125,-17.475061416625977,-18.178691864013672,-16.592893600463867,-15.80579948425293,-15.089115142822266,-17.33249855041504],\"type\":\"scatter3d\"},{\"hovertemplate\":\"label=mango<br>0=%{x}<br>1=%{y}<br>2=%{z}<extra></extra>\",\"legendgroup\":\"mango\",\"marker\":{\"color\":\"#EF553B\",\"symbol\":\"circle\",\"size\":8},\"mode\":\"markers\",\"name\":\"mango\",\"scene\":\"scene\",\"showlegend\":true,\"x\":[12.873170852661133,9.711936950683594,10.9828462600708,10.82398509979248,13.8400239944458,12.158853530883789,12.086159706115723,12.457206726074219,11.517677307128906,9.941563606262207,12.116255760192871,11.029099464416504,9.49705696105957,12.453729629516602,12.8552827835083,13.079130172729492,9.257890701293945,9.68696403503418,12.666777610778809,10.040182113647461,13.386392593383789,9.670180320739746,10.933268547058105,9.577125549316406,10.126558303833008,11.99038028717041,10.376361846923828,12.4483060836792,11.86479377746582,10.439130783081055,11.499853134155273,10.086928367614746,11.106441497802734,11.381600379943848,13.755187034606934,13.291091918945312,11.160715103149414,10.146015167236328,12.45031452178955,12.052398681640625,13.027867317199707,10.59715461730957,9.088343620300293,12.809539794921875,9.6177396774292,9.602482795715332,10.364945411682129,13.639494895935059,10.315719604492188,13.306147575378418,9.248739242553711,11.114320755004883,9.357674598693848,11.513076782226562,9.666008949279785,9.718523979187012,11.257749557495117,11.342050552368164,11.71982192993164,10.207704544067383,10.90760612487793,11.341486930847168,13.124951362609863,13.522941589355469,8.885367393493652,11.372162818908691,13.708293914794922,12.43333625793457,10.128811836242676,11.32380485534668,12.145416259765625,13.163677215576172,10.788413047790527,11.301522254943848,11.27334976196289,9.528335571289062,12.88399887084961,10.423746109008789,10.516036987304688,13.838719367980957,13.272276878356934,12.935883522033691,11.983404159545898,12.50922679901123,12.781667709350586,9.771097183227539,11.23558521270752,9.947250366210938,12.01356315612793,10.628203392028809,12.388937950134277,10.261190414428711,11.854959487915039,10.305150032043457,9.59878921508789,10.881488800048828,11.5614595413208,11.959436416625977,10.844956398010254,11.732200622558594],\"y\":[12.325825691223145,12.98681640625,13.838117599487305,14.302457809448242,14.500332832336426,14.82203483581543,14.921659469604492,14.447636604309082,12.614625930786133,12.858075141906738,14.790865898132324,14.34926700592041,12.351954460144043,13.563117980957031,14.782246589660645,13.731417655944824,11.380940437316895,11.847147941589355,14.85664176940918,13.383305549621582,15.040489196777344,12.744074821472168,14.01784896850586,11.84535026550293,13.794831275939941,12.251044273376465,13.680810928344727,12.8964204788208,13.530007362365723,14.06387710571289,12.749205589294434,12.23707389831543,13.318400382995605,13.210792541503906,14.937212944030762,13.399277687072754,12.615991592407227,13.855124473571777,12.39736270904541,13.936070442199707,12.547762870788574,12.1451416015625,11.526738166809082,13.177180290222168,12.932984352111816,11.792851448059082,13.54049301147461,14.907607078552246,13.953714370727539,15.025040626525879,11.523723602294922,12.455123901367188,11.381802558898926,13.763869285583496,13.053085327148438,12.268020629882812,14.355406761169434,15.022483825683594,12.959992408752441,11.567968368530273,13.677231788635254,13.762483596801758,12.85564136505127,14.203018188476562,11.476369857788086,12.107176780700684,14.7139892578125,12.33344554901123,11.946093559265137,13.432611465454102,14.444209098815918,14.718817710876465,13.340353965759277,12.936330795288086,13.21737289428711,11.79254150390625,14.572522163391113,13.645633697509766,12.8050537109375,14.884419441223145,13.543261528015137,12.756213188171387,13.725143432617188,13.916253089904785,12.86416244506836,12.010427474975586,13.817244529724121,12.041744232177734,14.132682800292969,13.805022239685059,13.268058776855469,11.492539405822754,12.582226753234863,13.913558959960938,13.238687515258789,12.16162109375,15.007790565490723,14.504610061645508,13.801095008850098,13.55793571472168],\"z\":[-0.15258075296878815,-6.248111724853516,-3.428497791290283,-4.385000228881836,-1.5131138563156128,-4.504445552825928,-4.253739356994629,-3.982781171798706,-0.893690288066864,-4.800079822540283,-3.664738178253174,-4.470384120941162,-5.650892734527588,-1.9975271224975586,-3.007983446121216,-0.8747435808181763,-4.792219638824463,-3.3991947174072266,-3.2957167625427246,-6.954351425170898,-1.7199381589889526,-5.915637493133545,-5.80198335647583,-3.6061997413635254,-6.685057163238525,-1.2273669242858887,-6.753484725952148,-1.0013476610183716,-2.621677875518799,-6.358665943145752,-0.596734881401062,-5.044357776641846,-0.9819637537002563,-1.0507510900497437,-2.044067144393921,-0.6518276929855347,-1.5493675470352173,-6.250349044799805,-0.044966887682676315,-0.9037036895751953,-0.2533160448074341,-4.078222274780273,-4.324446678161621,-0.6456815004348755,-4.804800987243652,-5.034207344055176,-6.444293975830078,-2.248817205429077,-6.738316059112549,-1.9064427614212036,-4.582622528076172,-3.3757164478302,-4.874129772186279,-4.156693458557129,-5.706270217895508,-3.0133965015411377,-5.0284810066223145,-4.306649684906006,-0.8940602540969849,-4.156167984008789,-3.366075277328491,-3.9566311836242676,-0.3890972137451172,-1.2060415744781494,-4.649948596954346,-1.667282223701477,-1.911212682723999,-0.7488983869552612,-4.917227745056152,-1.4922491312026978,-3.5939998626708984,-2.3864972591400146,-2.9664065837860107,-0.39011088013648987,-4.810912609100342,-3.92429518699646,-3.522858142852783,-7.006275177001953,-4.7137298583984375,-1.7952384948730469,-0.7276262640953064,-0.364715576171875,-1.885566234588623,-0.9479639530181885,0.10681891441345215,-3.383422374725342,-5.207820415496826,-2.8348939418792725,-4.325152397155762,-4.873042106628418,-1.0462263822555542,-4.091729640960693,-0.33831387758255005,-6.777255058288574,-6.116677761077881,-2.0704574584960938,-4.237382411956787,-4.576111793518066,-5.770946502685547,-3.178495407104492],\"type\":\"scatter3d\"},{\"hovertemplate\":\"label=grapes<br>0=%{x}<br>1=%{y}<br>2=%{z}<extra></extra>\",\"legendgroup\":\"grapes\",\"marker\":{\"color\":\"#00cc96\",\"symbol\":\"circle\",\"size\":8},\"mode\":\"markers\",\"name\":\"grapes\",\"scene\":\"scene\",\"showlegend\":true,\"x\":[1.9228839874267578,4.23337459564209,1.2830195426940918,0.3367834985256195,2.0531318187713623,3.168243885040283,1.761427402496338,2.8920536041259766,3.2936573028564453,2.751004457473755,1.449925184249878,2.8851287364959717,2.911301374435425,3.6768839359283447,2.378800392150879,2.5910685062408447,2.5088353157043457,4.527414321899414,0.9608482122421265,4.334364891052246,1.1763837337493896,0.6552260518074036,0.771492063999176,1.0306072235107422,2.6941025257110596,3.0259788036346436,3.3596277236938477,3.549462080001831,0.4959771931171417,2.517212152481079,1.9122569561004639,3.399033308029175,1.5522534847259521,4.444692134857178,3.4400789737701416,0.8483904600143433,4.277461051940918,1.0139364004135132,2.8017852306365967,2.337498903274536,0.4268079996109009,0.30495238304138184,3.6273460388183594,4.720349311828613,1.6023428440093994,1.5742326974868774,4.098146438598633,0.9608156681060791,3.2936058044433594,0.9964897036552429,0.5186101794242859,4.221541881561279,3.9232048988342285,4.286901473999023,3.148146629333496,1.4622336626052856,0.4421653151512146,2.0728187561035156,3.235602855682373,2.8015689849853516,1.4853304624557495,2.4339027404785156,0.8656316995620728,1.125277042388916,3.746511459350586,0.5886545181274414,-0.05902451276779175,0.5464102029800415,1.979896903038025,0.48028817772865295,4.604399681091309,2.918264627456665,0.9688190817832947,0.9676188826560974,4.087759494781494,3.393930435180664,1.6230305433273315,2.673927068710327,0.39280128479003906,0.8055896162986755,0.3415546119213104,0.34997761249542236,4.312886714935303,1.2140419483184814,2.7891807556152344,3.509178400039673,4.414008140563965,0.635072648525238,2.033726692199707,0.10611606389284134,1.6719807386398315,2.7326254844665527,3.2644777297973633,2.0594899654388428,3.0036768913269043,3.1019866466522217,1.3360909223556519,4.507200241088867,0.2009536176919937,1.5758157968521118],\"y\":[9.159717559814453,8.941155433654785,8.243636131286621,9.332590103149414,9.66514778137207,7.043135166168213,12.038936614990234,8.218414306640625,8.051328659057617,8.416314125061035,8.939282417297363,11.778539657592773,7.371424198150635,10.091706275939941,11.970317840576172,9.615835189819336,11.96854305267334,8.422983169555664,9.850817680358887,8.072864532470703,10.802777290344238,11.270109176635742,11.001533508300781,8.42707347869873,8.426521301269531,11.342337608337402,8.383648872375488,8.030224800109863,8.696648597717285,9.321877479553223,9.569270133972168,8.045327186584473,10.278684616088867,9.01710319519043,10.957342147827148,10.960831642150879,8.112396240234375,11.53850269317627,8.173161506652832,8.960819244384766,11.255083084106445,10.724172592163086,8.515631675720215,7.9732184410095215,8.135995864868164,10.186067581176758,7.8509135246276855,10.415678024291992,7.582419395446777,11.835609436035156,10.59191608428955,8.817663192749023,8.205245018005371,8.461385726928711,10.792655944824219,12.327360153198242,11.172796249389648,8.629315376281738,10.384406089782715,8.595706939697266,10.474326133728027,9.58400821685791,9.330123901367188,11.890447616577148,10.4011812210083,10.039773941040039,10.23686695098877,11.169697761535645,10.621301651000977,8.87397289276123,8.804569244384766,7.457688331604004,11.575187683105469,11.37161636352539,9.322981834411621,7.985360622406006,9.798894882202148,8.331872940063477,10.067667007446289,10.177392959594727,8.866275787353516,10.861625671386719,8.053177833557129,11.870487213134766,11.568371772766113,7.6401495933532715,8.303497314453125,8.780218124389648,12.36218547821045,10.589332580566406,12.257184028625488,8.414022445678711,7.400315284729004,11.99425220489502,8.288213729858398,11.140005111694336,11.773133277893066,8.545817375183105,10.540102005004883,11.832463264465332],\"z\":[-15.160262107849121,-15.307716369628906,-15.332602500915527,-16.170127868652344,-14.301886558532715,-14.912723541259766,-14.481414794921875,-12.5122652053833,-12.48005199432373,-16.10799217224121,-16.410411834716797,-13.745685577392578,-14.241134643554688,-13.957232475280762,-13.712624549865723,-15.474085807800293,-13.898175239562988,-13.516756057739258,-13.659131050109863,-14.813715934753418,-16.837657928466797,-14.65526008605957,-15.231060981750488,-15.327828407287598,-13.006073951721191,-13.701226234436035,-14.060616493225098,-12.614144325256348,-15.870394706726074,-16.479320526123047,-16.297618865966797,-12.898702621459961,-16.568096160888672,-14.247319221496582,-13.597896575927734,-13.786606788635254,-13.63608169555664,-15.475377082824707,-15.222846031188965,-12.421738624572754,-13.515779495239258,-14.914470672607422,-13.155941009521484,-13.876099586486816,-15.31214714050293,-16.132516860961914,-14.429763793945312,-16.902341842651367,-14.064589500427246,-15.041590690612793,-13.092574119567871,-15.29944133758545,-13.562383651733398,-14.93411922454834,-13.418061256408691,-14.421917915344238,-13.78396224975586,-12.987241744995117,-14.130210876464844,-16.22788429260254,-16.427953720092773,-14.496678352355957,-16.55462646484375,-13.74084186553955,-13.617030143737793,-16.47673225402832,-14.69669246673584,-15.079562187194824,-16.20791244506836,-16.164173126220703,-13.798086166381836,-13.563337326049805,-13.881156921386719,-14.86211109161377,-15.184134483337402,-15.870044708251953,-13.686735153198242,-14.866751670837402,-16.16745948791504,-16.806854248046875,-15.759955406188965,-13.914594650268555,-13.161458969116211,-15.090557098388672,-14.440827369689941,-14.018757820129395,-14.386246681213379,-16.281299591064453,-14.153281211853027,-13.703269958496094,-14.234277725219727,-12.328458786010742,-14.141179084777832,-13.766797065734863,-12.543611526489258,-13.548685073852539,-15.580975532531738,-14.722451210021973,-13.994781494140625,-13.52199935913086],\"type\":\"scatter3d\"},{\"hovertemplate\":\"label=watermelon<br>0=%{x}<br>1=%{y}<br>2=%{z}<extra></extra>\",\"legendgroup\":\"watermelon\",\"marker\":{\"color\":\"#ab63fa\",\"symbol\":\"circle\",\"size\":8},\"mode\":\"markers\",\"name\":\"watermelon\",\"scene\":\"scene\",\"showlegend\":true,\"x\":[-4.516886234283447,-4.097471237182617,-5.322953701019287,-5.722642421722412,-4.490011215209961,-5.604705333709717,-6.925149917602539,-6.978071212768555,-6.574856281280518,-4.057337760925293,-6.551867485046387,-6.311017990112305,-6.424214839935303,-4.027576923370361,-3.989414930343628,-4.643048286437988,-6.579885482788086,-5.644802093505859,-6.967315673828125,-4.113959789276123,-6.441193103790283,-5.414913177490234,-4.8794779777526855,-4.077768802642822,-5.360624313354492,-5.703520774841309,-5.25889253616333,-5.565191268920898,-5.001326084136963,-5.445988178253174,-4.425936698913574,-6.093448638916016,-6.20484733581543,-5.761317253112793,-5.405536651611328,-5.044483661651611,-4.281027317047119,-4.576702117919922,-4.503655433654785,-5.85349702835083,-6.189651012420654,-5.024443626403809,-5.253231048583984,-5.990373611450195,-5.647711753845215,-6.140637397766113,-6.880871295928955,-6.534530162811279,-5.445173263549805,-5.03446102142334,-5.043242931365967,-5.903896808624268,-6.374636650085449,-6.138001918792725,-5.603202819824219,-4.605850696563721,-4.290944576263428,-4.823518753051758,-6.617695331573486,-6.224501609802246,-6.35299015045166,-4.105145454406738,-4.58178186416626,-4.475957870483398,-3.896085500717163,-5.071688652038574,-5.32694673538208,-5.714174270629883,-6.052813529968262,-4.463912010192871,-6.473201274871826,-3.996504068374634,-7.1020283699035645,-3.8180415630340576,-7.005281448364258,-5.1500749588012695,-6.176823616027832,-5.670306205749512,-5.114301681518555,-3.71353816986084,-3.834213972091675,-5.961083889007568,-4.463104724884033,-5.380314826965332,-4.527373790740967,-6.91835355758667,-6.370261192321777,-5.001638412475586,-4.184144973754883,-5.101734161376953,-5.37262487411499,-4.36257791519165,-6.242703914642334,-6.553202152252197,-4.013780117034912,-6.797191143035889,-4.749058723449707,-4.186873912811279,-5.09412145614624,-4.996313095092773],\"y\":[-11.763376235961914,-10.885485649108887,-11.536150932312012,-9.508469581604004,-9.51141357421875,-9.464020729064941,-9.35313606262207,-9.379480361938477,-8.85071849822998,-9.744385719299316,-9.554763793945312,-8.339923858642578,-9.123369216918945,-9.484174728393555,-9.642659187316895,-8.212629318237305,-9.596367835998535,-11.368138313293457,-8.767130851745605,-9.490830421447754,-9.767228126525879,-8.032557487487793,-11.386971473693848,-8.62496566772461,-9.606806755065918,-7.180707931518555,-9.548693656921387,-9.433876037597656,-11.798233032226562,-9.881699562072754,-10.495552062988281,-9.616488456726074,-9.843670845031738,-8.065583229064941,-8.094259262084961,-11.120366096496582,-9.427021026611328,-11.840356826782227,-8.930082321166992,-8.089198112487793,-10.018558502197266,-7.270330429077148,-6.981860160827637,-9.114179611206055,-9.82352352142334,-10.213309288024902,-9.31237506866455,-7.411997318267822,-11.245025634765625,-10.317487716674805,-10.252618789672852,-8.56594467163086,-8.613981246948242,-9.118718147277832,-9.378212928771973,-11.624957084655762,-11.143889427185059,-11.42238712310791,-7.919421195983887,-7.106313705444336,-9.545753479003906,-9.000672340393066,-8.931756019592285,-8.785035133361816,-9.35550594329834,-9.339272499084473,-9.77896785736084,-7.972385883331299,-9.621424674987793,-10.834473609924316,-10.12165355682373,-11.823476791381836,-8.946066856384277,-10.269680976867676,-8.477066040039062,-7.004443645477295,-7.874212741851807,-8.392778396606445,-9.011399269104004,-10.418108940124512,-11.655400276184082,-7.258411884307861,-8.4892578125,-11.52893352508545,-7.706892967224121,-9.664963722229004,-7.937851428985596,-9.774383544921875,-10.796599388122559,-11.64122200012207,-9.76685619354248,-8.34251594543457,-9.32586669921875,-9.057032585144043,-11.92365550994873,-8.980264663696289,-8.913397789001465,-8.99902629852295,-9.29271411895752,-11.800553321838379],\"z\":[9.720332145690918,10.08558464050293,7.936465740203857,10.183248519897461,6.133984565734863,4.298101425170898,4.657308578491211,5.208956718444824,4.7908172607421875,10.475615501403809,4.709194660186768,5.826498508453369,8.310544967651367,10.650871276855469,8.043930053710938,7.448242664337158,8.47681999206543,9.045943260192871,5.092957496643066,7.91766357421875,8.702695846557617,7.933536529541016,10.118194580078125,7.157814979553223,4.405964374542236,6.21547269821167,5.8704729080200195,10.484362602233887,8.955486297607422,4.679360866546631,10.273139953613281,6.191763401031494,8.711456298828125,8.184700965881348,8.019904136657715,8.75117015838623,10.629471778869629,9.514573097229004,9.769089698791504,5.114092826843262,7.682628154754639,7.103703498840332,6.673270225524902,9.698336601257324,8.101361274719238,7.735780239105225,4.836206912994385,6.307855129241943,7.500141620635986,6.592541694641113,6.504762649536133,6.276266574859619,7.421363353729248,4.64681339263916,4.487917423248291,8.767416954040527,9.865755081176758,10.184460639953613,7.194852352142334,6.136068344116211,8.139505386352539,7.689502716064453,10.054342269897461,9.51231575012207,10.491165161132812,4.7548956871032715,10.580992698669434,6.830775737762451,5.459256649017334,9.642864227294922,7.0394415855407715,9.234411239624023,6.493184566497803,8.060832977294922,5.146247386932373,6.84340238571167,7.326170444488525,4.94887113571167,10.180087089538574,8.31159496307373,8.968268394470215,6.07183837890625,8.092273712158203,9.395830154418945,8.144522666931152,6.230473518371582,7.343727111816406,5.52461051940918,8.942398071289062,9.089444160461426,5.166109085083008,7.959177494049072,4.836523532867432,7.385261058807373,9.411918640136719,7.887998104095459,9.871071815490723,7.075235843658447,4.6508259773254395,9.987071990966797],\"type\":\"scatter3d\"},{\"hovertemplate\":\"label=muskmelon<br>0=%{x}<br>1=%{y}<br>2=%{z}<extra></extra>\",\"legendgroup\":\"muskmelon\",\"marker\":{\"color\":\"#FFA15A\",\"symbol\":\"circle\",\"size\":8},\"mode\":\"markers\",\"name\":\"muskmelon\",\"scene\":\"scene\",\"showlegend\":true,\"x\":[-0.3682411015033722,-0.01250795554369688,2.2985963821411133,-0.2728074789047241,3.1747851371765137,5.496466159820557,-0.17836648225784302,0.010651446878910065,0.10752043128013611,1.0571625232696533,5.556798934936523,-0.31272876262664795,4.464117050170898,5.751774787902832,0.5521668791770935,3.3877322673797607,-0.3923660218715668,0.7710264325141907,5.18748664855957,4.407612323760986,4.793081760406494,2.5814545154571533,1.1596606969833374,3.856030225753784,2.138636589050293,-0.26813963055610657,5.258315086364746,1.9496216773986816,2.187182903289795,-0.3105393648147583,2.3465301990509033,0.9445486068725586,1.8022953271865845,0.5825032591819763,2.9811813831329346,4.735250473022461,4.733089923858643,-0.7136544585227966,3.060105562210083,0.7280427813529968,5.231800079345703,-0.5901274681091309,0.5022538304328918,3.4510867595672607,1.2891286611557007,2.7407445907592773,1.4800740480422974,5.279316425323486,-0.37606486678123474,2.9526917934417725,0.00785754807293415,2.2311782836914062,2.494572162628174,3.7377524375915527,3.4472789764404297,0.9991446137428284,-0.6687260866165161,2.310145378112793,4.010585784912109,3.19488263130188,2.9162380695343018,4.137365818023682,3.822824001312256,5.353965759277344,0.6213595867156982,0.5166586637496948,0.5649060010910034,4.061250686645508,0.5400488972663879,3.3577890396118164,0.16619913280010223,-0.3722984492778778,1.9567017555236816,3.299377679824829,4.93189811706543,1.4822911024093628,5.63480806350708,4.669811248779297,0.1408766210079193,-0.025259247049689293,5.753163814544678,2.801003932952881,-0.5041854381561279,5.143962383270264,-0.4598747789859772,0.3483350872993469,4.9536871910095215,4.693708896636963,2.9007132053375244,1.946014642715454,5.708479404449463,4.996521472930908,-0.1699196696281433,2.3659982681274414,4.621880054473877,3.193176746368408,5.378049850463867,1.4679007530212402,4.421164512634277,1.2224282026290894],\"y\":[-7.084841251373291,-6.402353286743164,-5.462918758392334,-7.492125988006592,-4.375248432159424,-3.5360937118530273,-7.211546897888184,-6.540828704833984,-7.303725242614746,-6.091690540313721,-3.30263352394104,-7.270937442779541,-4.396543979644775,-4.319653034210205,-5.731768608093262,-5.08070182800293,-7.561779975891113,-6.995171546936035,-3.771970272064209,-4.412510871887207,-4.602024555206299,-6.226680755615234,-6.162865161895752,-4.733060836791992,-5.503366947174072,-7.000690937042236,-4.212884426116943,-5.819977283477783,-5.631013870239258,-6.643422603607178,-5.430964469909668,-6.426909923553467,-5.682812690734863,-6.338052749633789,-4.946152210235596,-4.589078426361084,-3.743474006652832,-7.46926212310791,-5.17143440246582,-5.873573303222656,-4.2762603759765625,-7.220476150512695,-6.00504732131958,-4.5554046630859375,-6.85116720199585,-6.095870494842529,-6.146866798400879,-4.398927211761475,-7.269165515899658,-4.96881628036499,-6.349957466125488,-5.4689130783081055,-5.459584712982178,-4.557323932647705,-4.687226295471191,-6.957092761993408,-7.360349178314209,-5.633359432220459,-4.712367534637451,-4.94286584854126,-5.221488952636719,-4.592554569244385,-4.699620246887207,-3.5860705375671387,-7.304677963256836,-7.379806041717529,-7.057435989379883,-4.659267425537109,-6.36667537689209,-4.859384536743164,-7.442500591278076,-7.255373954772949,-5.8275675773620605,-5.849120140075684,-3.7380995750427246,-6.206027984619141,-4.019524574279785,-3.730607271194458,-6.326320171356201,-7.257214546203613,-4.1757917404174805,-4.789744853973389,-6.889019966125488,-4.088329792022705,-7.505410194396973,-7.240721702575684,-3.7719833850860596,-4.621087551116943,-5.157812118530273,-5.808616638183594,-3.981315851211548,-4.424844741821289,-7.262266159057617,-5.557537078857422,-4.236141681671143,-6.15385627746582,-3.50212025642395,-6.0525007247924805,-4.82767915725708,-6.429256916046143],\"z\":[15.098453521728516,16.60969352722168,16.20689582824707,15.376086235046387,15.540302276611328,14.71465015411377,16.206636428833008,16.8713436126709,13.33200740814209,16.538450241088867,15.147882461547852,13.577066421508789,12.285639762878418,14.300379753112793,16.513898849487305,16.31589126586914,13.381338119506836,14.375283241271973,13.687002182006836,13.061248779296875,12.593859672546387,12.80323600769043,13.604211807250977,13.03165054321289,16.18087387084961,16.33491325378418,14.378315925598145,16.390289306640625,16.27194595336914,16.427080154418945,14.143759727478027,16.457578659057617,16.251012802124023,13.608687400817871,16.195289611816406,13.896679878234863,15.024775505065918,13.629694938659668,13.40485668182373,15.96810245513916,13.009228706359863,16.079206466674805,15.996286392211914,15.189116477966309,13.527726173400879,13.379437446594238,15.67679214477539,12.91265869140625,15.507726669311523,15.929627418518066,15.585326194763184,14.13841438293457,12.671833992004395,15.03748607635498,14.977699279785156,13.862581253051758,13.926929473876953,13.690637588500977,12.56196117401123,13.921347618103027,12.584158897399902,12.216474533081055,14.729921340942383,15.216720581054688,13.183025360107422,13.22415542602539,14.669295310974121,12.760841369628906,14.292444229125977,16.30569839477539,14.34344482421875,16.39661979675293,13.281662940979004,12.43142032623291,13.7548828125,16.03036117553711,13.74502944946289,13.92183780670166,16.69478988647461,15.2632474899292,14.092399597167969,15.201349258422852,16.37508773803711,13.403200149536133,15.072158813476562,13.215497970581055,14.320273399353027,15.083026885986328,16.509817123413086,13.291345596313477,13.762417793273926,14.533411026000977,13.506324768066406,12.606646537780762,15.14834213256836,13.406167030334473,14.847851753234863,15.816692352294922,13.709717750549316,14.721834182739258],\"type\":\"scatter3d\"},{\"hovertemplate\":\"label=apple<br>0=%{x}<br>1=%{y}<br>2=%{z}<extra></extra>\",\"legendgroup\":\"apple\",\"marker\":{\"color\":\"#19d3f3\",\"symbol\":\"circle\",\"size\":8},\"mode\":\"markers\",\"name\":\"apple\",\"scene\":\"scene\",\"showlegend\":true,\"x\":[1.38584303855896,-1.7502645254135132,0.8054071068763733,0.6598806381225586,0.9126349687576294,-0.029446346685290337,0.012172093614935875,0.19843508303165436,-1.324857473373413,0.38902297616004944,2.2035350799560547,1.7415677309036255,1.071462869644165,-1.1850759983062744,-0.791073203086853,-0.06544221192598343,0.4284241199493408,0.5972849130630493,2.2861359119415283,-1.6794956922531128,1.7570565938949585,1.1151723861694336,-1.7135366201400757,-0.25683310627937317,-0.8639293313026428,-0.11565350741147995,-1.4431859254837036,-0.5056638121604919,-0.9540937542915344,-1.6171903610229492,2.1789252758026123,0.6311782002449036,-1.6200735569000244,-1.1946635246276855,-0.25387850403785706,-0.9699643850326538,1.130632996559143,1.0551639795303345,2.1039881706237793,1.773787498474121,2.0615057945251465,-1.0092451572418213,-0.043651558458805084,-1.5156558752059937,0.19101542234420776,-0.14286614954471588,0.8297805786132812,-0.24668748676776886,-1.5779303312301636,1.4883631467819214,0.8510457277297974,-0.4295247495174408,1.968454122543335,0.03467322140932083,-0.32834193110466003,-1.4291534423828125,0.07354003936052322,1.7354108095169067,-0.4389270842075348,-0.2933337092399597,1.337538480758667,0.24839618802070618,0.6583898067474365,0.629218339920044,-0.4208633601665497,0.4876639246940613,-1.5180240869522095,2.0165929794311523,-0.5463967323303223,-1.613623857498169,1.1149678230285645,-1.1405768394470215,-0.732643723487854,-1.5107965469360352,-0.12679819762706757,-0.503404438495636,-0.21877329051494598,1.0853132009506226,-1.3677829504013062,1.4294188022613525,-0.73101407289505,0.12656070291996002,-1.6682406663894653,1.2044795751571655,1.122975468635559,-0.6670883297920227,0.5406125783920288,-0.9269839525222778,-1.8362278938293457,2.255307674407959,1.5080424547195435,-0.6476638317108154,-0.4088592827320099,-1.369587779045105,-0.3002767562866211,2.2884633541107178,0.7551036477088928,-0.2890203595161438,-0.42310306429862976,-1.5048350095748901],\"y\":[5.548014163970947,4.549657821655273,5.548365592956543,5.579344749450684,5.8189897537231445,6.362459659576416,4.142239093780518,5.3239874839782715,5.840510845184326,4.66350793838501,5.313290119171143,6.960857391357422,4.794177532196045,3.480574369430542,3.6007401943206787,3.986283302307129,4.5309624671936035,4.886077404022217,6.220189094543457,3.5087108612060547,4.986459255218506,6.835051536560059,3.9560351371765137,5.962185382843018,6.313719749450684,4.814209938049316,3.5825815200805664,4.1370978355407715,3.2971863746643066,3.4289679527282715,5.282567977905273,4.506317138671875,5.578662395477295,3.3595235347747803,3.739447832107544,6.52821683883667,5.710830211639404,5.668397903442383,5.239241600036621,6.668299674987793,5.8029680252075195,6.410915851593018,3.7646026611328125,3.0795679092407227,5.510976314544678,5.691380500793457,6.7686767578125,3.689067840576172,5.893548488616943,5.5487799644470215,4.994528770446777,3.8808727264404297,5.78892183303833,6.036819934844971,5.425403118133545,3.5383269786834717,4.093258380889893,4.518467426300049,4.7679362297058105,6.1211042404174805,6.557653427124023,6.492826461791992,4.6034369468688965,4.447974681854248,3.5365231037139893,6.118853569030762,5.436827182769775,6.287895679473877,4.614699840545654,4.548884868621826,5.513388156890869,3.7334439754486084,3.3905744552612305,3.526883125305176,5.34091329574585,6.687348365783691,6.471803188323975,4.807835102081299,5.762202262878418,4.460464000701904,6.728458881378174,4.900839328765869,5.092470645904541,4.422116279602051,5.9895429611206055,6.8621721267700195,5.617649078369141,4.403662204742432,4.26861572265625,5.724910736083984,4.581787586212158,6.253666400909424,6.87312126159668,4.823854446411133,5.268880367279053,6.817421913146973,3.8682548999786377,6.732446193695068,5.765834331512451,5.73285436630249],\"z\":[21.625194549560547,23.20879364013672,23.40185546875,24.44890594482422,22.725784301757812,19.812334060668945,20.134845733642578,24.774534225463867,21.46539306640625,24.49920082092285,21.11066436767578,21.46980094909668,23.31361198425293,23.00432014465332,23.99273681640625,19.65186882019043,19.110883712768555,19.162553787231445,21.178543090820312,23.082414627075195,20.181734085083008,21.194488525390625,23.612457275390625,19.477285385131836,19.7434139251709,19.553930282592773,22.510345458984375,20.253463745117188,23.052104949951172,23.237430572509766,20.40854263305664,24.46693229675293,22.868661880493164,22.90626335144043,20.32511329650879,21.471227645874023,23.14955711364746,24.033720016479492,21.540306091308594,21.599193572998047,21.771747589111328,21.744117736816406,21.212444305419922,23.343969345092773,24.7707576751709,22.994342803955078,20.890670776367188,20.20706558227539,22.4869441986084,22.832632064819336,23.95975685119629,21.077470779418945,21.459489822387695,20.33515167236328,24.585407257080078,23.61260223388672,20.260417938232422,20.50927734375,19.42637825012207,19.871435165405273,21.53349494934082,19.272863388061523,24.178268432617188,19.320173263549805,21.769968032836914,19.798828125,22.38610076904297,21.732545852661133,19.651945114135742,23.667598724365234,23.41073226928711,23.61252212524414,23.048749923706055,23.139463424682617,24.62352752685547,20.533676147460938,20.223735809326172,20.343807220458984,22.678577423095703,22.481494903564453,19.58081817626953,18.708499908447266,23.044889450073242,19.430866241455078,21.128997802734375,19.562753677368164,23.582122802734375,24.220312118530273,24.00652313232422,21.247283935546875,19.902772903442383,20.41317367553711,20.128149032592773,22.5671329498291,18.865007400512695,20.8978271484375,20.908788681030273,20.41720199584961,19.011882781982422,23.01813316345215],\"type\":\"scatter3d\"},{\"hovertemplate\":\"label=orange<br>0=%{x}<br>1=%{y}<br>2=%{z}<extra></extra>\",\"legendgroup\":\"orange\",\"marker\":{\"color\":\"#FF6692\",\"symbol\":\"circle\",\"size\":8},\"mode\":\"markers\",\"name\":\"orange\",\"scene\":\"scene\",\"showlegend\":true,\"x\":[-2.19506573677063,-2.6410298347473145,-1.4396588802337646,-2.1059648990631104,-0.3047986626625061,-2.6540372371673584,-2.4533684253692627,-1.7213680744171143,-2.6914708614349365,-3.1592495441436768,-1.2544889450073242,-2.7744264602661133,-0.39537766575813293,-1.2901742458343506,-1.6086195707321167,-0.8208521008491516,-3.2821285724639893,-2.6064858436584473,-0.552509069442749,-0.45209062099456787,-2.5823726654052734,-2.6908974647521973,-0.36629143357276917,-2.7598252296447754,-1.9381771087646484,-3.495500326156616,-2.396981954574585,-2.171025037765503,-1.6195586919784546,-1.3587141036987305,-2.7706894874572754,-3.2461347579956055,-2.5592870712280273,-2.1207187175750732,-0.3875679671764374,-1.485477089881897,-2.7979228496551514,-0.7417207360267639,-0.6224474310874939,-2.32248592376709,-3.518934726715088,-2.6400821208953857,-2.1403653621673584,-1.8311121463775635,-2.999440908432007,-2.3434841632843018,-1.2024255990982056,-0.9617913961410522,-1.5519691705703735,-1.7851206064224243,-2.1540637016296387,-1.3264790773391724,-0.832115650177002,-2.7137980461120605,-1.5026596784591675,-0.7233393788337708,-2.4154181480407715,-2.6011147499084473,-2.8453779220581055,-2.7069954872131348,-1.468532681465149,-0.22537198662757874,-2.65322208404541,-1.4622150659561157,-2.4697186946868896,-1.0455814599990845,-2.993898391723633,-1.6808228492736816,-2.761345624923706,-2.7853407859802246,-1.8406521081924438,-2.0505197048187256,-2.5502095222473145,-1.9123536348342896,-0.4364869296550751,-3.1264665126800537,-2.627230644226074,-1.0022685527801514,-1.6507309675216675,-3.2169806957244873,-0.6183587312698364,-0.6253013014793396,-3.5877845287323,-2.9292030334472656,-2.724398612976074,-3.0752580165863037,-2.6958742141723633,-3.000166416168213,-0.8558684587478638,-3.2723357677459717,-3.36482572555542,-1.5289127826690674,-1.4590678215026855,-3.4040284156799316,-0.9191046953201294,-2.924927234649658,-0.4771708548069,-0.5554883480072021,-1.802320957183838,-0.6833547353744507],\"y\":[14.904465675354004,18.637666702270508,17.761384963989258,14.036697387695312,15.411025047302246,16.012065887451172,13.374847412109375,13.06130313873291,17.55157470703125,15.470885276794434,15.262989044189453,18.631500244140625,14.005533218383789,16.465099334716797,15.834152221679688,14.313690185546875,18.402141571044922,16.543411254882812,15.558880805969238,15.093507766723633,14.960249900817871,13.203792572021484,14.898168563842773,13.76010799407959,18.166269302368164,18.864471435546875,15.084625244140625,14.506800651550293,15.174215316772461,13.01624870300293,16.504724502563477,18.779266357421875,14.621309280395508,14.70167064666748,14.866409301757812,13.538435935974121,13.711320877075195,13.671958923339844,14.46959400177002,13.789119720458984,13.885503768920898,13.272863388061523,15.118911743164062,18.552825927734375,17.62281608581543,18.008390426635742,18.001184463500977,15.432682991027832,15.754660606384277,15.50259780883789,17.754858016967773,13.179429054260254,16.15499496459961,14.80545711517334,18.043684005737305,14.021732330322266,15.96815299987793,14.66366958618164,17.073408126831055,17.38872528076172,17.432945251464844,15.003398895263672,14.437031745910645,17.687875747680664,15.061718940734863,18.110305786132812,15.12117862701416,17.542606353759766,17.509536743164062,18.929834365844727,18.591115951538086,14.805583953857422,16.254995346069336,14.326040267944336,15.125036239624023,16.391584396362305,15.162070274353027,18.17156410217285,17.55666160583496,15.590453147888184,17.910303115844727,16.09139633178711,18.77251434326172,15.917360305786133,14.696147918701172,15.841968536376953,14.297379493713379,15.95301628112793,15.1185302734375,18.723602294921875,15.962576866149902,17.837909698486328,15.3598051071167,18.827646255493164,13.208187103271484,16.19721794128418,14.668000221252441,13.963228225708008,18.328210830688477,17.848955154418945],\"z\":[-1.5376473665237427,-3.3516199588775635,-3.320288896560669,-4.773988246917725,-3.6078085899353027,-1.4359687566757202,-3.749471664428711,-3.8373606204986572,-0.8981860280036926,-3.635453462600708,-2.3790225982666016,-2.3235316276550293,-4.237084865570068,-4.9077911376953125,-2.090902090072632,-4.404654502868652,-3.2566936016082764,-3.4599292278289795,-4.729156970977783,-3.944463014602661,-5.300083160400391,-4.123068332672119,-4.652482986450195,-3.955761671066284,-2.704833984375,-2.4362316131591797,-1.669982671737671,-5.9733381271362305,-5.540726184844971,-3.684702157974243,-1.3272221088409424,-2.254822254180908,-5.338819980621338,-6.397964000701904,-3.6863226890563965,-4.976797580718994,-3.437192916870117,-4.485542297363281,-4.833881378173828,-5.567319393157959,-4.6186137199401855,-3.991671323776245,-1.5210165977478027,-2.6594033241271973,-0.7957473397254944,-1.2427312135696411,-2.368731737136841,-4.932124137878418,-3.6671524047851562,-5.561020851135254,-3.3798556327819824,-3.9849843978881836,-4.766481399536133,-3.8643362522125244,-2.7537403106689453,-4.832990646362305,-4.486968994140625,-3.677863836288452,-0.9114506840705872,-0.8625133037567139,-1.5409976243972778,-4.388047218322754,-2.24710750579834,-3.547074556350708,-2.514953136444092,-1.9072487354278564,-1.643852710723877,-1.1965364217758179,-1.0894381999969482,-2.3057408332824707,-3.2094383239746094,-6.464754581451416,-4.299273490905762,-5.754129886627197,-3.1082844734191895,-2.0619466304779053,-4.173685550689697,-2.1544766426086426,-3.3248586654663086,-3.863551616668701,-1.9068516492843628,-4.438634872436523,-2.5553970336914062,-1.3882111310958862,-5.260841369628906,-3.579528570175171,-4.524477958679199,-1.9828848838806152,-2.8126938343048096,-2.3440303802490234,-2.636619806289673,-1.4809603691101074,-5.313563823699951,-2.3130791187286377,-3.817207098007202,-1.1798847913742065,-3.9112727642059326,-4.4503912925720215,-1.7903413772583008,-1.8705241680145264],\"type\":\"scatter3d\"},{\"hovertemplate\":\"label=papaya<br>0=%{x}<br>1=%{y}<br>2=%{z}<extra></extra>\",\"legendgroup\":\"papaya\",\"marker\":{\"color\":\"#B6E880\",\"symbol\":\"circle\",\"size\":8},\"mode\":\"markers\",\"name\":\"papaya\",\"scene\":\"scene\",\"showlegend\":true,\"x\":[-9.336297035217285,-0.7690916061401367,-2.8145806789398193,-8.589417457580566,-6.798851013183594,-7.575682163238525,-7.443965435028076,-6.7359113693237305,-7.096271514892578,-7.087069988250732,-7.476752758026123,1.2643414735794067,-8.714027404785156,0.6482109427452087,-4.260715484619141,-6.080219268798828,-0.08967401087284088,-0.003924410790205002,-4.63461971282959,-1.8546380996704102,1.2628850936889648,0.6232103705406189,-1.9865961074829102,-8.570226669311523,-3.5438270568847656,-8.460249900817871,-8.52956485748291,-3.3695034980773926,-2.6029293537139893,-2.631721019744873,0.5869219303131104,1.5529741048812866,-7.708220958709717,1.0518556833267212,-2.992987871170044,-1.49643874168396,-6.318778991699219,-7.731226921081543,0.09246394783258438,-8.751934051513672,-6.117394924163818,-8.127264976501465,-0.27668750286102295,-1.716887354850769,-6.016751289367676,-3.778428554534912,1.4100615978240967,-6.938712120056152,-7.72172212600708,0.8253393769264221,-7.703911304473877,-7.9129438400268555,-6.171713352203369,-1.3571258783340454,-5.348891735076904,0.6273077726364136,1.1754664182662964,-0.23743653297424316,-8.976672172546387,-8.843453407287598,-3.715721368789673,-2.1877059936523438,-4.550565719604492,-0.11309321969747543,-2.485828161239624,0.4393036365509033,1.3056403398513794,0.17409904301166534,-0.4793338477611542,-4.231740474700928,-0.34191951155662537,-4.519256114959717,-5.394808769226074,-0.7820670008659363,-6.374485969543457,-8.035919189453125,-1.188779354095459,-7.9136505126953125,-8.36751651763916,0.8748897910118103,-5.101536273956299,0.8639690279960632,-5.878947734832764,-8.613272666931152,-9.06372356414795,-3.233243942260742,-0.8090680241584778,-9.121618270874023,1.398418664932251,0.6759884357452393,-2.0393993854522705,-7.906673908233643,-1.7187683582305908,-9.612483024597168,0.8435307145118713,-4.54041862487793,-1.6565239429473877,-8.499731063842773,-7.053659915924072,-7.386547088623047],\"y\":[8.2317476272583,-1.14711594581604,0.46642905473709106,7.754045009613037,4.793834686279297,5.736876010894775,5.465651512145996,4.497011661529541,4.9810662269592285,4.99044942855835,5.19634485244751,-3.3485054969787598,7.6653151512146,-2.603667736053467,1.0157976150512695,3.080146312713623,-1.7476176023483276,-1.7724266052246094,1.4242616891860962,-0.33843129873275757,-3.0415303707122803,-2.55100417137146,-0.2649669349193573,7.78202486038208,1.135904312133789,5.584285736083984,8.025909423828125,0.9395647048950195,0.14690878987312317,0.09546474367380142,-2.3892457485198975,-3.162264585494995,5.928293704986572,-2.6897482872009277,0.6808860301971436,-0.5309087038040161,3.990609645843506,5.825105667114258,-1.8922334909439087,6.117031097412109,3.481116533279419,3.4007444381713867,-1.7937873601913452,-0.46054497361183167,2.8761720657348633,1.1545580625534058,-3.0423924922943115,4.941616535186768,5.9776506423950195,-2.5233571529388428,5.897055625915527,5.673703670501709,3.7544164657592773,-0.6568630337715149,2.6473751068115234,-2.758549451828003,-3.169372081756592,-1.8094676733016968,8.037668228149414,7.30489444732666,0.9882181286811829,-0.11939354985952377,1.0941193103790283,-1.955228328704834,0.06593812257051468,-2.170715093612671,-3.3937225341796875,-1.9720691442489624,-1.6062568426132202,1.2270663976669312,-1.7367770671844482,1.215719223022461,2.5701780319213867,-1.1668798923492432,2.9542558193206787,6.124109268188477,-0.8151430487632751,5.864284992218018,7.7258687019348145,-2.9266107082366943,2.4841389656066895,-2.5559067726135254,3.1417527198791504,7.940049171447754,7.968295574188232,0.7109797596931458,-1.296869158744812,7.766842842102051,-3.079944372177124,-2.635806083679199,-0.12899936735630035,6.440272808074951,-0.41499704122543335,8.10335922241211,-2.886108875274658,1.8196784257888794,-0.38264089822769165,7.8623151779174805,4.667814254760742,5.1937994956970215],\"z\":[3.2172651290893555,2.6412267684936523,2.3210480213165283,3.832427501678467,3.3877391815185547,1.0805604457855225,1.144559383392334,3.2773938179016113,3.3920884132385254,1.089461326599121,1.8051095008850098,2.424036741256714,3.5843913555145264,2.431626558303833,0.936813235282898,1.5294172763824463,2.960308074951172,3.3639984130859375,1.1895315647125244,2.0549657344818115,3.4635050296783447,2.2039127349853516,1.7671375274658203,3.901630163192749,2.6923530101776123,3.0100252628326416,4.102915287017822,2.5224103927612305,1.6775188446044922,1.3826274871826172,3.2042548656463623,3.93442702293396,2.7150282859802246,3.6715831756591797,2.6948482990264893,2.6455540657043457,2.996856212615967,1.3262600898742676,3.1839163303375244,2.891946315765381,2.491363286972046,1.1353362798690796,1.4069736003875732,1.8959293365478516,1.2932733297348022,2.176577568054199,3.847632884979248,3.3682501316070557,3.4621238708496094,3.525578498840332,3.414400100708008,3.546447277069092,2.866664409637451,2.685281991958618,2.1945271492004395,1.7992788553237915,2.79377818107605,1.6379975080490112,4.154796123504639,3.428420066833496,1.9069958925247192,1.766964077949524,0.7744291424751282,1.4844279289245605,1.7646046876907349,3.397653818130493,2.1813371181488037,3.159151554107666,1.3491237163543701,1.4442479610443115,1.3933258056640625,0.8996469378471375,2.018723726272583,2.5970101356506348,1.0025215148925781,3.2908496856689453,2.5316388607025146,2.7132058143615723,4.068091869354248,1.742639422416687,2.369166374206543,3.701385736465454,2.1622350215911865,3.8449082374572754,3.4888923168182373,2.133207321166992,1.4577305316925049,3.2560155391693115,3.7090699672698975,2.2293267250061035,2.519341468811035,2.419367551803589,2.151390314102173,2.985060691833496,1.753926157951355,2.0831105709075928,2.5757064819335938,4.055070877075195,1.5936802625656128,3.4568934440612793],\"type\":\"scatter3d\"},{\"hovertemplate\":\"label=coconut<br>0=%{x}<br>1=%{y}<br>2=%{z}<extra></extra>\",\"legendgroup\":\"coconut\",\"marker\":{\"color\":\"#FF97FF\",\"symbol\":\"circle\",\"size\":8},\"mode\":\"markers\",\"name\":\"coconut\",\"scene\":\"scene\",\"showlegend\":true,\"x\":[-10.334506034851074,-9.09555435180664,-11.668376922607422,-11.903646469116211,-11.57940673828125,-11.550990104675293,-9.888586044311523,-10.200004577636719,-9.636334419250488,-9.789311408996582,-11.808342933654785,-9.610990524291992,-10.786942481994629,-9.785552024841309,-10.09502124786377,-11.424067497253418,-9.32028579711914,-11.707571983337402,-9.781548500061035,-10.136713981628418,-9.9423828125,-10.523859977722168,-12.543848037719727,-9.293375015258789,-12.288825988769531,-9.637807846069336,-10.12015438079834,-11.480181694030762,-10.323432922363281,-10.169719696044922,-12.020426750183105,-10.97470760345459,-9.096386909484863,-11.720854759216309,-9.692201614379883,-10.299078941345215,-9.6943941116333,-9.199250221252441,-9.338325500488281,-10.779479026794434,-10.83015251159668,-9.731749534606934,-11.523365020751953,-10.102805137634277,-9.58798885345459,-9.903560638427734,-10.30725383758545,-11.761396408081055,-9.376692771911621,-9.142646789550781,-12.410219192504883,-11.119670867919922,-12.865679740905762,-10.893545150756836,-9.075060844421387,-9.290709495544434,-12.15829086303711,-12.108351707458496,-11.120613098144531,-9.010071754455566,-10.99521255493164,-10.48554801940918,-10.566300392150879,-13.007673263549805,-11.22074031829834,-10.473855018615723,-9.703033447265625,-11.145087242126465,-10.995611190795898,-10.803803443908691,-11.05678939819336,-12.719940185546875,-10.704837799072266,-11.571290969848633,-11.668088912963867,-9.072051048278809,-11.38992977142334,-10.013642311096191,-11.929824829101562,-10.883451461791992,-9.467529296875,-10.282278060913086,-10.364388465881348,-10.491912841796875,-11.308120727539062,-10.160965919494629,-10.878798484802246,-12.000507354736328,-12.679595947265625,-9.4533109664917,-10.522296905517578,-10.872539520263672,-10.926719665527344,-10.079185485839844,-9.44035816192627,-9.788468360900879,-9.664481163024902,-11.124056816101074,-9.919011116027832,-10.897024154663086],\"y\":[7.1788740158081055,7.133852481842041,0.9960532188415527,3.8017454147338867,3.814584732055664,3.893136978149414,-0.015081042423844337,-0.21169617772102356,3.2722768783569336,4.540246963500977,0.3557095229625702,5.204375267028809,-0.41115596890449524,0.9001166224479675,6.670065879821777,5.955305576324463,5.198856830596924,3.1402034759521484,6.7200446128845215,0.6925708055496216,1.8329968452453613,2.276974678039551,1.347543716430664,5.730135440826416,0.8903794884681702,2.6834425926208496,-0.15755483508110046,3.3661234378814697,6.242713451385498,0.03337978944182396,-1.0823941230773926,-1.0444930791854858,4.7696533203125,3.0263705253601074,5.740289688110352,1.7081739902496338,6.779998302459717,6.713297367095947,5.895797252655029,4.892667293548584,0.16129064559936523,0.6840758919715881,1.2331669330596924,2.2339894771575928,4.701087951660156,-0.023510634899139404,-0.12400911748409271,3.3569021224975586,6.22108793258667,7.097362995147705,-0.1884320229291916,1.96906316280365,-0.42690882086753845,0.3329771161079407,5.037189960479736,6.460647106170654,0.4666242003440857,3.4634346961975098,-1.22825288772583,6.975527286529541,1.6541615724563599,0.05783023685216904,5.870101451873779,-0.48926571011543274,5.749634742736816,7.155920505523682,4.537921905517578,6.576099395751953,6.484665870666504,2.31030535697937,-0.21508653461933136,0.8344817161560059,0.6209769248962402,-1.1042896509170532,4.955246925354004,4.539820194244385,-0.9645959734916687,-0.5136561989784241,3.7164201736450195,-0.4087319076061249,3.5228922367095947,7.204486846923828,-0.018314920365810394,5.078331470489502,6.301596164703369,1.5915966033935547,6.523172378540039,-1.0410470962524414,-0.18062211573123932,2.759608745574951,0.49079829454421997,2.192831039428711,7.052319526672363,4.438292026519775,6.882650852203369,5.676973819732666,4.519134998321533,0.5283523797988892,0.06468324363231659,2.315157413482666],\"z\":[12.594277381896973,12.944476127624512,11.183320045471191,12.752476692199707,12.89798641204834,13.11523151397705,13.043622970581055,12.968448638916016,12.022103309631348,13.686057090759277,11.612606048583984,13.569761276245117,12.528863906860352,12.398813247680664,13.406466484069824,13.032042503356934,12.836758613586426,12.720945358276367,13.501396179199219,13.124924659729004,13.273122787475586,13.322417259216309,12.492091178894043,13.371855735778809,12.321971893310547,11.99110221862793,11.407078742980957,13.302037239074707,13.42965030670166,12.300493240356445,12.093135833740234,12.284989356994629,13.199050903320312,13.1118745803833,13.787731170654297,11.658031463623047,13.351922035217285,13.35832405090332,12.680936813354492,12.862178802490234,11.456308364868164,13.185797691345215,12.473358154296875,11.657899856567383,13.459528923034668,12.964405059814453,11.668882369995117,12.85853099822998,13.14327621459961,13.21599292755127,11.272120475769043,12.094160079956055,11.347393989562988,11.116397857666016,12.397418975830078,13.607129096984863,11.32215404510498,12.401994705200195,12.249153137207031,13.37152099609375,11.409838676452637,11.023286819458008,12.394368171691895,11.546747207641602,13.287580490112305,12.715822219848633,12.573474884033203,12.923823356628418,12.685140609741211,11.725732803344727,11.717521667480469,12.357502937316895,11.070452690124512,12.222522735595703,12.800561904907227,13.549647331237793,12.100874900817871,12.9033842086792,12.782382011413574,12.452574729919434,12.095860481262207,12.587395668029785,12.343466758728027,12.425019264221191,12.692365646362305,12.87428092956543,13.314897537231445,11.99709701538086,11.186541557312012,12.17319107055664,12.681549072265625,12.070788383483887,13.540814399719238,13.068493843078613,13.572376251220703,13.70573902130127,12.44603157043457,11.553892135620117,13.028985977172852,11.841575622558594],\"type\":\"scatter3d\"},{\"hovertemplate\":\"label=cotton<br>0=%{x}<br>1=%{y}<br>2=%{z}<extra></extra>\",\"legendgroup\":\"cotton\",\"marker\":{\"color\":\"#FECB52\",\"symbol\":\"circle\",\"size\":8},\"mode\":\"markers\",\"name\":\"cotton\",\"scene\":\"scene\",\"showlegend\":true,\"x\":[-2.338825225830078,0.018757544457912445,-1.278627872467041,-2.271528959274292,-1.8387736082077026,-0.5356782078742981,-2.006909132003784,1.6533631086349487,0.7034592628479004,-0.08278851211071014,1.405083179473877,-0.9182133078575134,-0.12830279767513275,-1.4229140281677246,-1.5623557567596436,0.5667199492454529,-1.7906262874603271,1.778373122215271,-1.6594985723495483,-1.5064513683319092,-2.3042666912078857,0.060830991715192795,-0.9202110171318054,-1.3649781942367554,-2.2976224422454834,-1.3558379411697388,-0.16423436999320984,0.6622016429901123,-1.6331201791763306,2.4410762786865234,1.2744157314300537,-0.18366770446300507,-1.0442382097244263,-2.046733856201172,-2.0412487983703613,-1.5286990404129028,-1.605218768119812,0.19881375133991241,-0.9719352722167969,1.5405354499816895,2.045675039291382,-2.15710711479187,-0.06466186046600342,-2.841553211212158,-2.171842575073242,1.1555484533309937,-2.119539260864258,0.8191875219345093,-0.47728854417800903,-0.995078980922699,-0.6620510816574097,-0.6133009195327759,0.7265851497650146,2.557478189468384,1.496322751045227,-1.5787845849990845,-1.521257758140564,-2.7122550010681152,1.3481987714767456,-1.9567084312438965,-1.4513553380966187,2.1094253063201904,-2.191818952560425,1.7831872701644897,2.052165985107422,-2.2750344276428223,0.46613243222236633,-0.4941444993019104,2.5659124851226807,1.8715946674346924,0.8751046061515808,1.6709012985229492,-1.3395739793777466,-2.3981425762176514,-2.088371992111206,-0.08869577199220657,-0.18309058248996735,0.2616856098175049,-2.835585832595825,1.4957289695739746,-1.4323233366012573,-0.5995803475379944,-2.083864688873291,-1.212123155593872,-1.6509608030319214,-0.5788602232933044,1.6979668140411377,1.5656352043151855,-0.37007632851600647,0.7996804118156433,1.1041765213012695,-2.2660255432128906,1.8142675161361694,-1.1947810649871826,-0.08905661851167679,1.144882321357727,-1.4663251638412476,2.4461262226104736,0.05792326480150223,0.9841387867927551],\"y\":[-13.812301635742188,-14.724031448364258,-10.592019081115723,-13.844219207763672,-14.001372337341309,-12.926119804382324,-12.492841720581055,-12.987820625305176,-12.753582954406738,-12.836786270141602,-11.555630683898926,-12.142104148864746,-14.784440994262695,-10.752217292785645,-12.327469825744629,-14.562691688537598,-14.301580429077148,-10.400688171386719,-13.82581615447998,-11.23181438446045,-13.314613342285156,-9.870829582214355,-11.797395706176758,-11.313165664672852,-13.7022123336792,-9.97365951538086,-10.996397018432617,-13.499517440795898,-14.802367210388184,-11.873369216918945,-12.660473823547363,-10.675926208496094,-12.318897247314453,-12.670096397399902,-13.216697692871094,-11.508962631225586,-12.573551177978516,-11.911245346069336,-10.815698623657227,-12.925209999084473,-11.39958381652832,-14.129467010498047,-11.258386611938477,-13.541343688964844,-14.024879455566406,-12.085078239440918,-14.231030464172363,-11.96249008178711,-13.755105972290039,-11.022384643554688,-14.735885620117188,-10.949068069458008,-12.736252784729004,-11.813375473022461,-12.527914047241211,-10.57170295715332,-13.029337882995605,-13.510743141174316,-12.286833763122559,-12.639744758605957,-12.733827590942383,-11.501852035522461,-13.528508186340332,-12.08287239074707,-12.886662483215332,-12.944196701049805,-13.03441333770752,-13.372624397277832,-11.933492660522461,-10.656283378601074,-13.447458267211914,-11.508950233459473,-12.286870956420898,-11.724751472473145,-14.539124488830566,-13.1503324508667,-10.63521671295166,-10.089710235595703,-14.144472122192383,-13.497844696044922,-10.591005325317383,-12.155174255371094,-10.256109237670898,-11.17212200164795,-10.335062026977539,-13.868377685546875,-12.747647285461426,-12.639238357543945,-14.089802742004395,-12.618805885314941,-10.61998176574707,-13.100408554077148,-12.370330810546875,-11.418492317199707,-11.080978393554688,-12.324911117553711,-10.143954277038574,-11.966064453125,-10.049909591674805,-12.147284507751465],\"z\":[-12.120201110839844,-12.370478630065918,-9.314848899841309,-12.122650146484375,-11.054191589355469,-12.663700103759766,-9.773477554321289,-12.270042419433594,-12.282870292663574,-13.552816390991211,-10.662125587463379,-13.012442588806152,-12.57249927520752,-9.437199592590332,-9.462357521057129,-12.42719554901123,-12.155929565429688,-10.127327919006348,-10.918339729309082,-11.577686309814453,-10.230567932128906,-10.862911224365234,-9.400819778442383,-8.764622688293457,-10.892576217651367,-10.363445281982422,-9.72358226776123,-13.194477081298828,-12.024410247802734,-10.516908645629883,-11.727653503417969,-10.533756256103516,-13.166276931762695,-9.682997703552246,-12.793340682983398,-10.885064125061035,-9.563333511352539,-9.976922035217285,-10.94996166229248,-12.759418487548828,-11.216479301452637,-11.665605545043945,-9.576837539672852,-12.210302352905273,-11.107077598571777,-10.102887153625488,-11.455172538757324,-9.799726486206055,-11.46093463897705,-10.91901683807373,-12.464513778686523,-8.610489845275879,-12.63550090789795,-10.429801940917969,-12.408361434936523,-9.527328491210938,-13.188249588012695,-11.86922836303711,-12.439696311950684,-9.755243301391602,-13.228719711303711,-10.91254997253418,-11.048748016357422,-11.762334823608398,-12.3220853805542,-12.891352653503418,-13.238006591796875,-13.23277759552002,-10.58761978149414,-10.715916633605957,-13.361125946044922,-9.72890567779541,-9.499003410339355,-10.916936874389648,-11.673578262329102,-13.58125114440918,-11.456382751464844,-11.113945960998535,-12.263175964355469,-12.759448051452637,-9.604867935180664,-12.459482192993164,-10.373727798461914,-11.629444122314453,-9.378715515136719,-12.117573738098145,-11.859790802001953,-11.556407928466797,-11.579133033752441,-12.351716041564941,-10.059420585632324,-12.808125495910645,-11.054949760437012,-8.569416046142578,-9.989949226379395,-10.377520561218262,-9.53204345703125,-10.718250274658203,-11.142135620117188,-13.354452133178711],\"type\":\"scatter3d\"},{\"hovertemplate\":\"label=jute<br>0=%{x}<br>1=%{y}<br>2=%{z}<extra></extra>\",\"legendgroup\":\"jute\",\"marker\":{\"color\":\"#636efa\",\"symbol\":\"circle\",\"size\":8},\"mode\":\"markers\",\"name\":\"jute\",\"scene\":\"scene\",\"showlegend\":true,\"x\":[-6.4476118087768555,-6.344111919403076,-9.60741901397705,-9.542470932006836,-11.842167854309082,-12.079532623291016,-9.326994895935059,-7.495455265045166,-7.505490303039551,-7.8090410232543945,-6.266918659210205,-9.719822883605957,-11.828826904296875,-5.069860935211182,-9.124432563781738,-7.122654438018799,-6.331593990325928,-11.159873962402344,-8.668926239013672,-8.242363929748535,-6.273647308349609,-7.464592456817627,-7.6575541496276855,-6.302531719207764,-8.17083740234375,-9.983731269836426,-8.855966567993164,-7.7384443283081055,-8.182953834533691,-9.472981452941895,-7.431972980499268,-6.082883358001709,-5.734325408935547,-9.135686874389648,-8.607420921325684,-6.541610240936279,-6.978582382202148,-10.272754669189453,-6.165084362030029,-6.372539043426514,-7.573291778564453,-9.668329238891602,-10.202423095703125,-6.944186687469482,-10.261677742004395,-7.458725452423096,-5.249269008636475,-5.800350666046143,-11.330099105834961,-8.461883544921875,-6.567093849182129,-6.294857501983643,-10.170997619628906,-7.048162937164307,-9.286880493164062,-5.882775783538818,-8.890114784240723,-11.696191787719727,-8.147625923156738,-6.1667985916137695,-9.71155834197998,-8.943635940551758,-11.412694931030273,-6.487746238708496,-7.486196041107178,-11.085359573364258,-6.09635591506958,-7.315303325653076,-7.653833389282227,-9.641677856445312,-9.514101028442383,-6.904123306274414,-6.241190433502197,-7.941515922546387,-6.190099716186523,-5.8636155128479,-8.785318374633789,-8.334464073181152,-6.745052337646484,-7.466695785522461,-5.718400955200195,-6.124533653259277,-11.847685813903809,-8.039323806762695,-7.09784460067749,-10.237295150756836,-5.940883636474609,-8.921208381652832,-9.881180763244629,-7.697786808013916,-8.326254844665527,-9.116161346435547,-9.017269134521484,-9.42866039276123,-6.831009864807129,-9.499346733093262,-6.683587074279785,-11.129118919372559,-11.172850608825684,-7.0482177734375],\"y\":[-0.4891493022441864,0.16583332419395447,4.0997467041015625,1.139762043952942,2.6742045879364014,2.3850390911102295,3.1832571029663086,0.9090147614479065,3.6769561767578125,0.807290256023407,-0.3790768086910248,3.668947219848633,3.981119394302368,1.0849082469940186,4.763711929321289,0.33223310112953186,1.3515965938568115,3.307610273361206,0.6391602754592896,2.7285807132720947,-0.22353222966194153,2.5150368213653564,2.288160562515259,-0.3388340473175049,3.7879364490509033,5.246614456176758,1.1546051502227783,0.9497730135917664,3.1806247234344482,1.7298622131347656,4.07968807220459,-0.8089901804924011,1.7145719528198242,5.270386695861816,2.8661892414093018,0.6626275777816772,1.4127638339996338,4.7059478759765625,1.4136537313461304,-0.47364291548728943,2.5739471912384033,5.051407814025879,4.752941608428955,1.2699799537658691,1.5918922424316406,0.5581883788108826,1.0609241724014282,1.6654495000839233,2.6222448348999023,2.6365039348602295,1.8976082801818848,-0.04241519048810005,4.3378753662109375,0.9088600277900696,2.9661171436309814,-0.1426311582326889,2.5420384407043457,2.762831211090088,2.7143492698669434,0.2301548272371292,3.2504053115844727,0.7773776650428772,2.657586097717285,-0.5656151175498962,1.8581931591033936,3.3777096271514893,0.11498401314020157,4.053621768951416,4.614144325256348,0.9866230487823486,4.265626907348633,0.6541100144386292,0.027279822155833244,2.2371392250061035,-0.0867450013756752,0.1926507204771042,0.7300868034362793,1.9464221000671387,3.1153218746185303,3.7268567085266113,1.4448204040527344,2.2931458950042725,2.8384640216827393,2.319791316986084,-0.7309287786483765,3.7579121589660645,-0.3016715347766876,5.38920783996582,3.3382627964019775,3.3391802310943604,1.2303727865219116,4.964626789093018,3.469818115234375,4.187379360198975,-0.1701337993144989,1.4983251094818115,0.3879869878292084,3.1547694206237793,3.2259204387664795,-0.6033782362937927],\"z\":[-3.7613205909729004,-0.7788695693016052,0.4778473973274231,-2.6472878456115723,-3.8815693855285645,-4.221268177032471,0.23019014298915863,-1.2798508405685425,-1.1223973035812378,-1.5812773704528809,-3.883488416671753,-0.9911567568778992,-3.1098906993865967,0.11260679364204407,-0.45625150203704834,-1.2955843210220337,-2.065873861312866,-3.3314051628112793,-2.2210376262664795,-0.9957313537597656,-3.683987617492676,-3.3489835262298584,-3.654463529586792,-2.9202070236206055,-1.7875957489013672,-1.4588813781738281,-2.1639533042907715,-1.9480960369110107,-0.8622852563858032,-2.1111059188842773,-1.0889543294906616,-2.3892176151275635,-1.0569778680801392,-1.1400936841964722,-0.2048451453447342,-2.5862674713134766,-2.418837785720825,-3.377185106277466,-0.7621622085571289,-3.8045647144317627,-0.8827914595603943,-2.1011271476745605,-3.4650700092315674,-2.4058189392089844,-3.2627956867218018,-1.5682293176651,-0.3596700131893158,-0.7603864073753357,-2.6318519115448,-4.545506954193115,-2.367499589920044,-2.583596706390381,-2.346752405166626,-4.558109283447266,-3.468834161758423,-1.2881516218185425,-0.8985579609870911,-3.0829782485961914,-3.829111099243164,-0.8649317026138306,-2.0086679458618164,-2.474331855773926,-4.092639446258545,-2.1641600131988525,-4.211498737335205,-3.427999496459961,-2.4645965099334717,-1.0298736095428467,-0.9215165972709656,-2.2968595027923584,0.19416052103042603,-4.47786808013916,-1.7038997411727905,-4.522143363952637,-1.9965118169784546,-1.439823031425476,-2.316270351409912,-1.0100252628326416,-1.3385578393936157,-0.90583336353302,-1.31450617313385,-0.7649459838867188,-2.9080967903137207,-3.7004756927490234,-3.5469491481781006,-3.1159613132476807,-1.7211883068084717,-1.1571853160858154,-2.4437878131866455,-1.2627596855163574,-2.225393533706665,-1.8678768873214722,-4.2540483474731445,0.32371440529823303,-3.956512212753296,-2.839754104614258,-3.9392755031585693,-3.3997600078582764,-3.2620785236358643,-2.9662063121795654],\"type\":\"scatter3d\"},{\"hovertemplate\":\"label=coffee<br>0=%{x}<br>1=%{y}<br>2=%{z}<extra></extra>\",\"legendgroup\":\"coffee\",\"marker\":{\"color\":\"#EF553B\",\"symbol\":\"circle\",\"size\":8},\"mode\":\"markers\",\"name\":\"coffee\",\"scene\":\"scene\",\"showlegend\":true,\"x\":[-13.477569580078125,-12.100631713867188,-10.262162208557129,-12.142504692077637,-10.987281799316406,-11.982829093933105,-12.782905578613281,-10.687010765075684,-11.607524871826172,-12.947090148925781,-10.553747177124023,-12.913582801818848,-13.434889793395996,-10.453158378601074,-11.082870483398438,-10.443803787231445,-12.590816497802734,-13.532240867614746,-13.903155326843262,-10.568620681762695,-13.801796913146973,-13.294201850891113,-14.136398315429688,-12.033495903015137,-11.690446853637695,-13.330747604370117,-13.17965316772461,-13.420848846435547,-13.829462051391602,-9.651885986328125,-13.640229225158691,-11.194710731506348,-10.895588874816895,-10.370417594909668,-13.094926834106445,-9.84217357635498,-12.183403015136719,-10.525322914123535,-10.318487167358398,-13.740992546081543,-10.772631645202637,-10.900195121765137,-13.355768203735352,-12.16943359375,-13.4027738571167,-14.45438289642334,-13.70767879486084,-11.165762901306152,-10.31005859375,-11.206798553466797,-11.204030990600586,-14.398571014404297,-11.344173431396484,-11.703601837158203,-13.970483779907227,-12.059267044067383,-12.3069429397583,-10.806129455566406,-12.690447807312012,-12.948505401611328,-12.758381843566895,-11.142358779907227,-10.564953804016113,-11.161320686340332,-11.905877113342285,-13.607172966003418,-11.595526695251465,-12.451459884643555,-11.72640323638916,-14.064848899841309,-14.315841674804688,-10.971318244934082,-12.732362747192383,-12.754608154296875,-10.647184371948242,-12.19635009765625,-10.244085311889648,-12.601244926452637,-13.687478065490723,-14.31808853149414,-10.885993957519531,-11.81492805480957,-10.671479225158691,-11.076733589172363,-11.234521865844727,-12.380935668945312,-11.396411895751953,-11.361795425415039,-12.22148323059082,-13.99107837677002,-11.037532806396484,-13.442489624023438,-13.944674491882324,-13.360661506652832,-11.993215560913086,-13.005617141723633,-11.452533721923828,-13.050397872924805,-10.983593940734863,-12.040448188781738],\"y\":[0.08942100405693054,-4.847246170043945,-4.898848533630371,-4.459217548370361,-6.674567699432373,-5.360729217529297,-2.728396415710449,-5.8161163330078125,-6.482968330383301,-1.503014087677002,-4.6361236572265625,0.098509281873703,-2.0487592220306396,-5.1033124923706055,-3.8813319206237793,-5.077358245849609,-2.509097099304199,-1.2438511848449707,0.5510636568069458,-6.091856479644775,0.5121733546257019,-0.03642689064145088,0.4823298156261444,-4.168045997619629,-3.946803569793701,-0.918382465839386,0.1947896033525467,-2.059237480163574,0.25770115852355957,-6.006871223449707,0.6663239598274231,-6.962158203125,-6.046717166900635,-6.129729270935059,0.4801512360572815,-6.073051452636719,-1.7920656204223633,-6.546040058135986,-6.491246700286865,-0.9494739770889282,-6.406167507171631,-4.066069602966309,-0.7951169013977051,-3.280784845352173,0.18155375123023987,0.15436695516109467,0.8095424175262451,-4.861642837524414,-5.143881797790527,-3.411989450454712,-4.675289630889893,0.4676057696342468,-5.915558338165283,-6.198853492736816,0.3750600218772888,-1.095961570739746,-2.588291645050049,-6.847936153411865,-1.9961901903152466,-0.29080915451049805,-1.0344867706298828,-3.6370081901550293,-6.481346130371094,-3.362199544906616,-1.5124765634536743,-0.37955570220947266,-2.061143159866333,-1.2105783224105835,-3.5869975090026855,0.5406334400177002,0.4253980815410614,-7.098709583282471,-2.9221670627593994,-2.2354109287261963,-6.0628437995910645,2.3590917587280273,-4.86597204208374,-2.224490165710449,-1.764749526977539,0.6191499829292297,-5.598566055297852,-2.434904098510742,-5.974639892578125,-5.154207706451416,-4.336199760437012,-2.9619481563568115,-4.023076057434082,-4.277254581451416,-3.6428589820861816,-0.4057939648628235,-4.28504753112793,-0.6706327795982361,-0.05665544047951698,-0.20485997200012207,-1.9275822639465332,-1.1344101428985596,-6.052131175994873,-1.441870927810669,-6.214290142059326,-5.139196872711182],\"z\":[-5.52916145324707,-8.228191375732422,-6.2741498947143555,-8.262351989746094,-9.142265319824219,-8.751943588256836,-7.8513503074646,-6.581058979034424,-9.005875587463379,-8.18832778930664,-6.277310371398926,-5.151739120483398,-6.473250389099121,-6.236883163452148,-7.146363258361816,-6.140207290649414,-5.301266670227051,-6.728732109069824,-7.1125359535217285,-7.9511871337890625,-6.281493186950684,-5.112575531005859,-7.751280307769775,-8.132671356201172,-8.511006355285645,-5.455291748046875,-5.23773717880249,-6.366689682006836,-7.3645339012146,-6.49273681640625,-6.074095249176025,-9.204449653625488,-8.041196823120117,-6.310028076171875,-4.9611687660217285,-6.592812538146973,-5.68818473815918,-9.484599113464355,-8.757219314575195,-7.472038745880127,-9.180648803710938,-5.811948776245117,-5.366778373718262,-8.504915237426758,-5.240116119384766,-7.20471715927124,-6.082696437835693,-7.503809928894043,-6.399847507476807,-5.900173187255859,-8.014293670654297,-7.155968189239502,-7.552505016326904,-9.049124717712402,-7.441701889038086,-6.779085159301758,-8.103504180908203,-9.166382789611816,-5.474940776824951,-5.162911891937256,-5.9790730476379395,-6.050012588500977,-9.338546752929688,-6.194697380065918,-6.427655220031738,-5.966147422790527,-7.64857292175293,-5.796130657196045,-8.59133529663086,-7.240564823150635,-7.275398254394531,-9.286300659179688,-8.052066802978516,-8.518272399902344,-9.217236518859863,-4.1470160484313965,-6.402099132537842,-8.572519302368164,-6.923804759979248,-7.021637439727783,-6.160841941833496,-7.739068508148193,-8.148798942565918,-7.107601642608643,-8.04294204711914,-8.525288581848145,-8.276927947998047,-7.943324565887451,-8.11022663116455,-6.1494951248168945,-8.049298286437988,-8.073197364807129,-6.936417102813721,-8.097555160522461,-6.678476810455322,-7.972566604614258,-7.528554916381836,-8.345428466796875,-9.138326644897461,-8.003796577453613],\"type\":\"scatter3d\"}],                        {\"template\":{\"data\":{\"bar\":[{\"error_x\":{\"color\":\"#2a3f5f\"},\"error_y\":{\"color\":\"#2a3f5f\"},\"marker\":{\"line\":{\"color\":\"#E5ECF6\",\"width\":0.5},\"pattern\":{\"fillmode\":\"overlay\",\"size\":10,\"solidity\":0.2}},\"type\":\"bar\"}],\"barpolar\":[{\"marker\":{\"line\":{\"color\":\"#E5ECF6\",\"width\":0.5},\"pattern\":{\"fillmode\":\"overlay\",\"size\":10,\"solidity\":0.2}},\"type\":\"barpolar\"}],\"carpet\":[{\"aaxis\":{\"endlinecolor\":\"#2a3f5f\",\"gridcolor\":\"white\",\"linecolor\":\"white\",\"minorgridcolor\":\"white\",\"startlinecolor\":\"#2a3f5f\"},\"baxis\":{\"endlinecolor\":\"#2a3f5f\",\"gridcolor\":\"white\",\"linecolor\":\"white\",\"minorgridcolor\":\"white\",\"startlinecolor\":\"#2a3f5f\"},\"type\":\"carpet\"}],\"choropleth\":[{\"colorbar\":{\"outlinewidth\":0,\"ticks\":\"\"},\"type\":\"choropleth\"}],\"contour\":[{\"colorbar\":{\"outlinewidth\":0,\"ticks\":\"\"},\"colorscale\":[[0.0,\"#0d0887\"],[0.1111111111111111,\"#46039f\"],[0.2222222222222222,\"#7201a8\"],[0.3333333333333333,\"#9c179e\"],[0.4444444444444444,\"#bd3786\"],[0.5555555555555556,\"#d8576b\"],[0.6666666666666666,\"#ed7953\"],[0.7777777777777778,\"#fb9f3a\"],[0.8888888888888888,\"#fdca26\"],[1.0,\"#f0f921\"]],\"type\":\"contour\"}],\"contourcarpet\":[{\"colorbar\":{\"outlinewidth\":0,\"ticks\":\"\"},\"type\":\"contourcarpet\"}],\"heatmap\":[{\"colorbar\":{\"outlinewidth\":0,\"ticks\":\"\"},\"colorscale\":[[0.0,\"#0d0887\"],[0.1111111111111111,\"#46039f\"],[0.2222222222222222,\"#7201a8\"],[0.3333333333333333,\"#9c179e\"],[0.4444444444444444,\"#bd3786\"],[0.5555555555555556,\"#d8576b\"],[0.6666666666666666,\"#ed7953\"],[0.7777777777777778,\"#fb9f3a\"],[0.8888888888888888,\"#fdca26\"],[1.0,\"#f0f921\"]],\"type\":\"heatmap\"}],\"heatmapgl\":[{\"colorbar\":{\"outlinewidth\":0,\"ticks\":\"\"},\"colorscale\":[[0.0,\"#0d0887\"],[0.1111111111111111,\"#46039f\"],[0.2222222222222222,\"#7201a8\"],[0.3333333333333333,\"#9c179e\"],[0.4444444444444444,\"#bd3786\"],[0.5555555555555556,\"#d8576b\"],[0.6666666666666666,\"#ed7953\"],[0.7777777777777778,\"#fb9f3a\"],[0.8888888888888888,\"#fdca26\"],[1.0,\"#f0f921\"]],\"type\":\"heatmapgl\"}],\"histogram\":[{\"marker\":{\"pattern\":{\"fillmode\":\"overlay\",\"size\":10,\"solidity\":0.2}},\"type\":\"histogram\"}],\"histogram2d\":[{\"colorbar\":{\"outlinewidth\":0,\"ticks\":\"\"},\"colorscale\":[[0.0,\"#0d0887\"],[0.1111111111111111,\"#46039f\"],[0.2222222222222222,\"#7201a8\"],[0.3333333333333333,\"#9c179e\"],[0.4444444444444444,\"#bd3786\"],[0.5555555555555556,\"#d8576b\"],[0.6666666666666666,\"#ed7953\"],[0.7777777777777778,\"#fb9f3a\"],[0.8888888888888888,\"#fdca26\"],[1.0,\"#f0f921\"]],\"type\":\"histogram2d\"}],\"histogram2dcontour\":[{\"colorbar\":{\"outlinewidth\":0,\"ticks\":\"\"},\"colorscale\":[[0.0,\"#0d0887\"],[0.1111111111111111,\"#46039f\"],[0.2222222222222222,\"#7201a8\"],[0.3333333333333333,\"#9c179e\"],[0.4444444444444444,\"#bd3786\"],[0.5555555555555556,\"#d8576b\"],[0.6666666666666666,\"#ed7953\"],[0.7777777777777778,\"#fb9f3a\"],[0.8888888888888888,\"#fdca26\"],[1.0,\"#f0f921\"]],\"type\":\"histogram2dcontour\"}],\"mesh3d\":[{\"colorbar\":{\"outlinewidth\":0,\"ticks\":\"\"},\"type\":\"mesh3d\"}],\"parcoords\":[{\"line\":{\"colorbar\":{\"outlinewidth\":0,\"ticks\":\"\"}},\"type\":\"parcoords\"}],\"pie\":[{\"automargin\":true,\"type\":\"pie\"}],\"scatter\":[{\"marker\":{\"colorbar\":{\"outlinewidth\":0,\"ticks\":\"\"}},\"type\":\"scatter\"}],\"scatter3d\":[{\"line\":{\"colorbar\":{\"outlinewidth\":0,\"ticks\":\"\"}},\"marker\":{\"colorbar\":{\"outlinewidth\":0,\"ticks\":\"\"}},\"type\":\"scatter3d\"}],\"scattercarpet\":[{\"marker\":{\"colorbar\":{\"outlinewidth\":0,\"ticks\":\"\"}},\"type\":\"scattercarpet\"}],\"scattergeo\":[{\"marker\":{\"colorbar\":{\"outlinewidth\":0,\"ticks\":\"\"}},\"type\":\"scattergeo\"}],\"scattergl\":[{\"marker\":{\"colorbar\":{\"outlinewidth\":0,\"ticks\":\"\"}},\"type\":\"scattergl\"}],\"scattermapbox\":[{\"marker\":{\"colorbar\":{\"outlinewidth\":0,\"ticks\":\"\"}},\"type\":\"scattermapbox\"}],\"scatterpolar\":[{\"marker\":{\"colorbar\":{\"outlinewidth\":0,\"ticks\":\"\"}},\"type\":\"scatterpolar\"}],\"scatterpolargl\":[{\"marker\":{\"colorbar\":{\"outlinewidth\":0,\"ticks\":\"\"}},\"type\":\"scatterpolargl\"}],\"scatterternary\":[{\"marker\":{\"colorbar\":{\"outlinewidth\":0,\"ticks\":\"\"}},\"type\":\"scatterternary\"}],\"surface\":[{\"colorbar\":{\"outlinewidth\":0,\"ticks\":\"\"},\"colorscale\":[[0.0,\"#0d0887\"],[0.1111111111111111,\"#46039f\"],[0.2222222222222222,\"#7201a8\"],[0.3333333333333333,\"#9c179e\"],[0.4444444444444444,\"#bd3786\"],[0.5555555555555556,\"#d8576b\"],[0.6666666666666666,\"#ed7953\"],[0.7777777777777778,\"#fb9f3a\"],[0.8888888888888888,\"#fdca26\"],[1.0,\"#f0f921\"]],\"type\":\"surface\"}],\"table\":[{\"cells\":{\"fill\":{\"color\":\"#EBF0F8\"},\"line\":{\"color\":\"white\"}},\"header\":{\"fill\":{\"color\":\"#C8D4E3\"},\"line\":{\"color\":\"white\"}},\"type\":\"table\"}]},\"layout\":{\"annotationdefaults\":{\"arrowcolor\":\"#2a3f5f\",\"arrowhead\":0,\"arrowwidth\":1},\"autotypenumbers\":\"strict\",\"coloraxis\":{\"colorbar\":{\"outlinewidth\":0,\"ticks\":\"\"}},\"colorscale\":{\"diverging\":[[0,\"#8e0152\"],[0.1,\"#c51b7d\"],[0.2,\"#de77ae\"],[0.3,\"#f1b6da\"],[0.4,\"#fde0ef\"],[0.5,\"#f7f7f7\"],[0.6,\"#e6f5d0\"],[0.7,\"#b8e186\"],[0.8,\"#7fbc41\"],[0.9,\"#4d9221\"],[1,\"#276419\"]],\"sequential\":[[0.0,\"#0d0887\"],[0.1111111111111111,\"#46039f\"],[0.2222222222222222,\"#7201a8\"],[0.3333333333333333,\"#9c179e\"],[0.4444444444444444,\"#bd3786\"],[0.5555555555555556,\"#d8576b\"],[0.6666666666666666,\"#ed7953\"],[0.7777777777777778,\"#fb9f3a\"],[0.8888888888888888,\"#fdca26\"],[1.0,\"#f0f921\"]],\"sequentialminus\":[[0.0,\"#0d0887\"],[0.1111111111111111,\"#46039f\"],[0.2222222222222222,\"#7201a8\"],[0.3333333333333333,\"#9c179e\"],[0.4444444444444444,\"#bd3786\"],[0.5555555555555556,\"#d8576b\"],[0.6666666666666666,\"#ed7953\"],[0.7777777777777778,\"#fb9f3a\"],[0.8888888888888888,\"#fdca26\"],[1.0,\"#f0f921\"]]},\"colorway\":[\"#636efa\",\"#EF553B\",\"#00cc96\",\"#ab63fa\",\"#FFA15A\",\"#19d3f3\",\"#FF6692\",\"#B6E880\",\"#FF97FF\",\"#FECB52\"],\"font\":{\"color\":\"#2a3f5f\"},\"geo\":{\"bgcolor\":\"white\",\"lakecolor\":\"white\",\"landcolor\":\"#E5ECF6\",\"showlakes\":true,\"showland\":true,\"subunitcolor\":\"white\"},\"hoverlabel\":{\"align\":\"left\"},\"hovermode\":\"closest\",\"mapbox\":{\"style\":\"light\"},\"paper_bgcolor\":\"white\",\"plot_bgcolor\":\"#E5ECF6\",\"polar\":{\"angularaxis\":{\"gridcolor\":\"white\",\"linecolor\":\"white\",\"ticks\":\"\"},\"bgcolor\":\"#E5ECF6\",\"radialaxis\":{\"gridcolor\":\"white\",\"linecolor\":\"white\",\"ticks\":\"\"}},\"scene\":{\"xaxis\":{\"backgroundcolor\":\"#E5ECF6\",\"gridcolor\":\"white\",\"gridwidth\":2,\"linecolor\":\"white\",\"showbackground\":true,\"ticks\":\"\",\"zerolinecolor\":\"white\"},\"yaxis\":{\"backgroundcolor\":\"#E5ECF6\",\"gridcolor\":\"white\",\"gridwidth\":2,\"linecolor\":\"white\",\"showbackground\":true,\"ticks\":\"\",\"zerolinecolor\":\"white\"},\"zaxis\":{\"backgroundcolor\":\"#E5ECF6\",\"gridcolor\":\"white\",\"gridwidth\":2,\"linecolor\":\"white\",\"showbackground\":true,\"ticks\":\"\",\"zerolinecolor\":\"white\"}},\"shapedefaults\":{\"line\":{\"color\":\"#2a3f5f\"}},\"ternary\":{\"aaxis\":{\"gridcolor\":\"white\",\"linecolor\":\"white\",\"ticks\":\"\"},\"baxis\":{\"gridcolor\":\"white\",\"linecolor\":\"white\",\"ticks\":\"\"},\"bgcolor\":\"#E5ECF6\",\"caxis\":{\"gridcolor\":\"white\",\"linecolor\":\"white\",\"ticks\":\"\"}},\"title\":{\"x\":0.05},\"xaxis\":{\"automargin\":true,\"gridcolor\":\"white\",\"linecolor\":\"white\",\"ticks\":\"\",\"title\":{\"standoff\":15},\"zerolinecolor\":\"white\",\"zerolinewidth\":2},\"yaxis\":{\"automargin\":true,\"gridcolor\":\"white\",\"linecolor\":\"white\",\"ticks\":\"\",\"title\":{\"standoff\":15},\"zerolinecolor\":\"white\",\"zerolinewidth\":2}}},\"scene\":{\"domain\":{\"x\":[0.0,1.0],\"y\":[0.0,1.0]},\"xaxis\":{\"title\":{\"text\":\"0\"}},\"yaxis\":{\"title\":{\"text\":\"1\"}},\"zaxis\":{\"title\":{\"text\":\"2\"}}},\"legend\":{\"title\":{\"text\":\"label\"},\"tracegroupgap\":0},\"margin\":{\"t\":60}},                        {\"responsive\": true}                    ).then(function(){\n",
              "                            \n",
              "var gd = document.getElementById('abc9bb99-4a90-473a-b801-eacab43717bf');\n",
              "var x = new MutationObserver(function (mutations, observer) {{\n",
              "        var display = window.getComputedStyle(gd).display;\n",
              "        if (!display || display === 'none') {{\n",
              "            console.log([gd, 'removed!']);\n",
              "            Plotly.purge(gd);\n",
              "            observer.disconnect();\n",
              "        }}\n",
              "}});\n",
              "\n",
              "// Listen for the removal of the full notebook cells\n",
              "var notebookContainer = gd.closest('#notebook-container');\n",
              "if (notebookContainer) {{\n",
              "    x.observe(notebookContainer, {childList: true});\n",
              "}}\n",
              "\n",
              "// Listen for the clearing of the current output cell\n",
              "var outputEl = gd.closest('.output');\n",
              "if (outputEl) {{\n",
              "    x.observe(outputEl, {childList: true});\n",
              "}}\n",
              "\n",
              "                        })                };                            </script>        </div>\n",
              "</body>\n",
              "</html>"
            ]
          },
          "metadata": {}
        }
      ],
      "source": [
        "tsne = TSNE(n_components = 3, random_state = 0)\n",
        "projections = tsne.fit_transform(features, )\n",
        "\n",
        "fig = px.scatter_3d(\n",
        "    projections, x = 0, y = 1, z = 2,\n",
        "    color = df['label'], labels={'color': 'label'}\n",
        ")\n",
        "fig.update_traces(marker_size=8)\n",
        "fig.show()"
      ]
    },
    {
      "cell_type": "markdown",
      "source": [
        "The method above showed the crops in 2-d and 3-d plot and help the viewer to understand the distribution of crops in the dataset and what crops are close to each other in terms of growing conditions. "
      ],
      "metadata": {
        "id": "7pLODqN4_BiM"
      }
    },
    {
      "cell_type": "markdown",
      "metadata": {
        "id": "Z8LBZeLYokqD"
      },
      "source": [
        "## Data pre-processing."
      ]
    },
    {
      "cell_type": "code",
      "execution_count": 13,
      "metadata": {
        "colab": {
          "base_uri": "https://localhost:8080/"
        },
        "id": "bcWaub7KokqD",
        "outputId": "1a11611b-eb54-4a40-db40-3c35a5b694b1"
      },
      "outputs": [
        {
          "output_type": "execute_result",
          "data": {
            "text/plain": [
              "N              0\n",
              "P              0\n",
              "K              0\n",
              "temperature    0\n",
              "humidity       0\n",
              "ph             0\n",
              "rainfall       0\n",
              "label          0\n",
              "K_amount       0\n",
              "P_amount       0\n",
              "dtype: int64"
            ]
          },
          "metadata": {},
          "execution_count": 13
        }
      ],
      "source": [
        "# Checking the nulls\n",
        "df.isnull().sum()"
      ]
    },
    {
      "cell_type": "markdown",
      "metadata": {
        "id": "GeutlV-sokqD"
      },
      "source": [
        "There are no nulls."
      ]
    },
    {
      "cell_type": "code",
      "execution_count": 14,
      "metadata": {
        "colab": {
          "base_uri": "https://localhost:8080/"
        },
        "id": "_Kd_t99BokqE",
        "outputId": "fde51a54-d5af-4d8f-c56c-3551cca3579c"
      },
      "outputs": [
        {
          "output_type": "execute_result",
          "data": {
            "text/plain": [
              "rice           100\n",
              "maize          100\n",
              "jute           100\n",
              "cotton         100\n",
              "coconut        100\n",
              "papaya         100\n",
              "orange         100\n",
              "apple          100\n",
              "muskmelon      100\n",
              "watermelon     100\n",
              "grapes         100\n",
              "mango          100\n",
              "banana         100\n",
              "pomegranate    100\n",
              "lentil         100\n",
              "blackgram      100\n",
              "mungbean       100\n",
              "mothbeans      100\n",
              "pigeonpeas     100\n",
              "kidneybeans    100\n",
              "chickpea       100\n",
              "coffee         100\n",
              "Name: label, dtype: int64"
            ]
          },
          "metadata": {},
          "execution_count": 14
        }
      ],
      "source": [
        "# Checking if the labels are balanced\n",
        "df['label'].value_counts()"
      ]
    },
    {
      "cell_type": "markdown",
      "metadata": {
        "id": "3o71v163okqE"
      },
      "source": [
        "The labels are balanced."
      ]
    },
    {
      "cell_type": "markdown",
      "metadata": {
        "id": "_EXPP-T6okqE"
      },
      "source": [
        "As the data range is logical, there are no nulls and the labels are balanced, the dataset is ready to be fit to the classification models to perform the classification task to predict what crop to grow based on the dataset given features."
      ]
    },
    {
      "cell_type": "markdown",
      "metadata": {
        "id": "_iy1KUNuokqE"
      },
      "source": [
        "## Performing Classification algorithms on the dataset."
      ]
    },
    {
      "cell_type": "markdown",
      "metadata": {
        "id": "lMBcX_TqokqE"
      },
      "source": [
        "### Random Forest Model"
      ]
    },
    {
      "cell_type": "code",
      "execution_count": 15,
      "metadata": {
        "id": "LVtU9HTQokqE"
      },
      "outputs": [],
      "source": [
        "# Importing necessary libraries\n",
        "from sklearn.ensemble import RandomForestClassifier\n",
        "import random\n",
        "from sklearn.model_selection import train_test_split\n",
        "random.seed(10)"
      ]
    },
    {
      "cell_type": "code",
      "execution_count": 16,
      "metadata": {
        "id": "JrRlyFCIokqF"
      },
      "outputs": [],
      "source": [
        "# Preping the train and test data\n",
        "X = df[['N', 'P', 'K', 'temperature', 'humidity', 'ph', 'rainfall']]  # Features\n",
        "y = df['label']  # Label"
      ]
    },
    {
      "cell_type": "code",
      "execution_count": 17,
      "metadata": {
        "id": "OBIFRxwHokqF"
      },
      "outputs": [],
      "source": [
        "# Spliting dataset into training set and test set\n",
        "X_train, X_test, y_train, y_test = train_test_split(X, y, test_size = 0.3) # 70% training and 30% test"
      ]
    },
    {
      "cell_type": "code",
      "execution_count": 18,
      "metadata": {
        "id": "6J9K4BufokqF"
      },
      "outputs": [],
      "source": [
        "# Creating a Gaussian Classifier\n",
        "clf = RandomForestClassifier(n_estimators=100) # 100 decision trees"
      ]
    },
    {
      "cell_type": "code",
      "execution_count": 19,
      "metadata": {
        "colab": {
          "base_uri": "https://localhost:8080/"
        },
        "id": "bAJb-foFokqF",
        "outputId": "cfd750fe-5e2d-4735-8e81-1269eecc0b0d"
      },
      "outputs": [
        {
          "output_type": "execute_result",
          "data": {
            "text/plain": [
              "RandomForestClassifier()"
            ]
          },
          "metadata": {},
          "execution_count": 19
        }
      ],
      "source": [
        "# Training the model using the training sets \n",
        "clf.fit(X_train, y_train)"
      ]
    },
    {
      "cell_type": "code",
      "execution_count": 20,
      "metadata": {
        "id": "NpbKE-4UokqF"
      },
      "outputs": [],
      "source": [
        "# Predicting on testing data\n",
        "y_pred = clf.predict(X_test)"
      ]
    },
    {
      "cell_type": "code",
      "execution_count": 21,
      "metadata": {
        "id": "kYJtNrFIokqF",
        "colab": {
          "base_uri": "https://localhost:8080/"
        },
        "outputId": "ed98a8cc-3748-4b97-b667-01b597e1eb11"
      },
      "outputs": [
        {
          "output_type": "stream",
          "name": "stdout",
          "text": [
            "0.9848484848484849   0.9886017184035477   0.9887445887445888   0.9874495527432606   0.9999825757575757\n"
          ]
        }
      ],
      "source": [
        "# Importing scikit-learn modules for performance measuring\n",
        "from sklearn import metrics\n",
        "from sklearn.metrics import precision_score\n",
        "from sklearn.metrics import recall_score\n",
        "from sklearn.metrics import f1_score\n",
        "from sklearn.metrics import roc_auc_score\n",
        "\n",
        "# Accuracy is the ratio of correctly predicted samples to the total number of samples. It measures the overall performance of the model.\n",
        "\n",
        "# Precision is the ratio of correctly predicted positive samples to the total number of positive samples predicted by the model.\n",
        "# It measures the ability of the model to correctly predict positive samples.\n",
        "\n",
        "# Recall is the ratio of correctly predicted positive samples to the total number of actual positive samples.\n",
        "# It measures the ability of the model to find all the positive samples.\n",
        "\n",
        "# F1-score is the harmonic mean of precision and recall. It is a balanced metric that takes into account both precision and recall.\n",
        "\n",
        "# ROC-AUC is a plot of the true positive rate against the false positive rate.\n",
        "# The area under the ROC curve (AUC) is a measure of the overall performance of the model,\n",
        "# with a value of 1 indicating a perfect classifier and 0.5 indicating a random classifier.\n",
        "\n",
        "acc1 = metrics.accuracy_score(y_test, y_pred)\n",
        "p1 = precision_score(y_test, y_pred, average='macro')\n",
        "r1 = recall_score(y_test, y_pred, average='macro')\n",
        "f1 = f1_score(y_test, y_pred, average='macro')\n",
        "roc_auc_1 = roc_auc_score(y, clf.predict_proba(X), multi_class='ovr')\n",
        "print(acc1, \" \", p1, \" \", r1, \" \", f1, \" \", roc_auc_1)"
      ]
    },
    {
      "cell_type": "markdown",
      "source": [
        "Because the random forest is a non-deterministic algorihm (even for the same input, can exhibit different behaviors on different runs), it will be run 30 times, and the average metrices will be considered as the model's performance measures."
      ],
      "metadata": {
        "id": "q4dEJV2TYHln"
      }
    },
    {
      "cell_type": "code",
      "source": [
        "# Repeating 29 times\n",
        "for i in range(29):\n",
        "  X_train, X_test, y_train, y_test = train_test_split(X, y, test_size = 0.3)\n",
        "  clf.fit(X_train, y_train)\n",
        "  y_pred=clf.predict(X_test)\n",
        "  acc_t = metrics.accuracy_score(y_test, y_pred)\n",
        "  p_t = precision_score(y_test, y_pred, average='macro')\n",
        "  r_t = recall_score(y_test, y_pred, average='macro')\n",
        "  f_t = f1_score(y_test, y_pred, average='macro')\n",
        "  roc_auc_t = roc_auc_score(y, clf.predict_proba(X), multi_class='ovr')\n",
        "  acc1 = acc1 + acc_t\n",
        "  p1 = p1 + p_t\n",
        "  r1 = r1 + r_t\n",
        "  f1 = f1 + f_t\n",
        "  roc_auc_1 = roc_auc_1 + roc_auc_t\n",
        "\n",
        "acc1 = acc1 / 30\n",
        "p1 = p1 / 30\n",
        "r1 = r1 / 30\n",
        "f1 = f1 / 30\n",
        "roc_auc_1 = roc_auc_1 / 30\n",
        "\n",
        "print(\"Accuracy:\", acc1)\n",
        "print(\"Precision:\", p1)\n",
        "print(\"Recall:\", r1)\n",
        "print(\"F1 score:\", f1)\n",
        "print(\"AUC-ROC curve score:\", roc_auc_1)"
      ],
      "metadata": {
        "colab": {
          "base_uri": "https://localhost:8080/"
        },
        "id": "pGGcI_TaYpxy",
        "outputId": "800afdd2-366e-4b85-bf57-b0547be89012"
      },
      "execution_count": 22,
      "outputs": [
        {
          "output_type": "stream",
          "name": "stdout",
          "text": [
            "Accuracy: 0.9934848484848483\n",
            "Precision: 0.993720622046195\n",
            "Recall: 0.9937512424124073\n",
            "F1 score: 0.9935073391752518\n",
            "AUC-ROC curve score: 0.9999974098124098\n"
          ]
        }
      ]
    },
    {
      "cell_type": "markdown",
      "metadata": {
        "id": "cIPqx_opokqG"
      },
      "source": [
        "As can be seen from the above, the random forest model applied on the crop recommendation dataset resulted in relatively high performnace measures, indicating that the data is preprocessed in a good way and the model selection is appropriate."
      ]
    },
    {
      "cell_type": "markdown",
      "metadata": {
        "id": "0KHzoW1JokqG"
      },
      "source": [
        "### Random forest model with feature selection."
      ]
    },
    {
      "cell_type": "code",
      "execution_count": 23,
      "metadata": {
        "colab": {
          "base_uri": "https://localhost:8080/"
        },
        "id": "GGKtsC_HokqG",
        "outputId": "36219ee2-0d6a-4300-f665-595ed98c0188"
      },
      "outputs": [
        {
          "output_type": "execute_result",
          "data": {
            "text/plain": [
              "rainfall       0.217901\n",
              "humidity       0.212064\n",
              "K              0.177420\n",
              "P              0.146020\n",
              "N              0.113038\n",
              "temperature    0.072727\n",
              "ph             0.060831\n",
              "dtype: float64"
            ]
          },
          "metadata": {},
          "execution_count": 23
        }
      ],
      "source": [
        "# Variable importance\n",
        "features = ['N', 'P', 'K', 'temperature', 'humidity', 'ph', 'rainfall']\n",
        "feature_imp = pd.Series(clf.feature_importances_, index = features).sort_values(ascending=False)\n",
        "feature_imp"
      ]
    },
    {
      "cell_type": "code",
      "execution_count": 24,
      "metadata": {
        "colab": {
          "base_uri": "https://localhost:8080/"
        },
        "id": "9UROGYC8okqG",
        "outputId": "cf88ce80-0ce1-4f53-f3a9-323d658623f6"
      },
      "outputs": [
        {
          "output_type": "execute_result",
          "data": {
            "text/plain": [
              "Index(['N', 'P', 'K', 'humidity', 'rainfall'], dtype='object')"
            ]
          },
          "metadata": {},
          "execution_count": 24
        }
      ],
      "source": [
        "# Using Chi square method to select the 5 relevant features\n",
        "from sklearn.feature_selection import SelectKBest\n",
        "from sklearn.feature_selection import chi2\n",
        "selector = SelectKBest(chi2, k=5) # Choosing the method\n",
        "selector.fit(X, y)\n",
        "X.columns[selector.get_support()]"
      ]
    },
    {
      "cell_type": "markdown",
      "metadata": {
        "id": "uFbwaNeMokqG"
      },
      "source": [
        "The results of gini index feature importance and feature selection using the above algorithm were the same - eliminating ph and temperature-."
      ]
    },
    {
      "cell_type": "code",
      "execution_count": 25,
      "metadata": {
        "id": "2Nf9pNjUokqG"
      },
      "outputs": [],
      "source": [
        "# Preping the train and test data\n",
        "X = df[['N', 'P', 'K', 'humidity', 'rainfall']]  # Features\n",
        "y = df['label']  # Label"
      ]
    },
    {
      "cell_type": "code",
      "execution_count": 26,
      "metadata": {
        "id": "iI4O6CgYokqG"
      },
      "outputs": [],
      "source": [
        "# Splitting dataset into training set and test set\n",
        "X_train, X_test, y_train, y_test = train_test_split(X, y, test_size=0.3) # 70% training and 30% test"
      ]
    },
    {
      "cell_type": "code",
      "execution_count": 27,
      "metadata": {
        "id": "saBEu0NPokqH"
      },
      "outputs": [],
      "source": [
        "# Creating a Gaussian Classifier\n",
        "clf = RandomForestClassifier(n_estimators=100) # 100 decision trees"
      ]
    },
    {
      "cell_type": "code",
      "execution_count": 28,
      "metadata": {
        "colab": {
          "base_uri": "https://localhost:8080/"
        },
        "id": "iYwk9tE1okqH",
        "outputId": "47479edf-c4fb-4606-ee21-298fbefb4dc4"
      },
      "outputs": [
        {
          "output_type": "execute_result",
          "data": {
            "text/plain": [
              "RandomForestClassifier()"
            ]
          },
          "metadata": {},
          "execution_count": 28
        }
      ],
      "source": [
        "# Training the model using the training sets y_pred=clf.predict(X_test)\n",
        "clf.fit(X_train,y_train)"
      ]
    },
    {
      "cell_type": "code",
      "execution_count": 29,
      "metadata": {
        "id": "x2WpGYINokqH"
      },
      "outputs": [],
      "source": [
        "# Predicting on testing data\n",
        "y_pred = clf.predict(X_test)"
      ]
    },
    {
      "cell_type": "code",
      "execution_count": 31,
      "metadata": {
        "id": "5LufT4UbokqH",
        "colab": {
          "base_uri": "https://localhost:8080/"
        },
        "outputId": "e0483c56-c2fb-4c59-e141-ee18ca45ae40"
      },
      "outputs": [
        {
          "output_type": "stream",
          "name": "stdout",
          "text": [
            "0.990909090909091   0.9912028771464091   0.9907101316192225   0.9908433062935312   0.9999975108225108\n"
          ]
        }
      ],
      "source": [
        "# Using scikit-learn modules for performance measuring\n",
        "acc2 = metrics.accuracy_score(y_test, y_pred)\n",
        "p2 = precision_score(y_test, y_pred, average='macro')\n",
        "r2 = recall_score(y_test, y_pred, average='macro')\n",
        "f2 = f1_score(y_test, y_pred, average='macro')\n",
        "roc_auc_2 = roc_auc_score(y, clf.predict_proba(X), multi_class='ovr')\n",
        "print(acc2, \" \", p2, \" \", r2, \" \", f2, \" \", roc_auc_2)"
      ]
    },
    {
      "cell_type": "markdown",
      "source": [
        "Because the random forest is a non-deterministic algorihm (even for the same input, can exhibit different behaviors on different runs), it will be run 30 times, and the average measures will be considered as the model's performance measures."
      ],
      "metadata": {
        "id": "XwkoudxdaLf4"
      }
    },
    {
      "cell_type": "code",
      "source": [
        "# Repeating 29 times\n",
        "for i in range(29):\n",
        "  X_train, X_test, y_train, y_test = train_test_split(X, y, test_size = 0.3)\n",
        "  clf.fit(X_train, y_train)\n",
        "  y_pred=clf.predict(X_test)\n",
        "  acc_t = metrics.accuracy_score(y_test, y_pred)\n",
        "  p_t = precision_score(y_test, y_pred, average='macro')\n",
        "  r_t = recall_score(y_test, y_pred, average='macro')\n",
        "  f_t = f1_score(y_test, y_pred, average='macro')\n",
        "  roc_auc_t = roc_auc_score(y, clf.predict_proba(X), multi_class='ovr')\n",
        "  acc2 = acc2 + acc_t\n",
        "  p2 = p2 + p_t\n",
        "  r2 = r2 + r_t\n",
        "  f2 = f2 + f_t\n",
        "  roc_auc_2 = roc_auc_2 + roc_auc_t\n",
        "\n",
        "acc2 = acc2 / 30\n",
        "p2 = p2 / 30\n",
        "r2 = r2 / 30\n",
        "f2 = f2 / 30\n",
        "roc_auc_2 = roc_auc_2 / 30\n",
        "\n",
        "print(\"Accuracy:\", acc2)\n",
        "print(\"Precision:\", p2)\n",
        "print(\"Recall:\", r2)\n",
        "print(\"F1 score:\", f2)\n",
        "print(\"AUC-ROC curve score:\", roc_auc_2)"
      ],
      "metadata": {
        "colab": {
          "base_uri": "https://localhost:8080/"
        },
        "id": "AKnjznIhaLJ7",
        "outputId": "5723935a-9f72-4fad-efac-0b6046ef8bba"
      },
      "execution_count": 32,
      "outputs": [
        {
          "output_type": "stream",
          "name": "stdout",
          "text": [
            "Accuracy: 0.9915656565656564\n",
            "Precision: 0.9914366554860723\n",
            "Recall: 0.9917491269369996\n",
            "F1 score: 0.9914165523339757\n",
            "AUC-ROC curve score: 0.9999943722943724\n"
          ]
        }
      ]
    },
    {
      "cell_type": "markdown",
      "metadata": {
        "id": "YAX3KIvAokqH"
      },
      "source": [
        "As noted from the above, when removing the PH and temprature features, the performances of classification drops a little, which implies that these two features are important but can be ignored if not available."
      ]
    },
    {
      "cell_type": "markdown",
      "metadata": {
        "id": "yGFWpOZ-okqH"
      },
      "source": [
        "### Neural network model."
      ]
    },
    {
      "cell_type": "code",
      "source": [
        "# Separating the label from other features \n",
        "df = df.drop('K_amount', axis = 1)\n",
        "df = df.drop('P_amount', axis = 1) \n",
        "X = df.drop('label', axis = 1)"
      ],
      "metadata": {
        "id": "EA2bdCo3s0_s"
      },
      "execution_count": 33,
      "outputs": []
    },
    {
      "cell_type": "code",
      "source": [
        "# Converting the crop label to numerical\n",
        "from sklearn.preprocessing import LabelEncoder\n",
        "label_encode = LabelEncoder()\n",
        "df['label'] = label_encode.fit_transform(df['label'])\n",
        "y = df['label']"
      ],
      "metadata": {
        "id": "ZaA0EH3A1u6y"
      },
      "execution_count": 34,
      "outputs": []
    },
    {
      "cell_type": "code",
      "source": [
        "pip install scikeras"
      ],
      "metadata": {
        "colab": {
          "base_uri": "https://localhost:8080/"
        },
        "id": "zWDNX_Oea3Gg",
        "outputId": "2c764447-0ea5-45c6-e071-0137e12de9d5"
      },
      "execution_count": 35,
      "outputs": [
        {
          "output_type": "stream",
          "name": "stdout",
          "text": [
            "Looking in indexes: https://pypi.org/simple, https://us-python.pkg.dev/colab-wheels/public/simple/\n",
            "Collecting scikeras\n",
            "  Downloading scikeras-0.10.0-py3-none-any.whl (27 kB)\n",
            "Requirement already satisfied: scikit-learn>=1.0.0 in /usr/local/lib/python3.8/dist-packages (from scikeras) (1.0.2)\n",
            "Requirement already satisfied: packaging>=0.21 in /usr/local/lib/python3.8/dist-packages (from scikeras) (21.3)\n",
            "Requirement already satisfied: pyparsing!=3.0.5,>=2.0.2 in /usr/local/lib/python3.8/dist-packages (from packaging>=0.21->scikeras) (3.0.9)\n",
            "Requirement already satisfied: numpy>=1.14.6 in /usr/local/lib/python3.8/dist-packages (from scikit-learn>=1.0.0->scikeras) (1.21.6)\n",
            "Requirement already satisfied: joblib>=0.11 in /usr/local/lib/python3.8/dist-packages (from scikit-learn>=1.0.0->scikeras) (1.2.0)\n",
            "Requirement already satisfied: threadpoolctl>=2.0.0 in /usr/local/lib/python3.8/dist-packages (from scikit-learn>=1.0.0->scikeras) (3.1.0)\n",
            "Requirement already satisfied: scipy>=1.1.0 in /usr/local/lib/python3.8/dist-packages (from scikit-learn>=1.0.0->scikeras) (1.7.3)\n",
            "Installing collected packages: scikeras\n",
            "Successfully installed scikeras-0.10.0\n"
          ]
        }
      ]
    },
    {
      "cell_type": "code",
      "source": [
        "# Importing necessary libraries\n",
        "import numpy as np\n",
        "import tensorflow as tf\n",
        "from sklearn.model_selection import GridSearchCV\n",
        "from tensorflow.keras.models import Sequential\n",
        "from tensorflow.keras.layers import Dense\n",
        "from scikeras.wrappers import KerasClassifier"
      ],
      "metadata": {
        "id": "Stk9jggFs5UV"
      },
      "execution_count": 37,
      "outputs": []
    },
    {
      "cell_type": "code",
      "source": [
        "# Using scikit-learn to grid search the batch size and epochs\n",
        "\n",
        "# Function to create model, required for KerasClassifier\n",
        "def create_model():\n",
        " # creating model\n",
        " model = Sequential()\n",
        " model.add(Dense(64, input_shape=(7,), activation='relu'))\n",
        " model.add(Dense(64, activation='relu'))\n",
        " model.add(Dense(64, activation='relu'))\n",
        " model.add(Dense(22, activation='softmax'))\n",
        " # Compiling model\n",
        " model.compile(loss = 'sparse_categorical_crossentropy', optimizer = 'adam', metrics = 'accuracy')\n",
        " return model"
      ],
      "metadata": {
        "id": "AnmTQ8-ptHBU"
      },
      "execution_count": 38,
      "outputs": []
    },
    {
      "cell_type": "code",
      "source": [
        "# Creating model\n",
        "model = KerasClassifier(model = create_model, verbose=0)\n",
        "\n",
        "# Defining the grid search parameters\n",
        "batch_size = [32, 64, 128]\n",
        "epochs = [200, 400, 600, 800]\n",
        "param_grid = dict(batch_size = batch_size, epochs = epochs)\n",
        "grid = GridSearchCV(estimator = model, param_grid = param_grid, n_jobs = -1, cv = 3)\n",
        "grid_result = grid.fit(X, y)\n",
        "\n",
        "# Summarizing results\n",
        "print(\"Best: %f using %s\" % (grid_result.best_score_, grid_result.best_params_))"
      ],
      "metadata": {
        "colab": {
          "base_uri": "https://localhost:8080/"
        },
        "id": "uIpaJd91tK6y",
        "outputId": "33b0dd76-6cc8-4985-9967-c076d083761f"
      },
      "execution_count": 39,
      "outputs": [
        {
          "output_type": "stream",
          "name": "stdout",
          "text": [
            "Best: 0.971366 using {'batch_size': 32, 'epochs': 400}\n"
          ]
        }
      ]
    },
    {
      "cell_type": "code",
      "source": [
        "batch_size = grid_result.best_params_['batch_size']\n",
        "epochs = grid_result.best_params_['epochs']"
      ],
      "metadata": {
        "id": "4daBrOEHcp68"
      },
      "execution_count": 40,
      "outputs": []
    },
    {
      "cell_type": "markdown",
      "source": [
        "Now, the parameters that produce the best neural network accuracy will be used to build the actual model."
      ],
      "metadata": {
        "id": "mq_LNpMm1RPq"
      }
    },
    {
      "cell_type": "code",
      "source": [
        "from keras.models import Sequential\n",
        "from keras.layers import Dense\n",
        "\n",
        "# Creating the model\n",
        "model = Sequential()\n",
        "model.add(Dense(64, input_shape=(7,), activation='relu'))\n",
        "model.add(Dense(64, activation='relu'))\n",
        "model.add(Dense(64, activation='relu'))\n",
        "model.add(Dense(22, activation='softmax'))\n",
        "\n",
        "# Compiling model\n",
        "model.compile(loss = 'sparse_categorical_crossentropy', optimizer = 'adam', metrics = 'accuracy')"
      ],
      "metadata": {
        "id": "3RMS6Uzd1Jvc"
      },
      "execution_count": 41,
      "outputs": []
    },
    {
      "cell_type": "code",
      "source": [
        "from sklearn.model_selection import train_test_split\n",
        "X_train, X_test, y_train, y_test = train_test_split(X, y, test_size = 0.3)"
      ],
      "metadata": {
        "id": "27sunzEo1Ytr"
      },
      "execution_count": 42,
      "outputs": []
    },
    {
      "cell_type": "code",
      "source": [
        "history = model.fit(X_train, y_train, validation_split = 0.3, batch_size = batch_size, epochs = epochs)"
      ],
      "metadata": {
        "colab": {
          "base_uri": "https://localhost:8080/"
        },
        "id": "n5vvx_Ld4sVx",
        "outputId": "f388e6ce-e40b-41fd-d5a2-fb15ae610b47"
      },
      "execution_count": 43,
      "outputs": [
        {
          "output_type": "stream",
          "name": "stdout",
          "text": [
            "Epoch 1/400\n",
            "34/34 [==============================] - 1s 7ms/step - loss: 6.7250 - accuracy: 0.2458 - val_loss: 1.6274 - val_accuracy: 0.5022\n",
            "Epoch 2/400\n",
            "34/34 [==============================] - 0s 2ms/step - loss: 0.9440 - accuracy: 0.7199 - val_loss: 0.7114 - val_accuracy: 0.7706\n",
            "Epoch 3/400\n",
            "34/34 [==============================] - 0s 3ms/step - loss: 0.5371 - accuracy: 0.8423 - val_loss: 0.4687 - val_accuracy: 0.8745\n",
            "Epoch 4/400\n",
            "34/34 [==============================] - 0s 2ms/step - loss: 0.4080 - accuracy: 0.8887 - val_loss: 0.3813 - val_accuracy: 0.8723\n",
            "Epoch 5/400\n",
            "34/34 [==============================] - 0s 2ms/step - loss: 0.2922 - accuracy: 0.9239 - val_loss: 0.3062 - val_accuracy: 0.9026\n",
            "Epoch 6/400\n",
            "34/34 [==============================] - 0s 3ms/step - loss: 0.2510 - accuracy: 0.9249 - val_loss: 0.2622 - val_accuracy: 0.9199\n",
            "Epoch 7/400\n",
            "34/34 [==============================] - 0s 3ms/step - loss: 0.2321 - accuracy: 0.9230 - val_loss: 0.3279 - val_accuracy: 0.8918\n",
            "Epoch 8/400\n",
            "34/34 [==============================] - 0s 2ms/step - loss: 0.2172 - accuracy: 0.9295 - val_loss: 0.2747 - val_accuracy: 0.9221\n",
            "Epoch 9/400\n",
            "34/34 [==============================] - 0s 2ms/step - loss: 0.1811 - accuracy: 0.9443 - val_loss: 0.2099 - val_accuracy: 0.9221\n",
            "Epoch 10/400\n",
            "34/34 [==============================] - 0s 2ms/step - loss: 0.1611 - accuracy: 0.9462 - val_loss: 0.1988 - val_accuracy: 0.9351\n",
            "Epoch 11/400\n",
            "34/34 [==============================] - 0s 3ms/step - loss: 0.1421 - accuracy: 0.9536 - val_loss: 0.1875 - val_accuracy: 0.9416\n",
            "Epoch 12/400\n",
            "34/34 [==============================] - 0s 2ms/step - loss: 0.1530 - accuracy: 0.9481 - val_loss: 0.1812 - val_accuracy: 0.9459\n",
            "Epoch 13/400\n",
            "34/34 [==============================] - 0s 2ms/step - loss: 0.1571 - accuracy: 0.9462 - val_loss: 0.2685 - val_accuracy: 0.9113\n",
            "Epoch 14/400\n",
            "34/34 [==============================] - 0s 3ms/step - loss: 0.1760 - accuracy: 0.9425 - val_loss: 0.1907 - val_accuracy: 0.9329\n",
            "Epoch 15/400\n",
            "34/34 [==============================] - 0s 2ms/step - loss: 0.1414 - accuracy: 0.9508 - val_loss: 0.1916 - val_accuracy: 0.9372\n",
            "Epoch 16/400\n",
            "34/34 [==============================] - 0s 2ms/step - loss: 0.1171 - accuracy: 0.9601 - val_loss: 0.1829 - val_accuracy: 0.9286\n",
            "Epoch 17/400\n",
            "34/34 [==============================] - 0s 2ms/step - loss: 0.1314 - accuracy: 0.9453 - val_loss: 0.1773 - val_accuracy: 0.9394\n",
            "Epoch 18/400\n",
            "34/34 [==============================] - 0s 3ms/step - loss: 0.1230 - accuracy: 0.9518 - val_loss: 0.1754 - val_accuracy: 0.9329\n",
            "Epoch 19/400\n",
            "34/34 [==============================] - 0s 2ms/step - loss: 0.1142 - accuracy: 0.9638 - val_loss: 0.2342 - val_accuracy: 0.9264\n",
            "Epoch 20/400\n",
            "34/34 [==============================] - 0s 4ms/step - loss: 0.1219 - accuracy: 0.9527 - val_loss: 0.1750 - val_accuracy: 0.9481\n",
            "Epoch 21/400\n",
            "34/34 [==============================] - 0s 3ms/step - loss: 0.1190 - accuracy: 0.9527 - val_loss: 0.1691 - val_accuracy: 0.9437\n",
            "Epoch 22/400\n",
            "34/34 [==============================] - 0s 2ms/step - loss: 0.1281 - accuracy: 0.9490 - val_loss: 0.2125 - val_accuracy: 0.9286\n",
            "Epoch 23/400\n",
            "34/34 [==============================] - 0s 3ms/step - loss: 0.1208 - accuracy: 0.9583 - val_loss: 0.1679 - val_accuracy: 0.9459\n",
            "Epoch 24/400\n",
            "34/34 [==============================] - 0s 2ms/step - loss: 0.0988 - accuracy: 0.9647 - val_loss: 0.1535 - val_accuracy: 0.9394\n",
            "Epoch 25/400\n",
            "34/34 [==============================] - 0s 3ms/step - loss: 0.0865 - accuracy: 0.9703 - val_loss: 0.1493 - val_accuracy: 0.9567\n",
            "Epoch 26/400\n",
            "34/34 [==============================] - 0s 2ms/step - loss: 0.1026 - accuracy: 0.9638 - val_loss: 0.1639 - val_accuracy: 0.9437\n",
            "Epoch 27/400\n",
            "34/34 [==============================] - 0s 2ms/step - loss: 0.0856 - accuracy: 0.9666 - val_loss: 0.1727 - val_accuracy: 0.9394\n",
            "Epoch 28/400\n",
            "34/34 [==============================] - 0s 2ms/step - loss: 0.0908 - accuracy: 0.9629 - val_loss: 0.1653 - val_accuracy: 0.9437\n",
            "Epoch 29/400\n",
            "34/34 [==============================] - 0s 3ms/step - loss: 0.1041 - accuracy: 0.9592 - val_loss: 0.1676 - val_accuracy: 0.9459\n",
            "Epoch 30/400\n",
            "34/34 [==============================] - 0s 2ms/step - loss: 0.1021 - accuracy: 0.9620 - val_loss: 0.1738 - val_accuracy: 0.9351\n",
            "Epoch 31/400\n",
            "34/34 [==============================] - 0s 3ms/step - loss: 0.1028 - accuracy: 0.9620 - val_loss: 0.1447 - val_accuracy: 0.9502\n",
            "Epoch 32/400\n",
            "34/34 [==============================] - 0s 3ms/step - loss: 0.0885 - accuracy: 0.9685 - val_loss: 0.2384 - val_accuracy: 0.9242\n",
            "Epoch 33/400\n",
            "34/34 [==============================] - 0s 3ms/step - loss: 0.0970 - accuracy: 0.9638 - val_loss: 0.1142 - val_accuracy: 0.9654\n",
            "Epoch 34/400\n",
            "34/34 [==============================] - 0s 3ms/step - loss: 0.0811 - accuracy: 0.9638 - val_loss: 0.1401 - val_accuracy: 0.9481\n",
            "Epoch 35/400\n",
            "34/34 [==============================] - 0s 2ms/step - loss: 0.0949 - accuracy: 0.9647 - val_loss: 0.1317 - val_accuracy: 0.9459\n",
            "Epoch 36/400\n",
            "34/34 [==============================] - 0s 3ms/step - loss: 0.1077 - accuracy: 0.9601 - val_loss: 0.1939 - val_accuracy: 0.9394\n",
            "Epoch 37/400\n",
            "34/34 [==============================] - 0s 2ms/step - loss: 0.0904 - accuracy: 0.9703 - val_loss: 0.1352 - val_accuracy: 0.9502\n",
            "Epoch 38/400\n",
            "34/34 [==============================] - 0s 3ms/step - loss: 0.0924 - accuracy: 0.9675 - val_loss: 0.1381 - val_accuracy: 0.9437\n",
            "Epoch 39/400\n",
            "34/34 [==============================] - 0s 2ms/step - loss: 0.0668 - accuracy: 0.9750 - val_loss: 0.1388 - val_accuracy: 0.9524\n",
            "Epoch 40/400\n",
            "34/34 [==============================] - 0s 3ms/step - loss: 0.0790 - accuracy: 0.9675 - val_loss: 0.1468 - val_accuracy: 0.9394\n",
            "Epoch 41/400\n",
            "34/34 [==============================] - 0s 3ms/step - loss: 0.0736 - accuracy: 0.9750 - val_loss: 0.1663 - val_accuracy: 0.9372\n",
            "Epoch 42/400\n",
            "34/34 [==============================] - 0s 2ms/step - loss: 0.0910 - accuracy: 0.9675 - val_loss: 0.1625 - val_accuracy: 0.9437\n",
            "Epoch 43/400\n",
            "34/34 [==============================] - 0s 2ms/step - loss: 0.0875 - accuracy: 0.9666 - val_loss: 0.1318 - val_accuracy: 0.9524\n",
            "Epoch 44/400\n",
            "34/34 [==============================] - 0s 2ms/step - loss: 0.0854 - accuracy: 0.9703 - val_loss: 0.1746 - val_accuracy: 0.9372\n",
            "Epoch 45/400\n",
            "34/34 [==============================] - 0s 2ms/step - loss: 0.0842 - accuracy: 0.9703 - val_loss: 0.1532 - val_accuracy: 0.9632\n",
            "Epoch 46/400\n",
            "34/34 [==============================] - 0s 2ms/step - loss: 0.0683 - accuracy: 0.9703 - val_loss: 0.1531 - val_accuracy: 0.9437\n",
            "Epoch 47/400\n",
            "34/34 [==============================] - 0s 2ms/step - loss: 0.1107 - accuracy: 0.9629 - val_loss: 0.3011 - val_accuracy: 0.9069\n",
            "Epoch 48/400\n",
            "34/34 [==============================] - 0s 3ms/step - loss: 0.1301 - accuracy: 0.9508 - val_loss: 0.2108 - val_accuracy: 0.9351\n",
            "Epoch 49/400\n",
            "34/34 [==============================] - 0s 2ms/step - loss: 0.0780 - accuracy: 0.9712 - val_loss: 0.1384 - val_accuracy: 0.9589\n",
            "Epoch 50/400\n",
            "34/34 [==============================] - 0s 2ms/step - loss: 0.0638 - accuracy: 0.9768 - val_loss: 0.1282 - val_accuracy: 0.9481\n",
            "Epoch 51/400\n",
            "34/34 [==============================] - 0s 2ms/step - loss: 0.0634 - accuracy: 0.9777 - val_loss: 0.1493 - val_accuracy: 0.9437\n",
            "Epoch 52/400\n",
            "34/34 [==============================] - 0s 3ms/step - loss: 0.0724 - accuracy: 0.9777 - val_loss: 0.1650 - val_accuracy: 0.9416\n",
            "Epoch 53/400\n",
            "34/34 [==============================] - 0s 2ms/step - loss: 0.0765 - accuracy: 0.9694 - val_loss: 0.1570 - val_accuracy: 0.9589\n",
            "Epoch 54/400\n",
            "34/34 [==============================] - 0s 2ms/step - loss: 0.0649 - accuracy: 0.9722 - val_loss: 0.1913 - val_accuracy: 0.9459\n",
            "Epoch 55/400\n",
            "34/34 [==============================] - 0s 3ms/step - loss: 0.0701 - accuracy: 0.9712 - val_loss: 0.1894 - val_accuracy: 0.9481\n",
            "Epoch 56/400\n",
            "34/34 [==============================] - 0s 2ms/step - loss: 0.0749 - accuracy: 0.9731 - val_loss: 0.1459 - val_accuracy: 0.9524\n",
            "Epoch 57/400\n",
            "34/34 [==============================] - 0s 2ms/step - loss: 0.0708 - accuracy: 0.9694 - val_loss: 0.1369 - val_accuracy: 0.9632\n",
            "Epoch 58/400\n",
            "34/34 [==============================] - 0s 2ms/step - loss: 0.0599 - accuracy: 0.9740 - val_loss: 0.1475 - val_accuracy: 0.9524\n",
            "Epoch 59/400\n",
            "34/34 [==============================] - 0s 3ms/step - loss: 0.0733 - accuracy: 0.9703 - val_loss: 0.1572 - val_accuracy: 0.9545\n",
            "Epoch 60/400\n",
            "34/34 [==============================] - 0s 2ms/step - loss: 0.0721 - accuracy: 0.9722 - val_loss: 0.1379 - val_accuracy: 0.9567\n",
            "Epoch 61/400\n",
            "34/34 [==============================] - 0s 2ms/step - loss: 0.0558 - accuracy: 0.9750 - val_loss: 0.1691 - val_accuracy: 0.9524\n",
            "Epoch 62/400\n",
            "34/34 [==============================] - 0s 3ms/step - loss: 0.0590 - accuracy: 0.9759 - val_loss: 0.1615 - val_accuracy: 0.9437\n",
            "Epoch 63/400\n",
            "34/34 [==============================] - 0s 2ms/step - loss: 0.0604 - accuracy: 0.9759 - val_loss: 0.1185 - val_accuracy: 0.9567\n",
            "Epoch 64/400\n",
            "34/34 [==============================] - 0s 3ms/step - loss: 0.0523 - accuracy: 0.9805 - val_loss: 0.1368 - val_accuracy: 0.9610\n",
            "Epoch 65/400\n",
            "34/34 [==============================] - 0s 2ms/step - loss: 0.0570 - accuracy: 0.9768 - val_loss: 0.1694 - val_accuracy: 0.9394\n",
            "Epoch 66/400\n",
            "34/34 [==============================] - 0s 3ms/step - loss: 0.0641 - accuracy: 0.9712 - val_loss: 0.1193 - val_accuracy: 0.9545\n",
            "Epoch 67/400\n",
            "34/34 [==============================] - 0s 3ms/step - loss: 0.0703 - accuracy: 0.9712 - val_loss: 0.1451 - val_accuracy: 0.9437\n",
            "Epoch 68/400\n",
            "34/34 [==============================] - 0s 2ms/step - loss: 0.0704 - accuracy: 0.9731 - val_loss: 0.1603 - val_accuracy: 0.9545\n",
            "Epoch 69/400\n",
            "34/34 [==============================] - 0s 2ms/step - loss: 0.0787 - accuracy: 0.9750 - val_loss: 0.1527 - val_accuracy: 0.9524\n",
            "Epoch 70/400\n",
            "34/34 [==============================] - 0s 3ms/step - loss: 0.0634 - accuracy: 0.9740 - val_loss: 0.1462 - val_accuracy: 0.9589\n",
            "Epoch 71/400\n",
            "34/34 [==============================] - 0s 3ms/step - loss: 0.0595 - accuracy: 0.9787 - val_loss: 0.1448 - val_accuracy: 0.9459\n",
            "Epoch 72/400\n",
            "34/34 [==============================] - 0s 2ms/step - loss: 0.0483 - accuracy: 0.9805 - val_loss: 0.1347 - val_accuracy: 0.9545\n",
            "Epoch 73/400\n",
            "34/34 [==============================] - 0s 2ms/step - loss: 0.0483 - accuracy: 0.9824 - val_loss: 0.1487 - val_accuracy: 0.9567\n",
            "Epoch 74/400\n",
            "34/34 [==============================] - 0s 3ms/step - loss: 0.0588 - accuracy: 0.9750 - val_loss: 0.1257 - val_accuracy: 0.9589\n",
            "Epoch 75/400\n",
            "34/34 [==============================] - 0s 2ms/step - loss: 0.0598 - accuracy: 0.9787 - val_loss: 0.1057 - val_accuracy: 0.9610\n",
            "Epoch 76/400\n",
            "34/34 [==============================] - 0s 3ms/step - loss: 0.0590 - accuracy: 0.9759 - val_loss: 0.1192 - val_accuracy: 0.9567\n",
            "Epoch 77/400\n",
            "34/34 [==============================] - 0s 3ms/step - loss: 0.0535 - accuracy: 0.9805 - val_loss: 0.1412 - val_accuracy: 0.9524\n",
            "Epoch 78/400\n",
            "34/34 [==============================] - 0s 2ms/step - loss: 0.0575 - accuracy: 0.9787 - val_loss: 0.1292 - val_accuracy: 0.9545\n",
            "Epoch 79/400\n",
            "34/34 [==============================] - 0s 2ms/step - loss: 0.0630 - accuracy: 0.9787 - val_loss: 0.1266 - val_accuracy: 0.9589\n",
            "Epoch 80/400\n",
            "34/34 [==============================] - 0s 2ms/step - loss: 0.0439 - accuracy: 0.9833 - val_loss: 0.2061 - val_accuracy: 0.9329\n",
            "Epoch 81/400\n",
            "34/34 [==============================] - 0s 2ms/step - loss: 0.0565 - accuracy: 0.9750 - val_loss: 0.1778 - val_accuracy: 0.9524\n",
            "Epoch 82/400\n",
            "34/34 [==============================] - 0s 2ms/step - loss: 0.0482 - accuracy: 0.9842 - val_loss: 0.1329 - val_accuracy: 0.9524\n",
            "Epoch 83/400\n",
            "34/34 [==============================] - 0s 2ms/step - loss: 0.0495 - accuracy: 0.9759 - val_loss: 0.1543 - val_accuracy: 0.9567\n",
            "Epoch 84/400\n",
            "34/34 [==============================] - 0s 3ms/step - loss: 0.0583 - accuracy: 0.9777 - val_loss: 0.1927 - val_accuracy: 0.9481\n",
            "Epoch 85/400\n",
            "34/34 [==============================] - 0s 3ms/step - loss: 0.0677 - accuracy: 0.9777 - val_loss: 0.1340 - val_accuracy: 0.9437\n",
            "Epoch 86/400\n",
            "34/34 [==============================] - 0s 2ms/step - loss: 0.0711 - accuracy: 0.9722 - val_loss: 0.1584 - val_accuracy: 0.9632\n",
            "Epoch 87/400\n",
            "34/34 [==============================] - 0s 3ms/step - loss: 0.0636 - accuracy: 0.9694 - val_loss: 0.1941 - val_accuracy: 0.9502\n",
            "Epoch 88/400\n",
            "34/34 [==============================] - 0s 3ms/step - loss: 0.0571 - accuracy: 0.9731 - val_loss: 0.2109 - val_accuracy: 0.9351\n",
            "Epoch 89/400\n",
            "34/34 [==============================] - 0s 2ms/step - loss: 0.0859 - accuracy: 0.9629 - val_loss: 0.1299 - val_accuracy: 0.9545\n",
            "Epoch 90/400\n",
            "34/34 [==============================] - 0s 2ms/step - loss: 0.0783 - accuracy: 0.9740 - val_loss: 0.1311 - val_accuracy: 0.9610\n",
            "Epoch 91/400\n",
            "34/34 [==============================] - 0s 3ms/step - loss: 0.0666 - accuracy: 0.9740 - val_loss: 0.1206 - val_accuracy: 0.9524\n",
            "Epoch 92/400\n",
            "34/34 [==============================] - 0s 2ms/step - loss: 0.0503 - accuracy: 0.9814 - val_loss: 0.1634 - val_accuracy: 0.9481\n",
            "Epoch 93/400\n",
            "34/34 [==============================] - 0s 2ms/step - loss: 0.0519 - accuracy: 0.9805 - val_loss: 0.1248 - val_accuracy: 0.9567\n",
            "Epoch 94/400\n",
            "34/34 [==============================] - 0s 2ms/step - loss: 0.0625 - accuracy: 0.9777 - val_loss: 0.1750 - val_accuracy: 0.9437\n",
            "Epoch 95/400\n",
            "34/34 [==============================] - 0s 3ms/step - loss: 0.0541 - accuracy: 0.9777 - val_loss: 0.1470 - val_accuracy: 0.9437\n",
            "Epoch 96/400\n",
            "34/34 [==============================] - 0s 3ms/step - loss: 0.0590 - accuracy: 0.9768 - val_loss: 0.1513 - val_accuracy: 0.9502\n",
            "Epoch 97/400\n",
            "34/34 [==============================] - 0s 3ms/step - loss: 0.0695 - accuracy: 0.9712 - val_loss: 0.1371 - val_accuracy: 0.9481\n",
            "Epoch 98/400\n",
            "34/34 [==============================] - 0s 2ms/step - loss: 0.0639 - accuracy: 0.9768 - val_loss: 0.1720 - val_accuracy: 0.9286\n",
            "Epoch 99/400\n",
            "34/34 [==============================] - 0s 2ms/step - loss: 0.0670 - accuracy: 0.9750 - val_loss: 0.1069 - val_accuracy: 0.9545\n",
            "Epoch 100/400\n",
            "34/34 [==============================] - 0s 3ms/step - loss: 0.0471 - accuracy: 0.9842 - val_loss: 0.1338 - val_accuracy: 0.9589\n",
            "Epoch 101/400\n",
            "34/34 [==============================] - 0s 2ms/step - loss: 0.0474 - accuracy: 0.9814 - val_loss: 0.1745 - val_accuracy: 0.9394\n",
            "Epoch 102/400\n",
            "34/34 [==============================] - 0s 2ms/step - loss: 0.0679 - accuracy: 0.9722 - val_loss: 0.1271 - val_accuracy: 0.9567\n",
            "Epoch 103/400\n",
            "34/34 [==============================] - 0s 2ms/step - loss: 0.0578 - accuracy: 0.9768 - val_loss: 0.1345 - val_accuracy: 0.9524\n",
            "Epoch 104/400\n",
            "34/34 [==============================] - 0s 2ms/step - loss: 0.0711 - accuracy: 0.9740 - val_loss: 0.1821 - val_accuracy: 0.9481\n",
            "Epoch 105/400\n",
            "34/34 [==============================] - 0s 2ms/step - loss: 0.0590 - accuracy: 0.9796 - val_loss: 0.1975 - val_accuracy: 0.9394\n",
            "Epoch 106/400\n",
            "34/34 [==============================] - 0s 2ms/step - loss: 0.0712 - accuracy: 0.9703 - val_loss: 0.1580 - val_accuracy: 0.9589\n",
            "Epoch 107/400\n",
            "34/34 [==============================] - 0s 3ms/step - loss: 0.0441 - accuracy: 0.9842 - val_loss: 0.1633 - val_accuracy: 0.9610\n",
            "Epoch 108/400\n",
            "34/34 [==============================] - 0s 2ms/step - loss: 0.0550 - accuracy: 0.9787 - val_loss: 0.1749 - val_accuracy: 0.9524\n",
            "Epoch 109/400\n",
            "34/34 [==============================] - 0s 3ms/step - loss: 0.0804 - accuracy: 0.9666 - val_loss: 0.1745 - val_accuracy: 0.9567\n",
            "Epoch 110/400\n",
            "34/34 [==============================] - 0s 3ms/step - loss: 0.0530 - accuracy: 0.9759 - val_loss: 0.1544 - val_accuracy: 0.9589\n",
            "Epoch 111/400\n",
            "34/34 [==============================] - 0s 3ms/step - loss: 0.0516 - accuracy: 0.9833 - val_loss: 0.1788 - val_accuracy: 0.9481\n",
            "Epoch 112/400\n",
            "34/34 [==============================] - 0s 2ms/step - loss: 0.0629 - accuracy: 0.9712 - val_loss: 0.1618 - val_accuracy: 0.9459\n",
            "Epoch 113/400\n",
            "34/34 [==============================] - 0s 3ms/step - loss: 0.0702 - accuracy: 0.9759 - val_loss: 0.1266 - val_accuracy: 0.9567\n",
            "Epoch 114/400\n",
            "34/34 [==============================] - 0s 2ms/step - loss: 0.0474 - accuracy: 0.9833 - val_loss: 0.1752 - val_accuracy: 0.9416\n",
            "Epoch 115/400\n",
            "34/34 [==============================] - 0s 2ms/step - loss: 0.0741 - accuracy: 0.9694 - val_loss: 0.1602 - val_accuracy: 0.9416\n",
            "Epoch 116/400\n",
            "34/34 [==============================] - 0s 3ms/step - loss: 0.0862 - accuracy: 0.9666 - val_loss: 0.1619 - val_accuracy: 0.9481\n",
            "Epoch 117/400\n",
            "34/34 [==============================] - 0s 3ms/step - loss: 0.0810 - accuracy: 0.9685 - val_loss: 0.1572 - val_accuracy: 0.9481\n",
            "Epoch 118/400\n",
            "34/34 [==============================] - 0s 2ms/step - loss: 0.0428 - accuracy: 0.9842 - val_loss: 0.1197 - val_accuracy: 0.9545\n",
            "Epoch 119/400\n",
            "34/34 [==============================] - 0s 2ms/step - loss: 0.0632 - accuracy: 0.9777 - val_loss: 0.2017 - val_accuracy: 0.9481\n",
            "Epoch 120/400\n",
            "34/34 [==============================] - 0s 2ms/step - loss: 0.0456 - accuracy: 0.9842 - val_loss: 0.1751 - val_accuracy: 0.9502\n",
            "Epoch 121/400\n",
            "34/34 [==============================] - 0s 2ms/step - loss: 0.0521 - accuracy: 0.9824 - val_loss: 0.1362 - val_accuracy: 0.9589\n",
            "Epoch 122/400\n",
            "34/34 [==============================] - 0s 3ms/step - loss: 0.0415 - accuracy: 0.9852 - val_loss: 0.1757 - val_accuracy: 0.9437\n",
            "Epoch 123/400\n",
            "34/34 [==============================] - 0s 2ms/step - loss: 0.0518 - accuracy: 0.9750 - val_loss: 0.1561 - val_accuracy: 0.9545\n",
            "Epoch 124/400\n",
            "34/34 [==============================] - 0s 2ms/step - loss: 0.0572 - accuracy: 0.9777 - val_loss: 0.1408 - val_accuracy: 0.9654\n",
            "Epoch 125/400\n",
            "34/34 [==============================] - 0s 2ms/step - loss: 0.0426 - accuracy: 0.9861 - val_loss: 0.1645 - val_accuracy: 0.9394\n",
            "Epoch 126/400\n",
            "34/34 [==============================] - 0s 2ms/step - loss: 0.0443 - accuracy: 0.9824 - val_loss: 0.1587 - val_accuracy: 0.9567\n",
            "Epoch 127/400\n",
            "34/34 [==============================] - 0s 2ms/step - loss: 0.0574 - accuracy: 0.9750 - val_loss: 0.1478 - val_accuracy: 0.9416\n",
            "Epoch 128/400\n",
            "34/34 [==============================] - 0s 2ms/step - loss: 0.0586 - accuracy: 0.9759 - val_loss: 0.1745 - val_accuracy: 0.9459\n",
            "Epoch 129/400\n",
            "34/34 [==============================] - 0s 2ms/step - loss: 0.0531 - accuracy: 0.9796 - val_loss: 0.1787 - val_accuracy: 0.9394\n",
            "Epoch 130/400\n",
            "34/34 [==============================] - 0s 2ms/step - loss: 0.0445 - accuracy: 0.9824 - val_loss: 0.1539 - val_accuracy: 0.9610\n",
            "Epoch 131/400\n",
            "34/34 [==============================] - 0s 2ms/step - loss: 0.0489 - accuracy: 0.9833 - val_loss: 0.1351 - val_accuracy: 0.9610\n",
            "Epoch 132/400\n",
            "34/34 [==============================] - 0s 2ms/step - loss: 0.0438 - accuracy: 0.9861 - val_loss: 0.1612 - val_accuracy: 0.9545\n",
            "Epoch 133/400\n",
            "34/34 [==============================] - 0s 2ms/step - loss: 0.0453 - accuracy: 0.9824 - val_loss: 0.1641 - val_accuracy: 0.9545\n",
            "Epoch 134/400\n",
            "34/34 [==============================] - 0s 2ms/step - loss: 0.0390 - accuracy: 0.9824 - val_loss: 0.1339 - val_accuracy: 0.9545\n",
            "Epoch 135/400\n",
            "34/34 [==============================] - 0s 2ms/step - loss: 0.0306 - accuracy: 0.9889 - val_loss: 0.1514 - val_accuracy: 0.9545\n",
            "Epoch 136/400\n",
            "34/34 [==============================] - 0s 3ms/step - loss: 0.0378 - accuracy: 0.9861 - val_loss: 0.1248 - val_accuracy: 0.9632\n",
            "Epoch 137/400\n",
            "34/34 [==============================] - 0s 2ms/step - loss: 0.0394 - accuracy: 0.9842 - val_loss: 0.1333 - val_accuracy: 0.9524\n",
            "Epoch 138/400\n",
            "34/34 [==============================] - 0s 2ms/step - loss: 0.0392 - accuracy: 0.9842 - val_loss: 0.1285 - val_accuracy: 0.9610\n",
            "Epoch 139/400\n",
            "34/34 [==============================] - 0s 3ms/step - loss: 0.0385 - accuracy: 0.9870 - val_loss: 0.1358 - val_accuracy: 0.9589\n",
            "Epoch 140/400\n",
            "34/34 [==============================] - 0s 2ms/step - loss: 0.0898 - accuracy: 0.9731 - val_loss: 0.2015 - val_accuracy: 0.9329\n",
            "Epoch 141/400\n",
            "34/34 [==============================] - 0s 2ms/step - loss: 0.0638 - accuracy: 0.9805 - val_loss: 0.1776 - val_accuracy: 0.9437\n",
            "Epoch 142/400\n",
            "34/34 [==============================] - 0s 3ms/step - loss: 0.0519 - accuracy: 0.9814 - val_loss: 0.1574 - val_accuracy: 0.9481\n",
            "Epoch 143/400\n",
            "34/34 [==============================] - 0s 2ms/step - loss: 0.0442 - accuracy: 0.9805 - val_loss: 0.1907 - val_accuracy: 0.9437\n",
            "Epoch 144/400\n",
            "34/34 [==============================] - 0s 2ms/step - loss: 0.0460 - accuracy: 0.9814 - val_loss: 0.2346 - val_accuracy: 0.9459\n",
            "Epoch 145/400\n",
            "34/34 [==============================] - 0s 2ms/step - loss: 0.0759 - accuracy: 0.9750 - val_loss: 0.1822 - val_accuracy: 0.9394\n",
            "Epoch 146/400\n",
            "34/34 [==============================] - 0s 2ms/step - loss: 0.0496 - accuracy: 0.9805 - val_loss: 0.1550 - val_accuracy: 0.9502\n",
            "Epoch 147/400\n",
            "34/34 [==============================] - 0s 3ms/step - loss: 0.0410 - accuracy: 0.9833 - val_loss: 0.1391 - val_accuracy: 0.9481\n",
            "Epoch 148/400\n",
            "34/34 [==============================] - 0s 2ms/step - loss: 0.0572 - accuracy: 0.9814 - val_loss: 0.1347 - val_accuracy: 0.9654\n",
            "Epoch 149/400\n",
            "34/34 [==============================] - 0s 2ms/step - loss: 0.0526 - accuracy: 0.9750 - val_loss: 0.1402 - val_accuracy: 0.9589\n",
            "Epoch 150/400\n",
            "34/34 [==============================] - 0s 2ms/step - loss: 0.0427 - accuracy: 0.9870 - val_loss: 0.1147 - val_accuracy: 0.9632\n",
            "Epoch 151/400\n",
            "34/34 [==============================] - 0s 2ms/step - loss: 0.0285 - accuracy: 0.9907 - val_loss: 0.1348 - val_accuracy: 0.9545\n",
            "Epoch 152/400\n",
            "34/34 [==============================] - 0s 2ms/step - loss: 0.0303 - accuracy: 0.9879 - val_loss: 0.1463 - val_accuracy: 0.9610\n",
            "Epoch 153/400\n",
            "34/34 [==============================] - 0s 2ms/step - loss: 0.0299 - accuracy: 0.9898 - val_loss: 0.1189 - val_accuracy: 0.9524\n",
            "Epoch 154/400\n",
            "34/34 [==============================] - 0s 2ms/step - loss: 0.0297 - accuracy: 0.9870 - val_loss: 0.1226 - val_accuracy: 0.9654\n",
            "Epoch 155/400\n",
            "34/34 [==============================] - 0s 3ms/step - loss: 0.0295 - accuracy: 0.9917 - val_loss: 0.1335 - val_accuracy: 0.9545\n",
            "Epoch 156/400\n",
            "34/34 [==============================] - 0s 3ms/step - loss: 0.0410 - accuracy: 0.9833 - val_loss: 0.1517 - val_accuracy: 0.9437\n",
            "Epoch 157/400\n",
            "34/34 [==============================] - 0s 2ms/step - loss: 0.0453 - accuracy: 0.9768 - val_loss: 0.1722 - val_accuracy: 0.9545\n",
            "Epoch 158/400\n",
            "34/34 [==============================] - 0s 3ms/step - loss: 0.0441 - accuracy: 0.9833 - val_loss: 0.1254 - val_accuracy: 0.9437\n",
            "Epoch 159/400\n",
            "34/34 [==============================] - 0s 2ms/step - loss: 0.0535 - accuracy: 0.9777 - val_loss: 0.1228 - val_accuracy: 0.9654\n",
            "Epoch 160/400\n",
            "34/34 [==============================] - 0s 2ms/step - loss: 0.0458 - accuracy: 0.9796 - val_loss: 0.1854 - val_accuracy: 0.9481\n",
            "Epoch 161/400\n",
            "34/34 [==============================] - 0s 2ms/step - loss: 0.0454 - accuracy: 0.9824 - val_loss: 0.1385 - val_accuracy: 0.9524\n",
            "Epoch 162/400\n",
            "34/34 [==============================] - 0s 2ms/step - loss: 0.0451 - accuracy: 0.9805 - val_loss: 0.1265 - val_accuracy: 0.9632\n",
            "Epoch 163/400\n",
            "34/34 [==============================] - 0s 2ms/step - loss: 0.0576 - accuracy: 0.9750 - val_loss: 0.1602 - val_accuracy: 0.9459\n",
            "Epoch 164/400\n",
            "34/34 [==============================] - 0s 2ms/step - loss: 0.0754 - accuracy: 0.9703 - val_loss: 0.1361 - val_accuracy: 0.9481\n",
            "Epoch 165/400\n",
            "34/34 [==============================] - 0s 2ms/step - loss: 0.0702 - accuracy: 0.9694 - val_loss: 0.1161 - val_accuracy: 0.9697\n",
            "Epoch 166/400\n",
            "34/34 [==============================] - 0s 2ms/step - loss: 0.0379 - accuracy: 0.9842 - val_loss: 0.1413 - val_accuracy: 0.9524\n",
            "Epoch 167/400\n",
            "34/34 [==============================] - 0s 2ms/step - loss: 0.0780 - accuracy: 0.9787 - val_loss: 0.1697 - val_accuracy: 0.9589\n",
            "Epoch 168/400\n",
            "34/34 [==============================] - 0s 3ms/step - loss: 0.1103 - accuracy: 0.9629 - val_loss: 0.2308 - val_accuracy: 0.9351\n",
            "Epoch 169/400\n",
            "34/34 [==============================] - 0s 3ms/step - loss: 0.0748 - accuracy: 0.9657 - val_loss: 0.1514 - val_accuracy: 0.9545\n",
            "Epoch 170/400\n",
            "34/34 [==============================] - 0s 2ms/step - loss: 0.0436 - accuracy: 0.9852 - val_loss: 0.1107 - val_accuracy: 0.9654\n",
            "Epoch 171/400\n",
            "34/34 [==============================] - 0s 2ms/step - loss: 0.0422 - accuracy: 0.9833 - val_loss: 0.1156 - val_accuracy: 0.9610\n",
            "Epoch 172/400\n",
            "34/34 [==============================] - 0s 3ms/step - loss: 0.0433 - accuracy: 0.9879 - val_loss: 0.1701 - val_accuracy: 0.9632\n",
            "Epoch 173/400\n",
            "34/34 [==============================] - 0s 2ms/step - loss: 0.0870 - accuracy: 0.9712 - val_loss: 0.1904 - val_accuracy: 0.9416\n",
            "Epoch 174/400\n",
            "34/34 [==============================] - 0s 2ms/step - loss: 0.0934 - accuracy: 0.9750 - val_loss: 0.2366 - val_accuracy: 0.9199\n",
            "Epoch 175/400\n",
            "34/34 [==============================] - 0s 3ms/step - loss: 0.3070 - accuracy: 0.9481 - val_loss: 0.1562 - val_accuracy: 0.9481\n",
            "Epoch 176/400\n",
            "34/34 [==============================] - 0s 2ms/step - loss: 0.0522 - accuracy: 0.9787 - val_loss: 0.1427 - val_accuracy: 0.9524\n",
            "Epoch 177/400\n",
            "34/34 [==============================] - 0s 2ms/step - loss: 0.0389 - accuracy: 0.9833 - val_loss: 0.1301 - val_accuracy: 0.9589\n",
            "Epoch 178/400\n",
            "34/34 [==============================] - 0s 2ms/step - loss: 0.0388 - accuracy: 0.9852 - val_loss: 0.1367 - val_accuracy: 0.9567\n",
            "Epoch 179/400\n",
            "34/34 [==============================] - 0s 3ms/step - loss: 0.0304 - accuracy: 0.9861 - val_loss: 0.1228 - val_accuracy: 0.9545\n",
            "Epoch 180/400\n",
            "34/34 [==============================] - 0s 2ms/step - loss: 0.0320 - accuracy: 0.9842 - val_loss: 0.1305 - val_accuracy: 0.9567\n",
            "Epoch 181/400\n",
            "34/34 [==============================] - 0s 2ms/step - loss: 0.0319 - accuracy: 0.9861 - val_loss: 0.1558 - val_accuracy: 0.9567\n",
            "Epoch 182/400\n",
            "34/34 [==============================] - 0s 3ms/step - loss: 0.0304 - accuracy: 0.9879 - val_loss: 0.1198 - val_accuracy: 0.9589\n",
            "Epoch 183/400\n",
            "34/34 [==============================] - 0s 3ms/step - loss: 0.0337 - accuracy: 0.9824 - val_loss: 0.1338 - val_accuracy: 0.9589\n",
            "Epoch 184/400\n",
            "34/34 [==============================] - 0s 3ms/step - loss: 0.0709 - accuracy: 0.9787 - val_loss: 0.1350 - val_accuracy: 0.9654\n",
            "Epoch 185/400\n",
            "34/34 [==============================] - 0s 3ms/step - loss: 0.0282 - accuracy: 0.9879 - val_loss: 0.1505 - val_accuracy: 0.9610\n",
            "Epoch 186/400\n",
            "34/34 [==============================] - 0s 2ms/step - loss: 0.0295 - accuracy: 0.9861 - val_loss: 0.1147 - val_accuracy: 0.9589\n",
            "Epoch 187/400\n",
            "34/34 [==============================] - 0s 2ms/step - loss: 0.0310 - accuracy: 0.9898 - val_loss: 0.1526 - val_accuracy: 0.9567\n",
            "Epoch 188/400\n",
            "34/34 [==============================] - 0s 2ms/step - loss: 0.0285 - accuracy: 0.9889 - val_loss: 0.1375 - val_accuracy: 0.9567\n",
            "Epoch 189/400\n",
            "34/34 [==============================] - 0s 2ms/step - loss: 0.0311 - accuracy: 0.9842 - val_loss: 0.1273 - val_accuracy: 0.9632\n",
            "Epoch 190/400\n",
            "34/34 [==============================] - 0s 3ms/step - loss: 0.0248 - accuracy: 0.9898 - val_loss: 0.1371 - val_accuracy: 0.9589\n",
            "Epoch 191/400\n",
            "34/34 [==============================] - 0s 3ms/step - loss: 0.0280 - accuracy: 0.9898 - val_loss: 0.1258 - val_accuracy: 0.9545\n",
            "Epoch 192/400\n",
            "34/34 [==============================] - 0s 2ms/step - loss: 0.0237 - accuracy: 0.9898 - val_loss: 0.1241 - val_accuracy: 0.9654\n",
            "Epoch 193/400\n",
            "34/34 [==============================] - 0s 2ms/step - loss: 0.0216 - accuracy: 0.9917 - val_loss: 0.1381 - val_accuracy: 0.9632\n",
            "Epoch 194/400\n",
            "34/34 [==============================] - 0s 2ms/step - loss: 0.0199 - accuracy: 0.9935 - val_loss: 0.1027 - val_accuracy: 0.9632\n",
            "Epoch 195/400\n",
            "34/34 [==============================] - 0s 3ms/step - loss: 0.0304 - accuracy: 0.9870 - val_loss: 0.1309 - val_accuracy: 0.9481\n",
            "Epoch 196/400\n",
            "34/34 [==============================] - 0s 2ms/step - loss: 0.0407 - accuracy: 0.9805 - val_loss: 0.1884 - val_accuracy: 0.9567\n",
            "Epoch 197/400\n",
            "34/34 [==============================] - 0s 3ms/step - loss: 0.0733 - accuracy: 0.9777 - val_loss: 0.1504 - val_accuracy: 0.9524\n",
            "Epoch 198/400\n",
            "34/34 [==============================] - 0s 2ms/step - loss: 0.0336 - accuracy: 0.9852 - val_loss: 0.1886 - val_accuracy: 0.9437\n",
            "Epoch 199/400\n",
            "34/34 [==============================] - 0s 3ms/step - loss: 0.0408 - accuracy: 0.9805 - val_loss: 0.3063 - val_accuracy: 0.9242\n",
            "Epoch 200/400\n",
            "34/34 [==============================] - 0s 3ms/step - loss: 0.1075 - accuracy: 0.9666 - val_loss: 0.1820 - val_accuracy: 0.9416\n",
            "Epoch 201/400\n",
            "34/34 [==============================] - 0s 3ms/step - loss: 0.0554 - accuracy: 0.9787 - val_loss: 0.2338 - val_accuracy: 0.9351\n",
            "Epoch 202/400\n",
            "34/34 [==============================] - 0s 3ms/step - loss: 0.0393 - accuracy: 0.9842 - val_loss: 0.1396 - val_accuracy: 0.9481\n",
            "Epoch 203/400\n",
            "34/34 [==============================] - 0s 3ms/step - loss: 0.0397 - accuracy: 0.9842 - val_loss: 0.1058 - val_accuracy: 0.9567\n",
            "Epoch 204/400\n",
            "34/34 [==============================] - 0s 3ms/step - loss: 0.0370 - accuracy: 0.9833 - val_loss: 0.1844 - val_accuracy: 0.9545\n",
            "Epoch 205/400\n",
            "34/34 [==============================] - 0s 2ms/step - loss: 0.0330 - accuracy: 0.9907 - val_loss: 0.1457 - val_accuracy: 0.9502\n",
            "Epoch 206/400\n",
            "34/34 [==============================] - 0s 2ms/step - loss: 0.0370 - accuracy: 0.9852 - val_loss: 0.1598 - val_accuracy: 0.9524\n",
            "Epoch 207/400\n",
            "34/34 [==============================] - 0s 2ms/step - loss: 0.0240 - accuracy: 0.9935 - val_loss: 0.1362 - val_accuracy: 0.9632\n",
            "Epoch 208/400\n",
            "34/34 [==============================] - 0s 2ms/step - loss: 0.0227 - accuracy: 0.9898 - val_loss: 0.1417 - val_accuracy: 0.9610\n",
            "Epoch 209/400\n",
            "34/34 [==============================] - 0s 2ms/step - loss: 0.0197 - accuracy: 0.9944 - val_loss: 0.1222 - val_accuracy: 0.9632\n",
            "Epoch 210/400\n",
            "34/34 [==============================] - 0s 3ms/step - loss: 0.0282 - accuracy: 0.9907 - val_loss: 0.1227 - val_accuracy: 0.9610\n",
            "Epoch 211/400\n",
            "34/34 [==============================] - 0s 3ms/step - loss: 0.0263 - accuracy: 0.9889 - val_loss: 0.1523 - val_accuracy: 0.9589\n",
            "Epoch 212/400\n",
            "34/34 [==============================] - 0s 2ms/step - loss: 0.0184 - accuracy: 0.9944 - val_loss: 0.1484 - val_accuracy: 0.9632\n",
            "Epoch 213/400\n",
            "34/34 [==============================] - 0s 2ms/step - loss: 0.0228 - accuracy: 0.9898 - val_loss: 0.1289 - val_accuracy: 0.9632\n",
            "Epoch 214/400\n",
            "34/34 [==============================] - 0s 2ms/step - loss: 0.0199 - accuracy: 0.9907 - val_loss: 0.1390 - val_accuracy: 0.9697\n",
            "Epoch 215/400\n",
            "34/34 [==============================] - 0s 3ms/step - loss: 0.0252 - accuracy: 0.9907 - val_loss: 0.1101 - val_accuracy: 0.9632\n",
            "Epoch 216/400\n",
            "34/34 [==============================] - 0s 2ms/step - loss: 0.0230 - accuracy: 0.9907 - val_loss: 0.1668 - val_accuracy: 0.9545\n",
            "Epoch 217/400\n",
            "34/34 [==============================] - 0s 2ms/step - loss: 0.0300 - accuracy: 0.9861 - val_loss: 0.1323 - val_accuracy: 0.9589\n",
            "Epoch 218/400\n",
            "34/34 [==============================] - 0s 3ms/step - loss: 0.0220 - accuracy: 0.9898 - val_loss: 0.0889 - val_accuracy: 0.9610\n",
            "Epoch 219/400\n",
            "34/34 [==============================] - 0s 3ms/step - loss: 0.0238 - accuracy: 0.9898 - val_loss: 0.1486 - val_accuracy: 0.9524\n",
            "Epoch 220/400\n",
            "34/34 [==============================] - 0s 2ms/step - loss: 0.0219 - accuracy: 0.9898 - val_loss: 0.1109 - val_accuracy: 0.9545\n",
            "Epoch 221/400\n",
            "34/34 [==============================] - 0s 2ms/step - loss: 0.0323 - accuracy: 0.9907 - val_loss: 0.1850 - val_accuracy: 0.9524\n",
            "Epoch 222/400\n",
            "34/34 [==============================] - 0s 2ms/step - loss: 0.0879 - accuracy: 0.9685 - val_loss: 0.2332 - val_accuracy: 0.9351\n",
            "Epoch 223/400\n",
            "34/34 [==============================] - 0s 2ms/step - loss: 0.0536 - accuracy: 0.9759 - val_loss: 0.1881 - val_accuracy: 0.9545\n",
            "Epoch 224/400\n",
            "34/34 [==============================] - 0s 3ms/step - loss: 0.0395 - accuracy: 0.9879 - val_loss: 0.1615 - val_accuracy: 0.9610\n",
            "Epoch 225/400\n",
            "34/34 [==============================] - 0s 2ms/step - loss: 0.0391 - accuracy: 0.9824 - val_loss: 0.1860 - val_accuracy: 0.9524\n",
            "Epoch 226/400\n",
            "34/34 [==============================] - 0s 2ms/step - loss: 0.0616 - accuracy: 0.9712 - val_loss: 0.1592 - val_accuracy: 0.9416\n",
            "Epoch 227/400\n",
            "34/34 [==============================] - 0s 2ms/step - loss: 0.0811 - accuracy: 0.9768 - val_loss: 0.2264 - val_accuracy: 0.9351\n",
            "Epoch 228/400\n",
            "34/34 [==============================] - 0s 3ms/step - loss: 0.0746 - accuracy: 0.9740 - val_loss: 0.1309 - val_accuracy: 0.9567\n",
            "Epoch 229/400\n",
            "34/34 [==============================] - 0s 2ms/step - loss: 0.0434 - accuracy: 0.9833 - val_loss: 0.1652 - val_accuracy: 0.9502\n",
            "Epoch 230/400\n",
            "34/34 [==============================] - 0s 2ms/step - loss: 0.0278 - accuracy: 0.9898 - val_loss: 0.1761 - val_accuracy: 0.9502\n",
            "Epoch 231/400\n",
            "34/34 [==============================] - 0s 2ms/step - loss: 0.0254 - accuracy: 0.9898 - val_loss: 0.1384 - val_accuracy: 0.9610\n",
            "Epoch 232/400\n",
            "34/34 [==============================] - 0s 2ms/step - loss: 0.0234 - accuracy: 0.9907 - val_loss: 0.1199 - val_accuracy: 0.9610\n",
            "Epoch 233/400\n",
            "34/34 [==============================] - 0s 3ms/step - loss: 0.0256 - accuracy: 0.9870 - val_loss: 0.1232 - val_accuracy: 0.9545\n",
            "Epoch 234/400\n",
            "34/34 [==============================] - 0s 2ms/step - loss: 0.0242 - accuracy: 0.9898 - val_loss: 0.1079 - val_accuracy: 0.9545\n",
            "Epoch 235/400\n",
            "34/34 [==============================] - 0s 2ms/step - loss: 0.0249 - accuracy: 0.9898 - val_loss: 0.1482 - val_accuracy: 0.9545\n",
            "Epoch 236/400\n",
            "34/34 [==============================] - 0s 2ms/step - loss: 0.0335 - accuracy: 0.9870 - val_loss: 0.1367 - val_accuracy: 0.9545\n",
            "Epoch 237/400\n",
            "34/34 [==============================] - 0s 2ms/step - loss: 0.0232 - accuracy: 0.9926 - val_loss: 0.1358 - val_accuracy: 0.9654\n",
            "Epoch 238/400\n",
            "34/34 [==============================] - 0s 3ms/step - loss: 0.0281 - accuracy: 0.9879 - val_loss: 0.2499 - val_accuracy: 0.9372\n",
            "Epoch 239/400\n",
            "34/34 [==============================] - 0s 2ms/step - loss: 0.0388 - accuracy: 0.9861 - val_loss: 0.1459 - val_accuracy: 0.9567\n",
            "Epoch 240/400\n",
            "34/34 [==============================] - 0s 2ms/step - loss: 0.0201 - accuracy: 0.9907 - val_loss: 0.1334 - val_accuracy: 0.9610\n",
            "Epoch 241/400\n",
            "34/34 [==============================] - 0s 3ms/step - loss: 0.0169 - accuracy: 0.9944 - val_loss: 0.1253 - val_accuracy: 0.9545\n",
            "Epoch 242/400\n",
            "34/34 [==============================] - 0s 3ms/step - loss: 0.0322 - accuracy: 0.9852 - val_loss: 0.1234 - val_accuracy: 0.9610\n",
            "Epoch 243/400\n",
            "34/34 [==============================] - 0s 2ms/step - loss: 0.0380 - accuracy: 0.9879 - val_loss: 0.1221 - val_accuracy: 0.9610\n",
            "Epoch 244/400\n",
            "34/34 [==============================] - 0s 2ms/step - loss: 0.0301 - accuracy: 0.9889 - val_loss: 0.1191 - val_accuracy: 0.9654\n",
            "Epoch 245/400\n",
            "34/34 [==============================] - 0s 2ms/step - loss: 0.0230 - accuracy: 0.9917 - val_loss: 0.1129 - val_accuracy: 0.9675\n",
            "Epoch 246/400\n",
            "34/34 [==============================] - 0s 2ms/step - loss: 0.0188 - accuracy: 0.9935 - val_loss: 0.1309 - val_accuracy: 0.9632\n",
            "Epoch 247/400\n",
            "34/34 [==============================] - 0s 2ms/step - loss: 0.0262 - accuracy: 0.9898 - val_loss: 0.1506 - val_accuracy: 0.9524\n",
            "Epoch 248/400\n",
            "34/34 [==============================] - 0s 2ms/step - loss: 0.0302 - accuracy: 0.9879 - val_loss: 0.1559 - val_accuracy: 0.9502\n",
            "Epoch 249/400\n",
            "34/34 [==============================] - 0s 2ms/step - loss: 0.0178 - accuracy: 0.9935 - val_loss: 0.1276 - val_accuracy: 0.9610\n",
            "Epoch 250/400\n",
            "34/34 [==============================] - 0s 2ms/step - loss: 0.0300 - accuracy: 0.9889 - val_loss: 0.2275 - val_accuracy: 0.9372\n",
            "Epoch 251/400\n",
            "34/34 [==============================] - 0s 2ms/step - loss: 0.0487 - accuracy: 0.9842 - val_loss: 0.1504 - val_accuracy: 0.9437\n",
            "Epoch 252/400\n",
            "34/34 [==============================] - 0s 3ms/step - loss: 0.0333 - accuracy: 0.9889 - val_loss: 0.1237 - val_accuracy: 0.9589\n",
            "Epoch 253/400\n",
            "34/34 [==============================] - 0s 2ms/step - loss: 0.0215 - accuracy: 0.9898 - val_loss: 0.2110 - val_accuracy: 0.9459\n",
            "Epoch 254/400\n",
            "34/34 [==============================] - 0s 2ms/step - loss: 0.0335 - accuracy: 0.9889 - val_loss: 0.1873 - val_accuracy: 0.9632\n",
            "Epoch 255/400\n",
            "34/34 [==============================] - 0s 3ms/step - loss: 0.0236 - accuracy: 0.9935 - val_loss: 0.1183 - val_accuracy: 0.9632\n",
            "Epoch 256/400\n",
            "34/34 [==============================] - 0s 3ms/step - loss: 0.0467 - accuracy: 0.9861 - val_loss: 0.1292 - val_accuracy: 0.9589\n",
            "Epoch 257/400\n",
            "34/34 [==============================] - 0s 2ms/step - loss: 0.0163 - accuracy: 0.9935 - val_loss: 0.1194 - val_accuracy: 0.9697\n",
            "Epoch 258/400\n",
            "34/34 [==============================] - 0s 2ms/step - loss: 0.0191 - accuracy: 0.9935 - val_loss: 0.1090 - val_accuracy: 0.9545\n",
            "Epoch 259/400\n",
            "34/34 [==============================] - 0s 2ms/step - loss: 0.0234 - accuracy: 0.9917 - val_loss: 0.1239 - val_accuracy: 0.9545\n",
            "Epoch 260/400\n",
            "34/34 [==============================] - 0s 2ms/step - loss: 0.0208 - accuracy: 0.9926 - val_loss: 0.1462 - val_accuracy: 0.9502\n",
            "Epoch 261/400\n",
            "34/34 [==============================] - 0s 2ms/step - loss: 0.0267 - accuracy: 0.9889 - val_loss: 0.1605 - val_accuracy: 0.9567\n",
            "Epoch 262/400\n",
            "34/34 [==============================] - 0s 3ms/step - loss: 0.0644 - accuracy: 0.9787 - val_loss: 0.1708 - val_accuracy: 0.9481\n",
            "Epoch 263/400\n",
            "34/34 [==============================] - 0s 2ms/step - loss: 0.0618 - accuracy: 0.9787 - val_loss: 0.1477 - val_accuracy: 0.9394\n",
            "Epoch 264/400\n",
            "34/34 [==============================] - 0s 2ms/step - loss: 0.0445 - accuracy: 0.9824 - val_loss: 0.1285 - val_accuracy: 0.9545\n",
            "Epoch 265/400\n",
            "34/34 [==============================] - 0s 2ms/step - loss: 0.0483 - accuracy: 0.9805 - val_loss: 0.0913 - val_accuracy: 0.9610\n",
            "Epoch 266/400\n",
            "34/34 [==============================] - 0s 2ms/step - loss: 0.0251 - accuracy: 0.9889 - val_loss: 0.1546 - val_accuracy: 0.9545\n",
            "Epoch 267/400\n",
            "34/34 [==============================] - 0s 2ms/step - loss: 0.0289 - accuracy: 0.9926 - val_loss: 0.1330 - val_accuracy: 0.9545\n",
            "Epoch 268/400\n",
            "34/34 [==============================] - 0s 2ms/step - loss: 0.0309 - accuracy: 0.9842 - val_loss: 0.1522 - val_accuracy: 0.9502\n",
            "Epoch 269/400\n",
            "34/34 [==============================] - 0s 2ms/step - loss: 0.0212 - accuracy: 0.9926 - val_loss: 0.1477 - val_accuracy: 0.9610\n",
            "Epoch 270/400\n",
            "34/34 [==============================] - 0s 2ms/step - loss: 0.0209 - accuracy: 0.9898 - val_loss: 0.1515 - val_accuracy: 0.9632\n",
            "Epoch 271/400\n",
            "34/34 [==============================] - 0s 3ms/step - loss: 0.0756 - accuracy: 0.9787 - val_loss: 0.1757 - val_accuracy: 0.9394\n",
            "Epoch 272/400\n",
            "34/34 [==============================] - 0s 3ms/step - loss: 0.0406 - accuracy: 0.9842 - val_loss: 0.1310 - val_accuracy: 0.9589\n",
            "Epoch 273/400\n",
            "34/34 [==============================] - 0s 2ms/step - loss: 0.0304 - accuracy: 0.9861 - val_loss: 0.1568 - val_accuracy: 0.9632\n",
            "Epoch 274/400\n",
            "34/34 [==============================] - 0s 3ms/step - loss: 0.0497 - accuracy: 0.9842 - val_loss: 0.1314 - val_accuracy: 0.9719\n",
            "Epoch 275/400\n",
            "34/34 [==============================] - 0s 2ms/step - loss: 0.0511 - accuracy: 0.9814 - val_loss: 0.1607 - val_accuracy: 0.9524\n",
            "Epoch 276/400\n",
            "34/34 [==============================] - 0s 2ms/step - loss: 0.0273 - accuracy: 0.9889 - val_loss: 0.1172 - val_accuracy: 0.9675\n",
            "Epoch 277/400\n",
            "34/34 [==============================] - 0s 3ms/step - loss: 0.0176 - accuracy: 0.9935 - val_loss: 0.1456 - val_accuracy: 0.9567\n",
            "Epoch 278/400\n",
            "34/34 [==============================] - 0s 3ms/step - loss: 0.0154 - accuracy: 0.9944 - val_loss: 0.1166 - val_accuracy: 0.9740\n",
            "Epoch 279/400\n",
            "34/34 [==============================] - 0s 2ms/step - loss: 0.0111 - accuracy: 0.9972 - val_loss: 0.1272 - val_accuracy: 0.9589\n",
            "Epoch 280/400\n",
            "34/34 [==============================] - 0s 3ms/step - loss: 0.0115 - accuracy: 0.9963 - val_loss: 0.1123 - val_accuracy: 0.9719\n",
            "Epoch 281/400\n",
            "34/34 [==============================] - 0s 2ms/step - loss: 0.0140 - accuracy: 0.9954 - val_loss: 0.1255 - val_accuracy: 0.9697\n",
            "Epoch 282/400\n",
            "34/34 [==============================] - 0s 2ms/step - loss: 0.0114 - accuracy: 0.9954 - val_loss: 0.1290 - val_accuracy: 0.9697\n",
            "Epoch 283/400\n",
            "34/34 [==============================] - 0s 3ms/step - loss: 0.0101 - accuracy: 0.9972 - val_loss: 0.1178 - val_accuracy: 0.9610\n",
            "Epoch 284/400\n",
            "34/34 [==============================] - 0s 2ms/step - loss: 0.0095 - accuracy: 0.9972 - val_loss: 0.1254 - val_accuracy: 0.9675\n",
            "Epoch 285/400\n",
            "34/34 [==============================] - 0s 2ms/step - loss: 0.0154 - accuracy: 0.9954 - val_loss: 0.1215 - val_accuracy: 0.9632\n",
            "Epoch 286/400\n",
            "34/34 [==============================] - 0s 2ms/step - loss: 0.0183 - accuracy: 0.9926 - val_loss: 0.1797 - val_accuracy: 0.9589\n",
            "Epoch 287/400\n",
            "34/34 [==============================] - 0s 2ms/step - loss: 0.0307 - accuracy: 0.9870 - val_loss: 0.1874 - val_accuracy: 0.9545\n",
            "Epoch 288/400\n",
            "34/34 [==============================] - 0s 3ms/step - loss: 0.0344 - accuracy: 0.9907 - val_loss: 0.1757 - val_accuracy: 0.9654\n",
            "Epoch 289/400\n",
            "34/34 [==============================] - 0s 3ms/step - loss: 0.0259 - accuracy: 0.9907 - val_loss: 0.1535 - val_accuracy: 0.9567\n",
            "Epoch 290/400\n",
            "34/34 [==============================] - 0s 3ms/step - loss: 0.0154 - accuracy: 0.9935 - val_loss: 0.1651 - val_accuracy: 0.9545\n",
            "Epoch 291/400\n",
            "34/34 [==============================] - 0s 2ms/step - loss: 0.0202 - accuracy: 0.9917 - val_loss: 0.1570 - val_accuracy: 0.9610\n",
            "Epoch 292/400\n",
            "34/34 [==============================] - 0s 3ms/step - loss: 0.0115 - accuracy: 0.9963 - val_loss: 0.1309 - val_accuracy: 0.9675\n",
            "Epoch 293/400\n",
            "34/34 [==============================] - 0s 2ms/step - loss: 0.0082 - accuracy: 0.9981 - val_loss: 0.1230 - val_accuracy: 0.9697\n",
            "Epoch 294/400\n",
            "34/34 [==============================] - 0s 3ms/step - loss: 0.0090 - accuracy: 0.9972 - val_loss: 0.1352 - val_accuracy: 0.9610\n",
            "Epoch 295/400\n",
            "34/34 [==============================] - 0s 2ms/step - loss: 0.0136 - accuracy: 0.9963 - val_loss: 0.1701 - val_accuracy: 0.9632\n",
            "Epoch 296/400\n",
            "34/34 [==============================] - 0s 3ms/step - loss: 0.0122 - accuracy: 0.9963 - val_loss: 0.1507 - val_accuracy: 0.9654\n",
            "Epoch 297/400\n",
            "34/34 [==============================] - 0s 2ms/step - loss: 0.0075 - accuracy: 0.9972 - val_loss: 0.1321 - val_accuracy: 0.9610\n",
            "Epoch 298/400\n",
            "34/34 [==============================] - 0s 3ms/step - loss: 0.0227 - accuracy: 0.9870 - val_loss: 0.2148 - val_accuracy: 0.9524\n",
            "Epoch 299/400\n",
            "34/34 [==============================] - 0s 2ms/step - loss: 0.0476 - accuracy: 0.9842 - val_loss: 0.1520 - val_accuracy: 0.9524\n",
            "Epoch 300/400\n",
            "34/34 [==============================] - 0s 3ms/step - loss: 0.0739 - accuracy: 0.9731 - val_loss: 0.2600 - val_accuracy: 0.9394\n",
            "Epoch 301/400\n",
            "34/34 [==============================] - 0s 3ms/step - loss: 0.1020 - accuracy: 0.9685 - val_loss: 0.1542 - val_accuracy: 0.9437\n",
            "Epoch 302/400\n",
            "34/34 [==============================] - 0s 3ms/step - loss: 0.0578 - accuracy: 0.9787 - val_loss: 0.1055 - val_accuracy: 0.9589\n",
            "Epoch 303/400\n",
            "34/34 [==============================] - 0s 3ms/step - loss: 0.0217 - accuracy: 0.9926 - val_loss: 0.1290 - val_accuracy: 0.9567\n",
            "Epoch 304/400\n",
            "34/34 [==============================] - 0s 3ms/step - loss: 0.0148 - accuracy: 0.9963 - val_loss: 0.1332 - val_accuracy: 0.9654\n",
            "Epoch 305/400\n",
            "34/34 [==============================] - 0s 2ms/step - loss: 0.0150 - accuracy: 0.9944 - val_loss: 0.1328 - val_accuracy: 0.9567\n",
            "Epoch 306/400\n",
            "34/34 [==============================] - 0s 3ms/step - loss: 0.0143 - accuracy: 0.9954 - val_loss: 0.1234 - val_accuracy: 0.9567\n",
            "Epoch 307/400\n",
            "34/34 [==============================] - 0s 3ms/step - loss: 0.0163 - accuracy: 0.9935 - val_loss: 0.1668 - val_accuracy: 0.9589\n",
            "Epoch 308/400\n",
            "34/34 [==============================] - 0s 3ms/step - loss: 0.0104 - accuracy: 0.9963 - val_loss: 0.1104 - val_accuracy: 0.9697\n",
            "Epoch 309/400\n",
            "34/34 [==============================] - 0s 4ms/step - loss: 0.0161 - accuracy: 0.9935 - val_loss: 0.1616 - val_accuracy: 0.9524\n",
            "Epoch 310/400\n",
            "34/34 [==============================] - 0s 3ms/step - loss: 0.0211 - accuracy: 0.9898 - val_loss: 0.1637 - val_accuracy: 0.9589\n",
            "Epoch 311/400\n",
            "34/34 [==============================] - 0s 2ms/step - loss: 0.0203 - accuracy: 0.9935 - val_loss: 0.1318 - val_accuracy: 0.9524\n",
            "Epoch 312/400\n",
            "34/34 [==============================] - 0s 3ms/step - loss: 0.0134 - accuracy: 0.9935 - val_loss: 0.1225 - val_accuracy: 0.9610\n",
            "Epoch 313/400\n",
            "34/34 [==============================] - 0s 3ms/step - loss: 0.0114 - accuracy: 0.9963 - val_loss: 0.1696 - val_accuracy: 0.9697\n",
            "Epoch 314/400\n",
            "34/34 [==============================] - 0s 3ms/step - loss: 0.0211 - accuracy: 0.9907 - val_loss: 0.1556 - val_accuracy: 0.9437\n",
            "Epoch 315/400\n",
            "34/34 [==============================] - 0s 3ms/step - loss: 0.0127 - accuracy: 0.9944 - val_loss: 0.1530 - val_accuracy: 0.9610\n",
            "Epoch 316/400\n",
            "34/34 [==============================] - 0s 2ms/step - loss: 0.0076 - accuracy: 0.9981 - val_loss: 0.1208 - val_accuracy: 0.9697\n",
            "Epoch 317/400\n",
            "34/34 [==============================] - 0s 2ms/step - loss: 0.0054 - accuracy: 0.9981 - val_loss: 0.1246 - val_accuracy: 0.9675\n",
            "Epoch 318/400\n",
            "34/34 [==============================] - 0s 3ms/step - loss: 0.0086 - accuracy: 0.9963 - val_loss: 0.1391 - val_accuracy: 0.9567\n",
            "Epoch 319/400\n",
            "34/34 [==============================] - 0s 2ms/step - loss: 0.0073 - accuracy: 0.9981 - val_loss: 0.1503 - val_accuracy: 0.9697\n",
            "Epoch 320/400\n",
            "34/34 [==============================] - 0s 3ms/step - loss: 0.0076 - accuracy: 0.9963 - val_loss: 0.1401 - val_accuracy: 0.9610\n",
            "Epoch 321/400\n",
            "34/34 [==============================] - 0s 3ms/step - loss: 0.0071 - accuracy: 0.9972 - val_loss: 0.1263 - val_accuracy: 0.9697\n",
            "Epoch 322/400\n",
            "34/34 [==============================] - 0s 2ms/step - loss: 0.0304 - accuracy: 0.9879 - val_loss: 0.1667 - val_accuracy: 0.9567\n",
            "Epoch 323/400\n",
            "34/34 [==============================] - 0s 3ms/step - loss: 0.0263 - accuracy: 0.9879 - val_loss: 0.2368 - val_accuracy: 0.9524\n",
            "Epoch 324/400\n",
            "34/34 [==============================] - 0s 2ms/step - loss: 0.1021 - accuracy: 0.9722 - val_loss: 0.2179 - val_accuracy: 0.9481\n",
            "Epoch 325/400\n",
            "34/34 [==============================] - 0s 2ms/step - loss: 0.0774 - accuracy: 0.9750 - val_loss: 0.2296 - val_accuracy: 0.9351\n",
            "Epoch 326/400\n",
            "34/34 [==============================] - 0s 2ms/step - loss: 0.0779 - accuracy: 0.9675 - val_loss: 0.1986 - val_accuracy: 0.9351\n",
            "Epoch 327/400\n",
            "34/34 [==============================] - 0s 2ms/step - loss: 0.0545 - accuracy: 0.9805 - val_loss: 0.1955 - val_accuracy: 0.9372\n",
            "Epoch 328/400\n",
            "34/34 [==============================] - 0s 3ms/step - loss: 0.0617 - accuracy: 0.9740 - val_loss: 0.2028 - val_accuracy: 0.9372\n",
            "Epoch 329/400\n",
            "34/34 [==============================] - 0s 3ms/step - loss: 0.1597 - accuracy: 0.9703 - val_loss: 0.3775 - val_accuracy: 0.9221\n",
            "Epoch 330/400\n",
            "34/34 [==============================] - 0s 3ms/step - loss: 0.0568 - accuracy: 0.9787 - val_loss: 0.1354 - val_accuracy: 0.9567\n",
            "Epoch 331/400\n",
            "34/34 [==============================] - 0s 2ms/step - loss: 0.0225 - accuracy: 0.9879 - val_loss: 0.1315 - val_accuracy: 0.9632\n",
            "Epoch 332/400\n",
            "34/34 [==============================] - 0s 3ms/step - loss: 0.0104 - accuracy: 0.9991 - val_loss: 0.1590 - val_accuracy: 0.9654\n",
            "Epoch 333/400\n",
            "34/34 [==============================] - 0s 3ms/step - loss: 0.0151 - accuracy: 0.9944 - val_loss: 0.1272 - val_accuracy: 0.9610\n",
            "Epoch 334/400\n",
            "34/34 [==============================] - 0s 3ms/step - loss: 0.0081 - accuracy: 0.9981 - val_loss: 0.1063 - val_accuracy: 0.9675\n",
            "Epoch 335/400\n",
            "34/34 [==============================] - 0s 3ms/step - loss: 0.0070 - accuracy: 0.9981 - val_loss: 0.1474 - val_accuracy: 0.9589\n",
            "Epoch 336/400\n",
            "34/34 [==============================] - 0s 3ms/step - loss: 0.0074 - accuracy: 0.9991 - val_loss: 0.1207 - val_accuracy: 0.9632\n",
            "Epoch 337/400\n",
            "34/34 [==============================] - 0s 2ms/step - loss: 0.0132 - accuracy: 0.9944 - val_loss: 0.1225 - val_accuracy: 0.9610\n",
            "Epoch 338/400\n",
            "34/34 [==============================] - 0s 2ms/step - loss: 0.0117 - accuracy: 0.9954 - val_loss: 0.1546 - val_accuracy: 0.9632\n",
            "Epoch 339/400\n",
            "34/34 [==============================] - 0s 2ms/step - loss: 0.0115 - accuracy: 0.9963 - val_loss: 0.1541 - val_accuracy: 0.9610\n",
            "Epoch 340/400\n",
            "34/34 [==============================] - 0s 3ms/step - loss: 0.0173 - accuracy: 0.9917 - val_loss: 0.1402 - val_accuracy: 0.9589\n",
            "Epoch 341/400\n",
            "34/34 [==============================] - 0s 3ms/step - loss: 0.0153 - accuracy: 0.9907 - val_loss: 0.1414 - val_accuracy: 0.9610\n",
            "Epoch 342/400\n",
            "34/34 [==============================] - 0s 3ms/step - loss: 0.0266 - accuracy: 0.9879 - val_loss: 0.1314 - val_accuracy: 0.9524\n",
            "Epoch 343/400\n",
            "34/34 [==============================] - 0s 3ms/step - loss: 0.0116 - accuracy: 0.9944 - val_loss: 0.1410 - val_accuracy: 0.9654\n",
            "Epoch 344/400\n",
            "34/34 [==============================] - 0s 2ms/step - loss: 0.0070 - accuracy: 0.9991 - val_loss: 0.1538 - val_accuracy: 0.9610\n",
            "Epoch 345/400\n",
            "34/34 [==============================] - 0s 3ms/step - loss: 0.0102 - accuracy: 0.9963 - val_loss: 0.1182 - val_accuracy: 0.9654\n",
            "Epoch 346/400\n",
            "34/34 [==============================] - 0s 3ms/step - loss: 0.0059 - accuracy: 0.9972 - val_loss: 0.1233 - val_accuracy: 0.9697\n",
            "Epoch 347/400\n",
            "34/34 [==============================] - 0s 3ms/step - loss: 0.0086 - accuracy: 0.9954 - val_loss: 0.1294 - val_accuracy: 0.9697\n",
            "Epoch 348/400\n",
            "34/34 [==============================] - 0s 3ms/step - loss: 0.0078 - accuracy: 0.9972 - val_loss: 0.1377 - val_accuracy: 0.9632\n",
            "Epoch 349/400\n",
            "34/34 [==============================] - 0s 3ms/step - loss: 0.0048 - accuracy: 0.9991 - val_loss: 0.1291 - val_accuracy: 0.9675\n",
            "Epoch 350/400\n",
            "34/34 [==============================] - 0s 2ms/step - loss: 0.0060 - accuracy: 0.9991 - val_loss: 0.1444 - val_accuracy: 0.9589\n",
            "Epoch 351/400\n",
            "34/34 [==============================] - 0s 2ms/step - loss: 0.0245 - accuracy: 0.9898 - val_loss: 0.2037 - val_accuracy: 0.9545\n",
            "Epoch 352/400\n",
            "34/34 [==============================] - 0s 2ms/step - loss: 0.0482 - accuracy: 0.9852 - val_loss: 0.1952 - val_accuracy: 0.9481\n",
            "Epoch 353/400\n",
            "34/34 [==============================] - 0s 2ms/step - loss: 0.0285 - accuracy: 0.9889 - val_loss: 0.1435 - val_accuracy: 0.9610\n",
            "Epoch 354/400\n",
            "34/34 [==============================] - 0s 3ms/step - loss: 0.0156 - accuracy: 0.9917 - val_loss: 0.1360 - val_accuracy: 0.9589\n",
            "Epoch 355/400\n",
            "34/34 [==============================] - 0s 3ms/step - loss: 0.0142 - accuracy: 0.9963 - val_loss: 0.1570 - val_accuracy: 0.9524\n",
            "Epoch 356/400\n",
            "34/34 [==============================] - 0s 3ms/step - loss: 0.0083 - accuracy: 0.9972 - val_loss: 0.1324 - val_accuracy: 0.9654\n",
            "Epoch 357/400\n",
            "34/34 [==============================] - 0s 2ms/step - loss: 0.0043 - accuracy: 0.9991 - val_loss: 0.1408 - val_accuracy: 0.9567\n",
            "Epoch 358/400\n",
            "34/34 [==============================] - 0s 3ms/step - loss: 0.0071 - accuracy: 0.9972 - val_loss: 0.1474 - val_accuracy: 0.9545\n",
            "Epoch 359/400\n",
            "34/34 [==============================] - 0s 2ms/step - loss: 0.0087 - accuracy: 0.9963 - val_loss: 0.1360 - val_accuracy: 0.9632\n",
            "Epoch 360/400\n",
            "34/34 [==============================] - 0s 2ms/step - loss: 0.0058 - accuracy: 1.0000 - val_loss: 0.1284 - val_accuracy: 0.9697\n",
            "Epoch 361/400\n",
            "34/34 [==============================] - 0s 3ms/step - loss: 0.0048 - accuracy: 0.9981 - val_loss: 0.1468 - val_accuracy: 0.9632\n",
            "Epoch 362/400\n",
            "34/34 [==============================] - 0s 3ms/step - loss: 0.0050 - accuracy: 0.9991 - val_loss: 0.1493 - val_accuracy: 0.9567\n",
            "Epoch 363/400\n",
            "34/34 [==============================] - 0s 3ms/step - loss: 0.0074 - accuracy: 0.9972 - val_loss: 0.1626 - val_accuracy: 0.9632\n",
            "Epoch 364/400\n",
            "34/34 [==============================] - 0s 3ms/step - loss: 0.0091 - accuracy: 0.9954 - val_loss: 0.1623 - val_accuracy: 0.9610\n",
            "Epoch 365/400\n",
            "34/34 [==============================] - 0s 3ms/step - loss: 0.0086 - accuracy: 0.9963 - val_loss: 0.1575 - val_accuracy: 0.9589\n",
            "Epoch 366/400\n",
            "34/34 [==============================] - 0s 3ms/step - loss: 0.0164 - accuracy: 0.9954 - val_loss: 0.1473 - val_accuracy: 0.9524\n",
            "Epoch 367/400\n",
            "34/34 [==============================] - 0s 3ms/step - loss: 0.0239 - accuracy: 0.9935 - val_loss: 0.1986 - val_accuracy: 0.9524\n",
            "Epoch 368/400\n",
            "34/34 [==============================] - 0s 2ms/step - loss: 0.1361 - accuracy: 0.9620 - val_loss: 0.4240 - val_accuracy: 0.9221\n",
            "Epoch 369/400\n",
            "34/34 [==============================] - 0s 3ms/step - loss: 0.1417 - accuracy: 0.9545 - val_loss: 0.1976 - val_accuracy: 0.9329\n",
            "Epoch 370/400\n",
            "34/34 [==============================] - 0s 2ms/step - loss: 0.0898 - accuracy: 0.9731 - val_loss: 0.2274 - val_accuracy: 0.9264\n",
            "Epoch 371/400\n",
            "34/34 [==============================] - 0s 3ms/step - loss: 0.0572 - accuracy: 0.9814 - val_loss: 0.1685 - val_accuracy: 0.9567\n",
            "Epoch 372/400\n",
            "34/34 [==============================] - 0s 3ms/step - loss: 0.0502 - accuracy: 0.9842 - val_loss: 0.1643 - val_accuracy: 0.9589\n",
            "Epoch 373/400\n",
            "34/34 [==============================] - 0s 2ms/step - loss: 0.0427 - accuracy: 0.9861 - val_loss: 0.1267 - val_accuracy: 0.9589\n",
            "Epoch 374/400\n",
            "34/34 [==============================] - 0s 2ms/step - loss: 0.0184 - accuracy: 0.9907 - val_loss: 0.2119 - val_accuracy: 0.9459\n",
            "Epoch 375/400\n",
            "34/34 [==============================] - 0s 3ms/step - loss: 0.0243 - accuracy: 0.9870 - val_loss: 0.2009 - val_accuracy: 0.9394\n",
            "Epoch 376/400\n",
            "34/34 [==============================] - 0s 3ms/step - loss: 0.0267 - accuracy: 0.9926 - val_loss: 0.1743 - val_accuracy: 0.9459\n",
            "Epoch 377/400\n",
            "34/34 [==============================] - 0s 2ms/step - loss: 0.0104 - accuracy: 0.9963 - val_loss: 0.1609 - val_accuracy: 0.9545\n",
            "Epoch 378/400\n",
            "34/34 [==============================] - 0s 3ms/step - loss: 0.0066 - accuracy: 0.9991 - val_loss: 0.1458 - val_accuracy: 0.9589\n",
            "Epoch 379/400\n",
            "34/34 [==============================] - 0s 3ms/step - loss: 0.0053 - accuracy: 0.9991 - val_loss: 0.1522 - val_accuracy: 0.9632\n",
            "Epoch 380/400\n",
            "34/34 [==============================] - 0s 2ms/step - loss: 0.0051 - accuracy: 0.9991 - val_loss: 0.1478 - val_accuracy: 0.9610\n",
            "Epoch 381/400\n",
            "34/34 [==============================] - 0s 2ms/step - loss: 0.0045 - accuracy: 1.0000 - val_loss: 0.1565 - val_accuracy: 0.9610\n",
            "Epoch 382/400\n",
            "34/34 [==============================] - 0s 2ms/step - loss: 0.0041 - accuracy: 0.9991 - val_loss: 0.1563 - val_accuracy: 0.9589\n",
            "Epoch 383/400\n",
            "34/34 [==============================] - 0s 2ms/step - loss: 0.0045 - accuracy: 0.9991 - val_loss: 0.1542 - val_accuracy: 0.9589\n",
            "Epoch 384/400\n",
            "34/34 [==============================] - 0s 2ms/step - loss: 0.0037 - accuracy: 1.0000 - val_loss: 0.1560 - val_accuracy: 0.9632\n",
            "Epoch 385/400\n",
            "34/34 [==============================] - 0s 3ms/step - loss: 0.0040 - accuracy: 1.0000 - val_loss: 0.1572 - val_accuracy: 0.9610\n",
            "Epoch 386/400\n",
            "34/34 [==============================] - 0s 3ms/step - loss: 0.0044 - accuracy: 0.9991 - val_loss: 0.1630 - val_accuracy: 0.9610\n",
            "Epoch 387/400\n",
            "34/34 [==============================] - 0s 3ms/step - loss: 0.0036 - accuracy: 0.9991 - val_loss: 0.1579 - val_accuracy: 0.9632\n",
            "Epoch 388/400\n",
            "34/34 [==============================] - 0s 2ms/step - loss: 0.0034 - accuracy: 0.9991 - val_loss: 0.1580 - val_accuracy: 0.9632\n",
            "Epoch 389/400\n",
            "34/34 [==============================] - 0s 3ms/step - loss: 0.0041 - accuracy: 0.9991 - val_loss: 0.1633 - val_accuracy: 0.9632\n",
            "Epoch 390/400\n",
            "34/34 [==============================] - 0s 3ms/step - loss: 0.0070 - accuracy: 0.9981 - val_loss: 0.1629 - val_accuracy: 0.9610\n",
            "Epoch 391/400\n",
            "34/34 [==============================] - 0s 3ms/step - loss: 0.0063 - accuracy: 0.9991 - val_loss: 0.1628 - val_accuracy: 0.9654\n",
            "Epoch 392/400\n",
            "34/34 [==============================] - 0s 3ms/step - loss: 0.0206 - accuracy: 0.9972 - val_loss: 0.1723 - val_accuracy: 0.9567\n",
            "Epoch 393/400\n",
            "34/34 [==============================] - 0s 2ms/step - loss: 0.0045 - accuracy: 0.9991 - val_loss: 0.1637 - val_accuracy: 0.9610\n",
            "Epoch 394/400\n",
            "34/34 [==============================] - 0s 3ms/step - loss: 0.0036 - accuracy: 1.0000 - val_loss: 0.1664 - val_accuracy: 0.9567\n",
            "Epoch 395/400\n",
            "34/34 [==============================] - 0s 3ms/step - loss: 0.0065 - accuracy: 0.9972 - val_loss: 0.1829 - val_accuracy: 0.9524\n",
            "Epoch 396/400\n",
            "34/34 [==============================] - 0s 2ms/step - loss: 0.0078 - accuracy: 0.9981 - val_loss: 0.1727 - val_accuracy: 0.9502\n",
            "Epoch 397/400\n",
            "34/34 [==============================] - 0s 2ms/step - loss: 0.0038 - accuracy: 1.0000 - val_loss: 0.1773 - val_accuracy: 0.9567\n",
            "Epoch 398/400\n",
            "34/34 [==============================] - 0s 3ms/step - loss: 0.0086 - accuracy: 0.9981 - val_loss: 0.1497 - val_accuracy: 0.9675\n",
            "Epoch 399/400\n",
            "34/34 [==============================] - 0s 2ms/step - loss: 0.0149 - accuracy: 0.9935 - val_loss: 0.2387 - val_accuracy: 0.9502\n",
            "Epoch 400/400\n",
            "34/34 [==============================] - 0s 3ms/step - loss: 0.0331 - accuracy: 0.9879 - val_loss: 0.2008 - val_accuracy: 0.9524\n"
          ]
        }
      ]
    },
    {
      "cell_type": "code",
      "source": [
        "from matplotlib import pyplot\n",
        "# Plotting loss during training\n",
        "pyplot.title('Loss')\n",
        "pyplot.plot(history.history['loss'], label='train')\n",
        "pyplot.plot(history.history['val_loss'], label='test')\n",
        "pyplot.legend()\n",
        "pyplot.show()"
      ],
      "metadata": {
        "colab": {
          "base_uri": "https://localhost:8080/",
          "height": 281
        },
        "id": "MJ2JPDFIeema",
        "outputId": "fde74934-9584-4557-a990-ecf31de5a10a"
      },
      "execution_count": 44,
      "outputs": [
        {
          "output_type": "display_data",
          "data": {
            "text/plain": [
              "<Figure size 432x288 with 1 Axes>"
            ],
            "image/png": "[encoded data removed]"
          },
          "metadata": {
            "needs_background": "light"
          }
        }
      ]
    },
    {
      "cell_type": "code",
      "source": [
        "# Plotting accuracy during training\n",
        "pyplot.title('Accuracy')\n",
        "pyplot.plot(history.history['accuracy'], label='train')\n",
        "pyplot.plot(history.history['val_accuracy'], label='test')\n",
        "pyplot.legend()\n",
        "pyplot.show()"
      ],
      "metadata": {
        "colab": {
          "base_uri": "https://localhost:8080/",
          "height": 281
        },
        "id": "9AJKva92e0Ff",
        "outputId": "78292fe8-282e-4582-a07c-345797b08f23"
      },
      "execution_count": 45,
      "outputs": [
        {
          "output_type": "display_data",
          "data": {
            "text/plain": [
              "<Figure size 432x288 with 1 Axes>"
            ],
            "image/png": "[encoded data removed]"
          },
          "metadata": {
            "needs_background": "light"
          }
        }
      ]
    },
    {
      "cell_type": "code",
      "source": [
        "# Making predictions\n",
        "predict_x = model.predict(X_test) \n",
        "y_pred = np.argmax(predict_x, axis=1)"
      ],
      "metadata": {
        "colab": {
          "base_uri": "https://localhost:8080/"
        },
        "id": "6NzYT0pzbTn-",
        "outputId": "9895a34d-6207-405e-df3e-37764932442a"
      },
      "execution_count": 46,
      "outputs": [
        {
          "output_type": "stream",
          "name": "stdout",
          "text": [
            "21/21 [==============================] - 0s 940us/step\n"
          ]
        }
      ]
    },
    {
      "cell_type": "code",
      "source": [
        "# Using scikit-learn modules for performance measuring\n",
        "acc3 = metrics.accuracy_score(y_test, y_pred)\n",
        "p3 = precision_score(y_test, y_pred, average='macro')\n",
        "r3 = recall_score(y_test, y_pred, average='macro')\n",
        "f3 = f1_score(y_test, y_pred, average='macro')\n",
        "roc_auc_3 = roc_auc_score(y_test, predict_x, multi_class='ovr')\n",
        "print(\"Accuracy:\", acc3)\n",
        "print(\"Precision:\", p3)\n",
        "print(\"Recall:\", r3)\n",
        "print(\"F1 score:\", f3)\n",
        "print(\"AUC-ROC curve score:\", roc_auc_3)"
      ],
      "metadata": {
        "colab": {
          "base_uri": "https://localhost:8080/"
        },
        "id": "dMrWg8dpY4rL",
        "outputId": "3d6e2ed5-1e3f-4d4e-9829-f05825b2caab"
      },
      "execution_count": 47,
      "outputs": [
        {
          "output_type": "stream",
          "name": "stdout",
          "text": [
            "Accuracy: 0.9651515151515152\n",
            "Precision: 0.9638653802929646\n",
            "Recall: 0.9631944506581313\n",
            "F1 score: 0.9634320953626115\n",
            "AUC-ROC curve score: 0.9991803503384229\n"
          ]
        }
      ]
    },
    {
      "cell_type": "markdown",
      "source": [
        "The neural network model classified the crops in the dataset with a performance lower than the random forest models above."
      ],
      "metadata": {
        "id": "j1N6KliK7NMc"
      }
    },
    {
      "cell_type": "markdown",
      "source": [
        "# Evaluation of the different clustering techniques"
      ],
      "metadata": {
        "id": "2FexkKND8GKp"
      }
    },
    {
      "cell_type": "code",
      "source": [
        "clustering_performance = {'Clustering Procedure': ['Random Forest', 'Random Forest with feature selection', 'Neural network'],\n",
        "                          'Accuracy': [acc1, acc2, acc3],\n",
        "                          'Precision': [p1, p2, p3],\n",
        "                          'Recall': [r1, r2, r3],\n",
        "                          'F1 Score': [f1, f2, f3],\n",
        "                          'AUC-ROC curve score': [roc_auc_1, roc_auc_2, roc_auc_3]}\n",
        "\n",
        "clustering_performance = pd.DataFrame.from_dict(clustering_performance)\n",
        "clustering_performance"
      ],
      "metadata": {
        "colab": {
          "base_uri": "https://localhost:8080/",
          "height": 143
        },
        "id": "VKDf8wAb7Yg8",
        "outputId": "2e3c9e9c-4853-4ee3-cdd7-9a3703119ffb"
      },
      "execution_count": 48,
      "outputs": [
        {
          "output_type": "execute_result",
          "data": {
            "text/plain": [
              "                   Clustering Procedure  Accuracy  Precision    Recall  \\\n",
              "0                         Random Forest  0.993485   0.993721  0.993751   \n",
              "1  Random Forest with feature selection  0.991566   0.991437  0.991749   \n",
              "2                        Neural network  0.965152   0.963865  0.963194   \n",
              "\n",
              "   F1 Score  AUC-ROC curve score  \n",
              "0  0.993507             0.999997  \n",
              "1  0.991417             0.999994  \n",
              "2  0.963432             0.999180  "
            ],
            "text/html": [
              "\n",
              "  <div id=\"df-38bb4307-80b3-440c-86fa-5e4d9e522b93\">\n",
              "    <div class=\"colab-df-container\">\n",
              "      <div>\n",
              "<style scoped>\n",
              "    .dataframe tbody tr th:only-of-type {\n",
              "        vertical-align: middle;\n",
              "    }\n",
              "\n",
              "    .dataframe tbody tr th {\n",
              "        vertical-align: top;\n",
              "    }\n",
              "\n",
              "    .dataframe thead th {\n",
              "        text-align: right;\n",
              "    }\n",
              "</style>\n",
              "<table border=\"1\" class=\"dataframe\">\n",
              "  <thead>\n",
              "    <tr style=\"text-align: right;\">\n",
              "      <th></th>\n",
              "      <th>Clustering Procedure</th>\n",
              "      <th>Accuracy</th>\n",
              "      <th>Precision</th>\n",
              "      <th>Recall</th>\n",
              "      <th>F1 Score</th>\n",
              "      <th>AUC-ROC curve score</th>\n",
              "    </tr>\n",
              "  </thead>\n",
              "  <tbody>\n",
              "    <tr>\n",
              "      <th>0</th>\n",
              "      <td>Random Forest</td>\n",
              "      <td>0.993485</td>\n",
              "      <td>0.993721</td>\n",
              "      <td>0.993751</td>\n",
              "      <td>0.993507</td>\n",
              "      <td>0.999997</td>\n",
              "    </tr>\n",
              "    <tr>\n",
              "      <th>1</th>\n",
              "      <td>Random Forest with feature selection</td>\n",
              "      <td>0.991566</td>\n",
              "      <td>0.991437</td>\n",
              "      <td>0.991749</td>\n",
              "      <td>0.991417</td>\n",
              "      <td>0.999994</td>\n",
              "    </tr>\n",
              "    <tr>\n",
              "      <th>2</th>\n",
              "      <td>Neural network</td>\n",
              "      <td>0.965152</td>\n",
              "      <td>0.963865</td>\n",
              "      <td>0.963194</td>\n",
              "      <td>0.963432</td>\n",
              "      <td>0.999180</td>\n",
              "    </tr>\n",
              "  </tbody>\n",
              "</table>\n",
              "</div>\n",
              "      <button class=\"colab-df-convert\" onclick=\"convertToInteractive('df-38bb4307-80b3-440c-86fa-5e4d9e522b93')\"\n",
              "              title=\"Convert this dataframe to an interactive table.\"\n",
              "              style=\"display:none;\">\n",
              "        \n",
              "  <svg xmlns=\"http://www.w3.org/2000/svg\" height=\"24px\"viewBox=\"0 0 24 24\"\n",
              "       width=\"24px\">\n",
              "    <path d=\"M0 0h24v24H0V0z\" fill=\"none\"/>\n",
              "    <path d=\"M18.56 5.44l.94 2.06.94-2.06 2.06-.94-2.06-.94-.94-2.06-.94 2.06-2.06.94zm-11 1L8.5 8.5l.94-2.06 2.06-.94-2.06-.94L8.5 2.5l-.94 2.06-2.06.94zm10 10l.94 2.06.94-2.06 2.06-.94-2.06-.94-.94-2.06-.94 2.06-2.06.94z\"/><path d=\"M17.41 7.96l-1.37-1.37c-.4-.4-.92-.59-1.43-.59-.52 0-1.04.2-1.43.59L10.3 9.45l-7.72 7.72c-.78.78-.78 2.05 0 2.83L4 21.41c.39.39.9.59 1.41.59.51 0 1.02-.2 1.41-.59l7.78-7.78 2.81-2.81c.8-.78.8-2.07 0-2.86zM5.41 20L4 18.59l7.72-7.72 1.47 1.35L5.41 20z\"/>\n",
              "  </svg>\n",
              "      </button>\n",
              "      \n",
              "  <style>\n",
              "    .colab-df-container {\n",
              "      display:flex;\n",
              "      flex-wrap:wrap;\n",
              "      gap: 12px;\n",
              "    }\n",
              "\n",
              "    .colab-df-convert {\n",
              "      background-color: #E8F0FE;\n",
              "      border: none;\n",
              "      border-radius: 50%;\n",
              "      cursor: pointer;\n",
              "      display: none;\n",
              "      fill: #1967D2;\n",
              "      height: 32px;\n",
              "      padding: 0 0 0 0;\n",
              "      width: 32px;\n",
              "    }\n",
              "\n",
              "    .colab-df-convert:hover {\n",
              "      background-color: #E2EBFA;\n",
              "      box-shadow: 0px 1px 2px rgba(60, 64, 67, 0.3), 0px 1px 3px 1px rgba(60, 64, 67, 0.15);\n",
              "      fill: #174EA6;\n",
              "    }\n",
              "\n",
              "    [theme=dark] .colab-df-convert {\n",
              "      background-color: #3B4455;\n",
              "      fill: #D2E3FC;\n",
              "    }\n",
              "\n",
              "    [theme=dark] .colab-df-convert:hover {\n",
              "      background-color: #434B5C;\n",
              "      box-shadow: 0px 1px 3px 1px rgba(0, 0, 0, 0.15);\n",
              "      filter: drop-shadow(0px 1px 2px rgba(0, 0, 0, 0.3));\n",
              "      fill: #FFFFFF;\n",
              "    }\n",
              "  </style>\n",
              "\n",
              "      <script>\n",
              "        const buttonEl =\n",
              "          document.querySelector('#df-38bb4307-80b3-440c-86fa-5e4d9e522b93 button.colab-df-convert');\n",
              "        buttonEl.style.display =\n",
              "          google.colab.kernel.accessAllowed ? 'block' : 'none';\n",
              "\n",
              "        async function convertToInteractive(key) {\n",
              "          const element = document.querySelector('#df-38bb4307-80b3-440c-86fa-5e4d9e522b93');\n",
              "          const dataTable =\n",
              "            await google.colab.kernel.invokeFunction('convertToInteractive',\n",
              "                                                     [key], {});\n",
              "          if (!dataTable) return;\n",
              "\n",
              "          const docLinkHtml = 'Like what you see? Visit the ' +\n",
              "            '<a target=\"_blank\" href=https://colab.research.google.com/notebooks/data_table.ipynb>data table notebook</a>'\n",
              "            + ' to learn more about interactive tables.';\n",
              "          element.innerHTML = '';\n",
              "          dataTable['output_type'] = 'display_data';\n",
              "          await google.colab.output.renderOutput(dataTable, element);\n",
              "          const docLink = document.createElement('div');\n",
              "          docLink.innerHTML = docLinkHtml;\n",
              "          element.appendChild(docLink);\n",
              "        }\n",
              "      </script>\n",
              "    </div>\n",
              "  </div>\n",
              "  "
            ]
          },
          "metadata": {},
          "execution_count": 48
        }
      ]
    },
    {
      "cell_type": "markdown",
      "source": [
        "The above demonstrates the difference in performance for the classification algorithms applied in this notebook above."
      ],
      "metadata": {
        "id": "odPUqWVRCcyu"
      }
    },
    {
      "cell_type": "code",
      "source": [
        "# Plotting the result of my experiment\n",
        "import pandas as pd\n",
        "\n",
        "plotdata = pd.DataFrame({\n",
        "\n",
        "    \"Accuracy\":[acc1, acc2, acc3],\n",
        "\n",
        "    \"Precision\":[p1, p2, p3],\n",
        "\n",
        "    \"Recall\":[r1, r2, r3],\n",
        "\n",
        "    \"F1 score\": [f1, f2, f3],\n",
        "    \n",
        "    \"AUC-ROC curve score\": [roc_auc_1, roc_auc_2, roc_auc_3]},\n",
        "\n",
        "    index = [\"Random Forest\", \"Random Forest with feature selection\", \"Nueral network\"])\n",
        "\n",
        "plotdata.plot(kind=\"bar\",figsize=(15, 8))\n",
        "\n",
        "plt.title(\"Random Forest Vs Random Forest with feature selection Vs Nueral network models' performances\")\n",
        "\n",
        "plt.xlabel(\"model\")\n",
        "\n",
        "plt.ylabel(\"performance\")\n",
        "\n",
        "plt.show()"
      ],
      "metadata": {
        "colab": {
          "base_uri": "https://localhost:8080/",
          "height": 689
        },
        "id": "Ucg8kHj9xREi",
        "outputId": "de48f6b1-9b14-41a4-d190-14577217860f"
      },
      "execution_count": 49,
      "outputs": [
        {
          "output_type": "display_data",
          "data": {
            "text/plain": [
              "<Figure size 1080x576 with 1 Axes>"
            ],
            "image/png": "[encoded data removed]"
          },
          "metadata": {
            "needs_background": "light"
          }
        }
      ]
    },
    {
      "cell_type": "markdown",
      "source": [
        "# References\n"
      ],
      "metadata": {
        "id": "nk8UCZY2xvFZ"
      }
    },
    {
      "cell_type": "markdown",
      "source": [
        "1- https://www.kaggle.com/datasets/siddharthss/crop-recommendation-dataset\n",
        "\n",
        "2- https://www.analyticsvidhya.com/blog/2021/08/understanding-bar-plots-in-python-beginners-guide-to-data-visualization/\n",
        "\n",
        "3- https://scikit-learn.org/stable/modules/model_evaluation.html#classification-metrics"
      ],
      "metadata": {
        "id": "wn31Yq68xyau"
      }
    }
  ],
  "metadata": {
    "kernelspec": {
      "display_name": "Python 3",
      "language": "python",
      "name": "python3"
    },
    "language_info": {
      "codemirror_mode": {
        "name": "ipython",
        "version": 3
      },
      "file_extension": ".py",
      "mimetype": "text/x-python",
      "name": "python",
      "nbconvert_exporter": "python",
      "pygments_lexer": "ipython3",
      "version": "3.8.5"
    },
    "colab": {
      "provenance": []
    }
  },
  "nbformat": 4,
  "nbformat_minor": 0
}